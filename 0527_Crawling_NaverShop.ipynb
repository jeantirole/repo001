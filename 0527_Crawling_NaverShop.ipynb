{
 "cells": [
  {
   "cell_type": "code",
   "execution_count": 1,
   "metadata": {},
   "outputs": [],
   "source": [
    "from selenium import webdriver"
   ]
  },
  {
   "cell_type": "code",
   "execution_count": 30,
   "metadata": {},
   "outputs": [],
   "source": [
    "driver = webdriver.Chrome('chromedriver')"
   ]
  },
  {
   "cell_type": "code",
   "execution_count": 31,
   "metadata": {},
   "outputs": [],
   "source": [
    "driver.get(\"https://www.daum.net/\")"
   ]
  },
  {
   "cell_type": "code",
   "execution_count": 34,
   "metadata": {},
   "outputs": [
    {
     "ename": "ElementNotInteractableException",
     "evalue": "Message: element not interactable\n  (Session info: chrome=81.0.4044.138)\n",
     "output_type": "error",
     "traceback": [
      "\u001b[1;31m---------------------------------------------------------------------------\u001b[0m",
      "\u001b[1;31mElementNotInteractableException\u001b[0m           Traceback (most recent call last)",
      "\u001b[1;32m<ipython-input-34-ef7dd4321550>\u001b[0m in \u001b[0;36m<module>\u001b[1;34m\u001b[0m\n\u001b[0;32m      9\u001b[0m \u001b[1;33m\u001b[0m\u001b[0m\n\u001b[0;32m     10\u001b[0m \u001b[0msearch\u001b[0m \u001b[1;33m=\u001b[0m \u001b[0mdriver\u001b[0m\u001b[1;33m.\u001b[0m\u001b[0mfind_element_by_xpath\u001b[0m\u001b[1;33m(\u001b[0m\u001b[1;34m'//*[@id=\"daumSearch\"]/fieldset/div/div'\u001b[0m\u001b[1;33m)\u001b[0m\u001b[1;33m\u001b[0m\u001b[1;33m\u001b[0m\u001b[0m\n\u001b[1;32m---> 11\u001b[1;33m \u001b[0msearch\u001b[0m\u001b[1;33m.\u001b[0m\u001b[0msend_keys\u001b[0m\u001b[1;33m(\u001b[0m\u001b[1;34m\"미세먼지\"\u001b[0m\u001b[1;33m)\u001b[0m\u001b[1;33m\u001b[0m\u001b[1;33m\u001b[0m\u001b[0m\n\u001b[0m",
      "\u001b[1;32mC:\\ProgramData\\Anaconda3\\lib\\site-packages\\selenium\\webdriver\\remote\\webelement.py\u001b[0m in \u001b[0;36msend_keys\u001b[1;34m(self, *value)\u001b[0m\n\u001b[0;32m    477\u001b[0m         self._execute(Command.SEND_KEYS_TO_ELEMENT,\n\u001b[0;32m    478\u001b[0m                       {'text': \"\".join(keys_to_typing(value)),\n\u001b[1;32m--> 479\u001b[1;33m                        'value': keys_to_typing(value)})\n\u001b[0m\u001b[0;32m    480\u001b[0m \u001b[1;33m\u001b[0m\u001b[0m\n\u001b[0;32m    481\u001b[0m     \u001b[1;31m# RenderedWebElement Items\u001b[0m\u001b[1;33m\u001b[0m\u001b[1;33m\u001b[0m\u001b[1;33m\u001b[0m\u001b[0m\n",
      "\u001b[1;32mC:\\ProgramData\\Anaconda3\\lib\\site-packages\\selenium\\webdriver\\remote\\webelement.py\u001b[0m in \u001b[0;36m_execute\u001b[1;34m(self, command, params)\u001b[0m\n\u001b[0;32m    631\u001b[0m             \u001b[0mparams\u001b[0m \u001b[1;33m=\u001b[0m \u001b[1;33m{\u001b[0m\u001b[1;33m}\u001b[0m\u001b[1;33m\u001b[0m\u001b[1;33m\u001b[0m\u001b[0m\n\u001b[0;32m    632\u001b[0m         \u001b[0mparams\u001b[0m\u001b[1;33m[\u001b[0m\u001b[1;34m'id'\u001b[0m\u001b[1;33m]\u001b[0m \u001b[1;33m=\u001b[0m \u001b[0mself\u001b[0m\u001b[1;33m.\u001b[0m\u001b[0m_id\u001b[0m\u001b[1;33m\u001b[0m\u001b[1;33m\u001b[0m\u001b[0m\n\u001b[1;32m--> 633\u001b[1;33m         \u001b[1;32mreturn\u001b[0m \u001b[0mself\u001b[0m\u001b[1;33m.\u001b[0m\u001b[0m_parent\u001b[0m\u001b[1;33m.\u001b[0m\u001b[0mexecute\u001b[0m\u001b[1;33m(\u001b[0m\u001b[0mcommand\u001b[0m\u001b[1;33m,\u001b[0m \u001b[0mparams\u001b[0m\u001b[1;33m)\u001b[0m\u001b[1;33m\u001b[0m\u001b[1;33m\u001b[0m\u001b[0m\n\u001b[0m\u001b[0;32m    634\u001b[0m \u001b[1;33m\u001b[0m\u001b[0m\n\u001b[0;32m    635\u001b[0m     \u001b[1;32mdef\u001b[0m \u001b[0mfind_element\u001b[0m\u001b[1;33m(\u001b[0m\u001b[0mself\u001b[0m\u001b[1;33m,\u001b[0m \u001b[0mby\u001b[0m\u001b[1;33m=\u001b[0m\u001b[0mBy\u001b[0m\u001b[1;33m.\u001b[0m\u001b[0mID\u001b[0m\u001b[1;33m,\u001b[0m \u001b[0mvalue\u001b[0m\u001b[1;33m=\u001b[0m\u001b[1;32mNone\u001b[0m\u001b[1;33m)\u001b[0m\u001b[1;33m:\u001b[0m\u001b[1;33m\u001b[0m\u001b[1;33m\u001b[0m\u001b[0m\n",
      "\u001b[1;32mC:\\ProgramData\\Anaconda3\\lib\\site-packages\\selenium\\webdriver\\remote\\webdriver.py\u001b[0m in \u001b[0;36mexecute\u001b[1;34m(self, driver_command, params)\u001b[0m\n\u001b[0;32m    319\u001b[0m         \u001b[0mresponse\u001b[0m \u001b[1;33m=\u001b[0m \u001b[0mself\u001b[0m\u001b[1;33m.\u001b[0m\u001b[0mcommand_executor\u001b[0m\u001b[1;33m.\u001b[0m\u001b[0mexecute\u001b[0m\u001b[1;33m(\u001b[0m\u001b[0mdriver_command\u001b[0m\u001b[1;33m,\u001b[0m \u001b[0mparams\u001b[0m\u001b[1;33m)\u001b[0m\u001b[1;33m\u001b[0m\u001b[1;33m\u001b[0m\u001b[0m\n\u001b[0;32m    320\u001b[0m         \u001b[1;32mif\u001b[0m \u001b[0mresponse\u001b[0m\u001b[1;33m:\u001b[0m\u001b[1;33m\u001b[0m\u001b[1;33m\u001b[0m\u001b[0m\n\u001b[1;32m--> 321\u001b[1;33m             \u001b[0mself\u001b[0m\u001b[1;33m.\u001b[0m\u001b[0merror_handler\u001b[0m\u001b[1;33m.\u001b[0m\u001b[0mcheck_response\u001b[0m\u001b[1;33m(\u001b[0m\u001b[0mresponse\u001b[0m\u001b[1;33m)\u001b[0m\u001b[1;33m\u001b[0m\u001b[1;33m\u001b[0m\u001b[0m\n\u001b[0m\u001b[0;32m    322\u001b[0m             response['value'] = self._unwrap_value(\n\u001b[0;32m    323\u001b[0m                 response.get('value', None))\n",
      "\u001b[1;32mC:\\ProgramData\\Anaconda3\\lib\\site-packages\\selenium\\webdriver\\remote\\errorhandler.py\u001b[0m in \u001b[0;36mcheck_response\u001b[1;34m(self, response)\u001b[0m\n\u001b[0;32m    240\u001b[0m                 \u001b[0malert_text\u001b[0m \u001b[1;33m=\u001b[0m \u001b[0mvalue\u001b[0m\u001b[1;33m[\u001b[0m\u001b[1;34m'alert'\u001b[0m\u001b[1;33m]\u001b[0m\u001b[1;33m.\u001b[0m\u001b[0mget\u001b[0m\u001b[1;33m(\u001b[0m\u001b[1;34m'text'\u001b[0m\u001b[1;33m)\u001b[0m\u001b[1;33m\u001b[0m\u001b[1;33m\u001b[0m\u001b[0m\n\u001b[0;32m    241\u001b[0m             \u001b[1;32mraise\u001b[0m \u001b[0mexception_class\u001b[0m\u001b[1;33m(\u001b[0m\u001b[0mmessage\u001b[0m\u001b[1;33m,\u001b[0m \u001b[0mscreen\u001b[0m\u001b[1;33m,\u001b[0m \u001b[0mstacktrace\u001b[0m\u001b[1;33m,\u001b[0m \u001b[0malert_text\u001b[0m\u001b[1;33m)\u001b[0m\u001b[1;33m\u001b[0m\u001b[1;33m\u001b[0m\u001b[0m\n\u001b[1;32m--> 242\u001b[1;33m         \u001b[1;32mraise\u001b[0m \u001b[0mexception_class\u001b[0m\u001b[1;33m(\u001b[0m\u001b[0mmessage\u001b[0m\u001b[1;33m,\u001b[0m \u001b[0mscreen\u001b[0m\u001b[1;33m,\u001b[0m \u001b[0mstacktrace\u001b[0m\u001b[1;33m)\u001b[0m\u001b[1;33m\u001b[0m\u001b[1;33m\u001b[0m\u001b[0m\n\u001b[0m\u001b[0;32m    243\u001b[0m \u001b[1;33m\u001b[0m\u001b[0m\n\u001b[0;32m    244\u001b[0m     \u001b[1;32mdef\u001b[0m \u001b[0m_value_or_default\u001b[0m\u001b[1;33m(\u001b[0m\u001b[0mself\u001b[0m\u001b[1;33m,\u001b[0m \u001b[0mobj\u001b[0m\u001b[1;33m,\u001b[0m \u001b[0mkey\u001b[0m\u001b[1;33m,\u001b[0m \u001b[0mdefault\u001b[0m\u001b[1;33m)\u001b[0m\u001b[1;33m:\u001b[0m\u001b[1;33m\u001b[0m\u001b[1;33m\u001b[0m\u001b[0m\n",
      "\u001b[1;31mElementNotInteractableException\u001b[0m: Message: element not interactable\n  (Session info: chrome=81.0.4044.138)\n"
     ]
    }
   ],
   "source": [
    "# 검색창의 검색어를 입력하기 \n",
    "#driver.find_element_by_xpath('//*[@id=\"form_search\"]/fieldset/input[1]')\n",
    "    \n",
    "\n",
    "# 가져온 객체에 \n",
    "# xpath: //*[@id=\"form_search\"]/fieldset/input[1]\n",
    "#//*[@id=\"q\"]\n",
    "#//*[@id=\"daumSearch\"]/fieldset/div/div\n",
    "\n",
    "#search = driver.find_element_by_xpath('//*[@id=\"daumSearch\"]/fieldset/div/div')\n",
    "#search.send_keys(\"미세먼지\")\n",
    "\n",
    "driver.execute_script(\"arguments[0].click();\", element)"
   ]
  },
  {
   "cell_type": "code",
   "execution_count": 19,
   "metadata": {},
   "outputs": [],
   "source": [
    "\n",
    "search_btn = driver.find_element_by_xpath('//*[@id=\"form_search\"]/fieldset/input[2]')\n",
    "search_btn.click()"
   ]
  },
  {
   "cell_type": "code",
   "execution_count": 20,
   "metadata": {},
   "outputs": [
    {
     "ename": "WebDriverException",
     "evalue": "Message: chrome not reachable\n  (Session info: chrome=81.0.4044.138)\n",
     "output_type": "error",
     "traceback": [
      "\u001b[1;31m---------------------------------------------------------------------------\u001b[0m",
      "\u001b[1;31mWebDriverException\u001b[0m                        Traceback (most recent call last)",
      "\u001b[1;32m<ipython-input-20-8d157cce31d3>\u001b[0m in \u001b[0;36m<module>\u001b[1;34m\u001b[0m\n\u001b[1;32m----> 1\u001b[1;33m \u001b[0mpage\u001b[0m \u001b[1;33m=\u001b[0m \u001b[0mdriver\u001b[0m\u001b[1;33m.\u001b[0m\u001b[0mpage_source\u001b[0m\u001b[1;33m\u001b[0m\u001b[1;33m\u001b[0m\u001b[0m\n\u001b[0m\u001b[0;32m      2\u001b[0m \u001b[0msoup\u001b[0m \u001b[1;33m=\u001b[0m \u001b[0mBeautifulSoup\u001b[0m\u001b[1;33m(\u001b[0m\u001b[0mpage\u001b[0m\u001b[1;33m,\u001b[0m \u001b[1;34m'lxml'\u001b[0m\u001b[1;33m)\u001b[0m\u001b[1;33m\u001b[0m\u001b[1;33m\u001b[0m\u001b[0m\n\u001b[0;32m      3\u001b[0m \u001b[0msoup\u001b[0m\u001b[1;33m.\u001b[0m\u001b[0mtitle\u001b[0m\u001b[1;33m\u001b[0m\u001b[1;33m\u001b[0m\u001b[0m\n",
      "\u001b[1;32mC:\\ProgramData\\Anaconda3\\lib\\site-packages\\selenium\\webdriver\\remote\\webdriver.py\u001b[0m in \u001b[0;36mpage_source\u001b[1;34m(self)\u001b[0m\n\u001b[0;32m    677\u001b[0m             \u001b[0mdriver\u001b[0m\u001b[1;33m.\u001b[0m\u001b[0mpage_source\u001b[0m\u001b[1;33m\u001b[0m\u001b[1;33m\u001b[0m\u001b[0m\n\u001b[0;32m    678\u001b[0m         \"\"\"\n\u001b[1;32m--> 679\u001b[1;33m         \u001b[1;32mreturn\u001b[0m \u001b[0mself\u001b[0m\u001b[1;33m.\u001b[0m\u001b[0mexecute\u001b[0m\u001b[1;33m(\u001b[0m\u001b[0mCommand\u001b[0m\u001b[1;33m.\u001b[0m\u001b[0mGET_PAGE_SOURCE\u001b[0m\u001b[1;33m)\u001b[0m\u001b[1;33m[\u001b[0m\u001b[1;34m'value'\u001b[0m\u001b[1;33m]\u001b[0m\u001b[1;33m\u001b[0m\u001b[1;33m\u001b[0m\u001b[0m\n\u001b[0m\u001b[0;32m    680\u001b[0m \u001b[1;33m\u001b[0m\u001b[0m\n\u001b[0;32m    681\u001b[0m     \u001b[1;32mdef\u001b[0m \u001b[0mclose\u001b[0m\u001b[1;33m(\u001b[0m\u001b[0mself\u001b[0m\u001b[1;33m)\u001b[0m\u001b[1;33m:\u001b[0m\u001b[1;33m\u001b[0m\u001b[1;33m\u001b[0m\u001b[0m\n",
      "\u001b[1;32mC:\\ProgramData\\Anaconda3\\lib\\site-packages\\selenium\\webdriver\\remote\\webdriver.py\u001b[0m in \u001b[0;36mexecute\u001b[1;34m(self, driver_command, params)\u001b[0m\n\u001b[0;32m    319\u001b[0m         \u001b[0mresponse\u001b[0m \u001b[1;33m=\u001b[0m \u001b[0mself\u001b[0m\u001b[1;33m.\u001b[0m\u001b[0mcommand_executor\u001b[0m\u001b[1;33m.\u001b[0m\u001b[0mexecute\u001b[0m\u001b[1;33m(\u001b[0m\u001b[0mdriver_command\u001b[0m\u001b[1;33m,\u001b[0m \u001b[0mparams\u001b[0m\u001b[1;33m)\u001b[0m\u001b[1;33m\u001b[0m\u001b[1;33m\u001b[0m\u001b[0m\n\u001b[0;32m    320\u001b[0m         \u001b[1;32mif\u001b[0m \u001b[0mresponse\u001b[0m\u001b[1;33m:\u001b[0m\u001b[1;33m\u001b[0m\u001b[1;33m\u001b[0m\u001b[0m\n\u001b[1;32m--> 321\u001b[1;33m             \u001b[0mself\u001b[0m\u001b[1;33m.\u001b[0m\u001b[0merror_handler\u001b[0m\u001b[1;33m.\u001b[0m\u001b[0mcheck_response\u001b[0m\u001b[1;33m(\u001b[0m\u001b[0mresponse\u001b[0m\u001b[1;33m)\u001b[0m\u001b[1;33m\u001b[0m\u001b[1;33m\u001b[0m\u001b[0m\n\u001b[0m\u001b[0;32m    322\u001b[0m             response['value'] = self._unwrap_value(\n\u001b[0;32m    323\u001b[0m                 response.get('value', None))\n",
      "\u001b[1;32mC:\\ProgramData\\Anaconda3\\lib\\site-packages\\selenium\\webdriver\\remote\\errorhandler.py\u001b[0m in \u001b[0;36mcheck_response\u001b[1;34m(self, response)\u001b[0m\n\u001b[0;32m    240\u001b[0m                 \u001b[0malert_text\u001b[0m \u001b[1;33m=\u001b[0m \u001b[0mvalue\u001b[0m\u001b[1;33m[\u001b[0m\u001b[1;34m'alert'\u001b[0m\u001b[1;33m]\u001b[0m\u001b[1;33m.\u001b[0m\u001b[0mget\u001b[0m\u001b[1;33m(\u001b[0m\u001b[1;34m'text'\u001b[0m\u001b[1;33m)\u001b[0m\u001b[1;33m\u001b[0m\u001b[1;33m\u001b[0m\u001b[0m\n\u001b[0;32m    241\u001b[0m             \u001b[1;32mraise\u001b[0m \u001b[0mexception_class\u001b[0m\u001b[1;33m(\u001b[0m\u001b[0mmessage\u001b[0m\u001b[1;33m,\u001b[0m \u001b[0mscreen\u001b[0m\u001b[1;33m,\u001b[0m \u001b[0mstacktrace\u001b[0m\u001b[1;33m,\u001b[0m \u001b[0malert_text\u001b[0m\u001b[1;33m)\u001b[0m\u001b[1;33m\u001b[0m\u001b[1;33m\u001b[0m\u001b[0m\n\u001b[1;32m--> 242\u001b[1;33m         \u001b[1;32mraise\u001b[0m \u001b[0mexception_class\u001b[0m\u001b[1;33m(\u001b[0m\u001b[0mmessage\u001b[0m\u001b[1;33m,\u001b[0m \u001b[0mscreen\u001b[0m\u001b[1;33m,\u001b[0m \u001b[0mstacktrace\u001b[0m\u001b[1;33m)\u001b[0m\u001b[1;33m\u001b[0m\u001b[1;33m\u001b[0m\u001b[0m\n\u001b[0m\u001b[0;32m    243\u001b[0m \u001b[1;33m\u001b[0m\u001b[0m\n\u001b[0;32m    244\u001b[0m     \u001b[1;32mdef\u001b[0m \u001b[0m_value_or_default\u001b[0m\u001b[1;33m(\u001b[0m\u001b[0mself\u001b[0m\u001b[1;33m,\u001b[0m \u001b[0mobj\u001b[0m\u001b[1;33m,\u001b[0m \u001b[0mkey\u001b[0m\u001b[1;33m,\u001b[0m \u001b[0mdefault\u001b[0m\u001b[1;33m)\u001b[0m\u001b[1;33m:\u001b[0m\u001b[1;33m\u001b[0m\u001b[1;33m\u001b[0m\u001b[0m\n",
      "\u001b[1;31mWebDriverException\u001b[0m: Message: chrome not reachable\n  (Session info: chrome=81.0.4044.138)\n"
     ]
    }
   ],
   "source": [
    "page = driver.page_source\n",
    "soup = BeautifulSoup(page, 'lxml')\n",
    "soup.title\n"
   ]
  },
  {
   "cell_type": "code",
   "execution_count": null,
   "metadata": {},
   "outputs": [],
   "source": []
  },
  {
   "cell_type": "code",
   "execution_count": null,
   "metadata": {},
   "outputs": [],
   "source": []
  },
  {
   "cell_type": "code",
   "execution_count": null,
   "metadata": {},
   "outputs": [],
   "source": []
  },
  {
   "cell_type": "code",
   "execution_count": null,
   "metadata": {},
   "outputs": [],
   "source": []
  },
  {
   "cell_type": "code",
   "execution_count": null,
   "metadata": {},
   "outputs": [],
   "source": [
    "# 버튼을 클릭해주어야 한다. \n",
    "//*[@id=\"form_search\"]/fieldset/input[2]\n",
    "\n",
    "search_btn = driver.find_element_by_xpath('//*[@id=\"form_search\"]/fieldset/input[2]')\n",
    "search_btn.click()\n"
   ]
  },
  {
   "cell_type": "code",
   "execution_count": 4,
   "metadata": {},
   "outputs": [
    {
     "name": "stdout",
     "output_type": "stream",
     "text": [
      "**********1**********\n",
      "**********2**********\n",
      "**********3**********\n",
      "**************************************************\n",
      "**************************************************\n",
      "complete\n"
     ]
    }
   ],
   "source": [
    "\n",
    "from selenium import webdriver\n",
    "from bs4 import BeautifulSoup\n",
    "\n",
    "from selenium.webdriver.common.by import By\n",
    "from selenium.webdriver.support.ui import WebDriverWait\n",
    "from selenium.webdriver.support import expected_conditions as EC \n",
    "import time \n",
    "result = []\n",
    "\n",
    "#url = \"https://www.shilladfs.com/estore/kr/ko/hotsale\"\n",
    "url = \"https://www.shilladfs.com/estore/kr/ko/Bag-Wallet/Hand-Bag/Clutch-Bag/c/144\"\n",
    "\n",
    "driver = webdriver.Chrome('chromedriver.exe')\n",
    "\n",
    "driver.get(url)\n",
    "time.sleep(2)\n",
    "\n",
    "for page in range(1,4): #페이지 수 따로 입력하지 않고, end page 까지 적용시키는방법? \n",
    "    try:\n",
    "        #driver.execute_script(\"searchModule.SetCategoryList(%s, '')\"%str(page))\n",
    "        driver.execute_script(\"javascript:facet.search(%s);\"%str(page))\n",
    "        time.sleep(2)\n",
    "        \n",
    "        #original path = #container > div.sub_category > div.product_list_wrap.facet_module > div.facet-product-list > ul:nth-child(1) > li:nth-child(1) > div > div.product_off\n",
    "        #shi_head=driver.find_elements_by_css_selector('#container > div.sub_category > div.product_list_wrap.facet_module')\n",
    "        \n",
    "        shi_head=driver.find_elements_by_css_selector('.facet-product-list .product_off_wrap')\n",
    "                                                        \n",
    "        #print(\"*\"*10 + str(page)+\"*\"*10)\n",
    "        #product_list = driver.find_elements_by_css_selector('.facet-product-list>.product_list') \n",
    "       # print(shi_head[0].text)    \n",
    "        print(\"*\"*10 + str(page)+\"*\"*10)      \n",
    "        for ele in shi_head:\n",
    "            #print(\"*\"*10)\n",
    "            #print('브랜드명: ' + ele.find_element_by_css_selector('div.brand').text)\n",
    "            #print('제품명: ' + ele.find_element_by_css_selector('div.name').text)\n",
    "            #print('달러가격: ' + ele.find_element_by_css_selector('div.price > span.sale').text)\n",
    "            #print('원화가격: ' + ele.find_element_by_css_selector('div.price > span.won').text)        \n",
    "            brand_name = ele.find_element_by_css_selector('div.brand').text\n",
    "            product_name = ele.find_element_by_css_selector('div.name').text\n",
    "            dollar_price = ele.find_element_by_css_selector('div.price > span.sale').text\n",
    "            won_price = ele.find_element_by_css_selector('div.price > span.won').text\n",
    "            \n",
    "            result.append([brand_name]+[product_name]+[dollar_price]+[won_price])\n",
    "    except Exception as e:\n",
    "        print(\"오류\", e)                                                 \n",
    "print(\"*\"*50)\n",
    "#print(\"total stores:\" + str(len(result)))\n",
    "import pandas as pd \n",
    "pf = pd.DataFrame(result)\n",
    "pf.to_csv('Shilla02.csv', encoding=\"euc-kr\")\n",
    "print(\"*\"*50)\n",
    "print(\"complete\")\n",
    "\n",
    "\n",
    "    \n"
   ]
  },
  {
   "cell_type": "code",
   "execution_count": 35,
   "metadata": {},
   "outputs": [],
   "source": [
    "from selenium import webdriver \n",
    "driver = webdriver.Chrome('chromedriver')"
   ]
  },
  {
   "cell_type": "code",
   "execution_count": 36,
   "metadata": {},
   "outputs": [],
   "source": [
    "url =\"https://pythonstart.github.io/web/\"\n",
    "driver.get(url)"
   ]
  },
  {
   "cell_type": "code",
   "execution_count": 47,
   "metadata": {},
   "outputs": [
    {
     "name": "stdout",
     "output_type": "stream",
     "text": [
      "10. 랭킹 정보 가져오기(웹 크롤링)\n",
      "a\n"
     ]
    }
   ],
   "source": [
    "## id 를 이용해서 정보를 가져오겠다. \n",
    "#find_element_by_id(\"id명\")\n",
    "sel_id = driver.find_element_by_id(\"rank\")\n",
    "print(sel_id.text)\n",
    "print(sel_id.tag_name)\n",
    "\n"
   ]
  },
  {
   "cell_type": "code",
   "execution_count": 39,
   "metadata": {},
   "outputs": [],
   "source": [
    "## 태그 이름을 이용하여 접근할 있다. "
   ]
  },
  {
   "cell_type": "code",
   "execution_count": 42,
   "metadata": {},
   "outputs": [],
   "source": [
    "# find_element_by_tag_name\n",
    "# find_elements_by_tag_name"
   ]
  },
  {
   "cell_type": "code",
   "execution_count": 49,
   "metadata": {},
   "outputs": [
    {
     "data": {
      "text/plain": [
       "<selenium.webdriver.remote.webelement.WebElement (session=\"a8245a37b268968a3c7197ac04919dbd\", element=\"af80f88a-fde9-473e-9393-217de5a1f691\")>"
      ]
     },
     "execution_count": 49,
     "metadata": {},
     "output_type": "execute_result"
    }
   ],
   "source": [
    "sel_tag = driver.find_element_by_tag_name('h1')\n",
    "sel_tag"
   ]
  },
  {
   "cell_type": "code",
   "execution_count": 51,
   "metadata": {},
   "outputs": [
    {
     "name": "stdout",
     "output_type": "stream",
     "text": [
      "태그명 : my web page\n",
      "택스트 : h1\n"
     ]
    }
   ],
   "source": [
    "print(\"태그명 :\", sel_tag.text)\n",
    "print(\"택스트 :\", sel_tag.tag_name)"
   ]
  },
  {
   "cell_type": "code",
   "execution_count": 52,
   "metadata": {},
   "outputs": [],
   "source": [
    "# 실습 1 a 태그 전체를 가져와보기 "
   ]
  },
  {
   "cell_type": "code",
   "execution_count": 60,
   "metadata": {},
   "outputs": [
    {
     "data": {
      "text/plain": [
       "[<selenium.webdriver.remote.webelement.WebElement (session=\"a8245a37b268968a3c7197ac04919dbd\", element=\"8515bcd4-8af5-457f-bd31-620c651f4bdc\")>,\n",
       " <selenium.webdriver.remote.webelement.WebElement (session=\"a8245a37b268968a3c7197ac04919dbd\", element=\"5300a4e8-7487-41a5-9442-3e109d796b2f\")>,\n",
       " <selenium.webdriver.remote.webelement.WebElement (session=\"a8245a37b268968a3c7197ac04919dbd\", element=\"bd2c24fe-301a-4e5c-8a76-0abc57d264c8\")>,\n",
       " <selenium.webdriver.remote.webelement.WebElement (session=\"a8245a37b268968a3c7197ac04919dbd\", element=\"8636f72b-1b35-4ae2-beac-f5df7173f034\")>,\n",
       " <selenium.webdriver.remote.webelement.WebElement (session=\"a8245a37b268968a3c7197ac04919dbd\", element=\"eb489e97-d956-4c4f-8afb-f099c6542332\")>,\n",
       " <selenium.webdriver.remote.webelement.WebElement (session=\"a8245a37b268968a3c7197ac04919dbd\", element=\"947e9f4a-7651-4a97-8159-475a68b00d3b\")>,\n",
       " <selenium.webdriver.remote.webelement.WebElement (session=\"a8245a37b268968a3c7197ac04919dbd\", element=\"fa46c763-174f-4cb7-bb20-e69a05536963\")>,\n",
       " <selenium.webdriver.remote.webelement.WebElement (session=\"a8245a37b268968a3c7197ac04919dbd\", element=\"961fcb1f-3918-4314-915a-5f73d5015236\")>,\n",
       " <selenium.webdriver.remote.webelement.WebElement (session=\"a8245a37b268968a3c7197ac04919dbd\", element=\"fad24581-b94e-484d-9b2f-16525283b3c9\")>,\n",
       " <selenium.webdriver.remote.webelement.WebElement (session=\"a8245a37b268968a3c7197ac04919dbd\", element=\"215a6203-4489-4cb8-b073-e88647b9de9c\")>]"
      ]
     },
     "execution_count": 60,
     "metadata": {},
     "output_type": "execute_result"
    }
   ],
   "source": [
    "t1 = driver.find_elements_by_tag_name(\"a\")\n",
    "t1"
   ]
  },
  {
   "cell_type": "code",
   "execution_count": 63,
   "metadata": {},
   "outputs": [
    {
     "ename": "NameError",
     "evalue": "name 'info' is not defined",
     "output_type": "error",
     "traceback": [
      "\u001b[1;31m---------------------------------------------------------------------------\u001b[0m",
      "\u001b[1;31mNameError\u001b[0m                                 Traceback (most recent call last)",
      "\u001b[1;32m<ipython-input-63-b1f8fda1f54c>\u001b[0m in \u001b[0;36m<module>\u001b[1;34m\u001b[0m\n\u001b[0;32m      1\u001b[0m \u001b[0mresult\u001b[0m \u001b[1;33m=\u001b[0m \u001b[1;33m[\u001b[0m\u001b[1;33m]\u001b[0m\u001b[1;33m\u001b[0m\u001b[1;33m\u001b[0m\u001b[0m\n\u001b[1;32m----> 2\u001b[1;33m \u001b[1;32mfor\u001b[0m \u001b[0mi\u001b[0m \u001b[1;32min\u001b[0m \u001b[0minfo\u001b[0m\u001b[1;33m:\u001b[0m\u001b[1;33m\u001b[0m\u001b[1;33m\u001b[0m\u001b[0m\n\u001b[0m\u001b[0;32m      3\u001b[0m     \u001b[0minfo\u001b[0m \u001b[1;33m=\u001b[0m \u001b[0mdriver\u001b[0m\u001b[1;33m.\u001b[0m\u001b[0mfind_elemnts_by_tag_name\u001b[0m\u001b[1;33m(\u001b[0m\u001b[1;34m\"a\"\u001b[0m\u001b[1;33m)\u001b[0m\u001b[1;33m[\u001b[0m\u001b[0mi\u001b[0m\u001b[1;33m]\u001b[0m\u001b[1;33m\u001b[0m\u001b[1;33m\u001b[0m\u001b[0m\n\u001b[0;32m      4\u001b[0m     \u001b[0mresult\u001b[0m\u001b[1;33m.\u001b[0m\u001b[0mappend\u001b[0m\u001b[1;33m(\u001b[0m\u001b[0minfo\u001b[0m\u001b[1;33m)\u001b[0m\u001b[1;33m\u001b[0m\u001b[1;33m\u001b[0m\u001b[0m\n\u001b[0;32m      5\u001b[0m \u001b[1;33m\u001b[0m\u001b[0m\n",
      "\u001b[1;31mNameError\u001b[0m: name 'info' is not defined"
     ]
    }
   ],
   "source": [
    "result = []\n",
    "for i in info:\n",
    "    info = driver.find_elemnts_by_tag_name(\"a\")[i]\n",
    "    result.append(info)\n",
    "    \n",
    "    \n",
    "\n",
    "# all_url = []\n",
    "# for i in new: \n",
    "#     url = new.a.attrs['href']\n",
    "#     all_url.append(url)\n",
    "    \n",
    "    "
   ]
  },
  {
   "cell_type": "code",
   "execution_count": 66,
   "metadata": {},
   "outputs": [
    {
     "name": "stdout",
     "output_type": "stream",
     "text": [
      "01. 제목 가져오기(title)\n",
      "02. 텍스트 가져오기(p)\n",
      "03. 링크 가져오기(a)\n",
      "04. 이미지 정보 가져오기(img)\n",
      "05. 리스트 정보 가져오기(ul,ol)\n",
      "06. id를 활용한 정보 획득\n",
      "07. class를 활용한 정보 획득\n",
      "08. 하나의 이미지 다운로드\n",
      "09. 여러개의 이미지 다운로드\n",
      "10. 랭킹 정보 가져오기(웹 크롤링)\n"
     ]
    }
   ],
   "source": [
    "sel_a_all = driver.find_elements_by_tag_name(\"a\")\n",
    "sel_a_all\n",
    "\n",
    "for one in sel_a_all:\n",
    "    print(one.text)"
   ]
  },
  {
   "cell_type": "code",
   "execution_count": 68,
   "metadata": {},
   "outputs": [
    {
     "data": {
      "text/plain": [
       "'01. 제목 가져오기(title)'"
      ]
     },
     "execution_count": 68,
     "metadata": {},
     "output_type": "execute_result"
    }
   ],
   "source": [
    "sel_a_all[0].text"
   ]
  },
  {
   "cell_type": "markdown",
   "metadata": {},
   "source": [
    "### Seleinum 을 이용한 \n",
    "01 id 를 이용해서 정보를 가져오기 \n",
    "02 tag 정보를 이용한 원하는 정보 얻기 \n",
    "03 name 속성을 이용한 원하는 정보 얻기 \n"
   ]
  },
  {
   "cell_type": "code",
   "execution_count": 70,
   "metadata": {},
   "outputs": [
    {
     "data": {
      "text/plain": [
       "'02. 텍스트 가져오기(p)'"
      ]
     },
     "execution_count": 70,
     "metadata": {},
     "output_type": "execute_result"
    }
   ],
   "source": [
    "sel_name = driver.find_element_by_name(\"text_get\")\n",
    "sel_name.text"
   ]
  },
  {
   "cell_type": "code",
   "execution_count": 71,
   "metadata": {},
   "outputs": [],
   "source": [
    "### name = link_get 인 것을 가져와 보자 "
   ]
  },
  {
   "cell_type": "code",
   "execution_count": 82,
   "metadata": {},
   "outputs": [
    {
     "ename": "TypeError",
     "evalue": "'WebElement' object is not iterable",
     "output_type": "error",
     "traceback": [
      "\u001b[1;31m---------------------------------------------------------------------------\u001b[0m",
      "\u001b[1;31mTypeError\u001b[0m                                 Traceback (most recent call last)",
      "\u001b[1;32m<ipython-input-82-9c924ac3e27a>\u001b[0m in \u001b[0;36m<module>\u001b[1;34m\u001b[0m\n\u001b[0;32m      2\u001b[0m \u001b[0msel_name\u001b[0m\u001b[1;33m.\u001b[0m\u001b[0mtext\u001b[0m\u001b[1;33m\u001b[0m\u001b[1;33m\u001b[0m\u001b[0m\n\u001b[0;32m      3\u001b[0m \u001b[1;33m\u001b[0m\u001b[0m\n\u001b[1;32m----> 4\u001b[1;33m \u001b[1;32mfor\u001b[0m \u001b[0mi\u001b[0m \u001b[1;32min\u001b[0m \u001b[0msel_name\u001b[0m\u001b[1;33m:\u001b[0m\u001b[1;33m\u001b[0m\u001b[1;33m\u001b[0m\u001b[0m\n\u001b[0m\u001b[0;32m      5\u001b[0m     \u001b[0mprint\u001b[0m\u001b[1;33m(\u001b[0m\u001b[0mi\u001b[0m\u001b[1;33m.\u001b[0m\u001b[0mtext\u001b[0m\u001b[1;33m)\u001b[0m\u001b[1;33m\u001b[0m\u001b[1;33m\u001b[0m\u001b[0m\n",
      "\u001b[1;31mTypeError\u001b[0m: 'WebElement' object is not iterable"
     ]
    }
   ],
   "source": [
    "sel_name = driver.find_elements_by_name(\"link_get\")[0]\n",
    "sel_name.text\n",
    "\n",
    "for i in sel_name:\n",
    "    print(i.text)"
   ]
  },
  {
   "cell_type": "code",
   "execution_count": 78,
   "metadata": {},
   "outputs": [
    {
     "data": {
      "text/plain": [
       "[<selenium.webdriver.remote.webelement.WebElement (session=\"a8245a37b268968a3c7197ac04919dbd\", element=\"8515bcd4-8af5-457f-bd31-620c651f4bdc\")>,\n",
       " <selenium.webdriver.remote.webelement.WebElement (session=\"a8245a37b268968a3c7197ac04919dbd\", element=\"bd2c24fe-301a-4e5c-8a76-0abc57d264c8\")>]"
      ]
     },
     "execution_count": 78,
     "metadata": {},
     "output_type": "execute_result"
    }
   ],
   "source": [
    "sel_names = driver.find_elements_by_name(\"link_get\")\n",
    "sel_names"
   ]
  },
  {
   "cell_type": "code",
   "execution_count": 79,
   "metadata": {},
   "outputs": [
    {
     "name": "stdout",
     "output_type": "stream",
     "text": [
      "01. 제목 가져오기(title)\n",
      "03. 링크 가져오기(a)\n"
     ]
    }
   ],
   "source": [
    "for one in sel_names:\n",
    "    print(one.text)"
   ]
  },
  {
   "cell_type": "markdown",
   "metadata": {},
   "source": [
    "## 클래스 이름을 이용한 찾기 \n",
    "* find_element_by_class_name\n",
    "* find_elements_by_class_name\n"
   ]
  },
  {
   "cell_type": "code",
   "execution_count": null,
   "metadata": {},
   "outputs": [],
   "source": [
    "### 05 selector 를 이용한 접근  "
   ]
  },
  {
   "cell_type": "code",
   "execution_count": null,
   "metadata": {},
   "outputs": [],
   "source": [
    "### CSS\n",
    "\n",
    "inline, internal, external \n",
    "\n",
    "<style>\n",
    "h1 {color:'blue'}\n",
    "\n",
    "</style>"
   ]
  },
  {
   "cell_type": "markdown",
   "metadata": {},
   "source": [
    "## Selector 를 이용한 접근 "
   ]
  },
  {
   "cell_type": "markdown",
   "metadata": {},
   "source": [
    "driver.find_element_by_css_selector(\"p.content\")\n",
    "#p 가 태그, \n",
    "content 가 class 일 경우(.),  \n",
    "content 가 id 일 경우(#).\n"
   ]
  },
  {
   "cell_type": "code",
   "execution_count": 86,
   "metadata": {},
   "outputs": [],
   "source": [
    "# 상위태그 ul 하위태그 a 일 경우 \n",
    "sel_css_all = driver.find_elements_by_css_selector(\"ul a\")"
   ]
  },
  {
   "cell_type": "code",
   "execution_count": null,
   "metadata": {},
   "outputs": [],
   "source": [
    "# 클릭을 해서 해당 페이지로 이동. \n",
    "sel_3 = driver.find_element_by_xpath\n",
    "sel_3.click()"
   ]
  },
  {
   "cell_type": "code",
   "execution_count": null,
   "metadata": {},
   "outputs": [],
   "source": [
    "page = driver.page_source\n",
    "soup = BeautifulSoup(page, 'lxml')\n",
    "soup"
   ]
  },
  {
   "cell_type": "code",
   "execution_count": null,
   "metadata": {},
   "outputs": [],
   "source": [
    "## 네이버 쇼핑몰 상품 하나에 대한 리뷰 가져오기 "
   ]
  },
  {
   "cell_type": "code",
   "execution_count": null,
   "metadata": {},
   "outputs": [],
   "source": [
    "url : https://search.shopping.naver.com/search/all.nhn?query=jbl+free+x&cat_id=&frm=NVSHATC\n",
    "keyword : JBL FREE X "
   ]
  },
  {
   "cell_type": "code",
   "execution_count": 89,
   "metadata": {},
   "outputs": [],
   "source": [
    "from urllib.request import urlopen\n",
    "from selenium import webdriver\n",
    "from bs4 import BeautifulSoup"
   ]
  },
  {
   "cell_type": "code",
   "execution_count": 138,
   "metadata": {},
   "outputs": [],
   "source": [
    "# URLOPEN 과 BEAUTIFUL SOUP 을 이용해 본다. "
   ]
  },
  {
   "cell_type": "code",
   "execution_count": 88,
   "metadata": {},
   "outputs": [
    {
     "data": {
      "text/plain": [
       "<title>jbl free x : 네이버쇼핑</title>"
      ]
     },
     "execution_count": 88,
     "metadata": {},
     "output_type": "execute_result"
    }
   ],
   "source": [
    "url = \"https://search.shopping.naver.com/search/all.nhn?query=jbl+free+x&cat_id=&frm=NVSHATC\"\n",
    "page = urlopen(url)\n",
    "soup = BeautifulSoup(page, 'lxml')\n",
    "soup.title\n"
   ]
  },
  {
   "cell_type": "code",
   "execution_count": 90,
   "metadata": {},
   "outputs": [
    {
     "ename": "AttributeError",
     "evalue": "'NoneType' object has no attribute 'find'",
     "output_type": "error",
     "traceback": [
      "\u001b[1;31m---------------------------------------------------------------------------\u001b[0m",
      "\u001b[1;31mAttributeError\u001b[0m                            Traceback (most recent call last)",
      "\u001b[1;32m<ipython-input-90-bbb6daa80cb8>\u001b[0m in \u001b[0;36m<module>\u001b[1;34m\u001b[0m\n\u001b[1;32m----> 1\u001b[1;33m \u001b[0msoup\u001b[0m\u001b[1;33m.\u001b[0m\u001b[0mfind\u001b[0m\u001b[1;33m(\u001b[0m\u001b[1;34m\"ul\"\u001b[0m\u001b[1;33m,\u001b[0m\u001b[0mclass_\u001b[0m\u001b[1;33m=\u001b[0m\u001b[1;34m\"good_list\"\u001b[0m\u001b[1;33m)\u001b[0m\u001b[1;33m.\u001b[0m\u001b[0mfind\u001b[0m\u001b[1;33m(\u001b[0m\u001b[1;34m\"div\"\u001b[0m\u001b[1;33m,\u001b[0m\u001b[0mclass_\u001b[0m\u001b[1;33m=\u001b[0m\u001b[1;34m\"tit\"\u001b[0m\u001b[1;33m)\u001b[0m\u001b[1;33m\u001b[0m\u001b[1;33m\u001b[0m\u001b[0m\n\u001b[0m",
      "\u001b[1;31mAttributeError\u001b[0m: 'NoneType' object has no attribute 'find'"
     ]
    }
   ],
   "source": [
    "soup.find(\"ul\",class_=\"good_list\").find(\"div\",class_=\"tit\")"
   ]
  },
  {
   "cell_type": "code",
   "execution_count": 100,
   "metadata": {},
   "outputs": [],
   "source": [
    "url = \"https://search.shopping.naver.com/detail/detail.nhn?cat_id=50002334&nv_mid=15784793132&query=JBL%20FREE%20X\""
   ]
  },
  {
   "cell_type": "code",
   "execution_count": 101,
   "metadata": {},
   "outputs": [],
   "source": [
    "import time\n",
    "\n",
    "browser = webdriver.Chrome(\"chromedriver\")\n",
    "browser.get(url)\n",
    "time.sleep(1) # 처리를 끝난 후 기다려줘 \n"
   ]
  },
  {
   "cell_type": "code",
   "execution_count": 102,
   "metadata": {},
   "outputs": [
    {
     "data": {
      "text/plain": [
       "<title>JBL FREE X : 네이버쇼핑</title>"
      ]
     },
     "execution_count": 102,
     "metadata": {},
     "output_type": "execute_result"
    }
   ],
   "source": [
    "soup = BeautifulSoup(browser.page_source, 'lxml')\n",
    "soup.title"
   ]
  },
  {
   "cell_type": "code",
   "execution_count": 109,
   "metadata": {},
   "outputs": [],
   "source": [
    "dat = soup.find(\"ul\", id=\"_review_list\")\n",
    "page_review_li = dat.find_all(\"li\")\n",
    "page_review_li[0]\n",
    "\n",
    "all_review= []\n",
    "for i in page_review_li:\n",
    "    review = i.find(\"div\",class_='atc').text\n",
    "    all_review.append(review)\n",
    "    \n",
    "## 쇼핑몰 리뷰를 2~10 페이지까지 가져오겟다리` \n",
    "\n",
    "#print(all_review)\n",
    "# page_btn = driver.find_element_by_xpath('//*[@id=\"_review_paging\"]/a[1]')\n",
    "# page_btn.click()"
   ]
  },
  {
   "cell_type": "code",
   "execution_count": 139,
   "metadata": {},
   "outputs": [
    {
     "ename": "IndentationError",
     "evalue": "expected an indented block (<ipython-input-139-6ac1c0abac7c>, line 11)",
     "output_type": "error",
     "traceback": [
      "\u001b[1;36m  File \u001b[1;32m\"<ipython-input-139-6ac1c0abac7c>\"\u001b[1;36m, line \u001b[1;32m11\u001b[0m\n\u001b[1;33m    a1 = soup.find(\"a\", class_=\"next\")\u001b[0m\n\u001b[1;37m                                      ^\u001b[0m\n\u001b[1;31mIndentationError\u001b[0m\u001b[1;31m:\u001b[0m expected an indented block\n"
     ]
    }
   ],
   "source": [
    "# 2페이지 = //*[@id=\"_review_paging\"]/a[2]\n",
    "# 3페이지 = //*[@id=\"_review_paging\"]/a[3]\n",
    "\n",
    "#<a href=\"#\" class=\"next\" onclick=\"shop.detail.ReviewHandler.page(11, '_review_paging'); return false;\">다음</a>\n",
    "\n",
    "for page in range(1,4): #페이지 수 따로 입력하지 않고, end page 까지 적용시키는방법? \n",
    "    try:\n",
    "        #driver.execute_script(\"searchModule.SetCategoryList(%s, '')\"%str(page))\n",
    "\n",
    "\n",
    "a1 = soup.find(\"a\", class_=\"next\")\n",
    "a1"
   ]
  },
  {
   "cell_type": "code",
   "execution_count": 146,
   "metadata": {},
   "outputs": [
    {
     "data": {
      "text/plain": [
       "<a class=\"next\" href=\"#\">다음 섹션 보기</a>"
      ]
     },
     "execution_count": 146,
     "metadata": {},
     "output_type": "execute_result"
    }
   ],
   "source": [
    "# dat = soup.find(\"ul\", id=\"_review_list\")\n",
    "# page_review_li = dat.find_all(\"li\")\n",
    "# page_review_li[0]\n",
    "\n",
    "\n",
    "d1 = soup.find(\"a\", class_=\"next\")\n",
    "d1"
   ]
  },
  {
   "cell_type": "code",
   "execution_count": 142,
   "metadata": {},
   "outputs": [
    {
     "name": "stdout",
     "output_type": "stream",
     "text": [
      "현재페이지: 2\n",
      "현재페이지: 3\n",
      "현재페이지: 4\n",
      "현재페이지: 5\n",
      "현재페이지: 6\n",
      "현재페이지: 7\n",
      "현재페이지: 8\n",
      "현재페이지: 9\n",
      "현재페이지: 10\n",
      "현재페이지: 11\n",
      "현재페이지: 12\n",
      "현재페이지: 13\n",
      "현재페이지: 14\n"
     ]
    },
    {
     "ename": "NoSuchElementException",
     "evalue": "Message: no such element: Unable to locate element: {\"method\":\"xpath\",\"selector\":\"//*[@id=\"_review_paging\"]/a[14]\"}\n  (Session info: chrome=81.0.4044.138)\n",
     "output_type": "error",
     "traceback": [
      "\u001b[1;31m---------------------------------------------------------------------------\u001b[0m",
      "\u001b[1;31mNoSuchElementException\u001b[0m                    Traceback (most recent call last)",
      "\u001b[1;32m<ipython-input-142-1392d6f2d8a4>\u001b[0m in \u001b[0;36m<module>\u001b[1;34m\u001b[0m\n\u001b[0;32m      5\u001b[0m     \u001b[1;31m#print(page_btn)\u001b[0m\u001b[1;33m\u001b[0m\u001b[1;33m\u001b[0m\u001b[1;33m\u001b[0m\u001b[0m\n\u001b[0;32m      6\u001b[0m     \u001b[1;31m#클릭을 시켜보자\u001b[0m\u001b[1;33m\u001b[0m\u001b[1;33m\u001b[0m\u001b[1;33m\u001b[0m\u001b[0m\n\u001b[1;32m----> 7\u001b[1;33m     \u001b[0mnext_page\u001b[0m \u001b[1;33m=\u001b[0m \u001b[0mbrowser\u001b[0m\u001b[1;33m.\u001b[0m\u001b[0mfind_element_by_xpath\u001b[0m\u001b[1;33m(\u001b[0m\u001b[0mpage_btn\u001b[0m\u001b[1;33m)\u001b[0m\u001b[1;33m\u001b[0m\u001b[1;33m\u001b[0m\u001b[0m\n\u001b[0m\u001b[0;32m      8\u001b[0m     \u001b[0mnext_page\u001b[0m\u001b[1;33m.\u001b[0m\u001b[0mclick\u001b[0m\u001b[1;33m(\u001b[0m\u001b[1;33m)\u001b[0m\u001b[1;33m\u001b[0m\u001b[1;33m\u001b[0m\u001b[0m\n\u001b[0;32m      9\u001b[0m \u001b[1;33m\u001b[0m\u001b[0m\n",
      "\u001b[1;32mC:\\ProgramData\\Anaconda3\\lib\\site-packages\\selenium\\webdriver\\remote\\webdriver.py\u001b[0m in \u001b[0;36mfind_element_by_xpath\u001b[1;34m(self, xpath)\u001b[0m\n\u001b[0;32m    392\u001b[0m             \u001b[0melement\u001b[0m \u001b[1;33m=\u001b[0m \u001b[0mdriver\u001b[0m\u001b[1;33m.\u001b[0m\u001b[0mfind_element_by_xpath\u001b[0m\u001b[1;33m(\u001b[0m\u001b[1;34m'//div/td[1]'\u001b[0m\u001b[1;33m)\u001b[0m\u001b[1;33m\u001b[0m\u001b[1;33m\u001b[0m\u001b[0m\n\u001b[0;32m    393\u001b[0m         \"\"\"\n\u001b[1;32m--> 394\u001b[1;33m         \u001b[1;32mreturn\u001b[0m \u001b[0mself\u001b[0m\u001b[1;33m.\u001b[0m\u001b[0mfind_element\u001b[0m\u001b[1;33m(\u001b[0m\u001b[0mby\u001b[0m\u001b[1;33m=\u001b[0m\u001b[0mBy\u001b[0m\u001b[1;33m.\u001b[0m\u001b[0mXPATH\u001b[0m\u001b[1;33m,\u001b[0m \u001b[0mvalue\u001b[0m\u001b[1;33m=\u001b[0m\u001b[0mxpath\u001b[0m\u001b[1;33m)\u001b[0m\u001b[1;33m\u001b[0m\u001b[1;33m\u001b[0m\u001b[0m\n\u001b[0m\u001b[0;32m    395\u001b[0m \u001b[1;33m\u001b[0m\u001b[0m\n\u001b[0;32m    396\u001b[0m     \u001b[1;32mdef\u001b[0m \u001b[0mfind_elements_by_xpath\u001b[0m\u001b[1;33m(\u001b[0m\u001b[0mself\u001b[0m\u001b[1;33m,\u001b[0m \u001b[0mxpath\u001b[0m\u001b[1;33m)\u001b[0m\u001b[1;33m:\u001b[0m\u001b[1;33m\u001b[0m\u001b[1;33m\u001b[0m\u001b[0m\n",
      "\u001b[1;32mC:\\ProgramData\\Anaconda3\\lib\\site-packages\\selenium\\webdriver\\remote\\webdriver.py\u001b[0m in \u001b[0;36mfind_element\u001b[1;34m(self, by, value)\u001b[0m\n\u001b[0;32m    976\u001b[0m         return self.execute(Command.FIND_ELEMENT, {\n\u001b[0;32m    977\u001b[0m             \u001b[1;34m'using'\u001b[0m\u001b[1;33m:\u001b[0m \u001b[0mby\u001b[0m\u001b[1;33m,\u001b[0m\u001b[1;33m\u001b[0m\u001b[1;33m\u001b[0m\u001b[0m\n\u001b[1;32m--> 978\u001b[1;33m             'value': value})['value']\n\u001b[0m\u001b[0;32m    979\u001b[0m \u001b[1;33m\u001b[0m\u001b[0m\n\u001b[0;32m    980\u001b[0m     \u001b[1;32mdef\u001b[0m \u001b[0mfind_elements\u001b[0m\u001b[1;33m(\u001b[0m\u001b[0mself\u001b[0m\u001b[1;33m,\u001b[0m \u001b[0mby\u001b[0m\u001b[1;33m=\u001b[0m\u001b[0mBy\u001b[0m\u001b[1;33m.\u001b[0m\u001b[0mID\u001b[0m\u001b[1;33m,\u001b[0m \u001b[0mvalue\u001b[0m\u001b[1;33m=\u001b[0m\u001b[1;32mNone\u001b[0m\u001b[1;33m)\u001b[0m\u001b[1;33m:\u001b[0m\u001b[1;33m\u001b[0m\u001b[1;33m\u001b[0m\u001b[0m\n",
      "\u001b[1;32mC:\\ProgramData\\Anaconda3\\lib\\site-packages\\selenium\\webdriver\\remote\\webdriver.py\u001b[0m in \u001b[0;36mexecute\u001b[1;34m(self, driver_command, params)\u001b[0m\n\u001b[0;32m    319\u001b[0m         \u001b[0mresponse\u001b[0m \u001b[1;33m=\u001b[0m \u001b[0mself\u001b[0m\u001b[1;33m.\u001b[0m\u001b[0mcommand_executor\u001b[0m\u001b[1;33m.\u001b[0m\u001b[0mexecute\u001b[0m\u001b[1;33m(\u001b[0m\u001b[0mdriver_command\u001b[0m\u001b[1;33m,\u001b[0m \u001b[0mparams\u001b[0m\u001b[1;33m)\u001b[0m\u001b[1;33m\u001b[0m\u001b[1;33m\u001b[0m\u001b[0m\n\u001b[0;32m    320\u001b[0m         \u001b[1;32mif\u001b[0m \u001b[0mresponse\u001b[0m\u001b[1;33m:\u001b[0m\u001b[1;33m\u001b[0m\u001b[1;33m\u001b[0m\u001b[0m\n\u001b[1;32m--> 321\u001b[1;33m             \u001b[0mself\u001b[0m\u001b[1;33m.\u001b[0m\u001b[0merror_handler\u001b[0m\u001b[1;33m.\u001b[0m\u001b[0mcheck_response\u001b[0m\u001b[1;33m(\u001b[0m\u001b[0mresponse\u001b[0m\u001b[1;33m)\u001b[0m\u001b[1;33m\u001b[0m\u001b[1;33m\u001b[0m\u001b[0m\n\u001b[0m\u001b[0;32m    322\u001b[0m             response['value'] = self._unwrap_value(\n\u001b[0;32m    323\u001b[0m                 response.get('value', None))\n",
      "\u001b[1;32mC:\\ProgramData\\Anaconda3\\lib\\site-packages\\selenium\\webdriver\\remote\\errorhandler.py\u001b[0m in \u001b[0;36mcheck_response\u001b[1;34m(self, response)\u001b[0m\n\u001b[0;32m    240\u001b[0m                 \u001b[0malert_text\u001b[0m \u001b[1;33m=\u001b[0m \u001b[0mvalue\u001b[0m\u001b[1;33m[\u001b[0m\u001b[1;34m'alert'\u001b[0m\u001b[1;33m]\u001b[0m\u001b[1;33m.\u001b[0m\u001b[0mget\u001b[0m\u001b[1;33m(\u001b[0m\u001b[1;34m'text'\u001b[0m\u001b[1;33m)\u001b[0m\u001b[1;33m\u001b[0m\u001b[1;33m\u001b[0m\u001b[0m\n\u001b[0;32m    241\u001b[0m             \u001b[1;32mraise\u001b[0m \u001b[0mexception_class\u001b[0m\u001b[1;33m(\u001b[0m\u001b[0mmessage\u001b[0m\u001b[1;33m,\u001b[0m \u001b[0mscreen\u001b[0m\u001b[1;33m,\u001b[0m \u001b[0mstacktrace\u001b[0m\u001b[1;33m,\u001b[0m \u001b[0malert_text\u001b[0m\u001b[1;33m)\u001b[0m\u001b[1;33m\u001b[0m\u001b[1;33m\u001b[0m\u001b[0m\n\u001b[1;32m--> 242\u001b[1;33m         \u001b[1;32mraise\u001b[0m \u001b[0mexception_class\u001b[0m\u001b[1;33m(\u001b[0m\u001b[0mmessage\u001b[0m\u001b[1;33m,\u001b[0m \u001b[0mscreen\u001b[0m\u001b[1;33m,\u001b[0m \u001b[0mstacktrace\u001b[0m\u001b[1;33m)\u001b[0m\u001b[1;33m\u001b[0m\u001b[1;33m\u001b[0m\u001b[0m\n\u001b[0m\u001b[0;32m    243\u001b[0m \u001b[1;33m\u001b[0m\u001b[0m\n\u001b[0;32m    244\u001b[0m     \u001b[1;32mdef\u001b[0m \u001b[0m_value_or_default\u001b[0m\u001b[1;33m(\u001b[0m\u001b[0mself\u001b[0m\u001b[1;33m,\u001b[0m \u001b[0mobj\u001b[0m\u001b[1;33m,\u001b[0m \u001b[0mkey\u001b[0m\u001b[1;33m,\u001b[0m \u001b[0mdefault\u001b[0m\u001b[1;33m)\u001b[0m\u001b[1;33m:\u001b[0m\u001b[1;33m\u001b[0m\u001b[1;33m\u001b[0m\u001b[0m\n",
      "\u001b[1;31mNoSuchElementException\u001b[0m: Message: no such element: Unable to locate element: {\"method\":\"xpath\",\"selector\":\"//*[@id=\"_review_paging\"]/a[14]\"}\n  (Session info: chrome=81.0.4044.138)\n"
     ]
    }
   ],
   "source": [
    "new_all_review=[]\n",
    "for page in range(1,40,1):\n",
    "    time.sleep(2)\n",
    "    page_btn = '//*[@id=\"_review_paging\"]/a['+ str(page) +']'\n",
    "    #print(page_btn)    \n",
    "    #클릭을 시켜보자 \n",
    "    next_page = browser.find_element_by_xpath(page_btn)\n",
    "    next_page.click()\n",
    "    \n",
    "    # 한페이지의 소스 가져오기 \n",
    "    soup = BeautifulSoup(browser.page_source, 'lxml')\n",
    "    \n",
    "    # 해당되는 부분의 소스를 가져오고 \n",
    "    dat = soup.find(\"ul\", id=\"_review_list\")\n",
    "    page_review_li = dat.find_all(\"li\")\n",
    "    \n",
    "    # 각각의 리뷰에 대해서 정보를 가져온다. \n",
    "    for i in page_review_li:\n",
    "        review = i.find(\"div\",class_='atc').text\n",
    "        new_all_review.append(review)\n",
    "    \n",
    "    print(\"현재페이지:\", page+1)\n",
    "    \n",
    "    # 11페이지부터 20까지 긁고\n",
    "    # 전체페이지 긁고 \n",
    "\n",
    "    "
   ]
  },
  {
   "cell_type": "code",
   "execution_count": 130,
   "metadata": {},
   "outputs": [
    {
     "data": {
      "text/plain": [
       "['처음 써보는 코드리스 이어폰 JBL Free X 블루투스 이어폰의 첫걸음은 Jabra 와 함께 하고 코드리스 블루투스 이어폰은 JBL과 시작했네요특 딜가에 포인트백까지 하면 나름 저렴하게 구매했습니다. 아이콘X 2018과 에어팟중에 고민중 역시 소리는 에어팟이 좋았지만, 너무 미래스러운 디자인은저랑은 잘 맞지 않았습니다. 그 와중에 쇼핑 시즌에 특 딜가로 JBL브랜드에 대한 이미지도 좋고 해서 구매하였습니다. 우선 청음해 보고 이동하면서 써본 결과 음색은 저랑 잘 맞는 편이였습니다. 저는 주로 팝과 R&B를듣고 전형적인 V음색을 좋아하는 편입니다. 코드리스 블루투스 이어폰이 많이 좋아졌구나 하는생각이 들었습니다. 역시나 코드리스이어폰의 단점으로는 많은 사람이 있는 곳에서는 약간의 끊김 현상이 발생하더군요 코드리스는 역시 운동할때는 너무 편합니다. 하지만, 일상생활에서 대화를 해야 하거나 할때는귀에서 빼서 어디다 두기가 예매한 상황이 발생하기는 합니다. 그래도 음색도 좋고 생활방수 4시간 기본 재생에 배터리팩으로 4번 충전하면 24시간은 들을 수 있다니앞으로 계속 잘 사용할 것 같습니다. 그리고 왼쪽으로는 음악재생시 앞뒤 그리고 오른쪽으로는 재생/일시정지가 가능 합니다.볼륨 컨트롤은 안 됩니다. 기본 폼팁은 약간 귀가 아퍼서 저는 여분이 있던 컵플라이 폼팁으로 하니 훨씬 좋더라구요 나름 기본기에 충실하고 음색도 좋아 추천 합니다~ 가격대비 나쁘지 않아요~ 14만 9천원 - 3만7천원 할인 - 11,270포인트 = 100,730원에 구매했어요~',\n",
       " '와이어리스 가성비 이어폰. 믿고 사는 브랜드 및 AS 생각보다 늦게 왔지만 이는 스토어의 문제가 아닌 대한통운의 물류 시스템에 문제가 있었다는 것을 스토어에서 친절하게 답변 해주셨습니다. 제품 외관상 JBL Free 라고 작성 되어있지만 케이스를 보시면 JBL Free X 로 표시되어있습니다. 전작인 JBL Free의 양쪽 이어폰 페어링 문제는 Free X에서 고쳐진 듯 합니다. 하지만 음질면에서는 아쉬운 점이 많습니다. (주관적인 생각)삼성에서 폰을 사면 기본으로 주는 AKG와 비교 했을 때 베이스는 많이 울리지 않습니다. 또한 JBL의 다른 제품들에 비해 음질의 중저음 아쉬웠습니다. 못들을 정도는 아니나 운동을 하거나 EDM쪽을 좋아하시는 분이라면 아쉬워 하실 수 있습니다. 이 정도 가격에 와이어리스에 이정도 음질이라면 저는 만족합니다. 운동할때 쓰기 좋습니다. 이어폰을 꼇을 때 전혀 어색하지 않으며 프랑켄슈타인 같은 모습은 전혀 안나오니 걱정 안하셔도 됩니다. 안에 들어 있는 실리콘 커버를 끼우면 귀에서 빠질 염려가 없습니다. 저만 느끼는건지는 모르겠지만 귀에 이어폰을 끼면 귀안에 공기가 압축되어 조금 귀 안쪽 부분에서 압력이 느껴집니다.  (실내기준)통화할때 음질이 살짝 깨지는 현상이 있으나 못 알아 들을 정도는 아닙니다. 마이크 성능은 상대편이 무리없이 이해할 수 있을 정도입니다. 통화할때의 문제점은 없다고 보시면 됩니다. (사람 많은 곳에선 아직 안해봐서 잘 모르겠습니다.) 다른 와이어리스 이어폰들의 가격이 부담되시는 분들은 이 제품을 추천드립니다. 거의 3개월동안 가격이냐 음질이냐(보스사의 와이어리스)를 고민을 하던 도중 중간지점인 JBL Free X의 할인 소식을 듣고 구입을 바로 결정했습니다. 와이어리스 음질은이렇게 생각하시면 됩니다.작을수록 -=-=-=- 중간 (FreeX)-=-=-=- 프랑켄슈타인    나쁨 -=-=-=-=-=-음질 -=-=-=-=-=-좋음 양쪽의 배터리가 충전이 안되었을 때는 이어폰에서 불빛이 들어옵니다. 한쪽이 충전이 안되었을 경우 한쪽에서만 불빛이 들어옵니다. 케이스를 닫아도 불빛은 나오니 이상현상이 아닙니다.모든 충전이 완료 되었을 때 불빛은 자동으로 꺼집니다.',\n",
       " 'JBL FREE X 코드리스 블루투스 이이폰 사용한지 한달이 되어가네요 매일 귀에 꼽고 다니면서 음악도 듣고 영화도 보는데 선명한 음질 맘에 들어요 귀에 척~~무선이라 잘 빠질가 걱정 햇는데~~뛰어다녀도 전혀 빠지지 않아요음악 들을때는 스테레오 모드~~전화 통화 할땐느 모노 모드로  통화시 본인을 목소리를들을수 있고 한쪽 귀롼 소리가 들리는 모드라~~전화 통화도 선명하게 잘 들려요.특히나 시끄러운 곳이나 지하철에서 넘 유용하답니다.전화 통화 중에도 자동으로 모노 사운드로 전환 되어서 자연스럽게 통화 할수 있어요. JBL 블루투스 이어폰 쥬얼리 처럼 포인트를 줄수 있고~~스마트폰과 이제는 뗄레애 델수 없는 관계가 되어 버렸지요.음질 좋은 JBL 블루투스 이어폰 덕분에 ~~귀가 즐거워요.역시 블루투스 이어폰은 음질 좋은 브랜드를 선택 해야 하는거 같아요.',\n",
       " '어제 받고 하루종일 음악 들으며 사용해봤는데, 세련된 디자인에 가볍고 귀에 착 붙는 착용감이 너무 좋습니다.음질은 JBL 시그니처 사운드로 풍부한 베이스로 타격감이 느껴질 정도로 좋고 고음영역도 부족함 없이 기타, 보컬 소리를 또렷하고 선명하게 들려줍니다.무엇보다도 유선 이어폰과 차이가 없을 정도로 좌우 페어링이 딜레이 없이 딱 맞게 들리고 이리저리 움직이며 감상해도 끊김없어 정말 좋습니다.귀에 착 붙는 착용감으로 실내는 물롬 실외에서 뛰고 격하게 움직여도 빠지지 않고 잘 꽂혀있습니다.저는 귀가 작아서 젤 슬리브 빼고 듣는데, M, L 두 가지 사이즈의 슬리브가 들어 있어서 귀가 크거나 보다 꽉 꽂혀 고정되길 원하는 분들에게도 유용할 것 같습니다.선만 없어졌을 뿐인데 이렇게 걸리적 거리지 않고 편리할 줄은 몰랐네요!',\n",
       " '블랙은 아버지선물 흰색은 제가 사용중입니다!디자인 넘 귀엽구 블랙 화이트 둘다 고급진 색상이에요페어링하는 방법만 잘 익히면 편리하게 사용할수 있구요~~~음질도 괜찮은 편입니다 다만 전화할때 마이크볼륨이 작은지 상대방이 잘 못알아듣더라구요,,그건 좀 아쉬워용ㅠ',\n",
       " '불만족 댓글이 많아서 굉장히 망설였는데요....이런 제품에 이 가격이면 전혀 불만 없습니다. 음질 이야기를 하자면 충분하다 생각드네요. 음질을 따질꺼면, 음원이 스트리밍인지, 파일이라면 파일자체 포맷이 좋은건지, 출력원이 핸드폰이면 뭐 이미 음질 논하기는 아닌듯 하지만, 그렇다고 해도 유선도 아니고, 무선도 블투이고 크기도 작으니 한계가 있을꺼고 가격은 싸고....이러니 깊은 리뷰는 좀 아닌듯 합니다. 휴대성을 극대화 하면서 많은걸 포기하고 나면, 이건 굉장히 좋다라고 표현할수도 있다고 봅니다. 일상에서 집을 벗어나 사용하기 좋습니다 커널형이라 노이즈 캔슬링 역할로도 좋구요, 귀도 아프지 않습니다. 디자인 좋구요, 휴대성 너무 좋습니다. 충전도크니까요. 이런제품이 10만원이라니...가격만 보면 쓰레기 비스므리해도 과하지 않을텐데(너무 과장했지만) 준수합니다!',\n",
       " '약간의 단점도 있지만 대체적으로 만족합니다. 장점으로는 디자인이 크게 호불호 갈리지 않게 이쁘고 가격대가 타브랜드의 코드리스 이어폰들과 비교했을 때 저렴한 편입니다. as적으로도 삼성이 하만을 인수하면서 삼성전자서비스센터에서 as접수가 가능한 점, 커널형이라는 점은 사람에 따라 조금씩 견해차이가 있는데 저는 주로 대중교통을 이용하면서 사용하기에 차음성이 좋은 커널형을 선호합니다.단점으로는 생각보다 케이스가 큽니다. 아무래도 에어팟과 비교를 할수밖에 없게되는데 에어팟에 비해 케이스가 커 바지주머니에 넣기에는 부담이 됩니다. 헤드자체적으로는 볼륨조절이 불가능합니다. 버튼이 있지만 재생,전화받고끊기,다음곡,이전곡 이러한 기능만 가능하고 볼륨조절은 폰에서 따로 하셔야 합니다. 음질적으로도 조금 아쉽습니다. 물론 코드리스 이어폰 특성상 한계가 있지만 그래도 jbl 마크를 달고 나오는 녀석인데 생각하시면 큰 기대는 하시지 않는 것이 좋습니다.편의성을 중시한다면 좋은 선택이 될 수 있지만 음질을 중시하신다면 그냥 같은 가격대의 유선이어폰을 구매하는것을 추천드립니다.',\n",
       " '대체적으로 무난했던 이어폰이었어요.가끔 페어링 할 때, 한쪽만 연결될 때가 있어서 그럴 땐 좀 다시 연결하느라 애를 먹기는 하는데 매번 그런건 아니고! 가끔 그랬어요.에어팟과 달리 귀속에 딱 넣어지는 거라서 이어폰 끼면 방음이 잘 돼요.저한테는 좀 무거워서 격한 움직임으로는 빠질 때가 있는데 그냥 출퇴근 시간에 듣고 그러기에는 괜찮은거 같아요.이어폰 버튼도 잘 눌리고 괜찮았던 것 같습니다!',\n",
       " '상품잘받았습니다~우선 운동할때 애플같은경우는 방수가 안되서 구매했습니다. jbl자체가 스피커로 워낙유명해서 구매했습니다 역시 음질은뭐 말해뭐해애플보다 스피커가 조금 큰거말고는 단점은 모르겠습니다 아직은 일딴 저는 방수와 음질 귀착용감을 생각해서 구매했습니다 스피커가 조금 커보이는거말고는 단점은 모르겠네요',\n",
       " '<배송상태>우선 배송이 매우 빨라서 좋았어요.(주문 다음날 도착)에어캡+박스, 원래 jbl박스의 스티로폼 보호로안전하게 왔네요<구매이유>JBL브랜드는 원래 음향기기쪽에 유명해서평판 믿고 고민 안하고 주문 했어요고민한것은 색상!!ㅋㅋ화이트 블랙 둘 다 매력이 있어서요건 고민 좀 했네요.폰이 블랙이라 결국 블랙으로 결정 했습니다!<개봉>겉박스가 가격에 비해 다소 저렴?해 보였지만이는 겉박스일 뿐이고 내부에 단단한 블랙컬러의 하드박스가 있어요~. 예쁨<후기>이어버드 진짜 예뻐요. 불들어올땐 더요.보청기같다는 생각 1도 안듭니다ㅎㅎ유튜브,삼성음악 구동 해봤을때음질 매우 좋습니다.(노트9기준)저음 묵직하게 잡아주고 고음은 깔끔하게 처리돼요.음질은 걱정 안하셔도 될 듯.통화는 아직 안해봤네요.근데 통화가 주목적이아니라음질면에서는 대 만족ㅎㅎ에어팟이랑 요거 고민하는 친구 있었는데이거 강추 했서요!+)쓰다보니 길어졌는데제 돈주고 구입한 솔직한 리뷰입니당많이 파세요!!',\n",
       " 'QCY T1 쓰다가 업그레이드 하고자 샀습니다. 고로 비교후기1. 페어링 및 연결성좌/우 구분이 QCY T1보다 훨씬 쉽다보니까 자연스럽게 오토페어링 사용하기도 편합니다. QCY T1은 왼쪽 먼저 꺼내고 오른쪽 꺼내면 종종 왼쪽이 페어링 안되는 현상이 발생합니다. 그럼 다시 왼쪽 이어폰을 껐다켜야하는 귀찮음이 있어요. 연결성은 둘 다 비슷합니다. 잘 안끊기지만 아예 안끊기진 않아요. 다만 QCY T1과 달리 1~2초간 멈칫했다가 다시 노래가 나오는 부분은 오히려 조금 더 낫습니다.2. 음질이거 아니면 굳이 이 녀석을 살 필요가 있을까요? QCY T1은 저음과 고음을 제외한 중음을 모조리 날려버리기 때문에 따로 EQ 조정을 해주지 않으면 단순청음용으로 밖에 사용할 수 없습니다.얘는 굳이 EQ를 만져주지 않아도 꽉 찬 사운드를 들려줍니다. 특히 베이스를 많이 튀기거나 비트감이 좋은 음악을 들을 때 더 효과적이에요. 다만 간드러지는 소리? 라고 해야하나. 그 부분을 표현할때는 약간 아쉽긴 합니다. 전체적으로 꽉 찬 느낌의 좋은 소리를 제공해줍니다. AAC 코덱을 지원하지 않는건 좀 아쉽습니다.3. 편의성귀에 딱 맞습니다. 너무 꽉 맞아서 공기가 통하지 않는 느낌을 안주려고 일부러 약간 헐렁하게 착용하지만 일상적인 활동 (자전거타기 등) 에서 한 번도 흘러내린 적이 없습니다. 이건 QCY도 마찬가지이어폰 케이스는 QCY 보다 2배는 큽니다. 다소 휴대하기 불편할 수 있습니다. 그러나 케이스 배터리 잔량을 LED로 표시해주는 부분은 맘에 듭니다.다만, 자석 딱 붙는 정도가 QCY보다 좀 약합니다. 그래서 가끔 제대로 장착되지 않으면 충전이 되지 않는다는 맹점이 있습니다. 그러니 케이스에 장착 후 항상 LED등이 들어오는지 확인하세요.전체적으로 아주 무난하고 괜찮은 이어폰입니다.굳이 대조군을 따지자면 메이주팝스 정도 되겠는데, 제가 메이주 EP-51 써서 아는데 메이주 제품은 다 좋은데 드럽게 잘 끊깁니다.',\n",
       " '헤드셋 사용하던 분들은 음질에 만족 못할겁니다. 음질이 좋다고 하지만, 이어폰 기준일거 같구요. 유튜브 등의 음성은 괜찮은데, Rock 같은거 들을때는 소리가 좀 빈약한 느낌드네요. 의외로 괜찮았던건 통화 입니다. 제가 통화에 특화된 플랜트로닉스 이어폰을 사용중인데, 저하고 통화하는 사람들이 별 차이를 못 느끼더라구요. 그리고... 귀에서 잘 빠집니다. 운동은 커녕 걷다가도 귀에서 빠집니다. 불안해서 귀에 꽂고 다닐수가 없어요.',\n",
       " '제가 사용하면서 미숙한 부분이 많아서 그런걸까요...모르겠지만 가끔 연동이 되지않아서 결국 전원을 끄고 다시 켜는 방법으로 사용하곤 하는데 연동 속도도 그렇게 빠른 편은 아니고 음량조절하는 기능이 필요하신 분들은 다른 제품을 처음부터 알아보시는 것이 좋을 것 같아요. 저는 크게 신경쓰지 않는 편이라서 음량조절을 휴대전화 꺼내서 조절하고 그 외 기능들이 마음에 들어서 편하게 잘 사용하고 있습니다. 제일인 것은 줄꼬이는 것 차분하게 풀어주는데 시간쓰지않아도 된다는 점! 너무나 좋네요.',\n",
       " '발견해버렸습니다, jbl 블루투스 이어폰 에어팟은 디자인이 구리고 뱅앤올룹슨은 가격이 천상계더군요 몇 달을 머리를 감싸며 찾아 헤매던 중 발견했습니다. jbl 블루투스 이어폰 !장점 1. 디자인이 생각보다 괜찮다뭐 다들 아실거라 생각합니다 ,,장점 2. jbl 답게 음질이 평타는 친다jbl 블루투스 스피커를 아주 유용하게 쓰고 있는 이유로 구매해봤는데, 역시 jbl 특유의 저음/베이스 구현은 훌륭합니다. 고음에서 찢어지는 소리도 없으며 대체적으로 준수한 편이나, 귀와 소리 간의 거리가 존재하는? 느낌입니다 실리콘을 바꿨더니 음질이 향상되었다는 분의 말을 참고해 시도해보려 합니다.장점 3. 케이스가 예쁘다저는 디자인 예쁜게 좋아요 네..장점 4. 편하다 미친듯이 편하다줄 없는 세상 최고입니다단점 1. 끊김이 아예 없지 않다2시간에 한 번? 정도 끊기네요. 크게 신경 쓰이진 않습니다.단점 2. 충전 선이 몹시 짧다jbl의 상징 주황색 충전 단자 선이 제 머리끈만 하던데요,,단점 3. 바디 자체는 짧고 걸리적거림 없이 동글동글하나 짧기 때문에 늘어난 가로길이로 인한 다소 거슬리는 착용감뭐 이어폰이 다 그렇다만 착 감기는 착용감은 조금 떨어지네요 살짝 뚱뚱한 감이 있습니다 ㅠ.. ..총평 : 디자인은 괜찮으나 착용감이 떨어지고 저음은 준수하나 고음은 비어보이며 가성비가 훌륭하나 가성비가 훌륭하진 않다',\n",
       " '요즘 대세는 역시 완전 무선 이어폰이죠 JBL 블루투스 이어폰 음질 짱짱하니 맘에 쏙 들어요 매일 귀에 꼽고 다니면서 음악도 듣고 영화도 보고 무엇 보다 전화 통화도 끊김 없이 깔끔하니~ 컴퓨터 작업 하면서 운전싱도 넘 편해요 무선의 편리함과 자유로운 움직임 편리 한걸요~~ 귀에 꼭 맞는 인체공학적 디자인 생활방수 가능해서 운동할때도 매일끼고 음악 듣으면서 운동하고 있지요. 충전이 가능한 케이스도 맘에 쏙 들어요 배송도 빠륵 만족 스러워요.',\n",
       " '크기 : 아담(쿠션사이즈)색상 : 고급진 화이트음질 : 괜찮은편통화 : 밖에서 통화시 상대방이 잘 못들음ㅠ사이즈 딱 맞아서 끼고 조깅도 가능하더라구요밖에서 통화할 때 잘 안들리는거 말곤 좋습니당조용한데서 통화할땐 괜찮아요',\n",
       " 'Jbl free x 구매 후기 사용하던 이어폰이 고장나서 기어 아이콘 2018검색하다 우연히 알게되어 구매하게 되었습니다.배송이 엄청 빨르고 개봉해서 보니 케이스는 생각 했던것 보다 큰것 같았어요 이어폰은 적당한크기 같습니다. 이어폰에 실리콘 케이스가 있어 착용했을때 부드러운 느낌이였어요 갤럭시9 사용하는대 들어있는 이어폰보다 음질이 좋지는 않은것 같아요 아무래도 무선이여서 그럴수도 있을것 같습니다. 블루투스 케이스에서 꺼내면 자동으로 페어링 되어서 엄청편한것 같습니다.그리고 왜이렇게 셋팅해논지 모르겠지만연결되자마자 블루투스 음량이 제일 크게 설정되어서 불편하기도 합니다.',\n",
       " '색상은 블랙으로 사려다가 화이트가 더 이쁘고 흔치 않아서 화이트로 결정했어요. 코드리스 블루투스 이어폰 중에서 저가 모델도 많던데 이 제품은 AS가 편리한 삼성+음향기기의 명가 하만꺼라서 품질 믿고 구매했어요. 테스트 해보니까 전화통화도 무난하게 잘 되고(통화 음질이야 블투이어폰은 거기서 거기일거라 생각함), 음악도 안 끊기고 잘 나오고요. 이퀼라이저 조절 하니까 특히 만족스럽네요. 고음에서 살짝 찢어지는 느낌이 들긴한데 일단은 더 들어봐야겠네요. 구매 자체는 만족합니다.',\n",
       " '우선 JBL 브랜드에 걸맞게 패키지 구성품부터 케이스, 이어폰 본체까지 상당히 고급스럽네요. 이어폰 헤드가 단순히 블랙 색상으로만 되어 있었다면 너무 밋밋하고 별로였을텐데 JBL 로고와 함께 불빛도 들어와서 엄청 예쁘고 마음에 드네요. 케이스도 손에 딱 들어올 만큼 크기도 적당하고 충전 중인 상태도 LED 표시등을 통해서 바로 학인할 수 있어서 사용하기 편하네요.',\n",
       " '이것 저것 찾아 헤매지 말고 이거!!! 싼게 비지딱이라는 불안감? 비싸다고 다 제값하는 건 아니라는 걱정?? 이런 저런 선택장애 없이 최상의 선택이 되리라 확신합니다. 배송ㅡ포장ㅡ품질 뭐 하나 모자란 게 없어요. 사서 써보세요. 완전 만족합니다!',\n",
       " \"장점은 유려해보이는 디자인. 이라고 생각했는데 누가 보청기같다고 하더라. 하우징이 조금만 더 작았더라면 디자인은 깔 거 없이 프리패스였을 듯 하고..소리는 중고음이 강조된 형태. 커널형인걸 감안하면 특이할 정도로 저음이 약하다. 밸런스는 개인의 취향이고, 이퀄라이저를 통해 어느 정도도 보완이 가능하니 장단점으로 논할 순 없겠다.단점, 좌측 단독 사용 불가능. 이게 정말 치명적이다. 한쪽씩 돌아가면서 충전해 사용할 수가 없다. 좌측은 마이크 기능 자체가 없으니 애초에 한시적으로만 사용하도록 의도된 구조라는 얘기다. 방수 기능이 함께 있는 걸로 보아 '운동할때 음악 감상하세요' 가 목적이며, 그 증거가 통화 품질이다. 조용한 실내에서 통화를 했음에도 상대가 내 목소리를 듣지 못해 바로 블루투스를 끊었다.결론, 업무용으로 사용할 사람이나 장시간 쉼없이 이용하고 싶은 사람은 고민없이 거르면 되는 제품.\",\n",
       " '먼저 의문점이 드는것은 이게 왜 free x 인가 하는건데, 이건 상품박스부터 본품에 이르기까지 전부 일반버전인 free와 차이가 없습니다. 오직 삼성 정품을 인증하는 씰에만 작게 free x라고 적혀있을 뿐이죠.  업그레이드가 되었다고 광고하지만, 무엇이 다른지는 설명서에조차 나와있지 않습니다.  애초에 설명서도 그냥 free 라고 되어있어요. 하지만 그럼에도 불구하고 외국보다 싼 가격, 그리고 역시나 실망시키지 않는 jbl의 사운드 덕분에, 가성비는 아주 훌륭합니다. 확실히 아직 한계가 있기 때문에 아주 좋은 수준의 음질이나 해상도나 공간감은 보여주지 못하지만, jbl특유의 음장으로 인해 굉장히 좋은 완성도를 들려줍니다. 동종 제품군 중에 가격을 생각하면 굉장히 뛰어나다고 볼수있죠. 하지만 운동하면서 쓰기에는 글쎄요..  그렇게 안정감있게 귀에서 유지되지는 않는듯 싶습니다. 약간 거칠게 뛰면 바로 빠지네요. 이건 개인차가 분명 있습니다. 그리고 이어팁을 바꾸면 해결될 수 있는 문제로 보입니다. 기본 제공되는 이어팁이 워낙에 짧은 제품이라서요. 결론은, 사운드는 대 만족, 액티비티는 글쎄요, 그리고 왜 free \"x\" 인지 모르겠다. 정도로 말할수 있겠습니다.',\n",
       " '지금 개봉해서 한시간반째 사용중인데요집에서 와이파이 쓰면서 폰이랑 계속 같이 있었고, 컴퓨터중이었는데 두번정도 살짝 버벅거렸어요음질은 쓰고있는 3만원짜리 유선이어폰보다는 별로인것같지만(sf드라이버 들어가는 그 이어폰) 블루투스 치고 엄청 못들어줄정도는 아니에요! 그냥 삼성 구형 번들이어폰보다 살짝 좋은정도?(오픈형말고 커널형) 제 귀가 좀 작은편이라그런지 이어팁을 아무리 바꿔껴봐도 좀 크고, 밀착되는 느낌은 안들구요. 그래서 그런진 몰라도 살짝 멀리서 들리는 느낌이고 조용한데서 들으니까 화이트노이즈도 좀 들리네요그리고 오래 끼고있으면 귀가 살짝 따끈따끈 해져요..ㅎㅎ전 평상시에 사용하기보단, 집에서 화장실갈때나 짐많을때, 간단하게 10분 이하로 무언가 들을때(차로 이동중에 영상 1개 본다거나?)같이 선이 정말 불편하다고 느낄때만 쓸거같아요! 그러려고 사기도 했구요추가상품인 스피커 필요 없고 저같이 잠깐씩 쓰려고 사시는거라면 더 저렴한거 사셔도 될거같아요ㅠㅠ추가상품 스피커는 아주 좋습니다ㅎㅎ 방수때문에 샀는데 목욕할때 맘편히 화장실에 두고 쓸 수 있을거 같아요!',\n",
       " '가격도 좋고 제품도 좋네요 가격도 좋고 제품도 좋고 기분도 좋고 퇴근하는길 좋고 eq만지니 음질 좋고 끊김없어 더 좋고 추천안함 리뷰보다 망설였지만 기대이상이라 더 좋고 핸드폰 충전해놓고 움직이며 노래 들으니 더 좋고 생각보다 무선거리 멀어 좋고 마누라 몰래사니 가장 좋고 음량조절안되니 안좋고 노트8쓰는데 빅스비 음성명령도 잘되서 좋고(오른쪽 버튼 두번클릭) 아마 시리도 잘될거같아 좋고 통화품질 좋아 좋고 통화울림없어 좋고 상대방도 잘들린다니 좋고 다만 스피커폰하는 느낌이라고하지만 상관없고 물리버튼이라 살짝 안좋고 터치였으면 더 좋고 터치아니더라도 터치고장 걱정 안해서 좋고 물리버튼 고장 걱정되서 조금 안좋고 고장나도 삼성 서비스가면 되니 좋고 잘 고쳐줄지 걱정되서 살짝 안좋고 서비스받으러 갈려니 귀찮을거같아 살짝 안좋고 이제 더이상 생각안나니 좋고 이제 그만쓰고 잠을 잘수 있어서 좋고 코드프리라 잘때 끼거잘수있어서 좋고 자다가 한쪽빠져서 잃어버릴까봐 안좋고 오늘 무사히 월요일 지나가서 좋고 내일 화요일이라 안좋고 일하랴 아기보랴 안좋고 마누라있어서 좋고 잘려는데 자꾸말걸어 조금안좋고 신혼이라 좋고 결혼해서 좋고.... 다들 결혼하세요다쓰고 확인누르니 동일글자 5번썻다고 안좋고 그 동일글자가 고작 .이라 안좋고 .... 4번까지만 쓰십쇼~',\n",
       " '착용감이 예상했던대로 뛰어납니다. 실용성방면에선 최고의 제품입니다. 음질부분은 아쉬운점있긴합니다. 베이스부분이 단단하지만 생각보다 깊은 느낌이 부족합니다. 고음부분도 약간 퍼지는 느낌이 있어서 아쉽습니다. 하지만 블루투스 제품이라는걸 감안하고 다른 제품과 비교했을때 정말 훌륭한제품입니다. 아 마지막으로 충전기가 정말동글동글하고 귀엽습니다. 휴대성도 정말좋구요. 각자나름의 취향이지만 사실때 참고 하시길 바랍니다~',\n",
       " '제비엘이라 믿고 구매했는데기대보다 너무 별로였어요1. 통화가 너무 힘들어요오른쪽밖에 안들려서 음량이 너무 작구 마이크도 약해서 상대방이 잘안들린데여 2. 페어링이 중간중간 끊어져요분명 거리가 가까움에도 불구하고 자구 끊어져요양쪽 페어링도 잘안될때가 있어요 그럴땐 케이스에 넣었다가 다시 빼면 되요3. 케이스가 커요이점은 알고 구매한거라 괜찮은데요위에 문제가 이런 불편한점을 더 마음에 안들게 하네요예를들면 이런것도 안되면서 크기만 크네?같은 기분이 들어요',\n",
       " '블루투스 이어폰치고는 음질이 괜찮아요. 블루투스 헤드폰과 다르게 각각 분리되있기에 아직 통신적인 측면에서 완벽하지는 않겠지만 사용하는데 불편을 느끼지 않을 정도입니다. 예를 들어 스트리밍 음악 동영상을 볼때 입과 소리가 약간 차이가 나는 문제 등이 있습니다. 하지만 디자인 베터리충전 케이스등 저가 제품하고는 확연한 퀄리티를 느낍니다. 전체적인 가성비는 우수하다고 평가합니다. 그리고 사은품으로 준 스피커는 귀엽습니다. 저전거에 달고 다니면 딱 일듯 합니다.',\n",
       " '고음, 중음이 굉장히 깨끗하면서 부드럽게 들립니다. 기존에 사용하던 이어폰에서 하나처럼 들리던 음이 여러개의 화음으로 나뉘어 들리기도 하고, 깨지는 고음(심벌즈, 스네어)이 거슬리지 않을 정도로 부드러워집니다. 음질에 있어서는 대만족입니다.다만 저음부가 약해서, 베이스 소리가 웅장하거나 꽉 차게 들리지는 않았습니다. 이어팁을 임의로 바꿔가며 실험해서 그나마 중저음을 강화해서 사용하고 있습니다.동봉된 이어팁이 맞지 않으신 분들은 자기한테 맞는 이어팁을 찾아서 사용해보세요. 잘 들리지 않는 음역대와 착용감을 보조할 수 있습니다.주로 지하철에서 사용하고 있는데, 사람이 지나치게 밀집된 특정 구역을 지나갈때는 항상 끊김이 있습니다.(10일간 지속적으로 발생한 것으로 보아, 특정 공간 상의 문제로 보임) 앉아있거나 서있을때는 딱히 문제가 없었습니다.',\n",
       " 'jbl free x 구매후기 출퇴근 용으로 핸드폰 음악 감상을 위한 이어폰을 검색하다가 아콘 X11과 고민하다 jbl free x 를 선택하였습니다. 기존에는 qcy 제품과 삼성 레벨 액티브 블루투스 이어폰을 사용하였는데. 완전 무선이 아니라서 목 깃 등에 걸려 많이 불편하였습니다. 그래서 애플 에어팟을 검토하였으나 안드로이드 기반의 갤럭시 호환성 문제로 패스 하고 . 가성비를 따져서 아콘 x9 와 x11 을 최종 검토하였으나. 음악전문회사인 하만카돈 jbl의 브랜드를 믿고 최종 구매하게 되었습니다. 우선 디자인이 맘에 들고. 군더더기 없이 작고 가벼워서 맘에듭니다. 그리고 충전 케이스도 20시간이나 충전이 되어서 좋습니다 . 다만 불루투스가 5.0 이 아닌 4.2 여서 연결안정성에 문제가 있지  않을까 살짝 걱정은 됩니다. 나머지는 만족합니다.',\n",
       " '처음에는 서툴러서 설명서읽고서도 2번 실패하고 3번만에 음악들으면서 출근할 수 있었어요!😆 꼬인 줄을 인내심으로 풀고 나서야 음악을 들을 수 있던 그 때와 달리 너무나 편합니다. 아직은 사용한지 얼마안돼서 그런지 아님 제가 평소걸음걸이가 파워워킹에 버금가는 속도라서 그런지 자꾸 귓속에서 빠져나오는 느낌이 들었어요~조금 더 익숙해지면 능숙하게 사용할 수 있으리라 믿고! 좋은 상품 감사합니다.',\n",
       " '이제품을 구입하기전 가격대가 저렴한 블루투스 무선이어폰  사용해 봤는데... 2시간정도  사용하면 밧데리 방전되어 다시 충전하고 불편했는데..우연치 않게 저렴한 가격으로 해당제품을 구입하여 하게 되었는데  장시간 음악을 들어도 밧데리 소모가 적어 좋은것 같고 전 만족합니다...음질도 가격대비 만족합니다...',\n",
       " '예약배송이라 12일만에 받았어요. 블랙과 화이트 중에서 고민을 엄청나게 했는데..제가 가진것들이 거의 블랙이라~화이트 선택했어요. 디자인은 예쁘네요. 이어폰자체는 제가 생각한것보다 작네요.(사진에 엄청 크게 보여서..) 충전, 페어링, 버튼조작시 화이트/블루 라이팅이 포인트네요.^^ 제가 받은건 왼쪽에 화이트노이즈가 있어서ㅠㅠ 하만서비스센터 연락하니, 친절하고 자세히 안내해주시더라고요. 며칠 더 써보고 도저히 안되겠으면 센터에 보내려고요. (화이트노이즈 있는 제품을 받았긴했지만, 고객센터 덕분에 걱정은 크게 되지않네요.) 소리는 제가 문외한이라 어떤지 말을 못하겠네요. (JBL-E25BT랑 비슷한정도?) 사운드에 대한 기대보다는 편의성과 디자인으로 선택했기때문에..^^;;',\n",
       " '완전 만족! 일단 블랙색상 깔끔하게 잘빠졌고 케이스도 군더더기 없이 깔끔한 디자인에 한손에 쏙 들어와서 휴대가 편리할듯해요귀에 꼽는 이어폰도 쏙 들어가서 잘 빠지지 않네요 평소에도 좋지만 헬스장 갈때 특히 유용하게 사용할 것 같습니다한번 블루투스 연결하니까 케이스에서 빼면 자동으로 연결되고, 케이스에 꽂으면 자동으로 꺼져서 굉장히 신세계네요 ㅎㅎ안그래도 날 추운데 밖에서 통화할때도 엄청 좋을 것 같아요일단 음악감상이랑 통화정도만 해봤는데 음질도 매우 좋은편입니다앗 그리고 이어팁 사이즈별로 들어있어서 감동이에요+_+',\n",
       " '음질과 편리한 as로 믿을 수 있는 JBL 제품이에요.ㅎㅎ선이 없는 자유, 편안한 착용감.우선 디자인이 너무너무 이뻐요!! 고급스러운 케이스로 선물용으로도 좋을 것 같아요.^^착용감도 편해서 운동할 때도 빠질 염려가 없습니다.^^사용방법도 간단해요. 케이스에서 꺼내는 순간 자동으로 페어링이 되요.정말 편리하죠.ㅎㅎ 좋은 음질로 편리하게 음악감상을 하며 출근할 수 있어서 편하고 좋네요.^^',\n",
       " '기대, 생각했던것 보다 이상입니다.저같은 중저음, 타격감 덕후에겐 정말 최적인거 같아요완전 무선들은 음질이 조금 떨어 진다하여서, 기대 안했었는데 중저음, 베이스 때리는 타격감이 진짜 생각 이상이네요고급스러우면서 깔끔한 포장, 아직 많이는 사용 못하였지만 더욱 사용해보고 후기 올리겠습니다 :)',\n",
       " '지옥철에서 사람들에게 선이 걸려 자꾸 빠지는 일이 없는 것이 가장 좋았어여 어디에서든 편하게 들을수 있고 노래 음질은 말할것도 없구요 다만제가 귓구멍이 작아 빠질까 항상 염려가 되네요 툭 치기만 해도 빠져버리고 실제로 이틀째는 하수구 바로 옆에 덜어져서 완전식겁 !!그 이후에는 더 신경써서 착용해서 그런지 빠지는 일은 없었지만 신경은 쓰여요;그리고 통화는 아예 못해요 사람들이 제가 하는 말을 못알아듣더라구요지하철이나 버스라 그런가 싶었는데 집에서도 역시 잘 안들린다고 하는거 보니..통화는 걍 포기해야할 거 같아요 그리고 주신 스피커 컴퓨터에 연결해서 쓰려고 했는데 제가 잘 몰라서 그런지 데스크탑은 블루투스 연결이 안되는건지 선을 따로 사야하더라구요 그래서 일단 방치 좋은 것보다 단점이 더 많은 것 같지만 이런 점도 있으니 참고하시라 한거구요 전 정말 만족하며 쓰고 있습니다!',\n",
       " '블루투스 이어폰은 처음이라 망설였지만~ 저는 애플사 기기를 좋아하는 편이고~(같은 미국 제품이면 호환성이 더 좋지 않을까요??ㅎ)집에 jbl 살짝 좋은 스피커가 있어서 브랜드에 대한 신뢰가 있어 바로 구매하게 되었습니다.또한 제가 귓구멍이 넓은 편이라 에어팟 같은 커널형이 아닌 제품은 그냥 흘러 내리는데 요 제품은 부담스럽지 않게 귓구멍에 고정이 되네요, 간단한 조깅정도는 괜찮습니다.음질은 무선이라는 점을 감안했을때 상당히 괜찮습니다. 사람들 많은 곳에서 끈김현상도 거의 없습니다.과감히 구매를 해서 걱정도 했었지만 며칠 사용해보니 아주 괜찮습니다~ 가격도 타사대비 괜찮고요~ 가성비 짱이네요~ㅎ',\n",
       " '음질이 굉장히 만족스럽습니다 음악듣고 운동하고, 심지어 인강듣는데활용까지 하는데 정말 훌륭합니다. 갤럭시노트8과의 호환도 좋으며, 태블릿pc와도 호흡이 좋습니다.무엇보다 음악을 들을 때 빛을 발하네요. 또한 디자인이 너무 멋지고 고급스럽습니다. 이가격에 이정도 기능과 디자인이리니, 상당히 퀄리티가 좋습니다. 또한 충전도 가능한 케이스라 편의성과 휴대성도 잡았기 때문에 실용적인 면에서도 만족스러워요.',\n",
       " '운동용으로만 쓰는데 작고 가볍고 무엇보다 원래 넥밴드형을 고집했지만 넥밴드형은 귀에 고정하는게 안정적이고 음질이 살짝더좋지만 격한운동을 해서 땀이 많이흐르면 본체에 땀이 들어가기때문에 아무리 방수여도 몇개월밖에 안가서 고장나지만 이거는 넥밴드형보다는 땀노출이 덜하여 굉장히 오래쓸거 같네요 그리고 본체 한번충전하면 몇번을 더쓸수있으니 정말 잘산거 같습니다',\n",
       " '하만카돈 블루투스 스피커를 사용 중에 있어 이번 JBL FREE X 블루투스 이어폰 또한 많은 기대가 되는 제품이였습니다. 제가 생각하는 JBL FREE X 블루투스 이어폰의 장점은 3가지 정도라고 생각합니다.1. 충전 걱정 없는 배터리 성능- 블루투스 이어폰을 사용하면서 제일 걱정되는 부분이 배터리라고 생각됩니다. 한번 충전 후 연속으로 얼마나 사용할 수 있는지도 중요하고 케이스로 충전할 시에 어느정도 시간이 걸리는 지도 중요합니다. 그런면에서 JBL FREE X 블루투스 이어폰은 연속 4시간 사용에 충전기 급속 충전 15분으로 1시간을 사용할 수 있어 휴대면에서 상당히 장점을 보이는 이어폰이라는 생각이 듭니다.2. 귀에 잘 맞는 인체공학적 디자인-선 없이 귀에 꽂다보면 운동 중에 귀에서 빠질 염려가 있습니다. JBL FREE X 블루투스 이어폰은 귀에 꼭 맞는 인체공학 디자인이여서 단단히 귀에 고정이 됩니다.3. 운동 중, 야외에서 사용가능한 생활방수 기능JBL FREE X 블루투스 이어폰은 IPX 5등급의 생활방수 기능 덕분에 운동 중 땀이나, 야외에서 비를 맞더라도 걱정없이 사용이 가능합니다.위의 세가지 장점 덕분에 JBL FREE X 블루투스 이어폰를 멋지게 사용할 수 있을 것 같습니다!!!',\n",
       " '이퀄라이저를 조정해 가면서 저음과 고음을 다 강조해 봤는데 뭉개진다는 느낌이 없었어요. 블투 이어폰이라는 점을 감안한다면 이 정도 가격에 괜찮은 음질이 아닌가 싶습니다. 배송은 이틀 걸렸고 포장 잘 되어 있었습니다. 꼽은 채로 헤드뱅잉을 해 봤는데 떨어지지 않았구요, 다만 딱 알맞는 각도를 찾는 데는 약간 시간이 걸립니다. 연결 잘 되고, 큰 불편함 없습니다. 만족합니다.+go2 스피커 싸게 산 것 치고 무척 괜찮았습니다. 음질 좋네요. 유용히 쓰겠습니다.',\n",
       " 'JBL 브랜드 보고 구매했는데,기대치에 못미치네요.음질도 일반 이어폰과 같아요.특별한게 하나도 없어요.통화할때 한쪽 귀로만 들려서 작게 들리고 너무 불편하네요.상대방도 제 목소리 잘 안들린다고 하고..디자인도 그럭저럭 ; 성능은 꽝!! 배송하나만 빨라요.박스 개봉하면 교환 반품이 안되는점때문에 중고나라로 직행하려 합니다',\n",
       " \"1월 10일 구매 후 이제 한달이네요.제가 기존에 아이폰 + 에어팟을 사용해서 더 그렇게 느끼는건지,원래 이 가격대의 블루투스 이어폰이 다 그런건지,제 핸드폰 (갤럭시 노트 9) 이 문제인건지,원래 안드로이드가 아직도 이 수준인건지,정확하게는 모르겠지만일단,1) 정말 징그럽게 연결 안됩니다. 한쪽 빼면 삐빅 소리 나고, 양쪽 다 빼면 한번 더 삐비빅 소리 나면서 완전히 연결된 '척' 잘합니다. 근데? 음악 틀면? 핸드폰에서 소리 나죠^^  개인적으로 무슨 게임에서 강화하는 기분이에요 10번을 연결하면 한번에 바로 연결 되서 음악이 이어폰을 통해 나오는 경우는 5번도 안됩니다. 한두번도 아니고 정말 짜증나네요. 차라리 연결된 척 '삐비빅' 성공음이나 좀 안나왔으면 좋겠어요. 2) 음질 : 이 이어폰을 써보고 나서 알게된 것은 에어팟이 생각보다 음질이 매우 좋다는 것이었습니다. 굳이 비교하면 '아이콘X' 보다 음질이 나쁩니다. 하지만, 못들어줄 정도는 아니고 ... 나름대로의 매력은 있다고 생각합니다. 3) 배터리 : 오래가긴 합니다.웃긴게, 뭐 연결이 되야 음질이고 배터리고 이야기를 할텐데^^...바쁜 출근길에 음악 듣고 싶어서이 이어폰을 케이스에 넣었다가 뺏다가 (넣으면 연결이 종료 되므로 재부팅이 되는거죠) 하는 짓을 3번 정도 반복해야 하는 스트레스정말 엄청납니다.다른 블루투스 이어폰은 괜찮다는 확신만 생긴다면,빨리 다른 제품 구매하고 싶어요.오죽하면 요샌 그냥 핸드폰 사면 주는 유선 이어폰 씁니다 ㅋㅋ\",\n",
       " '대체적으로 만족스러워요 제가 막귀라 음질이 좋고 나쁜건 잘 모르지만 소리 나쁘지 않은것 같아요. 야외에서나 지하철에 사람 많이 있다고 끊어지거나 하진 않았어요. 이어폰 케이스에서 꺼내면 폰이랑 자동으로 페어링돼서 편리하고, 케이스 디자인은 호불호가 있는것 같건데 저는 개인적으로는 좋네요. 오늘 소리 끊어지는 현상 한번 있었는데 이런 현상은 계속해서 확인해야 할것 같네요. 끝.',\n",
       " 'JBL FREE X 구매후기 지난주에 배송받고 조금늦은 후기 입니다.배송은 전날 주문 후 바로 다음날 도착하였습니다.FREE X 구매 전 에어팟을 6개월 정도 사용하고 핸드폰을 안드로이드 제품으로 바꾸는 바람에 에어팟을 판매하고 다른 블루투스 이어폰을 몰색하다가 선택하였습니다.인터넷에 많은 후기가 없었으니 JBL이니 믿고 구매 하였습니다. 1. 사운드사운드는 매우 좋습니다. 에어팟에 비교도 안될 정도로 좋습니다.제가 막귀이긴 하나 들었을때 오..? 하는 느낌이 들더군요특히 베이스 및 저음부분이 깨끗하며 청명합니다. 2. 연결일주일 사용하는동안 연결 끊김 문제는 없었습니다.다만 단점이라면 에어팟과는 다르게 FREE X는 오른쪽이 메인으로 블루투스가 연결되며마이크도 오록쪽에만 있습니다. 고로 왼쪽만 단독으로 사용은 불가능하며 전화통화도 오른쪽으로만 사용 가능 합니다. 3. 디자인디자인은 무난합니다. 크기는 아이콘이나 에어팟에 비교하면 살짝 크지만 불편함은 없습니다.다만 충전 파우치가 다소 커서 주머니에 넣고 다니긴 힘들더군요 총평은 만족스럽습니다.',\n",
       " '가성비 최고 제품이라 생각합니다! 제가 원래 에어팟을 오래 쓰다가 얼마전에 잃어버려서 이것저것 찾아보다가 이 제품을 선택한건데요. 무선이어폰은 봐야할게 저한테는 세가지였습니다. 착용감이랑 음질이랑 통화품질.   첫째로 착용감은 일단 굿. 잘 빠지지도 않고, 제가 bose 노캔헤드셋도 사용중인데 그거에 못지않게 귀에 딱 들어맞아서 커널형의 자체 소음차단기능도 아주 좋아요. 근데 가끔 불편한건 주위 소리가 너무 안들릴 때가 있네요. 두번째 음질은 솔직히 좀 막귀라 잘 모르지만 에어팟이랑만 비교해봤을땐 훨씬 좋다고 느꼈어요 세번째 통화품질은 살짝 불편한것 같아요. 제 목소리나 상대방 목소리에 대한 전달력은 좋은것 같은데 이어폰이 귀마개처럼 귀에 딱맞는데 전화목소리만 들리니까 뭔가 귀가 먹먹해지는 느낌? 이 좀 들더라구요. 이것저것 다 따져봤을때 가성비 최강제품이라 생각이 듭니당',\n",
       " 'E8 가격 때문에 계속 망설이다가 이 제품 보고 구입했어요!! 29일에 발송될 줄 알고 있었는데 빨리 와서 너무 좋아요~ 디자인도 예쁘고 하만카돈과 삼성 콜라보 제품인데 가성비 괜찮게 나온 것 같아요😊 딱 쿠션 팩트 크기고 페어링 잘 되어 좋습니다~ 그리고 제 취향이지만 터치 아니고 버튼식이라 더 맘에 듭니다. 터치되면 건들기만해도 넘어가고 그럴 것 같아서..만족스러운 지름이었네요☺️👍',\n",
       " '에어팟은 소음차단이 안되서 사용안하다가 원래쓰던 이어폰이 JBL이라 믿고 구매해보았습니다. 와이어리스 이어폰은 처음 사용해보는데 아직 적응이 안되서 그런지 그냥 제가 느끼기에 빠질까봐 불안불안한 것 빼고 음질은 사용하는 음악 어플에서 EQ 설정만 잘 해주니까 마음에 들었습니다 역시 와이어리스라 그런지 사용하기 너무 편안했어요약간 안타까운 점은 음악 감상중 전화가 왔을때 갑자기 스피커가 아이폰 스피커로 자동으로 변경되는것이 불편했습니다. 그것말고는 만족스럽게 사용중입니다~',\n",
       " '한달을 쓰고나서 상품평을 남기게 됩니다. 무엇보다 만족도가 최고입니다. 주변에도 엄청나게 자랑하고요. 운동할때도 그렇구요 한번 충전하면 몇시간을 끄덕없이 사용한답니다. 음질도 좋고요. 페어링더 잘됩니다. 이만한 가격대비 가성비가 최고라고 할 수 있습니다. 누군가 블루투스 이어폰을 추천하라면 삼성의 하만카돈인 JBL입니다. 정말 절대 후회하지않을것입니다!',\n",
       " '우선 최대 장점으로 가성비와 음질을 꼽을 수 있습니다. 또한 케이스에 넣었을때 충전이 되는 부분도 만족스럽습니다. 통화시에는 오른쪽만 사용이 가능하며 오른쪽 기기에 마이크가 있고 꽤나 좋은 음질(소리가 작지 않고 크게 들립니다) 통화가 가능합니다. 사이즈도 컴팩트하지만 케이스가 은근이 큰 편이라 주머니에 케이스 채로 넣기에는 조금 불편함이 있네요. 충전이 되는 케이스라 크기 부분에서는 조금 불편함을 감수해야합니다. 첫 블루투스 이어폰인데 전체적으로 만족스럽습니다.',\n",
       " '결론부터 말씀드리면 음질이 마음에 듭니다. 무선이라 음질이 가벼울 줄 알았는데.. 갤노트9의 유선 이어폰보다 훨씬 좋다고 생각 듭니다. 무선의 장점인 제약없는 자유로운 행동도할 수 있고요...귀에도 딱 맞고요...  좋네요.. 많이 파세요...^^',\n",
       " '  무선 블루투스 이어폰이 필요하던 차에, 어떤 제품을 구입할까고민이 되었는데  삼성전자에서 인수한 jbl 제품이 신제품 출시 했다고하여 구입해봤습니다.  삼성as 와 jbl 의 브랜드를 믿고 구입한 면이 크고요.  잠깐 사용해본 결과 음질은 보통수준은 되는 것 같아요.  휴대폰 음량을 50정도로 올리면 약간 음질이 중간중간 튀는 점이 있지만,  음량을 30정도로 낮추면 그런 점은 없어지네요.  테스트결과, 5m 내에서는 방과 방 사이 이동해도 끊김 없고요.  층간 이동을 하는 도중에는 끊김이 발생하네요. 이건 어쩔 수 없는 부분같고.  귀에서 잘 빠지지 않을까 했지만 그런 점은 걱정 안해도 될 정도로 귀에 고정이 잘 되네요.  운동시(달리기 등) 착용 안해봐서 그 점은 테스트 해봐야할 듯 싶고.      한가지 불편사항은 제품 설명서에 한글이 부족하다는 점.  계속 사용해봐야 구체적인 후기가 나오겠지만 이 가격대에 써볼만한 제품 같네요.',\n",
       " '생각보다 더 고급지내요~이어팁은 중간걸 끼니 조금 큰 것 갘고 작은 걸 끼니 잘 맞지만 혹시 떨어지지 않을른지 좀 신경은 쓰입니다. 본체 커버는 귀에 딱 붙는 느낌이 없어서 빼고 사용을 해야겠어요. 조금 있다 밖으로 나서면 사용을 해 볼 예정입니다. 조금 큰 느김이지만 소리는 버즈 보다 좀 더 나은 것 같습니다.',\n",
       " '고음부분에서 챨챨 소리가 난다고 해야하나요? 소리가 퍼지는 느낌이 있어요.Classic 모드에 이퀄라이저 저음, 악기로 설정하면 저음은 괜찮더라구요!자전거 타고 가다가 고개 돌릴때 가끔 끊기긴 하는데 정말 잠깐이라서 이건 불편함 없는데케이스가 커서 휴대하기 불편해요ㅠ이어폰이 커서 그런가 아이돌 댄스춰도 안빠져요.',\n",
       " 'JBL 브랜드에 걸맞게 케이스, 이어폰 본체까지 상당히 고급스럽네요. 이어폰 헤드가 단순히 블랙 색 상에 JBL 로고 와 함께 불빛도 들어와서 아름답고 마음에 드네요. 케이스도 크기가 알맞고 충전도 LED 표 시등을 통해서 바로 학인할 수 있어서 사용하기 편하네요. 운동할 때도 착용감이 좋고 안정적입니다. 음질도 좋고요.',\n",
       " '너무 맘에 들어요 기존에 쓰던 넥밴드형이 고장났는데 수리비가 배보다 배꼽이 큰 꼴이라서 전부터 사고싶던 스타일인데다 가격이 합리적이라 구입 결정! 다른 유명브랜드 제품들은 직구해도 30만원대라 망설였었거든요. 디자인도 너무 예쁘고 버튼 누르는 횟수로 음악 앞뒤로 넘기기도 되고 편하고 좋아요. 음량조절은 안되지만요. 음질은 이만하면 괜찮은거 같아요. 아직은 외출해서 돌아다녀보지 않아서 끊김이 있는지 없는지를 확인못해봤는데 블루투스라면 어쩔수 없는 현상이니까요. 여튼 가성비 최고네요. 저희 언니도 제꺼보고는 사겠다고 하네요 ㅎㅎ',\n",
       " \"충전케이스가 큰 것 빼고는 만족합니다. 에어팟, B&O 고려하다가 신제품 좋은 가격에 나왔다고 해서 주문했습니다.이전 제품의 업그레이드 형식이라 그런지 박스 포장에는 'free'로만 쓰여있고요.에어팟이 주머니에 쏙 들어가는 것 생각하면, 충전케이스가 이렇게 커야하나 싶은 감이 있지만 크게 나쁘지는 않을 것 같습니다.노이즈캔슬링, 외부 소리듣기 등의 디테일한 기능이 아쉽긴 하지만 만족합니다.\",\n",
       " '이어폰이랑 스피커 둘다 너무예버요ㅠㅜ 제가 막귀여서 잘은 모르겠지만 음질도 좋은거 같아요!! 믿듣하만.. 암튼 잘쓰겠습니다ㅎㅎ 아 톡톡문의 응답해주신분도 친절하게 대해주셔서 감사했고 구매고민부터 제품수령까지 다 좋았습니당~~~~ 여러분 마니마니 사세효^-^ 택배뜯은지 한시간도 안돼서 후기쓰는거라 단점은 못적었지만 도움되는 후기였길 바라는 마음에 사진도 첨부합니당..!',\n",
       " '역시 JBL JBL의 홈씨어터와 펄스2를 사용하고 있어요.블루투스 이어폰을 알아보던 도중 오픈행사 이벤트도 하는 free를 알게되었습니다.안드로이드를 사용하는지라 에어팟은 좀 그렇고..jbl free만족하며 사용중입니다.고급진 느낌이며 휴대하기 괜찮은 편입니다.여자들 팩트? 그정도사이즈..가끔씩 끊기고, 귀에서 빠질까 걱정되는 부분은 있습니다.유투브랑 재생속도차이? 거의 나지않고4시간 재생 충분합니다.충전기도 든든하구요.후회없는 선택이었어요.아직 운동은 해보지않아서 운동시 사용감은 잘 모르겠어요.',\n",
       " '장점. 디자인이 맘에듬. 케이스도 이쁨. 음질도 괜찮은듯. 사은품 스피커가 이쁨. 페어링 편함.단점. 끊김현상 있음. 다른사유로 3일만에 as교환받았는데 새제품도 여전히 있음. 그리고 하만카돈은 삼성 as아니고 접수만 삼성에서 가능함.끊김만 없으면 좋을텐데 이제품의 문제인지 운이 없는건진 모르지만 좀만 더 기다리다 갤럭시 버드 살껄 하는 후회는 있음.  귀가작은 사람은 오래착용하면 아플수 있음.',\n",
       " '완전 무선 이어폰인 점도 상당히 마음에 드는데, 사운드가 좋기로 유명한 JBL의 제품이라 더욱 기대하게 되는 제품입니다. 귀에 쏙 꽂아지는 디자인일 뿐 아니라, 젤타입 슬리브까지 장착되어 더욱 안정적인 거치로 운동까지 가능할 듯 합니다. 소리도 역시 만족스럽네요!',\n",
       " '제가 음질은 잘 모르지만 듣기에는 괜찮습니다 노이즈도 없는거 같고 페어링도 잘됩니다 근데 착용감은 좀 신경쓰이네요 다른 블투이어폰도 그런지는 모르겄지만 러닝시에는 빠질거 같네요 그리고 가끔씩 버퍼링?  같은게 살짝 있습니다 뭐 그렇게 빈번한건 아니고 아주 가끔씩이라 사용하는데 지장은 없습니다 마이크는 잘 써보지 않아서 모르겄네요 디자인은 이뻐요 충전시 이모티콘 같이 불빛이 보여서 귀엽습니다 자석식이라 착 달라붙어서 좋아요 아 그리고 구매하시고 박스에 정품인증 라벨??  스티커?? 있으니까 꼭 갖고 계시던가 충전기에 붙여놓으세요 그래야 나중에 as 받을 수 있다네요 끝',\n",
       " '에어팟 사용하다가 세탁기에 돌리는바람에.. 넘어왔는데요제가 귓구멍이 큰관계로 에어팟도 이어팟도 그냥 끼면 흘러내려요.. 인이어처럼 뒤집어 끼워야 되는데.. 이건 사이즈조절캡때문에 귀에 안정적으로 착용되는게 너무 좋네요!!디자인도 깔끔하고..뭐 어차피 운동하고 돌아다닐때 끼구 다니는거고 그나마 음악 듣는거도 스트리밍만 하는거라서 음질은 굳이 평가할게..양쪽다 잘 나옵니다저한텐 개인적으로 에어팟보다 훨씬 나았어요',\n",
       " ' 약 한달 가량 뱅앤올룹순 e8, 애플 에어팟, 자브라 65t, 중소업체 등등 10가지 이상의 블루투스 이어폰 후기 및 센터가서 실음을 비교해보고 결국은 jbl 프리엑스 구매했습니다. 수많은 고민을 했지만 가성비 생각하시면 추천드립니다. 물론 하이엔드급의 청음 원하시면 뱅앤이나 자브라로 가셔야 합니다. 하지만 가격대가 부담스러우시거나 교체시기가 그닥 길지 않은 분들께는 강추합니다. 일단 디자인 매우 맘에 드네요.',\n",
       " '스피커 소리 잘 나오고 색상 정말 이뻐요. 연결도 엄청 간단해요. 노트4 옛날폰이라 그런지 가끔씩 끊기는데 그게 아쉽지만..이어폰도 잘 들리고 안끊깁니다. 연결 엄청 빠르구요. 소리조절 불가능한 점과 좀 커서 귓구멍 작은 사람한테는 아프다는 점이 아쉬워요',\n",
       " '음질은 말할 것도 없이 최고였습니다. 스피커랑 이어폰 둘 다 흠 잡을 때 없었어요!다만, 이어폰의 경우 귓구멍이 좀 작은 분들은 다시 고려해보시는 게 나을거 같아요. 저는 귓구멍이 작은 편인데, 낄 때마다 조금 아프긴 합니다.그 외 음질은 나쁘지 않습니다. 특히 스피커의 경우, JBL GO1이랑 같은 퀄리티 + 더 예쁜 디자인이라 더 좋아요. 이어폰의 경우, 생각보다 원래 설정된 EQ가 좀 별로인것 같긴 합니다. 보컬 소리가 너무 째지듯이 나고, 부드럽지 않아요. 이런 점 감안하시고 사면 될거 같아요',\n",
       " '역시 JBL이라고 말씀드리고 싶네요착용감이 매우 안정적이고음질도 고급스런 중저음이 매우 만족스럽네요다만, 판매자의 실수로 배송박스안에 블루투스 스피커를 함께 동봉해서 추가 물품은 반품요청 해놓고 막상 반품하면서 송장라벨도 함께 문자발송 해줬더니고맙다는 문자하나 없네요화장실 들어갈때와 나올때 다르다더니.....판매자 마인드는 완전 꽝이네요기본도 안된 마인드!!!',\n",
       " '처음엔 이어폰이 귀에서 잘 빠지지 않을까 했는데 건드리지 않는 이상 빠지진 않더라고요 조용한 곳에서 통화할 땐 잘 되는데 지하철 같은 곳에서는 상대가 말 소리를 잘 못 알아 들어서 불편한 점이 있습니다만 운동할 때 노래 듣기엔 아주 좋아요.',\n",
       " '여자분들은 참고하세요!여자인데 귀가 작아서 많이 크게 느껴지더라구요. 옆으로 보면 많이 튀어나와보이구요 그런데 흔들어도 빠지지않았어요음질은 생각보다 괜찮았어요!  너무 기대를 안해서 그런가  들어봤더니 괜찮고 약간 고음에서 갈라지는데 그정도는 참을만 했어요에어팟 불편하신 분들 추천해요',\n",
       " '역시 JBL !! 블루투스 이어폰사려고 이것저것 알아보고 원래사려던 S사제품 구매평이 안좋다길래,검색하다 발견한 JBL . FLIP 2 써보고 너무맘에들었던기억에 바로구매!! 디자인도 이쁘고 음질도 좋고 맘에듭니다아직 단점은모르겠네요다른 제품들에 비해 케이스가 조금 큰듯하지만괜찮아요^^',\n",
       " '선없는 자유를 누릴 수 있는 JBL FREE X 블루투스 이어폰~일단 삼성 A/S를 받을 수 있다는 점에서 A/S 걱정은 하지 않아도 될 듯 하고, 디자인은 귓에 꼭 맞은 인체공학적 설계라 만족!!성능 측면에서는 좀 더 사용해 봐야겠지만, 정말 장거리(5시간 이상 이동?)가 아닌 이상 연속해서 사용은 가능 할 듯...출퇴근 또는 운동할 때 사용하기에는 일단 전혀 무리가 없네요...^^',\n",
       " '어제 받고 너무 너무 만족합니다. 차량에서 운전할때도 스피커 소리 높일필요없고 귀마개도 종류별로 귀에 딱 감깁니다. 반신반의했는데여. 집사람도 흰색으로 하나더 구매할까 합니다. 너무 좋아오 선이 없어서 운동할때도 좋고요. 진작에 구입할걸 그랬어요 JBL삼성 짱입니다. 충전해서 가져다니는데여. 컴팩트사이즈에 집사람 생일 선물로 화장품이라고 하고 선물해야겠어여... 쵝오!!',\n",
       " '나름 괜찮음 배송 4일 걸렸습니다느림 이어폰 몇일 써본후기 장점1. 일상생활에서 왠만하면 끈김없이 잘 된다 단점1. 타 이어폰에 비해 전체적인 사운드는 작다2. 음질이 엄청 좋을꺼라는 기대를 가지면 안된다3. 케이스 충전하고 있을때 이어폰 충전 안된다4. 이어폰 동그라미 라이트가 충전이랑 처음전원 켜졌을때만 켜지고 꺼진다 작동중일때는 켜져있지 않다 몇가지 TEST블루투스 붙일 기계를 가방에 넣고 이어폰 사용시 잘됨벽하나는 통과되서 잘된다 벽두개부터 끈겨서 들리거나 끈김',\n",
       " '첫 사용후기 개인적으로 오디오기기에 관심이 많아 거의 모든 종류의 이어폰을 사용해봤습니다. B&O E8이나BOSE 사운드스포츠프리 와이어리스 등이 음색면이나 끊김면에서 가장 무난하다고 생각하지만 개인적으로 착용감이 안좋아서 현재는 자브라 엘리트를 사용중입니다. 여러 제품들이 장단이 있겠으나 JBL 제품은 항상 모든 면에서 빠지는 부분 없이 밸런싱이 우수했으므로 망설임 없이 주문했습니다. 가격 또한 경쟁력이 있다고 생각되기 때문에 추후에도 비슷한 가격선에서 프로모션이 된다면 더 할 나위 없을 것 같습니다. 아직 몇 번 사용해보지 않은 상황이지만 차후에는 차징케이스가 좀 더 컴팩트 했으면 하네요~~',\n",
       " '충전기에 자력이 떨어졌는지 초반엔 충전이 잘 되다가 지금은 사진처럼 케이스에 꽂아도 충전이 제대로 안되네요 한 번씩 꾹 눌러서 붙여줘야 충전이 되구요.그리구 어느 날 부터는 왼쪽은 페어링이 안돼서 오른쪽에서만 음악이 나와요.그렇다고 왼쪽이 고장난 건 아닌게 케이스에서 빼면 또로롱 하는 소리가 왼쪽에서도 나거든요블루투스 연결 해제와 연결을 아무리 반복해봐도 왼쪽은 절대 연결이 안돼서 그냥 오른쪽만 쓰고있어요.이어폰이 소모품인 건 알지만 이렇게 빠른 시간 내에 고장이 두군데에서나 발생했다는 게 만족스럽지 못하네요...그래서 블루투스 이어폰 다른 거 사려구요...',\n",
       " 'JBL블루투스이어폰의 장점은 우선 자동 페어링이 된다는 점입니다케이스에서 분리되는 순간 바로 연결이 되기때문에따로 on을 하지 않아도 되고 케이스 자체가 충전기 역할을 하기때문에 충전또한 아주 간단하게 충전기에장착만하면 바로 충전이 되기 때문에 그것또한 정말 편리함으로 느껴졌습니다구입해서 사용해보니 음색도 깨끗해서 사용하는데 만족하고 있습니다',\n",
       " '원래 넥밴드형 블루투스 이어폰을 썼었는데, 돌아가거나 하는 불편함이 있어서 다른 기종을 찾아보다가 jbl free x를 보게 되었습니다.  22일부터 배송되었는데 하루만에 와서 빠르게 받았습니다.  받기 전부터 케이스의 크기가 궁금했었는데 크기는 지름이 8센치인 동전지갑에 딱 맞게 들어갈 크기입니다.  사운드는 중저음이 깊은 소리로 들리는 느낌입니다. 어떤 리뷰에는 소리가 생각보다 실망이라는 글이 있어서 걱정이었는데 저는 생각보다 괜찮은 것 같습니다. 그리고 저는 끊김현상도 없네요. 선이 없다는 점이 진짜 신세계네요. 진짜 편합니다. 머리를 흔들어도 빠지지 않습니다. 잘 구매한 것 같습니다.',\n",
       " 'JBL FREE~ 믿고 사는 JBL! 삼성은 너무 크고 무겁대서 브*츠 구매할까 아쉽던 중 언제나 믿어 마지않는 JBL로 이어형 블루투스가 나왔다는. 음질을 중시하는 마눌님 생일선물로 뒤도 안돌아보고 바로 구매해주신 남편님. 감사합니다!! 보관 및 충전이 용이하고, 케이스도 동글동글 예쁘고.. 마그네틱으로 정확하게 제자리에 쏙 들어가 편리합니다. 시간도 무한대가 아닐까 싶게 오래가고, 블루투스의 최대 단점인 거리도 예전 모델보다 개선되었습니다. 케이스에 넣고 뚜껑을 닫으면 도깨비인형같은 비주얼 ㅎㅎ 잘쓸께요 남편~!',\n",
       " '우선 방음 능력이 굉장히 탁월합니다.그리고 볼륨을 낮게 해도 제법 음이 선명하게 잘 들리는 편입니다.(아이폰 7 기준)다만 장시간 충전 후 꺼내서 쓰면 왼쪽 페어링이 잘 안되는 문제가 있습니다. 하지만 제품 사용 전에 단자에 한번 이어폰을 떼어냈다 다시 붙이고 사용하면 양쪽 다 골고루 이용이 가능합니다.',\n",
       " '타 제품 써보지 않았지만 제 기준에서 끊김현상이 자주 일어납니다. 이상한 점은 만원 지하철이나 사람 붐비는 곳에서도 잘 작동하다가 뜬금없이 끊김 현상이 발생하네요. 사용에 무리가 갈 정도는 아니지만 구매하실 분들은 참고 하시구요. 음질면에서는 만족합니다. 디자인도 귀에 쏙 들어가면서 동글동글 귀엽고 좋습니다. 다만 충전케이스는 타 제품에 비해 좀 큰 편이라 여름에 가방없이 다닐 때는 사용에 어려움이 있을 것 같구요....',\n",
       " '한달사용기. 전에도 제이버드 무선을 사용하고 있었지만 이번에는 아얘 끈조차 없는 무선이라 아주아주아주 좋습니다. 다만 연결하는데 가끔씩 연결이 안되는 문제와 가끔씩 좌우가 연결이 안되는 문제가 발생합니다. 그럴때는 넣었다가 다시 빼는 방법으로 사용합니다. 디자인은 준수한 편이며 배터리와 사용시간은 정말정말 마음에 듭니다. 기능적인 면에서는 자체 볼륨조절이 없어서 조금 아쉽습니다. 무선이지만 깊은 안쪽 주머니에 넣으면 연결이 좀 끊어지는 경향이 있습니다. 결론적으로 기능이 조금조금 아쉽지만 아주 편리하며 좋습니다',\n",
       " '내구성 안좋아요... 제이비엘 좋아해서 고민없이 구매햇느나 자동 페어링 오류 생길 때 많고 충전기 자석같은 부분 잘 고장나서 처음보다 점점 충전이 더딘거 같네요. 솔직히 이 가격이면 돈 좀 더 내고 그냥 에어팟 사세요. 끊김도 심하고 음질은 제이비엘이니 블투이어폰치고 만족스럽지만 전화통화할때 상대방이 목소리 안들리고 잡음만 들린대요. 귀아프다고 하면서 못알아들어서 항상 전화는 그냥 받아요. 노래만 들으실 용도라면 상관없지만 전화나 그런것도 원활하게 하고 싶으신거라면 상당히 비추합니다.',\n",
       " '가격도 적당하게 나오고 좋은 품질의 블루투스 이어폰인 것 같아요!~ 음질도 좋고 연결도 잘 되구요. 아쉬운 점은 딱히 없어요. 적응이 좀 걸렸다는 점? 통화는 잘 안쓰기 때문에 신경안쓰는데, 잘 들린다고는 합니다. 전반적으로 만족!!',\n",
       " '디자인 좋음!케이스 디자인 예쁨!배터리성등 양호함!음질은 저음이 어쩌구,,,고음이 어쩌구,,, 이런거 잘모르겠고 음,,무난무난함, 유선이어폰에 비해 좀떨어질지 몰라도 이정도면 괜찮음!근데 단점,,,불루투스4.2라 그런지 종종 끊기기는 함, 한시간에 1~2번정도고장나본적은 없지만 as가 좋을듯해서 구매했음,전체적으로 100점만점에 75점정도',\n",
       " '음질은 정말정말 좋아요!!아직 통화는 안해봤는데 안해봐도 엄청 좋을거 같은 기분이에요조금 아쉬운 것은 이어폰 넣는게 에어팟 보다 커서 좀 불편할거같아영여자들이 사용하는텍트보다 저금 더 큰거같아요그래도 맘에 듭니당 ㅎㅎ',\n",
       " '포장 : 꼼꼼하게 잘 챙겨보냈음외관 :   1. 케이스는 블랙이 더 고급스러울 듯  2. 유닛은 깔끔하니 좋음  3. 페어링 : 오른쪽 길게 눌러서 처음 연결 이후에는 케이스 꺼내자마자 바로 잡힘  4. 음질 : 기존에 쓰던 이어폰은 오픈형 뱅웁 a8 이었기 때문에 사실 기대는 크지 않았음.   - 해상력 만족, 중음이 탄탄하게 느껴짐   - 보컬 깨끗하게 표현    - 무게감이 느껴지는 단단한 소리 5. 충전 : 배송 시에 80% 있었고 한 시간 해두니 완충 됨. 나쁘지 않으나 c형이었으면 편리했을 듯',\n",
       " '많은고민을하다가샀어요. 에어팟사려고했는데 가격도 넘 비싸고 무엇보다 제가 안드로이드폰을쓰고있어 호환성문제도 많다고해서 기어아이콘x을 사려고했습니다. 하지만 아이콘x에 치명적단점으로 동영상을 볼 때 약간의 딜레이가있다는 치명적단점을 알아냈고 호환성도좋고 끊김없는 이어폰을 찾다가 jbl이어폰을 알게되었습니다. 막상들어보니 음질도 최고이고 호환성, 연결문제도 아직까지는 최고예요.^^진짜 가성비로는 강력추천드립니다.',\n",
       " '> 장점 - 생각보다 괜찮은 케이스의 자력 - 부담되지 않는 유닛의 크기 - 간단한 생활방수(IPX5 수준으로 비올 때도 사용 가능) - 나쁘지 않은 음질> 단점 - 케이스 덮개가 좌우로 흔들리는 등 마감이 썩... - 동봉된 케이블이 아니면 충전 케이블이 제대로 꽂히지 않을 수 있음 - 충전을 위해 깎은 유닛의 충전 단자부분의 플라스틱이 귀를 자꾸 긁어서 아픔',\n",
       " '생긴게 약간 화장품 케이스같이 생겻는데 하얀색이라 예뻐요 박스 패키징도 잘 되어있구요 블루투스 연결대상이랑 5m정도 떨어지면 끈기는 것 같은데 불편하진 않고 화이트 노이즈가 살짝 있어요. 음질은 좋은 편이고 아직 쓴지 이틀밖에 안되서 더 써봐야 할거같아서 별 4개 줫어요.',\n",
       " '배송:이틀만에 왔어요.음질:저음역대가 좋은 이어폰을 찾고 있었는데 딱 입니다.역시 jbl이네요페어링:한 번 연결하고 나니 케이스에서 나오면 금새 연결되서 좋아요~~디자인: 워낙 흰색 덕후인지라 너무 맘에 드네요~착용감: 아직 몇 시간 안되서 정확히는 좀 더 착용해봐야겠지만 일단 귓바퀴에 쏙 들어오고 움직여도 빠지지 않아 좋아요',\n",
       " '아니 산지 한달도 안됫는데 ㅍ0어링 잘되다 어느날 빼면 오른쪽은 아뮤것도 안눌러도 연속적으로 깜빡거리고 페어링도 안되고 평소에 잘끊기고 다른 가성비제품보다 훨씬 상품성 떨어지네요 음질은 뭐 그냥 그렇다 치는데 이런 기본적인 퀄리티가 떨어지면 뭣하러 팝니까 서비스 센터 보내도 자기들은 잘 모르겟다하고 동영상찍어서 보내라 나 참 10만원 돈이 적은돈도 아니고 일주일째 이게 뭐하는 짓거린지 에혀',\n",
       " '좋아요 추천합니다. 어제 수령하고 3시간정도 사용해보고 후기남깁니다.갤럭시s8+와 같이 사용했습니다.일단 내용물은 간단해서 좋았지만 종이로 된 설명서같은 것들이 왜 많이 있는건지는 좀 의문이네요. 외국어 통합이라서 그런듯. 그리고 첫개봉할때 시리얼넘버쪽에 테이프가 붙어있어서 잘못하면 시리얼넘버 찢어질뻔...박스 개봉하고 바로 페어링하고 착용했습니다. 처음에 오른쪽 이어폰으로 인식하고 나서 충전기에 넣었다가 다시 순서대로 빼니 잘 됐습니다. 그 뒤로 중간중간 넣었다 뺐다 했는데 전부 한번에 잘 됐습니다.하지만 이 이어폰으로 통화는 못할것같네요. 전 통화목적으로 산게 아니기에 통화권한 꺼두고 계속 사용할 예정입니다.이어폰 크기는 그렇게 크지 않습니다. 귀에 넣고실착했을때 그렇게 티나지 않았습니다.그리고 이거쓰기전에  akg번들이어폰 사용했습니다.몇몇제품들은 저거보다 음질 안좋다는 평가보고 걸렀었는데 직접 써보니 번들보다는 듣기좋네요. 만족합니다.',\n",
       " '디자인, 착용감, 음질, 연결상태 만족하고요~~특히 베이스 부분의 굵음 음질도 정말 잘 들려서 음악 감상할 때 굉장히 만족스러워요^^충전 케이스도 완전 튼튼하고 잘 안 빠져서 넘 좋으네요!!와이프 귀가 좀 작은 편인데 와이프한테는 좀 큰 듯~~다만 볼륨 조절하는 게 연결된 기기 자체로 조정해야해는 게 조금 아쉽지만 대체적으로는 그래도 만족!! 음질 너무 좋네요~',\n",
       " '잘받았습니다! 쉬운 페어링 최저가 좋은 상품 좋은 가격 최고! 기본 10자 이상 작성시 100P 즉시지급 이미지 등록시 100P 즉시 추가지급개당 상품 가격이 5,000원 이하 상품은 적립대상에서 제외되며,리뷰 포인트는 최초 1회 작성시에만 지급됩니다.같은 단어가 반복된 내용은 임의로 삭제되며, 지급된 포인트가 회수될 수 있습니다. 다른 고객님들에게 유용한 상품 리뷰를 작성해주세요.',\n",
       " '음질이 확실히 좋습니다. 베이스 사운드가 좀 좋은 정도라고들 하는데, 작은 차이가 큰 변화를 불러옵니다. 음질이 안정적이고 깊이가 있어 귀에 부담이 적고 음악 듣는 맛이 납니다. 런닝을 좋아하는데, 뛰면서 들어도 흔들림이 없습니다. 투자에 만족합니다.',\n",
       " '흰색인데 이쁘고, 끊김없고, 음질 좋습니다. 귀에 쏙 들어가고 가볍네요. 단지 귀 작으신 분은 귀가 아플수도 있을 것 같습니다. 그리고 함께 산 오렌지색 jbl스피커도 음질, 디자인 참 마음에 듭니다. 음에 민감하신 분이 아니라면 강추합니다.',\n",
       " '음질 좋습니다. 포장도 꼼꼼한게 배송 빠르고 제품 맘에 꼭 들고 음질도 좋습니다. 꼼꼼한 포장되어서 맘에 듬니다. 다만 대한 통운에 문제가 있어서 이틀 정도 늦게 받은것 말고는 맘에 드는 제품 구매 해서 기분이 좋습니다. 포인트도 잘 쓰겠습니다.',\n",
       " '생각했던 베이스가 안나와서 음질이 살짝!!! 아쉽지만 블루투스 연결도 정말 편하고 블루투스 스피커도 정말 좋아요ㅎㅎ 친구들이 간지난다고 막 칭찬해줌!! ㅋㅋㅋ 여자고 귀가작아서 혹시나 안맞을까 걱정했는데 귀에도 잘맞고 쏙들어갑니다! 에어팟이 싫어서 이거샀는데 확실히 무선이 편하고좋네요 삶의질이 높아집니당',\n",
       " '원래 아x 사의 7~8만원 대 저렴한 이어폰 샀다가 저품질에 깜짝놀라 즉시 반품시키고 여기서 샀는데 정말 만족스럽네요 ㅎ 역시 전자기기는 돈 좀 주고 사는게 맞는거 같읍니다 ㅎ 귀에 착감기는 맛이 다르네요 ㅎ 여자 귀에 좀 큰 감이 있는데 캡을 작은거 끼우니까 딱 맞아요 다들 쿠션팩트랑 비슷하다고 해서 더페샵과 함께 비교샷 찍어봤고요 ㅎ ,,실제론 화장품보단 꽤 무겁습니다',\n",
       " '제품은 아주 맘에듭니다. 배송도 빨랐고요. 근데 블르투스 스피커를 잘못보내주셨어요. 하지만 빨리 처리해서 다시보내줬습니다. 블르투스 이어폰이라서 음질은 포기했는데 기대를 아해서 그런지 음질도 너무 좋았습니다. 한가지 단점이 있다면 이어폰 자체 볼륨 조절이 안되서 아쉬웠습니다. 운동해도 절대 안떨어지고 착용감도 너무 좋아요. 오래 고민하고 구입했는데 후회없이 잘 산거같습니다. 강추합니다.',\n",
       " '솔직히 무선이어폰 처음 사는거고 jbl 명성때문에 그래도 s8 기본이어폰보다 좋거나 비슷하겠지 했어요 막상 들어보니 묵직한 노래도 가볍게 들리는 마법을 부리고 실망이 이만저만아니네요 물론 음질을 기대하고 산건 아니었지만 기본이어폰보다 떨어지는 음질수준에 충격받았네요 가격으로따지면 최소 3배이상차이나는 것인데,,,,통화 품질도 원래이런 것인지 아주 떨어지더라고요 그냥 체념하고 운동용으로 사려고 했으니까 운동용으로는 충분히 제값을 할것 같습니다 그래도 디자인은 이쁘고 블루투스 연결도 양호하게 잘되는 것 같아 기쁘네요 잘쓰겠습니다!',\n",
       " '빠른배송 너무감사합니다퇴근후 걷기운동할때 사용하려고 구매했는데제품받자마자 큰딸이 넘이쁘다며 좋아하네요 음색좋아요 통화시에는 오른쪽만 사용해야하는 불편함은있지만 소리좋고 심플하며 아뻐서 넘 마음에들어요하나더 구매하려고 제품 받자마자 구매확정합니다부자되세요',\n",
       " '한달 조금 넘게 쓰고 있는데 우선 제가 좋은 음질이고 그런걸 구별 못해서 음질은 잘 모르겠구요ㅎjbl 이라 브랜드 가치 믿고 구입한거지만 굳이 유명브랜드 말고 저가 블루투스와의 차이는 예쁜 디자인과 브랜드가치 정도이지 않을까 싶네요 솔직히 통화품질은 점점 안좋아지는건지 상대방이 최근에는 거의 안들린다고 해서 전화왓을만 블루투스끄고 놔두면 저절로 블루투스로 돌아가서 그냥 통화는 폰으로 하고 음악 편히 듣는 용도로 씁니다 그래도 전 디자인이 제일 우선이라 만족햡니다~~',\n",
       " '오늘 처음 끼고 밖에 나왔는데, 음악은 괜찮은데 유튜브 영상볼 때 지하철에 가만히 서있을 땐 안그런데 걸어서 움직이니까 소리가 계속 뚝뚝 끊기네요...출퇴근길 영상이랑 음악을 많이 이용해서 구매한건데 첫 사용에 이러니 굉장히 짜증나네요^^ 이전에 엘지거 블루투스 헤드셋 이용했을땐 이런증상 전혀 없었는데;; 뭔일인가 싶네요',\n",
       " '처음 음질 좋아서 완전 만족 했는데  통화할때 상대방이 잘 안들린다고 할때가 있고 가장  불편한건   강아지와 산책중 듣는 cbs음악방송이 자꾸 끊길때가 많다는거예요  일부러 와이파이도 다 꺼놓는데도 몇군데 위치에선 더 심하게 끊어집니다 ㅠ',\n",
       " '폰을 손에 들고 있을 때는 정상적으로 소리가 나지만 주머니에 넣을 때는 소리가 끊기는 현상이 지속적으로 나타났음. 가슴팍 근처에서 조금만 멀어져도 소리가 끊김. 교환이 가능한지 판매자에게 문의하자 처음 듣는 현상이라며 자신들은 조치해줄 수 없으니 서비스센터에 직접 연락해보라고 함. 결국 서비스센터에 물건 발송하고 불량 판정 받아 새 물건 받기로 함. 아직 도착 전이고 이 모든 과정이 열흘 정도 걸림.',\n",
       " '많은 분들이 평이 좋다고 하여 1차례 구매하였고지인분도 필요로 하시길래 추가로 2차 구매하였습니다.휴대하기 편하고 충전 잘되고 귀에 착용하기도 편합니다.쉽게 떨어지거나 빠지지 않아 안정감있게 사용할수 있습니다.서비스도 수리가 아닌 제품 맞교환이라 신뢰가 갑니다^^',\n",
       " '좋아요좋아요~~이어폰 다 잃어버리고, 삼성 넥밴드 사용하고 있었는데, 음질은 괜찮았지만 아저씨같은 느낌에 결국 하나 구매했습니다.음질은 넥밴드보다 아닌것 같기도...? 통화할때 상대방이 바람소리가 엄청 크게 들린다고 하더라구요.. 하지만 편하고 좋습니다~운동할때 잘쓸것같아요’',\n",
       " '일단 디자인이 너무 예뻐용 블루투스 스피커도 jbl 브랜드를 쓰고 있어서 이어폰도 jbl로 망설임없이 구매했네요 배송도 완전 빨라요 다음날 바로 왔어요 출퇴근할때 음악감상용으로 구매한건데 음질도 그냥 무난하게 괜찮은 거 같아요 아직 끊김이나 문제점은 없는 거 같아요 좋네용',\n",
       " '처음 쓰는 블루투스 이어폰이라서 굉장히 신중하게 많이 알아보고지인들에게 물어보고 샀습니다 일단 JBL은 블루투스 스피커를 한 번 사용해봤기 때문에더욱 믿음직했습니다 JBL Free X에 대한 리뷰가 하나도 없어서하만 본사에 전화해서 물어보기까지 했네요저같은 분이 없길 바라는 마음으로 리뷰를 남깁니다(제 폰은 갤럭시노트8입니다.)일단 전체적인 volume balance가 굉장히 좋습니다저는 벅스와 삼성뮤직에 이퀄라이저로 공간감 형성과 서라운드 이펙트를 활성화 시켜서 진짜 최고의 음질을 경험했습니다이펙트를 꺼도 기본적으로 귀에 최적화 된 이펙트가 걸려있는듯 합니다 음질 만족합니다통화는 여러사람과 해봤구요 실내,외 에서 사용해봤습니다통화 음질은 고음질은 아니지만 나쁘진않네요 끊김은 아직 한 번도없었습니다 전체적으로 디자인도 너무이쁘고 처음 구매한 제품인데 나름 성공한 것 같네요 배송도 만족합니다 망설이시는 분들은 구매하세요 한 번쯤 경험이 필요한 제품입니다',\n",
       " '빠른배송 감사해요 삼성꺼랑 이어팟이랑 고민하다가 삼성공식파트너로 우연하게 발견해서 구입함먼저 받으면 완충하시길바람블루투스 연결방법을 몰랐는데케이스통자체로 완충하니블루투스생성됨끼기전에는 음량을 확인하시길바람고막나갈뻔함끼는 방법?이있는데 귀모양에 잘맞춰서 끼시길바람...음질은 엄청좋은편은 아닌거같음막귀라 크게 따지진않음',\n",
       " 'cj택배사 문제때문인거 같은데 당일 발송했으나 이틀 후 받았어요몇달을 엄청 고민하고 찾아보던 중 잠시 잊고 있다가 우연히 발견하고 주문했어요리뷰도 다 정독했고요 처음 써 보는 입장에서 반신반의 했는데 모든 부분이 다 맘에 들어요 선물하려구 재구입하러 와서 리뷰 씁니다대만족',\n",
       " '배송도 빠르고 기존에 먼저 사신분들 리뷰보면 통화음질관련해서는 별로 좋은 리뷰는 못봤었는데 실제로 써보니 나쁘지 않네요 다만 볼륨조절은 기기를 통해서 해야한다는 아쉬움이.. 스피커 추가로 주문한 것도 방수도 그렇고 만족 스럽습니다',\n",
       " '싼 가격으로 잘 구매했습니다.음질은 제가 기존에 사용하던 소니 XB 블루투스 제품에 비해, 저음이 조금 약한 느낌이 있구요.저는 이어팁을 소니 인이어 팁으로 변경하니 조금은 나은 느낌입니다.귓구멍에 잘 밀착시키는게 저음의 음질을 향상시키는 팁 아닌 팁인것 같습니다.음악앱으로 VIBE를 사용하는데, 다음곡으로 넘어가는 경우 약간의 연결 지연이 되는 경향이 있습니다.크게 신경쓰일 정도는 아니구요.두 개의 이어셋이 연결이 끊어지는 경우는 잘 없었던 것 같습니다.집에 사용하고 있는 헤드셋인 소니 10RBT 제품보다는 연결 거리는 더 긴 느낌입니다.',\n",
       " '대체로 만족합니다. 대체로 만족합니다.저음, 중음, 고음 다 좋은것 같고 디자인도 좋습니다.제 귀 모양이 특이해서 그런지는 몰라도 착 달라붙는 느낌은 없습니다. 약간 떨어질 수도 있다는 느낌?그리고 충전단자 주변의 모양이 귀에 걸려서 약간 아픈 느낌이 있는데, 커버가 있어서 약간 보완해 줍니다.충전 시 반짝이는 LED 이쁩니다.배송도 빨랐습니다.삼성 아이콘X 2018 보다 약간 저렴해서 대용으로 구매했는데... 음질 좋아요~!!조작은 터치가 아닌 버튼이라 누를때 소리도 나고 눌러야 하는 약간의 걸리는 면이 있습니다.',\n",
       " '소리나 배터리 만족스럽습니다. 다만 한쪽만 사용할 땐 오른쪽만 사용해야 하는 거...아쉽습니다. 왼쪽을 따로 한쪽만 사용을 할 수 있으면 오른쪽 배터리 다 되면 번갈아 쓸 수 있을텐데... 버즈 쓰다 프리로 바꾸니 좀 불편합니다. 음악만 들을 때는 상관 없지만 통화가 길게 될 경우...아쉽습니다~~',\n",
       " '어제 받고 오늘 바로 사용해봤는데요,디자인도 너무 세련되고 이쁜데 음질까지 너무 깨끗하고 선명하게 들려요!선이 없으니깐 활동도 자유롭고 너무 편해요!음질도 끊김없어서 좋고핸드폰 충전해놓고 움직이면 노래 들을 수 있으니 이렇게 편할 수가 없네요.노래 듣다가 전화와도 바로 연결되고 통화품질도 좋아요!퇴근 중인 남편이랑 통화해봤는데 목소리가 아주 잘 들리더라구요 ㅋㅋ',\n",
       " '배송이 매우 빠릅니다. 설 연휴 지난 후라도 그 다음주는 되어야 배송될 줄 알았는데, 바로 배송되어 토요일에 받았네요.제품은 와이어리스 블투 이어폰과 GO2 블루투스 스피커 세트로 주문했어요. 스피커는 폰 (갤노트8)에서 나오는 음질에 비해 부드러운 느낌이 강했구요. 이어폰은 애가 쓸거라 주문 했는데, 아주 맘에 든다고 합니다. 생각보다 이어폰 크기가 크지는 않구요. 케이스도 무난합니다. 기본적으로 저는 제품 배송 모두 만족스럽네요.',\n",
       " '초반에 꼈을 때 귀와 안 맞는지 자꾸 빠졌는데 적응하니 이제 안 빠집니다.아이폰유저인데 통화를 할 때 저는 상대방 목소리가 잘 들리나 상대방은 제 목소리가 잘 안 들린다고 하더라구요통화를 제외한 다른 기능들은 좋습니다. 블루투스 연결도 잘되는듯합니다',\n",
       " '기존에 jbl 선있는 블루투스 이어폰을 꽤 오래 사용했었는데이번에 신제품  freex 가 나온대서 바로 구입하였습니다.페어링도 빠르게 되고 음질도 기존 jbl 스럽게 나와서 대만족합니다.첫연결때 곡 이동이 안되서 당황했는데 다시 끼웠다가 페어링하니 잘되고요기존 블투보다 더 만족스러워요 벅스뮤직이랑 연결도 잘되네요대신 물리버튼이 좀 커서 귀에 닷 ㅣ끼우려고 할때마다 버튼이 눌러져서.. 이건 좀 익숙해져야할것 같습니다..발매기념 세일할때 사서 다행이네요 넘 만족합니다',\n",
       " '아콘 x11 나오자마자 샀는데 연결이 너무 불안정해서 바로 반품하고 이상품으로 갈아탔어요디자인이 잘빠져서 작아보였는데 실제론 알맹이가 크네요;; ㄷㄷ 그만큼 안전하겠죠? 최근 나온이어버드 대비 두껍고 무게감도 조금 있네요. 프랑켄처럼 살짝 튀어나오기도....그래도 JBL 마크 간지 Good파란색 불빛은 별로... 그냥 하얀색 충전할때가 제일 간지임.기어아이콘x2019나올때까지 잘쓸게용',\n",
       " '제가 이 제품을 아주 흡족하게 쓰다가 형제가 이 제품을 기다리다 못해 구입했다는 타사 b 제품과 바꾸자고 하여 바꿨는데 이 제품이 너무 그립습니다. 확실히 음질의 입체감이 남다르게 풍부하고 조작방식이 터치가 아니라 클릭인 점도 좋습니다.(터치의 경우 귀에 고정시킬때나 잘때 손베개 베면 버튼이 눌려서 짜증) 고음의 경우 찰랑찰랑한 느낌이 없지 않아 있는데 그 점은 휴대폰 내에서 이퀄라이져를 조절하면 좋았습니다. 음악이 귀밑 목을 간지럽히는 느낌을 처음 받아봤습니다.',\n",
       " '뛰고 헤드뱅잉해도 안빠지네요. 음질도 좋아요. 엄청 환상적으로 좋은 건 아닌데 제가 예전에 쓰던 것들 보단 좋은 것 같아요. 음악감상용으로 산거라 통화품질이 안좋다는 글을 봤지만 상관없을 듯해요. 밖에선 사용해보지 못했지만 집에서 들었을 때 한쪽으로 기대어 누으니 노래가 끊기네요. 배송 생각보다 빨리와서 좋았어요. 사진처럼 끼는 것보다 90도 더 돌리면 소리가 더 잘들려요. 이어폰 끼면 주변 소리가 안들려서 좋은데 밖에서는 조심해야할 것 같습니다. 그리고 이뻐요♡',\n",
       " '잘 작동됩니다. 끊김 없이 작동은 잘 됩니다.블루투스 이어폰은 당연히 동일 가격 유선보다 음질이 떨어지기 마련이고 이거 역시 그렇긴 합니다만 그래도 그 차이가 타 브랜드보단 적습니다.이어팁은 딱 맞는 게 없어 격한 운동시 빠질 거 같은 불안감이 있네요.충전시 줄 들어오는 게 재미납니다.',\n",
       " '한달가량 사용하면 느낀점입니다.기존에는 A8과 LG톤플러스 820 조합으로 사용하다가 겨울이 되면서 목거치가 거추장스러워져서완전 와이어리스 알아보다가 구매했습니다.장점: 비교적 긴 사용시간 및 크게 모나지 않은 착용후 모습. 끊김 없는 블루투스(지하철 9호선 출퇴근시 사용). 착용감 굿 이어피스 옵션이 많음단점: 케이스 조립 마감 단차 있음본체 부분에 동그란 파란 조명 휘도가 달라서 조금 저가 느낌팝.저음 위주 좋아하시고 e8은 너무 비싸고 저가형은 싫으신 분들께 적합할것 같습니다.',\n",
       " '제이비엘 프리 추천해요! 보시다시피 고급스러운 느낌도 약간 나면서 세련된 느낌이 있습니다 특히 이어폰 자체가 작아서 귀에 착용하였을 때 불편하지 않는 점이 제일 좋습니다. 음량을 이어폰만으로 변경할 수 없는 것이 좀 불편하지만 나름 괜찮습니다. 케이스는 조금 크다고 하시는 분들도 있지만 너무 큰 느낌은 받지 않습니다. 적당한 크기인 것 같아요. 저렴한 가격 대비 추천합니다. 최고의 가성비입니다. 싸구려 블루투스 이어폰 살 바에 이 정도는 사는 것이 좋을 것 같습니다.',\n",
       " 'JBL FREE X. 이제는 삼성의 회사라고 봐도 되는 하만 그룹의 브랜드 상품이다. 아직 개봉은 하지 않았다. 음질을 듣기 전에 스펙을 읽어 보았는데 가격은 다른 브랜드 무선 이어폰에 비해 저렴하다. 방수등급이 X인걸 보아 운동용임을 유추할 수 있었고, 드라이버는 5.6mm로 작다. 주파수 응답은 22kHz까지 지원하니 큰 편이다. 배터리가 85mAh인거는 좀 아쉬운 부분이지만 1500mAh짜리 충전크래들이 있으니 그나마 보완하는 느낌이다. 상자를 언박싱하는 영상을 첨부해보았다. 브랜드 음향기기들의 고급스러운 포장들은 역시 질리지 않는다.',\n",
       " '괜찮아요 에어팟이 잘 빠져서 다른 이어폰을 찾던 와중에Jbl에서 새로 나온걸 봤어요 후기가 별로 없어서 고민하다가 세일 하는 김에 샀는데 생각보다 괜찮네요. 아직 사람 많은데는 못가서 얼마나 끊기는지는 잘 모르겠지만 유튜브 딜레이도 별로 없고 음질도 블루투스 치고 이정도면 괜찮아요. 그런데 평소에 쓰던 이어폰들과 끼우는 방향도 좀 달라서 어색하고 크기가 너무 커요ㅜㅜ 같이 오는 실리콘 커버 끼우면 크기가 더 커서고정안되고 빠질것 같아서 이어폰팁을 큰걸로 끼워놨어요.. 저보다 귀가 작은 여성분들은꼭 오프라인에서 착용해보고 사셔야할거같아요ㅜㅜ',\n",
       " '제 처에게 줬는데 완전 좋아하네요JBL에 하만 조화라서 그런지사운드도 맘에 듭니다.저한테 5만원짜리 유선이어폰이 있는데 그것보다 괜찮네요 사진은 제 유선이어폰 입니다. 많이들 아시는 제품이니 혹시 유선사실꺼면무선 사세요 그리고 아이폰 충전과 동시에 이어폰이 안되니 아이폰은 이제 무선이어폰이 필수템입니다.대박나세요',\n",
       " 'GO2 스피커 음질 좋습니다.  이어폰은 소리가 낮습니다. 특히 전화 할때는 소리가 퍼지고 잡음이 많습니다. 그리고 똑같은 음악을 틀면서 아이팟이랑 비교를 해봤는데 역시 갓 아이팟입니다. 음질면에서는 jbl free x가 아이팟에 많이 밀린다는 얘기 입니다. 어차피 디자인땜에 산거라 후회는 없습니다. 참고하시길.',\n",
       " '배송빠르고, 걱정과 달리 음질은 나쁘지 않으네요 초기에 블투이어폰 생각하면... 착용하고 머리를 격하게 흔들어 봤는데 쉽게 빠지진 않을거 같네요... 근데 스피커는 원래 고리가 없었던거였나봐요? 어디 가지고 다니긴 조금 불편할 듯 싶네요',\n",
       " '일단 너무 예쁩니다 모양이 멋있고 생각보다 이어폰넣어서 들고다니는 곽?이 좀 크긴한데 멋있으니 괜찮아요 소리도 이전에 쓰던 제품보다 훨씬 잘들리고 좋아요이어폰 꺼내면 바로 연결되는것도 편하고 좋습니다 여러모로 자잘한 기능들이 굉장히 편하고 좋네요',\n",
       " '처음쓰는 블루투스 이어폰인데 만족합니다. 처음으로 구매하는 블루투스 이어폰인데 가성비가 괜찮은 제품인 것 같아요. 포장도 깔끔하고 청음도 가격을 고려하면 괜찮은 편이구요. 다만 귀에 고정하는 부분이 좀 아쉽고, 실리콘 캡을 끼우지 않으면 본 제품에 지문이나 먼지 등이 잘 묻을 수 있다는 점이 아쉬운 점이네요. 하지만 페어링도 잘 되고 끊김현상도 적은 편이고 충전케이스도 깔끔하게 잘 구성되어 있습니다. 가성비를 고려하면 이만한 제품도 없을 것 같네요. 추천합니다~^^',\n",
       " '음감용으로 추천! 저는 코드리스 이어폰으로 에어팟을 사용해 봤었습니다그래서 에어팟과 비교해 보자면프리 x 의 장점은 차음성 입니다 커널형이다보니 밖에서도 잘들리고외부 소음이 안들리더라구요이건 에어팟보다 좋았습니다아쉬운 부분을 말하자면 통화 품질이 기대 이하입니다들을때도 말할때도 뭔가 부족한 느낌이 들더라구요그리고 통화를 한쪽으로 할때 오른쪽만 됩니다 별거 아닌거 같지만디테일이 떨어진다고 느꼈습니다음감용으로 이용하신다면 좋은 선택이 될듯 합니다',\n",
       " '쓸만하네요 핼스장애서 쓸라고 샀습니다 낙은 헬스장이라 끊금은 전혀 없네요 음향기기 매니아라 상당히 기대반 걱정반으로 샀습니다 결과는 역시 자본주의네요 돈값합니다 아직 블루투스이어폰 음질은 유선 블루투스 이어폰 움질의 반정도네요 감안하고 사세요 보관함의 자석구조나 디자인은 훌륭한정도입니다 개인적으로',\n",
       " '전에 쓰던게 ㅂ&ㅇㄹㅅ 이었는데 비교해봤을 때, 음질이 이게 확실히 좋네요. 풍부하고 입체적이예요. 오른쪽에서 왼쪽으로 이동하는 소리가 있을 때 그 이동감이 확실히 느껴진달까. 그리고 혹시 갤럭시 유저 있으시면 소리 설정에서 나에게 최적화된 음 찾기 해보세요! 나이들어서 못 듣는 주파수의 음까지 들을 수 있어서 개꿀. 그런데 이 헤드폰의 경우 처음 장착했을 때 고음 부분이 좀 찰랑찰랑하게 들리는 편이었어요. 전 그게 익숙하지 않아서 이퀄라이져로 고음을 줄이고 저음을 높이니까 딱 좋더라구요. 디자인 면에서나,배터리 용량 면에서나 일단 사용한지 일주일 된 지금은 흡족합니다.',\n",
       " '역시 jbl이라구 할수 있겠습니다 역시 jbl입니다. 가격도 적당하구 음질이나 디자인 역시 좋습니다. 생각했던 것 보다 케이스가 살짝 크긴 하지만 불편할 정도는 아닌것 같습니다. 귀에서도 불편하지 않구요. 색도 맘에 듭니다. 오랫동안 잘 사용해보겠습니다. 고장도 안났으면 좋겠네요.',\n",
       " '소문대로 가성비가 좋습니다. 큰맘먹고 뱅앤올룹슨 E8 구매하려다가 갤럭시와 페어링 걱정 등 사용상의 편의성을 위해 JBL Free x를 구매했습니다. 삼성전자서비스센터 a/s도 된다길래 런칭기념 할인할 때 구매했습니다. 음질은 날카로운 느낌은 있지만 시간이 지나면 적응되어 문제는 없을 것 같습니다. 중저음 베이스보다는 고음쪽을 강화한 것 같습니다. 종합적으로 가성비가 좋습니다.^^',\n",
       " '본인도 이 제품을 사용하고여자친구에게 선물로 주기 위해서 추가 구매 했습니다.갤럭시 버즈 보다 음질이 좋아요.방수라서 기본적인 땀이나 가벼운 물에도 저항할 수 있어서 좋고요.추천입니다 추천. 물론 충전 케이스는 크기때문에 좀 그렇긴 하지만 그래도 오랫동안 들을 수 있어 강추',\n",
       " '착용감 괜찮고 편하긴 한데 음악들을때 한번씩 끊기는 이유가 뭔지 궁금하네요.아니 그냥 어쩌다가 한번씩 끊기는게 아니라 한번 끊기기 시작하면 20-30초 마다 끊길때도 있음.계속 그러면 기기 불량인갑다 하고 교환 신청하면되는데 이건 뭐 잘될때는 끊김없이 잘 들리고 참..',\n",
       " '매우 만족스럽니다. 스피커 HK Onyx Studio 4 와 휴대용 스피커, 헤드폰 Everest Elite 700 등의 3개의 JBL 제품을 사용 중에 있었는데 모두 만족스러워, 완전무선 블루투스 이어폰이 JBL 에서도 출시되기를 기다리고 있었습니다.이번에 이 제품이 출시되었다고하여 바로 구매를 했습니다.특히 JBL제품임에도 가격이 착해서 바로 구매했습니다.기다린 보람이 있네요.JBL 답게 소리도 만족스럽고, 디자인도 좋습니다.착용감도 별 무리가 없습니다.특히 충전방식도 마음에 들고 사용 가능 시간과 대기시간도 좋습니다. 선이 없다보니 이동시 귀에서 이탈할까 좀 걱정을 했었는데, 이러한 문제도 없어 잘 사용하고 있습니다.추천합니다.',\n",
       " '제품 품질은 좋습니다. 배송도 결제 후 3일 후 받았습니다. 이어폰 자체의 볼륨조절 방법이 없고 볼륨 조절 버튼이 없어서 음악이나 동영상 플레이어 자체의 볼륨조절로만 가능한게 아쉽습니다. 그리고 귀에 꽂아서 고정하는 방식인데 제대로 고정이 안되면 땅에 떨어져 이어폰 손상이 일어날 수 있는 단점이 있습니다. 저도 구입한지 하루 지났는데 벌써 땅에 두번이나 귀에서 떨러졌습니다. 제품 품질은 만족합니다.',\n",
       " '배터리많은 기어아이콘x 2018 하위버전 음질은 기어아이콘x와 큰차이없습니다오히려 좀 더 깨끗하게 잘들리는 것 같네요배터리도 길구요그렇지만- 전용앱이 없어서 컨트롤, 펌웨어도 안되는 점- 통화 출력시 오른쪽만 나온다는 점- 아이콘x에 비해 통화시 상대방이 잘안들린다는 경우가 많음- 전용케이스 덮개가 허접함(얇아서 깨질것 같음)- 충전시에 자석이 있음에도 충전단자에 잘맞춰야 충전됨..- 아이콘x에비해 귀 착용감이 불안함- 페어링이 아이콘x보다 늦음한줄평 : 배터리많은 기어아이콘x2018 하위버전',\n",
       " '이전에 제거 사서 오류가 좀 나다가 또 그냥 쓸만해서 잘 쓰고 있는데, 엄마가 똑같은 거로 갖고 싶어하시길래 사서 선물로 드렸습니다...제가 지금 쓰고 있는거는 중간중간 살짝 끊길 때가 있긴 한데 심할때는 아예 연결 해제했다가 다시 연결해서 쓰고 그럽니다~ 일단 만족해요!',\n",
       " '노트9을 쓰면서 에어팟은 이상하고 앱등이 같고 호환이 잘안되고 한다해서..삼성이 인수한 jbl꺼를 쓰면 삼성과 호환이 더 잘될까해서 삿는데 역시나 너무 만족스러워서 친구들도한테 추천햇더니 다들 삿네요~^~^ 이거 고장날때까지 쓰고 질리면 또 새로나온거로 살려고요 신뢰도 100',\n",
       " '첫 블루투스 이어폰을 접하게 되었습니다 제목처럼 제 인생 첫 블루투스 이어폰을 구매하였습니다아이폰6를 이용하고있어서 에어팟을 사려했지만 가격도 가격이고 그래서 다른걸 찾다가,JBL FREE X 를 알게 되어서 구매하였습니다18년 11월 3일에 주문하여 18년 11월 8일에 택배를 받게 되었습니다택배사의 문제가 있어서 시간이 꽤나 지나고 화도 났지만받고 나서는 모든 화가 사라졌습니다 일단 포장을 뜯으니 충전 케이스와 이어폰이 있습니다바로 껴도 될 정도로 이어폰 배터리가 충전 되어있었습니다 귀에 꽂자마자 모든 주변 소음들이 50% 줄어들었습니다귀에 꽂고 노래를 틀자 저의 귀는 노래 밖에 들리지 않았습니다 (개개인마다 다를 수 있습니다) 이것저것 불량체크 해보다가 전화를 걸었는데 이런! 노래 들을 땐 괜찮던 왼쪽 귀가 들리지 않는겁니다 화가 치밀어 오르더라구요, 다시 불량품 보내고 제품 다시 받을 시간을 생각하니 화가 너무 나더랍니다. 그래서 화를 꾹꾹 참으며 유니씨엔씨에 전화를 걸어서 통화시 왼쪽 귀가 안들려요 라고 말하니 정상이랩니다 그래서 저는 모든게 정상적으로 만족스럽게 잘 왔습니다. 할인하고 이 가격에 이 블루투스면 충분히 살만한 가치가 있다고 생각합니다.',\n",
       " 'JBL Free X 구매후기입니다.인터넷 최저가로 구매하였고 네이버페이까지 받게되니 11만원정도에 구매하였습니다.가격대비 음질, 성능 빠짐없이 좋습니다. 음질은 저음이 조금 약한것 같지만 이건 이어캡이 제 귀에 안맞아서 그런것 같습니다. 성능은 다른 잡다한 성능은 없이 오른쪽 이어폰 한번 클릭시 재생/정지 정도있는것 같습니다. 쓸데없이 여러기능 들어있는 이어폰이 많은데 오히려 전 그런기능 복잡하게 없는게 좋더라구요쭉 JBL제품만 써와서 그런지 만족합니다.배송도 매우빨랐어요 앞으로도 좋은 제품 많이 만들기 바라고, 공식파트너 스토어도 번창하시길 바랍니다.',\n",
       " '많은 무선이어폰중 신뢰가는 제품으로 알아보니 결국에는JBL FREE X 밖에는 없네요 ㅎㅎㅎ향후 서비스도 삼성전자에서 책임져 준다고 하고 ~~~제품은 우선 나쁘지 않아요..음질은 다른제품을 들어보지 못해정확하게 말하긴 어렵지만 괜찮은듯하구요.디자인은 정말 예쁩니다. 귀에 쏙 들어가는 않지만 그렇다고 쉽게 빠지지도 않아요. 배터리는 충분하며빠른 폐어링도 만족스럽습니다.통화품질도 준수하고요.이것보다 저렴한 중국산제품들도 많지만 이제품 구매를 후회하지 않습니다 ^^;',\n",
       " '원래 jabra 엘리트를 쓰고 있었지만 잃어버려서 새로삼, 인식률과 착용성 버튼 편리성은 자브라가 훨씬 좋지만 역시 JBL 답게 음질이 만족 스러웠고 케이스에 마그네틱도 자브라에서 느낀 상대적 불편함을 상쇄 시켜주었음 아무튼 음질덕에 가장만족',\n",
       " '가격대비 음질이 훌륭합니다. 원래 헤드폰을 제외하고 이어폰에 큰돈을 들여서 구매하지 않는데 할인행사 중이라 구매했습니다. 가성비 짱 좋은 아콘 사용 중인데 그것보다 확실히 음질이 더 뛰어나네요 물론 좀더 이게 비싸지만 케이스가 큰것 빼곤 전체적으로 만족합니다. 저음 구간에서 확실히 표현이 뚜렷하고 좋습니다. 다른 사람들에게 가성비 코드리스 이어폰을 추천한다면 당연히 이제품입니다.',\n",
       " '제품에서 고급스러움이 느껴집니다. 내구성도 있어보이고 무엇보다도 A/S가 된다는 점에서 만족합니다. 제조국: 중국이라 걱정했지만 JBL (하만오디오) 우리나라에서 그래도 이름 있고 알아주니 믿고 구매했습니다. 직접 상품 받아보니 믿음을 져버리지 않네요.',\n",
       " '한달 동안 학교와 핼스장 쓰면서 딱 10만원 그 가격 그대로 하는 이어폰이네요~ 중간중간 블투라서 그런지 끊김도 잇지만 지하철이나 사람 많은 곳은 별로 안끊기도 좋네요~ 음질은 유선으로 쓰고 잇는 뱅앤올룹슨 보다 낮은 저음 위주로 노래가 나옵니다',\n",
       " '디자인, 착용감등 다 좋은데 케이스가 흰색이라서 그런지 밑에부분이 하루만에 때가 탔어요ㅠㅠ 글고 제가 아직 사용을 못하는건지는 모르겠는데 케이스에 넣으면 원래 한 10분있다가 꺼지나요..?? 꺼지기까지 오래걸려서요 ㅠ 혹시 불량인건지 ㅠ',\n",
       " '작은귀에 끼는 고무 끼면 잘 안빠져요~ 저는 제일작은고무밖에 못쓰는 사람이라 걱정했는데 그건 괜찮아요~출근길 만원전철에서 조금씩 끊김 있네요어플 다른거 열고닫고 할때 자꾸 일시정지가 되는데.. 왜 그런진 모르겠어요~ 설명서 읽기 싫어서 대충 쓰고있는데, 중간에 연결이 끊기고나면 어떻게 재연결하는지 모르겠어요 ㅋㅋ 케이스에 넣었다 다시 빼면 연결 잘되더라고요 ㅋㅋㅋ에어팟에비해서 케이스가 좀 큰게 단점인거 같구요통화용으로 산건 아니어서 통화는 잘 모르겠네요~음질은 좋아요~',\n",
       " '음~~~ 사람이 아주 아주 많은곳에선 약간의 끈김현상이 있고요. 통화시 감이 먼듯... 전 잘들리나 상대방은 잘 안들리는 듯해요... 그리고 제가 젤 걱정했던게 배터리 지속시간이였는데... 출퇴근 약 두시간 반 걸리는데 끄덕없이 사용가능하고 케이스 배터리도 일주일에 한번 정도만 충전해욤...  생각보다 아주 좋아욤',\n",
       " '빠른배송!차음성 : 5/5음질 : 무난합니다. (4/5)전 귀에 잘 맞아서 그런지 몰라도 akg번들 이어폰보다도 더 해상력, 표현력이 좋은 것 같습니다.단 조용한 실내에서 들을 시 약한 화이트 노이즈가 깔립니다. 귀에 심하게 거슬릴 정도는 아닙니다.끊김없습니다. 강추합니다.',\n",
       " 'jbl 블루투스 이어폰 선 있는 이어폰 쓰다가 처음 블루투스로 갈아탔는데 정말 편하고 좋아요삼성핸드폰이라 에어팟과 고민하다 결정했는데 페어링도 간편하고 음질도 준수합니다!무엇보다 케이스도 한손에 딱들어오고 디자인도 예쁩니다 ㅎㅎ 편하고 가성비좋게 사용하실 분들 추천드려요 ㅎㅎ !',\n",
       " '만원짜리 오디오 강추~  막귀라서 음질 상세히는 모르겠고~놀러갈때 있음 좋겠다 했는데 만원추가로 살수있어서 넘 좋았어요~블투이어폰은 아직 익숙하지 않아서 그런지 꼭 빠질거같은 그런느낌이 드네요~ 귀가 작아서 그런지 편하지는 않아요.. ㅜㅜ 글타고 움직일때 빠지거나 하진 않았어요~',\n",
       " '추천해요 돈 더주고 콩나물살까 고민했는데 이 제품 구입하길 잘했네요노트북이나 핸드폰(갤8) 연결했을때 음악 동영상 지연현상 없이 잘되고 통화도 잘되네요무엇보다 음질이 인상적이예요기존에 갤8 사면서 받은 akg 이어폰 사용했었는데 그것보다 음질이 좋아요정품스티커 붙어있어서 as도 믿을만한만큼 타제품이랑 고민 중이시라면 추천합니다',\n",
       " '디자인 좋고, 음질도 JBL 답게 좋다. 충전케이스에서 꺼내는것만으로 페링되는 것도 신기하다. 전에는 옆방이나 화장실 가면 끊어졌는데 이젠 안 끊어진다.  블루투스 버전도 같은데 기계가 좋은가보다. 쓸데 없이(?)비싼 애플 것보다 좋은 선택이었다.',\n",
       " '착용감 좋고 편하네요 :)  둘이서ㅋ 착용법을 몰라서ㅋ 이거 금방 빠질 거 같다고ㅋ 호들갑을 떨었는데 거꾸로 끼고 있었더라구요ㅎ귀에 착감기고ㅋ 깨끗하게  잘 나오네요.페어링도 어렵지 않구요.다만 케이스가 생각보다ㅋ 조금 크네요. 에어쿠션ㅋ 사이즈에요ㅎ 처음 사보는데ㅋ 브랜드믿고 골랐는데ㅋ 잘 산거 같아요 :)',\n",
       " '처음에 연결했을때 오른쪽만소리나길래 고장인가 했는데 설명서 보고 따라해보니깐 잘 되네요 블루투스 이어폰은 처은 사용해보는데 생각보다 음질도 괜찮았고 제귀에는 딱맞아서 잘 안빠지더라구요 너무 좋아요 잘사용하겠습니답! 구매망설이시는분들 적극 추천드려요',\n",
       " '실제로 배송 받아 보니 작은 이어폰의 고질적 문제인 케이스가 상당히 견고하게 만들어져 있어서 마음에 들었습니다. 음질 자체는 크기가 작은 위와 같은 블루투스 이어폰 치곤 상당히 만족할 만한 수준이었습니다. 배송만 그리 빠르진 않았어서 아주 급하신 분은 해당 내용 참고 바랍니다.',\n",
       " 'jbl이라는 이름에 기대치가 너무 커서그랬던가 음질은 생각보다 평범한 편이구요. 가끔씩 고개돌릴때 끊김현상이 있습니다. 운동할때 쓰려고 삿는데 떨어질까봐 걱정할필요는 없을꺼같네요. 가격까지생각했을때 살짝 아쉬운감은 있습니다만, 나름 만족합니다.',\n",
       " '십일절 예약해서 구매했습니다양쪽 다 통화 가능하다고 답변받았는데 답변에 실수가있었다고 하네요. 오른쪽만가능합니다.고민하다가 그냥 쓰고있습니다..음질은 괜찮은거같고끊김이 아예없진않구요한두시간에 한번? 가끔아주 짧게 끊기는데티는 나지만 다른제품 끊김이 너무심했어서 이정도면 양호하구요..그래도 10만원돈인데 아쉽긴하네요...크레들이 좀 커서 바지 주머니는 힘들고패딩같은 겉옷 주머니에는 넣을만하구요근데 3주정도 썼는데 크레들을 주머니같은곳에 넣고 다녔는데.. 크레들에 로고 스티커 일부가 떨어지네요ㅜ그리고 흰색이라 크레들 때가 잘타요...',\n",
       " '문제없이 잘받았습니다ㅎ 무선 이어폰을 구매할때 보통 걱정하시는 부분이 as인것 같아요. 보통 한쪽이 안들리는 고장이 발생하는데 1년동안 내부기능문제 대한 수리 및 교환을 보증이 된다네요. 제품은 디자인, 음향, 착용감 다 만족입니다',\n",
       " '완전무선 이어폰의 신세계에 입문했습니다. 음질도 좋고, 무엇보다 무선이라 편리합니다. 배송도 빠르고, 기능적인 부분도 상당히 만족합니다. 진작에 알았더라면 더 일찍 구매했을텐데, 지금이라도 알게도서 정말 다행이네요! 추천합니다!',\n",
       " '아이팟이 맞지않아 이 제품을 선택했는데 저에게는 귀에 잘맞고 부드러웠어요~ 가끔씩 끊기는 현상이있지만 그 문제는 모든 블루투스이어폰에 해당되기 때문에 크게 상관하지않아요~ 그리고 통화가 한쪽만 들려서 그부분이 조금 불편한데 금방 적응되더라구요 저는 전체적으로 만족하고 사용하고있습니다',\n",
       " 'jbl 워낙 유명한 회사라서 믿고 구매했습니다.  하지민 브랜드 인지도에 비해서 생각보다는 별로.   코드리스라 분명 편한점은 있습니다.  음질은 기대를 해서 그런지 기존 jbl명성에 비해 떨어집니다. 물로 개인적인 생각입니다.   출퇴근시 인강이나 동영상을 자주 시청하는 편인데 동영상 시청시 싱크가 안맞습니다.  주로 동영상을 시청하시는 분들은 신중히 생각하시고 구매하시길...  그외 음악 감상시 끊김현상은 거의 못느꼈습니다.   음질 상관없이 음악 감상용으로는 나쁘지 않습니다.   참 아직 통화는 해보지 못해서 어떨지는 잘 모르겠습니다.',\n",
       " '가격대비 좋을뿐이지 엄청 좋진 않아요.. 막 사용하실분이면 추천합니다. 이어폰은 갤럭시 번들이어폰이랑 음질 비슷해요 다만 배터리 간당간당할 무렵에 왼쪽 소리가 자주 끊기네요 고장나면 삼성A/S센터에서 수리받을 수 있으니 그 점은 매우 좋은듯합니다',\n",
       " '음질관련해서는 타 코드프리와는 다르게 중저음까지 적절하게 표현하여, 제 취향에 딱 맞는 것 같습니다.착용감은 이어폰을 꼽고 잘눌러줘야 딱맞는 느낌이 있습니다. 이어폰이 귀에 잘 안들어간 것 같지만, 이탈하는 현상은 없었습니다.소개영상, 이미지 등에서는 착용외관이 좌,우측으로 좀 튀어나오는 듯한 느낌이 있었으나, 실제 착용에서는전혀 신경쓰이지 않았습니다.',\n",
       " '구매전에 오프라인에서 상품보고 다른 제품과 비교했을 때 가장 좋아서 구매했어요. 브랜드 인지도도 있고요. 부모님 선물로 사 드렸는데, 착용감도 좋고 음질도 좋다고 하시네요. 전화통화 시 외부소음이 더 크게 들리지 않아서 불편함 없이 통화했습니다.',\n",
       " '햇는데 배송 24시간도  안 걸렸습니다가격도 네이버 최저가보단 쬐금 비싸지만에이에스 부분생각하면 좋습니다그리고 이어폰이 좋은게 통화시 오른쪽만 나와서셀프 음량조절되고 음질 좋은편인거같습니다좋은상품 좋은가격 빠른배송세가지부분에서 높은점수드립니다',\n",
       " '중딩아들이 운동도 하며 자전거도 탈때 필요하다고 검색하더니 사달라고 한 제품인데.. 착용해보곤 엄청 좋다고 하네요..  추가주문한 스피커도 사이즈가 딱 좋고 바로 연결해서 사용하기에 편리하고 소리도 짱짱합니다~  좋은 제품인듯!!',\n",
       " '프리미엄 고객! 날씨가 좋아 자전거를 타고 탄천을 달리고 있는데 문자가 들어온다오호~뭔가 기다리고 있는 것이 도착했구나!2시간 여행을 마치고 귀가 후 선물을 뜯어보니와우~포장지를 어렵싸리 뜯고 FREE를 마주한다제품이 프리미엄이라 생각하고 선택했지만좀 달랐다.:::::::내가 프리미엄 고객이 되어있었다!잘 쓸께요~',\n",
       " '가성비 좋음 에어팟 엘리트65 프리엑스중 고민했다 써본결과 가격대비는 이게 짱 디자인케이스도 이쁨 단점 한쪽연결시 버퍼링있음케이스 충전시 약간의 신경이필요 고무가 아에 밖으로나가면조을듯 이엄존 버튼도 터치가 조을뻔 10만대면 이것추천 같은가격이면 에어팟',\n",
       " '블루투스 이어폰 음질은 가격값을 하는거 같아요. 일단 블루투스 이어폰중 사용시간이 중요한데 이게 상당히 길어서 편의성을 높여줍니다. 유일한 단점은 2개인데 일단 볼륨조절이 안된다는것이고, 통화할때 한쪽만 들린다는거. 이건 안좋은게 두쪽다 들리면 한개를 마이크처럼 쓸수 있거든요. 글고 블루투스 스피커 음질은 생각보다 매우 좋아요',\n",
       " '일단 블루투스 4.2라서 많이 끊기거나 하지는 않습니다음질도 유선이어폰에 비교하여 아주많이 떨어지지도 않고 꽤 들을만합니다.케이스마감도 괜찮고 이어폰 마감도 괜찮은데약간 걸리는게 오른쪽 이어폰의 버튼이 왼쪽이어폰버튼에 비하여 눌릴때 버튼이 유격이 좀 있습니다..손가락으로 살짝살짝 흔들었을때 흔들리거나 눌리는 정도가 크네요...다그런건지 이것만 그런건지 모르겠네요',\n",
       " '블루투스 이어폰 자체가 신세계에요. 출근길이 어찌나 편한지. 게다가 삼성 + JBL !! 휴대폰 기능 모두 가능하고 플레이 느므 편하고, 멍멍이 산책시킬때도 편하구요 ㅎㅎ 귀가 작은편인데 강아지랑 같이 뛰어도 떨어지지 않고 좋았어요. 착! 들어갑니다!! ㅎㅎㅎ',\n",
       " '애기를낳고 한동안 아이와다니면서는 불편해 이어폰을 할생각조차못하다가 어느날 문득 노래가듣고싶어 검색하다가 발견하곤바로구입했어요  몇년동안 음악을 끊고지내던 아줌마한테는 혁명입니다 구입하고 외출할때주머니에 꼭넣어다닙니다 삶의질이달라졌어요. 그냥최고애요']"
      ]
     },
     "execution_count": 130,
     "metadata": {},
     "output_type": "execute_result"
    }
   ],
   "source": [
    "new_all_review"
   ]
  },
  {
   "cell_type": "code",
   "execution_count": null,
   "metadata": {},
   "outputs": [],
   "source": [
    "# 페이지 끝까지 넣어서 해보기 "
   ]
  },
  {
   "cell_type": "code",
   "execution_count": null,
   "metadata": {},
   "outputs": [],
   "source": []
  },
  {
   "cell_type": "code",
   "execution_count": null,
   "metadata": {},
   "outputs": [],
   "source": [
    "# 2페이지 = \n",
    "//*[@id=\"_review_paging\"]/a[2]\n",
    "\n",
    "# 11 페이지 url \n",
    "//*[@id=\"_review_paging\"]/a[3]\n",
    "\n",
    "//*[@id=\"_review_paging\"]/a[4]\n",
    "\n",
    "#X-Path \n",
    "\n",
    "//*[@id=\"_review_paging\"]/a[10]\n",
    "\n",
    "\n",
    "//*[@id=\"_review_paging\"]/a[10]\n",
    "\n",
    "//*[@id=\"_review_paging\"]/a[12]\n",
    "\n",
    "//*[@id=\"_review_paging\"]/a[12]\n",
    "\n",
    "##\n",
    "//*[@id=\"_review_paging\"]/a[10]\n",
    "\n",
    "/html/body/div[2]/div[2]/div[2]/div[3]/div[5]/div[2]/div[2]/a[10]\n",
    "//*[@id=\"_review_paging\"]/a[10]\n",
    "\n",
    "//*[@id=\"_review_paging\"]/a[10]\n",
    "\n",
    "//*[@id=\"_review_paging\"]/a[9]"
   ]
  },
  {
   "cell_type": "code",
   "execution_count": null,
   "metadata": {},
   "outputs": [],
   "source": []
  },
  {
   "cell_type": "code",
   "execution_count": null,
   "metadata": {},
   "outputs": [],
   "source": []
  },
  {
   "cell_type": "code",
   "execution_count": null,
   "metadata": {},
   "outputs": [],
   "source": []
  },
  {
   "cell_type": "code",
   "execution_count": null,
   "metadata": {},
   "outputs": [],
   "source": []
  },
  {
   "cell_type": "code",
   "execution_count": null,
   "metadata": {},
   "outputs": [],
   "source": []
  }
 ],
 "metadata": {
  "kernelspec": {
   "display_name": "Python 3",
   "language": "python",
   "name": "python3"
  },
  "language_info": {
   "codemirror_mode": {
    "name": "ipython",
    "version": 3
   },
   "file_extension": ".py",
   "mimetype": "text/x-python",
   "name": "python",
   "nbconvert_exporter": "python",
   "pygments_lexer": "ipython3",
   "version": "3.7.1"
  }
 },
 "nbformat": 4,
 "nbformat_minor": 2
}
