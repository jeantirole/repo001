{
 "cells": [
  {
   "cell_type": "markdown",
   "metadata": {},
   "source": [
    "# *Object\n",
    "\n",
    "- Python 으로 mapper과 reducer를 구현 및 확인\n",
    "- Cloudera 이용해서 mapreduce 를 수행 \n",
    "\n",
    "MapReduce 잡 실행 \n",
    "\n",
    "환경: \n",
    "Centos 6.3\n",
    "Hadoop 2.x \n",
    "Cloudera\n",
    "vmware \n",
    "\n",
    "============================================"
   ]
  },
  {
   "cell_type": "markdown",
   "metadata": {},
   "source": [
    "*myinput 디렉토리 생성 \n",
    "\n",
    "hadoop fs -mkdir myinput \n",
    "hadoop fs -ls /user/training \n",
    "\n",
    "*purchases.txt 넣기 \n",
    "\n",
    "cd /home/training/udacity_training/data\n",
    "hadoop fs -put purchases.txt myinput \n",
    "\n",
    "*mapper and reducer 실행 \n",
    "\n",
    "cd /home/training/udacity_training/code\n",
    "\n",
    "hadoop jar /usr/lib/hadoop-0.20-mapreduce/contrib/streaming/hadoop-streaming-2.0.0-mr1-cdh4.1.1.jar -mapper mapper.py -reducer reducer.py -file mapper.py -file reducer.py -input myinput -output [filename]\n",
    "\n",
    "*결과확인 \n",
    "\n",
    "hadoop fs -ls \n",
    "\n",
    "hadoop fs -ls joboutput \n",
    "\n",
    "ex) 확인파일 \n",
    " - SUCCESS, _logs, part-00000\n",
    "\n",
    "*생성파일 확인 및 pc 로 가져오기 \n",
    "\n",
    "hadoop fs -cat joboutput/part-00000 | less\n",
    "\n",
    "hadoop fs -get joboutput/part-00000 mylocfile.txt\n"
   ]
  },
  {
   "cell_type": "code",
   "execution_count": null,
   "metadata": {},
   "outputs": [],
   "source": []
  },
  {
   "cell_type": "code",
   "execution_count": null,
   "metadata": {},
   "outputs": [],
   "source": []
  },
  {
   "cell_type": "code",
   "execution_count": null,
   "metadata": {},
   "outputs": [],
   "source": []
  },
  {
   "cell_type": "code",
   "execution_count": null,
   "metadata": {},
   "outputs": [],
   "source": []
  },
  {
   "cell_type": "code",
   "execution_count": null,
   "metadata": {},
   "outputs": [],
   "source": []
  },
  {
   "cell_type": "code",
   "execution_count": null,
   "metadata": {},
   "outputs": [],
   "source": []
  },
  {
   "cell_type": "code",
   "execution_count": null,
   "metadata": {},
   "outputs": [],
   "source": []
  },
  {
   "cell_type": "code",
   "execution_count": null,
   "metadata": {},
   "outputs": [],
   "source": []
  },
  {
   "cell_type": "code",
   "execution_count": null,
   "metadata": {},
   "outputs": [],
   "source": []
  },
  {
   "cell_type": "code",
   "execution_count": null,
   "metadata": {},
   "outputs": [],
   "source": []
  },
  {
   "cell_type": "code",
   "execution_count": null,
   "metadata": {},
   "outputs": [],
   "source": []
  }
 ],
 "metadata": {
  "kernelspec": {
   "display_name": "Python 3",
   "language": "python",
   "name": "python3"
  },
  "language_info": {
   "codemirror_mode": {
    "name": "ipython",
    "version": 3
   },
   "file_extension": ".py",
   "mimetype": "text/x-python",
   "name": "python",
   "nbconvert_exporter": "python",
   "pygments_lexer": "ipython3",
   "version": "3.7.1"
  }
 },
 "nbformat": 4,
 "nbformat_minor": 2
}
