{
 "cells": [
  {
   "cell_type": "markdown",
   "metadata": {},
   "source": [
    "# Hadoop "
   ]
  },
  {
   "cell_type": "code",
   "execution_count": null,
   "metadata": {},
   "outputs": [],
   "source": [
    "# let us understand what is Hadoop ~~~~!!!! \n",
    "\n",
    "Hadoop is really needded for our work? \n",
    "\n",
    "\n",
    "Hadoop = [ HDFS, MAPREDUCE ]\n",
    "\n",
    "Hadoop is combining lots of other computers as one \n",
    "\n",
    "\n",
    "HDFS = Hadoop distribute file system = 파일시스템  \n",
    "\n",
    "MAPreduce = 처리기술 \n",
    "\n",
    "\n",
    "File System = \"리눅스, 맥, 윈도우\"\n",
    "\n",
    "\n",
    "\n",
    "데이터에 대한 고민.. ?\n",
    "\n",
    "좀 더 경제적으로 데이터를 저장할 수 없을까? \n",
    "\n",
    "\n",
    "\n",
    "Master Node = Name Node \n",
    "Secondary Name Node \n",
    "\n",
    "\"other\" Data Node = Slave Node \n",
    "\n",
    "\n",
    "Active NameNode & Standy NameNode \n",
    "\n",
    "Manages & Operations \n",
    "\n",
    "\n",
    "Hadoop Summary \n",
    "\n",
    "- 신뢰성과 내고장성 \n",
    "- 큰 데이터를 처리 가능함\n",
    "- 마스터와 슬레이브 구조 \n",
    "- 한 번의 파일 접근 쓰기만 가능 \n",
    "\n",
    "\n",
    "\n",
    "\n",
    "\n",
    "\n"
   ]
  }
 ],
 "metadata": {
  "kernelspec": {
   "display_name": "Python 3",
   "language": "python",
   "name": "python3"
  },
  "language_info": {
   "codemirror_mode": {
    "name": "ipython",
    "version": 3
   },
   "file_extension": ".py",
   "mimetype": "text/x-python",
   "name": "python",
   "nbconvert_exporter": "python",
   "pygments_lexer": "ipython3",
   "version": "3.7.1"
  }
 },
 "nbformat": 4,
 "nbformat_minor": 2
}
