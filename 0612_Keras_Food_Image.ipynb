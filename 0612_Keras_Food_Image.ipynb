{
 "cells": [
  {
   "cell_type": "code",
   "execution_count": 1,
   "metadata": {},
   "outputs": [
    {
     "name": "stderr",
     "output_type": "stream",
     "text": [
      "Using TensorFlow backend.\n"
     ]
    }
   ],
   "source": [
    "import keras"
   ]
  },
  {
   "cell_type": "code",
   "execution_count": null,
   "metadata": {},
   "outputs": [],
   "source": [
    "keras.__version__"
   ]
  },
  {
   "cell_type": "code",
   "execution_count": 8,
   "metadata": {},
   "outputs": [],
   "source": [
    "nb_classes = len(categories)\n",
    "image_size = 64"
   ]
  },
  {
   "cell_type": "code",
   "execution_count": 4,
   "metadata": {},
   "outputs": [],
   "source": [
    "import tensorflow as tf"
   ]
  },
  {
   "cell_type": "code",
   "execution_count": 11,
   "metadata": {},
   "outputs": [
    {
     "name": "stdout",
     "output_type": "stream",
     "text": [
      "(112, 64, 64, 3) (112,)\n",
      "(112, 64, 64, 3) (112,)\n",
      "(64, 64, 3)\n"
     ]
    },
    {
     "name": "stderr",
     "output_type": "stream",
     "text": [
      "C:\\ProgramData\\Anaconda3\\lib\\site-packages\\ipykernel_launcher.py:32: UserWarning: Update your `Conv2D` call to the Keras 2 API: `Conv2D(32, (3, 3), input_shape=(64, 64, 3..., padding=\"same\")`\n",
      "C:\\ProgramData\\Anaconda3\\lib\\site-packages\\ipykernel_launcher.py:37: UserWarning: Update your `Conv2D` call to the Keras 2 API: `Conv2D(64, (3, 3), padding=\"same\")`\n"
     ]
    },
    {
     "name": "stdout",
     "output_type": "stream",
     "text": [
      "WARNING:tensorflow:From C:\\ProgramData\\Anaconda3\\lib\\site-packages\\keras\\backend\\tensorflow_backend.py:422: The name tf.global_variables is deprecated. Please use tf.compat.v1.global_variables instead.\n",
      "\n",
      "Epoch 1/30\n",
      "112/112 [==============================] - 1s 10ms/step - loss: 5.7016 - accuracy: 0.1875\n",
      "Epoch 2/30\n",
      "112/112 [==============================] - 1s 9ms/step - loss: 1.7622 - accuracy: 0.2589\n",
      "Epoch 3/30\n",
      "112/112 [==============================] - 1s 10ms/step - loss: 1.6305 - accuracy: 0.2857\n",
      "Epoch 4/30\n",
      "112/112 [==============================] - 1s 10ms/step - loss: 1.3897 - accuracy: 0.4196\n",
      "Epoch 5/30\n",
      "112/112 [==============================] - 1s 10ms/step - loss: 1.2659 - accuracy: 0.4821\n",
      "Epoch 6/30\n",
      "112/112 [==============================] - 1s 10ms/step - loss: 1.1433 - accuracy: 0.5446\n",
      "Epoch 7/30\n",
      "112/112 [==============================] - 1s 10ms/step - loss: 0.9059 - accuracy: 0.6964\n",
      "Epoch 8/30\n",
      "112/112 [==============================] - 1s 11ms/step - loss: 0.7863 - accuracy: 0.6786\n",
      "Epoch 9/30\n",
      "112/112 [==============================] - 1s 10ms/step - loss: 0.7218 - accuracy: 0.7232\n",
      "Epoch 10/30\n",
      "112/112 [==============================] - 1s 11ms/step - loss: 0.6065 - accuracy: 0.8304\n",
      "Epoch 11/30\n",
      "112/112 [==============================] - 1s 10ms/step - loss: 0.7397 - accuracy: 0.6875\n",
      "Epoch 12/30\n",
      "112/112 [==============================] - 1s 11ms/step - loss: 0.3217 - accuracy: 0.9286\n",
      "Epoch 13/30\n",
      "112/112 [==============================] - 1s 11ms/step - loss: 0.3036 - accuracy: 0.8750\n",
      "Epoch 14/30\n",
      "112/112 [==============================] - 1s 11ms/step - loss: 0.3718 - accuracy: 0.8571\n",
      "Epoch 15/30\n",
      "112/112 [==============================] - 1s 10ms/step - loss: 0.2275 - accuracy: 0.9107\n",
      "Epoch 16/30\n",
      "112/112 [==============================] - 1s 10ms/step - loss: 0.2078 - accuracy: 0.9196\n",
      "Epoch 17/30\n",
      "112/112 [==============================] - 1s 11ms/step - loss: 0.1646 - accuracy: 0.9375\n",
      "Epoch 18/30\n",
      "112/112 [==============================] - 1s 11ms/step - loss: 0.5143 - accuracy: 0.8036\n",
      "Epoch 19/30\n",
      "112/112 [==============================] - 1s 10ms/step - loss: 0.1442 - accuracy: 0.9464\n",
      "Epoch 20/30\n",
      "112/112 [==============================] - 1s 11ms/step - loss: 0.0555 - accuracy: 0.9911\n",
      "Epoch 21/30\n",
      "112/112 [==============================] - 1s 10ms/step - loss: 0.0488 - accuracy: 0.9911\n",
      "Epoch 22/30\n",
      "112/112 [==============================] - 1s 10ms/step - loss: 0.3575 - accuracy: 0.8929\n",
      "Epoch 23/30\n",
      "112/112 [==============================] - 1s 11ms/step - loss: 0.0653 - accuracy: 0.9821\n",
      "Epoch 24/30\n",
      "112/112 [==============================] - 1s 10ms/step - loss: 0.0342 - accuracy: 0.9911\n",
      "Epoch 25/30\n",
      "112/112 [==============================] - 1s 10ms/step - loss: 0.0217 - accuracy: 1.0000\n",
      "Epoch 26/30\n",
      "112/112 [==============================] - 1s 11ms/step - loss: 0.0199 - accuracy: 1.0000\n",
      "Epoch 27/30\n",
      "112/112 [==============================] - 1s 10ms/step - loss: 0.0375 - accuracy: 0.9911\n",
      "Epoch 28/30\n",
      "112/112 [==============================] - 1s 11ms/step - loss: 0.0671 - accuracy: 0.9911\n",
      "Epoch 29/30\n",
      "112/112 [==============================] - 1s 11ms/step - loss: 0.0198 - accuracy: 1.0000\n",
      "Epoch 30/30\n",
      "112/112 [==============================] - 1s 11ms/step - loss: 0.0576 - accuracy: 0.9821\n"
     ]
    }
   ],
   "source": [
    "import sys, os\n",
    "from keras.models import Sequential\n",
    "from keras.layers import Convolution2D\n",
    "from keras.layers import MaxPooling2D\n",
    "from keras.layers import Activation, Dropout, Flatten, Dense\n",
    "from keras.utils import np_utils \n",
    "import numpy as np \n",
    "\n",
    "\n",
    "root_dir = \"E:\\\\Eric_Github\\\\Image_project\\\\kfood\"\n",
    "# 카테고리 명령 지정 (1)\n",
    "categories = [\"Chicken\", \"Dolsotbab\", \"Jeyugbokkeum\", \"Kimchi\", \n",
    "                \"Samgyeobsal\", \"SoybeanPasteStew\"]\n",
    "\n",
    "def load_dataset():\n",
    "    x_train, x_test, y_train, y_test = np.load(\"E:\\\\Eric_Github\\\\Image_project\\\\kfood/kfood.npy\",\n",
    "                                               allow_pickle=True)\n",
    "    print(x_train.shape, y_train.shape) \n",
    "    x_train = x_train.astype(\"float\") / 256\n",
    "    x_test = x_test.astype(\"float\") / 256\n",
    "\n",
    "    y_train = np_utils.to_categorical(y_train, nb_classes)\n",
    "    y_test = np_utils.to_categorical(y_test, nb_classes)\n",
    "    return x_train, x_test, y_train, y_test\n",
    "\n",
    "load_dataset()\n",
    "\n",
    "#%# 모델 구성 함수\n",
    "\n",
    "def build_model(in_shape):\n",
    "    model = Sequential()\n",
    "    model.add(Convolution2D(32,3,3, border_mode = 'same', input_shape=in_shape))\n",
    "    model.add(Activation('relu'))\n",
    "    model.add(MaxPooling2D(pool_size=(2,2)))\n",
    "    model.add(Dropout(0.25))\n",
    "    \n",
    "    model.add(Convolution2D(64,3,3, border_mode = 'same'))\n",
    "    model.add(Activation('relu'))\n",
    "    model.add(MaxPooling2D(pool_size=(2,2)))\n",
    "    model.add(Dropout(0.25))\n",
    "    \n",
    "    model.add(Flatten())\n",
    "    model.add(Dense(512))\n",
    "    model.add(Activation('relu'))\n",
    "    model.add(Dropout(0.5))\n",
    "    model.add(Dense(nb_classes))\n",
    "    model.add(Activation('softmax'))\n",
    "    \n",
    "    model.compile(loss='categorical_crossentropy', optimizer='rmsprop',\n",
    "                  metrics=['accuracy'])\n",
    "    return model \n",
    "\n",
    "\n",
    "## 모델 학습 \n",
    "    \n",
    "def model_train(x,y):\n",
    "    print(x.shape[1:])\n",
    "    model = build_model(x.shape[1:])\n",
    "    model.fit(x,y,batch_size=32, epochs=30)\n",
    "    return model \n",
    "\n",
    "## 데이터 불러오기 \n",
    "## 모델 학습 \n",
    "    \n",
    "X_train, X_test, y_train, y_test = load_dataset()\n",
    "model = model_train(X_train, y_train)\n"
   ]
  },
  {
   "cell_type": "code",
   "execution_count": 13,
   "metadata": {},
   "outputs": [],
   "source": [
    "#모델학습\n",
    "def model_eval(model, x, y):\n",
    "    score = model.evaluate(x,y)\n",
    "    print(\"loss = \", score[0])\n",
    "    print(\"accuracy :\", score[1])\n",
    "\n",
    "model.save(\"E:\\\\Eric_Github\\\\Image_project\\\\kfood\\\\kfood_model.h5\")\n",
    "    "
   ]
  },
  {
   "cell_type": "code",
   "execution_count": null,
   "metadata": {},
   "outputs": [],
   "source": []
  }
 ],
 "metadata": {
  "kernelspec": {
   "display_name": "Python 3",
   "language": "python",
   "name": "python3"
  },
  "language_info": {
   "codemirror_mode": {
    "name": "ipython",
    "version": 3
   },
   "file_extension": ".py",
   "mimetype": "text/x-python",
   "name": "python",
   "nbconvert_exporter": "python",
   "pygments_lexer": "ipython3",
   "version": "3.7.1"
  }
 },
 "nbformat": 4,
 "nbformat_minor": 2
}
