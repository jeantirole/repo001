{
 "cells": [
  {
   "cell_type": "code",
   "execution_count": 2,
   "metadata": {},
   "outputs": [],
   "source": [
    "from selenium import webdriver\n",
    "from bs4 import BeautifulSoup"
   ]
  },
  {
   "cell_type": "markdown",
   "metadata": {},
   "source": [
    "사전 작업\n",
    "* url 정보 확인 \n",
    "* 버튼을 누른다고 하면 버튼에 xpath 정보를 확인 \n",
    "* 우리가 원하는 버튼을 얻는다. \n",
    "* 현재 10대라면 10대에 해당되는 20대 인기 키워드를 얻는다\n",
    "* 20,30,40.. 하고 선택하고 다시 인기 키워드를 얻는다. \n",
    "* 키워드를 저장한 후에 xlsx, csv 파일로 만든다. "
   ]
  },
  {
   "cell_type": "code",
   "execution_count": 52,
   "metadata": {},
   "outputs": [
    {
     "name": "stdout",
     "output_type": "stream",
     "text": [
      "시트명 입력:10대_키워드\n"
     ]
    }
   ],
   "source": [
    "filename = \"datalab_20205027.xlsx\"\n",
    "sheetname = input(\"시트명 입력:\")"
   ]
  },
  {
   "cell_type": "code",
   "execution_count": null,
   "metadata": {},
   "outputs": [],
   "source": [
    "## 한겨레 작업중 "
   ]
  },
  {
   "cell_type": "code",
   "execution_count": 16,
   "metadata": {},
   "outputs": [],
   "source": [
    "driver2 = webdriver.Chrome(\"chromedriver\")\n",
    "url2 = \"http://www.hani.co.kr/arti/politics/home01.html\"\n",
    "driver2.get(url2)"
   ]
  },
  {
   "cell_type": "markdown",
   "metadata": {},
   "source": [
    "Xpath_news = //*[@id=\"divTitle\"]"
   ]
  },
  {
   "cell_type": "markdown",
   "metadata": {},
   "source": [
    "news_h = driver.find_elements_by_xpath('//*[@id=\"divTitle\"]')\n",
    "news_h.click()"
   ]
  },
  {
   "cell_type": "code",
   "execution_count": null,
   "metadata": {},
   "outputs": [],
   "source": []
  },
  {
   "cell_type": "code",
   "execution_count": null,
   "metadata": {},
   "outputs": [],
   "source": []
  },
  {
   "cell_type": "code",
   "execution_count": 32,
   "metadata": {},
   "outputs": [],
   "source": [
    "# webdriver \n",
    "driver = webdriver.Chrome(\"chromedriver\")"
   ]
  },
  {
   "cell_type": "markdown",
   "metadata": {},
   "source": [
    "# xpath collecting \n",
    "\n",
    "10대 : //*[@id=\"content\"]/div/div[2]/div[1]/div[2]/div/div/div/ul/li[1]/a\n",
    "20대 : //*[@id=\"content\"]/div/div[2]/div[1]/div[2]/div/div/div/ul/li[2]/a\n",
    "30대 : //*[@id=\"content\"]/div/div[2]/div[1]/div[2]/div/div/div/ul/li[3]/a\n",
    "40대 : //*[@id=\"content\"]/div/div[2]/div[1]/div[2]/div/div/div/ul/li[4]/a\n",
    "50대 : //*[@id=\"content\"]/div/div[2]/div[1]/div[2]/div/div/div/ul/li[5]/a\n"
   ]
  },
  {
   "cell_type": "code",
   "execution_count": 13,
   "metadata": {},
   "outputs": [],
   "source": [
    "# URL 이동 \n",
    "url = \"https://datalab.naver.com/keyword/realtimeList.naver?age=10s\"\n",
    "driver.get(url)\n",
    "\n",
    "# 한겨레 정치란 \n",
    "url2 = \"http://www.hani.co.kr/arti/politics/home01.html\"\n",
    "driver2.get(url2)"
   ]
  },
  {
   "cell_type": "code",
   "execution_count": null,
   "metadata": {},
   "outputs": [],
   "source": [
    "# 10대 페이지 "
   ]
  },
  {
   "cell_type": "code",
   "execution_count": 33,
   "metadata": {},
   "outputs": [],
   "source": [
    "# 20대 페이지 "
   ]
  },
  {
   "cell_type": "code",
   "execution_count": null,
   "metadata": {},
   "outputs": [],
   "source": []
  },
  {
   "cell_type": "markdown",
   "metadata": {},
   "source": [
    "age_10 = driver.find_elements_by_xpath('')\n",
    "age_10.click()"
   ]
  },
  {
   "cell_type": "code",
   "execution_count": null,
   "metadata": {},
   "outputs": [],
   "source": [
    "# 1등 부터 20등까지 키워드 갖오기 \n",
    "# html 소스 코드\n",
    "## 소스 코드를 가져와서 구조화를 시켜준다. \n",
    "soup = BeautifulSoup(driver.page_source,'lxml')\n",
    "soup.title\n"
   ]
  },
  {
   "cell_type": "code",
   "execution_count": null,
   "metadata": {},
   "outputs": [],
   "source": [
    "## 뷰티풀숩으로 구조화 시켜주기 \n",
    "all_keyword =soup.find_all(\"span\", class_=\"item_title\")\n",
    "\n",
    "pop_word = []\n",
    "for one in all_keyword:\n",
    "    two_word = one.text\n",
    "    pop_word.append(two_word)"
   ]
  },
  {
   "cell_type": "code",
   "execution_count": 51,
   "metadata": {},
   "outputs": [
    {
     "data": {
      "text/html": [
       "<div>\n",
       "<style scoped>\n",
       "    .dataframe tbody tr th:only-of-type {\n",
       "        vertical-align: middle;\n",
       "    }\n",
       "\n",
       "    .dataframe tbody tr th {\n",
       "        vertical-align: top;\n",
       "    }\n",
       "\n",
       "    .dataframe thead th {\n",
       "        text-align: right;\n",
       "    }\n",
       "</style>\n",
       "<table border=\"1\" class=\"dataframe\">\n",
       "  <thead>\n",
       "    <tr style=\"text-align: right;\">\n",
       "      <th></th>\n",
       "      <th>키워드</th>\n",
       "    </tr>\n",
       "  </thead>\n",
       "  <tbody>\n",
       "    <tr>\n",
       "      <th>0</th>\n",
       "      <td>로이킴</td>\n",
       "    </tr>\n",
       "    <tr>\n",
       "      <th>1</th>\n",
       "      <td>쿠팡 확진자</td>\n",
       "    </tr>\n",
       "    <tr>\n",
       "      <th>2</th>\n",
       "      <td>부천</td>\n",
       "    </tr>\n",
       "  </tbody>\n",
       "</table>\n",
       "</div>"
      ],
      "text/plain": [
       "      키워드\n",
       "0     로이킴\n",
       "1  쿠팡 확진자\n",
       "2      부천"
      ]
     },
     "execution_count": 51,
     "metadata": {},
     "output_type": "execute_result"
    }
   ],
   "source": [
    "import pandas as pd\n",
    "dat= pd.DataFrame({\"키워드\":pop_word})\n",
    "dat.head(3)"
   ]
  },
  {
   "cell_type": "code",
   "execution_count": 53,
   "metadata": {},
   "outputs": [],
   "source": [
    "dat.to_excel(filename,sheet_name=sheetname, index=False)"
   ]
  },
  {
   "cell_type": "code",
   "execution_count": 54,
   "metadata": {},
   "outputs": [],
   "source": [
    "age_20 = driver.find_element_by_xpath('//*[@id=\"content\"]/div/div[2]/div[1]/div[2]/div/div/div/ul/li[2]/a')\n",
    "age_20.click()"
   ]
  },
  {
   "cell_type": "code",
   "execution_count": 37,
   "metadata": {},
   "outputs": [
    {
     "data": {
      "text/plain": [
       "<title>급상승검색어 : 네이버 데이터랩</title>"
      ]
     },
     "execution_count": 37,
     "metadata": {},
     "output_type": "execute_result"
    }
   ],
   "source": [
    "soup = BeautifulSoup(driver.page_source,'lxml')\n",
    "soup.title"
   ]
  },
  {
   "cell_type": "code",
   "execution_count": 41,
   "metadata": {},
   "outputs": [],
   "source": [
    "all_keyword =soup.find_all(\"span\", class_=\"item_title\")\n",
    "\n",
    "pop_word_20 = []\n",
    "for one in all_keyword:\n",
    "    two_word = one.text\n",
    "    pop_word.append(two_word)"
   ]
  },
  {
   "cell_type": "code",
   "execution_count": 47,
   "metadata": {},
   "outputs": [
    {
     "data": {
      "text/html": [
       "<div>\n",
       "<style scoped>\n",
       "    .dataframe tbody tr th:only-of-type {\n",
       "        vertical-align: middle;\n",
       "    }\n",
       "\n",
       "    .dataframe tbody tr th {\n",
       "        vertical-align: top;\n",
       "    }\n",
       "\n",
       "    .dataframe thead th {\n",
       "        text-align: right;\n",
       "    }\n",
       "</style>\n",
       "<table border=\"1\" class=\"dataframe\">\n",
       "  <thead>\n",
       "    <tr style=\"text-align: right;\">\n",
       "      <th></th>\n",
       "      <th>키워드_20</th>\n",
       "    </tr>\n",
       "  </thead>\n",
       "  <tbody>\n",
       "    <tr>\n",
       "      <th>0</th>\n",
       "      <td>이동건</td>\n",
       "    </tr>\n",
       "    <tr>\n",
       "      <th>1</th>\n",
       "      <td>조윤희</td>\n",
       "    </tr>\n",
       "    <tr>\n",
       "      <th>2</th>\n",
       "      <td>로이킴</td>\n",
       "    </tr>\n",
       "  </tbody>\n",
       "</table>\n",
       "</div>"
      ],
      "text/plain": [
       "  키워드_20\n",
       "0    이동건\n",
       "1    조윤희\n",
       "2    로이킴"
      ]
     },
     "execution_count": 47,
     "metadata": {},
     "output_type": "execute_result"
    }
   ],
   "source": [
    "dat_20= pd.DataFrame({\"키워드_20\":pop_word_20})\n",
    "dat_20.head(3)"
   ]
  },
  {
   "cell_type": "code",
   "execution_count": 48,
   "metadata": {},
   "outputs": [
    {
     "name": "stdout",
     "output_type": "stream",
     "text": [
      "시트명 입력:20대_키워드\n"
     ]
    }
   ],
   "source": [
    "sheetname = input(\"시트명 입력:\")"
   ]
  },
  {
   "cell_type": "code",
   "execution_count": 50,
   "metadata": {},
   "outputs": [],
   "source": [
    "dat_20.to_excel(filename,sheet_name=sheetname, index=False)"
   ]
  },
  {
   "cell_type": "code",
   "execution_count": null,
   "metadata": {},
   "outputs": [],
   "source": [
    "# xpath collecting \n",
    "\n",
    "10대 : //*[@id=\"content\"]/div/div[2]/div[1]/div[2]/div/div/div/ul/li[1]/a\n",
    "20대 : //*[@id=\"content\"]/div/div[2]/div[1]/div[2]/div/div/div/ul/li[2]/a\n",
    "30대 : //*[@id=\"content\"]/div/div[2]/div[1]/div[2]/div/div/div/ul/li[3]/a\n",
    "40대 : //*[@id=\"content\"]/div/div[2]/div[1]/div[2]/div/div/div/ul/li[4]/a\n",
    "50대 : //*[@id=\"content\"]/div/div[2]/div[1]/div[2]/div/div/div/ul/li[5]/a\n"
   ]
  },
  {
   "cell_type": "code",
   "execution_count": 56,
   "metadata": {},
   "outputs": [],
   "source": [
    "import time "
   ]
  },
  {
   "cell_type": "code",
   "execution_count": 59,
   "metadata": {},
   "outputs": [],
   "source": [
    "base_xpath1 = '//*[@id=\"content\"]/div/div[2]/div[1]/div[2]/div/div/div/ul/li['\n",
    "base_xpath2 = ']/a'"
   ]
  },
  {
   "cell_type": "code",
   "execution_count": 73,
   "metadata": {},
   "outputs": [
    {
     "name": "stdout",
     "output_type": "stream",
     "text": [
      "//*[@id=\"content\"]/div/div[2]/div[1]/div[2]/div/div/div/ul/li[1]/a\n",
      "['이동건', '조윤희', '조윤희 이동건', '로이킴', '이동건 이혼', '등교중지', 'msc', '코로나 신규 확진자', '쿠팡 확진자', '허윤동', '스페이스x', '어쩌다 결혼', '박지현', '슈', '쿠팡 고양물류센터', '김강열', '마켓컬리 코로나', '조윤희 나이', '양진호', '강원진품센터']\n",
      "//*[@id=\"content\"]/div/div[2]/div[1]/div[2]/div/div/div/ul/li[2]/a\n",
      "['이동건', '조윤희', '조윤희 이동건', '이동건 이혼', '로이킴', '기준금리', '어쩌다 결혼', '쿠팡 확진자', 'msc', '김강열', '현대사료', '박지현', '스페이스x', '코로나 신규 확진자', '마켓컬리 코로나', '허윤동', '조윤희 나이', '남선알미늄', '슈', '유베이스']\n",
      "//*[@id=\"content\"]/div/div[2]/div[1]/div[2]/div/div/div/ul/li[3]/a\n",
      "['이동건', '조윤희 이동건', '조윤희', '이동건 이혼', '기준금리', '어쩌다 결혼', '쿠팡 확진자', '현대사료', '디스패치', '남선알미늄', '약쿠르트', '권순관', '쿠팡 고양물류센터', '코디엠', '김강열', '홍콩 국가보안법', '슈', '마켓컬리 코로나', '고성희', 'SK 바이오랜드']\n",
      "//*[@id=\"content\"]/div/div[2]/div[1]/div[2]/div/div/div/ul/li[4]/a\n",
      "['이동건', '조윤희 이동건', '조윤희', '이동건 이혼', '한국은행 기준금리', '어쩌다 결혼', '쿠팡 확진자', '현대사료', '쿠팡 고양물류센터', '권순관', '팽현숙 카페', '홍콩 국가보안법', '코디엠', '유베이스', '송철호', '남선알미늄', '상보', 'SK 바이오랜드', '드림시큐리티', '고성희']\n",
      "//*[@id=\"content\"]/div/div[2]/div[1]/div[2]/div/div/div/ul/li[5]/a\n",
      "['이동건', '조윤희 이동건', '조윤희', '한국은행 기준금리', '이동건 이혼', '팽현숙 카페', '송철호', '어쩌다 결혼', '코디엠', '쿠팡 고양물류센터', '현대사료', '쿠팡 확진자', '홍콩 국가보안법', '상보', '드림시큐리티', 'SK 바이오랜드', '차바이오텍', '고성희', '코로나 신규 확진자', '권순관']\n",
      "//*[@id=\"content\"]/div/div[2]/div[1]/div[2]/div/div/div/ul/li[6]/a\n",
      "['이동건', '조윤희', '조윤희 이동건', '이동건 이혼', '기준금리', '어쩌다 결혼', '쿠팡 확진자', '현대사료', '로이킴', '쿠팡 고양물류센터', '코디엠', '팽현숙 카페', '홍콩 국가보안법', '남선알미늄', '권순관', '김강열', '송철호', '유베이스', '코로나 신규 확진자', '상보']\n"
     ]
    }
   ],
   "source": [
    "all_word = []\n",
    "for i in range(1,7):\n",
    "    all_xpath = base_xpath1 + str(i) + base_xpath2\n",
    "    print(all_xpath)\n",
    "    \n",
    "    # 요소 가져오기 \n",
    "    sel_btn = driver.find_element_by_xpath(all_xpath)\n",
    "    sel_btn.click()\n",
    "    \n",
    "    # 정보 가져오기 \n",
    "    soup = BeautifulSoup(driver.page_source, 'lxml')\n",
    "    age_data = soup.find_all(\"span\", class_=\"item_title\")\n",
    "    \n",
    "    pop_word = []\n",
    "    for one in age_data:\n",
    "        two_word = one.text\n",
    "        pop_word.append(two_word)\n",
    "            \n",
    "    all_word.append(pop_word)\n",
    "    print(pop_word)\n",
    "    time.sleep(2)\n",
    "    \n",
    "    \n",
    "    "
   ]
  },
  {
   "cell_type": "code",
   "execution_count": 75,
   "metadata": {},
   "outputs": [],
   "source": [
    "dict_dat "
   ]
  },
  {
   "cell_type": "code",
   "execution_count": null,
   "metadata": {},
   "outputs": [],
   "source": []
  },
  {
   "cell_type": "code",
   "execution_count": null,
   "metadata": {},
   "outputs": [],
   "source": []
  },
  {
   "cell_type": "code",
   "execution_count": null,
   "metadata": {},
   "outputs": [],
   "source": []
  },
  {
   "cell_type": "code",
   "execution_count": null,
   "metadata": {},
   "outputs": [],
   "source": []
  },
  {
   "cell_type": "code",
   "execution_count": null,
   "metadata": {},
   "outputs": [],
   "source": []
  },
  {
   "cell_type": "code",
   "execution_count": null,
   "metadata": {},
   "outputs": [],
   "source": []
  },
  {
   "cell_type": "code",
   "execution_count": null,
   "metadata": {},
   "outputs": [],
   "source": []
  },
  {
   "cell_type": "code",
   "execution_count": null,
   "metadata": {},
   "outputs": [],
   "source": []
  },
  {
   "cell_type": "code",
   "execution_count": null,
   "metadata": {},
   "outputs": [],
   "source": []
  }
 ],
 "metadata": {
  "kernelspec": {
   "display_name": "Python 3",
   "language": "python",
   "name": "python3"
  },
  "language_info": {
   "codemirror_mode": {
    "name": "ipython",
    "version": 3
   },
   "file_extension": ".py",
   "mimetype": "text/x-python",
   "name": "python",
   "nbconvert_exporter": "python",
   "pygments_lexer": "ipython3",
   "version": "3.7.1"
  }
 },
 "nbformat": 4,
 "nbformat_minor": 2
}
