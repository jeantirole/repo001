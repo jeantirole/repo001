{
 "cells": [
  {
   "cell_type": "code",
   "execution_count": 1,
   "metadata": {},
   "outputs": [],
   "source": [
    "from selenium import webdriver\n",
    "from bs4 import BeautifulSoup\n",
    "import time\n",
    "from random import * "
   ]
  },
  {
   "cell_type": "code",
   "execution_count": 123,
   "metadata": {},
   "outputs": [],
   "source": [
    "driver = webdriver.Chrome(\"chromedriver\")\n",
    "url = \"http://www.hani.co.kr/arti/politics/home01.html\"\n",
    "driver.get(url)"
   ]
  },
  {
   "cell_type": "markdown",
   "metadata": {},
   "source": [
    "Xpath_news = //*[@id=\"divTitle\"]"
   ]
  },
  {
   "cell_type": "markdown",
   "metadata": {},
   "source": [
    "news_h = driver.find_element_by_xpath('//*[@id=\"divTitle\"]')\n",
    "news_h.click()"
   ]
  },
  {
   "cell_type": "code",
   "execution_count": 10,
   "metadata": {},
   "outputs": [
    {
     "data": {
      "text/plain": [
       "<title>군, 사드 기지에 한밤중 기습 장비 반입…“유도탄 포함” : 국방·북한 : 정치 : 뉴스 : 한겨레</title>"
      ]
     },
     "execution_count": 10,
     "metadata": {},
     "output_type": "execute_result"
    }
   ],
   "source": [
    "soup = BeautifulSoup(driver.page_source,'lxml')\n",
    "soup.title"
   ]
  },
  {
   "cell_type": "code",
   "execution_count": 23,
   "metadata": {},
   "outputs": [],
   "source": [
    "driver = webdriver.Chrome(\"chromedriver\")\n",
    "url = \"http://www.hani.co.kr/arti/politics/home01.html\"\n",
    "driver.get(url)\n",
    "\n",
    "soup = BeautifulSoup(driver.page_source, 'lxml')\n",
    "link01 =soup.find_all(\"h4\", class_=\"article-title\")[0].find('a')['href']\n",
    "url01 = 'http://www.hani.co.kr' + link01\n",
    "driver.get(url01)"
   ]
  },
  {
   "cell_type": "code",
   "execution_count": 12,
   "metadata": {},
   "outputs": [],
   "source": [
    "soup = BeautifulSoup(driver.page_source, 'lxml')\n",
    "link01 =soup.find_all(\"h4\", class_=\"article-title\")[0].find('a')['href']\n",
    "url01 = 'http://www.hani.co.kr' + link01\n",
    "driver.get(url01)\n",
    "soup2 = BeautifulSoup(driver.page_source, 'lxml')\n",
    "article_text_001 = soup.find(\"div\",class_=\"text\")"
   ]
  },
  {
   "cell_type": "markdown",
   "metadata": {},
   "source": [
    "Xpath 구하기 \n",
    "\"윤미향\"\n",
    "\n",
    "#버튼 누르기 \n",
    "//*[@id=\"search_form\"]/div[1]/img\n",
    "//*[@id=\"search_form\"]/div[1]/img\n",
    "\n",
    "#검색창키우기 \n",
    "//*[@id=\"search_form\"]/div[2]\n",
    "\n",
    "#뉴스검색더보기 버튼 \n",
    "//*[@id=\"contents\"]/div[3]/p[1]/a\n",
    "\n",
    "#에잉 그냥 url 로 바로 접근 \n",
    "http://search.hani.co.kr/Search?command=query&keyword=%EC%9C%A4%EB%AF%B8%ED%96%A5&sort=d&period=all&media=multimedia\n",
    "\n",
    "#1페이지에서 뉴스기사 헤드라인 \n",
    "\n",
    "//*[@id=\"contents\"]/div[2]/ul[1]/li[1]/p[2]/a\n",
    "//*[@id=\"contents\"]/div[2]/ul[1]/li[2]/p[2]/a\n",
    "//*[@id=\"contents\"]/div[2]/ul[1]/li[3]/p[2]\n",
    "//*[@id=\"contents\"]/div[2]/ul[1]/li[4]/p[2]/a\n",
    "//*[@id=\"contents\"]/div[2]/ul[4]/li[5]/p[2]/a\n",
    "\n"
   ]
  },
  {
   "cell_type": "code",
   "execution_count": 96,
   "metadata": {},
   "outputs": [],
   "source": [
    "# 1 페이지 열기 \n",
    "driver = webdriver.Chrome(\"chromedriver\")\n",
    "url = 'http://search.hani.co.kr/Search?command=query&keyword=%EC%9C%A4%EB%AF%B8%ED%96%A5&sort=d&period=all&media=multimedia'\n",
    "\n",
    "driver.get(url)\n",
    "soup = BeautifulSoup(driver.page_source,'lxml')\n",
    "time.sleep(5)\n",
    "\n",
    "# 여러 페이지 열기 \n",
    "\n",
    "<a href=\"/Search?command=query&amp;keyword=%EC%9C%A4%EB%AF%B8%ED%96%A5&amp;media=multimedia&amp;sort=d&amp;period=all&amp;datefrom=2000.01.01&amp;dateto=2020.05.29&amp;pageseq=1\">\n",
    "\t\t\t\t\t2\n",
    "\t\t\t\t\t</a>\n",
    "\n",
    "\n",
    "# 1페이지에서 기사 가져오기 \n",
    "all_text_2=[]\n",
    "article_head = soup.find_all(\"div\", class_=\"search-result-section\")[0].find_all(\"a\")\n",
    "\n",
    "for i in article_head:\n",
    "    i_text = i.text\n",
    "    all_text_2.append(i_text)\n"
   ]
  },
  {
   "cell_type": "code",
   "execution_count": 103,
   "metadata": {},
   "outputs": [
    {
     "data": {
      "text/plain": [
       "['',\n",
       " '열흘 침묵 깬 윤미향 “검찰서 밝히겠다”…야권 “사퇴가 도리”',\n",
       " '',\n",
       " '윤미향 일문일답 “개인 계좌 사용은 잘못…의혹 모두 소명할 것”',\n",
       " '',\n",
       " '[전문] 윤미향 “할머니들과 더 섬세하게 공감하지 못한 점 성찰”',\n",
       " '',\n",
       " '윤미향 “후원금 개인적으로 유용한 적 없다” 사퇴론 일축',\n",
       " '',\n",
       " '윤미향, 오후 2시 국회에서 기자회견 연다',\n",
       " '',\n",
       " '윤미향, 오후 2시 국회서 기자회견',\n",
       " '',\n",
       " '윤미향 오늘 기자회견한다…회계의혹 등 입장 밝힐 듯',\n",
       " '',\n",
       " '둥지를 떠난 새 : 독립한 ‘피해자’의 목소리',\n",
       " '',\n",
       " '민주당 “윤미향 내일 기자회견…의혹 관련해 입장 밝힐 것”',\n",
       " '',\n",
       " '이용수 할머니 둘러싼 음모론… 여권 안팎 ‘초점 흐리기’',\n",
       " '',\n",
       " '이용수 할머니 대구 수요집회 깜짝 등장…“같이 투쟁하자”',\n",
       " '',\n",
       " '누군가 뒤에서 이용?…이용수 할머니 “혼자밖에 없다”',\n",
       " '',\n",
       " '최민희 “김어준이 얘기하면 음모론, 통합당이 하면 의혹제기냐”',\n",
       " '',\n",
       " '’서울 수요집회 불참 선언‘ 이용수 할머니, 대구 수요집회 참석',\n",
       " '',\n",
       " '검찰, 이르면 오늘 참고인·피의자 소환…윤미향 10일째 침묵',\n",
       " '',\n",
       " '우상호 “윤미향 출마, 이용수 할머니 분노 유발” 발언 뒷말',\n",
       " '',\n",
       " '국민 70% “윤미향 사퇴해야”…여당 지도부는 ‘신중론’ 여전',\n",
       " '',\n",
       " '부산에서도 수요 시위는 계속된다',\n",
       " '',\n",
       " '이용수 할머니 2차 기자회견 뒤 첫 수요집회 “바위처럼 지켜내자”',\n",
       " '',\n",
       " '이해찬 “책임질 사람은 책임져야…시시비비 지켜봐달라”']"
      ]
     },
     "execution_count": 103,
     "metadata": {},
     "output_type": "execute_result"
    }
   ],
   "source": [
    "all_text_2"
   ]
  },
  {
   "cell_type": "code",
   "execution_count": null,
   "metadata": {},
   "outputs": [],
   "source": []
  },
  {
   "cell_type": "code",
   "execution_count": null,
   "metadata": {},
   "outputs": [],
   "source": []
  },
  {
   "cell_type": "code",
   "execution_count": null,
   "metadata": {},
   "outputs": [],
   "source": []
  },
  {
   "cell_type": "code",
   "execution_count": null,
   "metadata": {},
   "outputs": [],
   "source": [
    "#all_text_2=[]\n",
    "\n",
    "driver = webdriver.Chrome(\"chromedriver\")\n",
    "url = 'http://search.hani.co.kr/Search?command=query&keyword=%EC%9C%A4%EB%AF%B8%ED%96%A5&sort=d&period=all&media=multimedia'\n",
    "driver.get(url)\n",
    "soup = BeautifulSoup(driver.page_source,'lxml')\n",
    "time.sleep(5)\n",
    "\n",
    "for j in article_head:\n",
    "    article_head = soup.find_all(\"div\", class_=\"search-result-section\")\n",
    "    j_text = j.text\n",
    "    all_text_2.append(j.text)\n",
    "   \n",
    "    \n",
    "    \n",
    "    \n",
    "    for i in range(0,14):\n",
    "\n",
    "        link01 =soup.find_all(\"h4\", class_=\"article-title\")[i].find('a')['href']\n",
    "        url01 = 'http://www.hani.co.kr' + link01\n",
    "        driver.get(url01)\n",
    "        time.sleep(5)\n",
    "        print(\"@@\"+ str(i)+ \"번째 기사\")\n",
    "        \n",
    "        for i in article_text_01:\n",
    "            \n",
    "            soup01 = BeautifulSoup(driver.page_source, 'lxml')\n",
    "            article_text_01 = soup01.find_all(\"div\", class_=\"text\")\n",
    "            i_text = i.text\n",
    "            all_text.append(i_text)    \n",
    "\n",
    "\n",
    "\n"
   ]
  },
  {
   "cell_type": "code",
   "execution_count": null,
   "metadata": {},
   "outputs": [],
   "source": []
  },
  {
   "cell_type": "code",
   "execution_count": null,
   "metadata": {},
   "outputs": [],
   "source": []
  },
  {
   "cell_type": "code",
   "execution_count": 25,
   "metadata": {},
   "outputs": [],
   "source": []
  },
  {
   "cell_type": "code",
   "execution_count": null,
   "metadata": {},
   "outputs": [],
   "source": []
  },
  {
   "cell_type": "code",
   "execution_count": null,
   "metadata": {},
   "outputs": [],
   "source": []
  },
  {
   "cell_type": "code",
   "execution_count": null,
   "metadata": {},
   "outputs": [],
   "source": []
  },
  {
   "cell_type": "code",
   "execution_count": 70,
   "metadata": {},
   "outputs": [
    {
     "ename": "WebDriverException",
     "evalue": "Message: unknown error: cannot determine loading status\nfrom disconnected: received Inspector.detached event\n  (Session info: chrome=81.0.4044.138)\n",
     "output_type": "error",
     "traceback": [
      "\u001b[1;31m---------------------------------------------------------------------------\u001b[0m",
      "\u001b[1;31mWebDriverException\u001b[0m                        Traceback (most recent call last)",
      "\u001b[1;32m<ipython-input-70-9b5c10cf2e82>\u001b[0m in \u001b[0;36m<module>\u001b[1;34m\u001b[0m\n\u001b[0;32m      5\u001b[0m     \u001b[0mdriver\u001b[0m \u001b[1;33m=\u001b[0m \u001b[0mwebdriver\u001b[0m\u001b[1;33m.\u001b[0m\u001b[0mChrome\u001b[0m\u001b[1;33m(\u001b[0m\u001b[1;34m\"chromedriver\"\u001b[0m\u001b[1;33m)\u001b[0m\u001b[1;33m\u001b[0m\u001b[1;33m\u001b[0m\u001b[0m\n\u001b[0;32m      6\u001b[0m     \u001b[0murl\u001b[0m \u001b[1;33m=\u001b[0m \u001b[1;34m'http://www.hani.co.kr/arti/politics/list{}.html'\u001b[0m\u001b[1;33m.\u001b[0m\u001b[0mformat\u001b[0m\u001b[1;33m(\u001b[0m\u001b[0mpage\u001b[0m\u001b[1;33m)\u001b[0m\u001b[1;33m\u001b[0m\u001b[1;33m\u001b[0m\u001b[0m\n\u001b[1;32m----> 7\u001b[1;33m     \u001b[0mdriver\u001b[0m\u001b[1;33m.\u001b[0m\u001b[0mget\u001b[0m\u001b[1;33m(\u001b[0m\u001b[0murl\u001b[0m\u001b[1;33m)\u001b[0m\u001b[1;33m\u001b[0m\u001b[1;33m\u001b[0m\u001b[0m\n\u001b[0m\u001b[0;32m      8\u001b[0m     \u001b[0msoup\u001b[0m \u001b[1;33m=\u001b[0m \u001b[0mBeautifulSoup\u001b[0m\u001b[1;33m(\u001b[0m\u001b[0mdriver\u001b[0m\u001b[1;33m.\u001b[0m\u001b[0mpage_source\u001b[0m\u001b[1;33m,\u001b[0m\u001b[1;34m'lxml'\u001b[0m\u001b[1;33m)\u001b[0m\u001b[1;33m\u001b[0m\u001b[1;33m\u001b[0m\u001b[0m\n\u001b[0;32m      9\u001b[0m     \u001b[0mtime\u001b[0m\u001b[1;33m.\u001b[0m\u001b[0msleep\u001b[0m\u001b[1;33m(\u001b[0m\u001b[1;36m5\u001b[0m\u001b[1;33m)\u001b[0m\u001b[1;33m\u001b[0m\u001b[1;33m\u001b[0m\u001b[0m\n",
      "\u001b[1;32mC:\\ProgramData\\Anaconda3\\lib\\site-packages\\selenium\\webdriver\\remote\\webdriver.py\u001b[0m in \u001b[0;36mget\u001b[1;34m(self, url)\u001b[0m\n\u001b[0;32m    331\u001b[0m         \u001b[0mLoads\u001b[0m \u001b[0ma\u001b[0m \u001b[0mweb\u001b[0m \u001b[0mpage\u001b[0m \u001b[1;32min\u001b[0m \u001b[0mthe\u001b[0m \u001b[0mcurrent\u001b[0m \u001b[0mbrowser\u001b[0m \u001b[0msession\u001b[0m\u001b[1;33m.\u001b[0m\u001b[1;33m\u001b[0m\u001b[1;33m\u001b[0m\u001b[0m\n\u001b[0;32m    332\u001b[0m         \"\"\"\n\u001b[1;32m--> 333\u001b[1;33m         \u001b[0mself\u001b[0m\u001b[1;33m.\u001b[0m\u001b[0mexecute\u001b[0m\u001b[1;33m(\u001b[0m\u001b[0mCommand\u001b[0m\u001b[1;33m.\u001b[0m\u001b[0mGET\u001b[0m\u001b[1;33m,\u001b[0m \u001b[1;33m{\u001b[0m\u001b[1;34m'url'\u001b[0m\u001b[1;33m:\u001b[0m \u001b[0murl\u001b[0m\u001b[1;33m}\u001b[0m\u001b[1;33m)\u001b[0m\u001b[1;33m\u001b[0m\u001b[1;33m\u001b[0m\u001b[0m\n\u001b[0m\u001b[0;32m    334\u001b[0m \u001b[1;33m\u001b[0m\u001b[0m\n\u001b[0;32m    335\u001b[0m     \u001b[1;33m@\u001b[0m\u001b[0mproperty\u001b[0m\u001b[1;33m\u001b[0m\u001b[1;33m\u001b[0m\u001b[0m\n",
      "\u001b[1;32mC:\\ProgramData\\Anaconda3\\lib\\site-packages\\selenium\\webdriver\\remote\\webdriver.py\u001b[0m in \u001b[0;36mexecute\u001b[1;34m(self, driver_command, params)\u001b[0m\n\u001b[0;32m    319\u001b[0m         \u001b[0mresponse\u001b[0m \u001b[1;33m=\u001b[0m \u001b[0mself\u001b[0m\u001b[1;33m.\u001b[0m\u001b[0mcommand_executor\u001b[0m\u001b[1;33m.\u001b[0m\u001b[0mexecute\u001b[0m\u001b[1;33m(\u001b[0m\u001b[0mdriver_command\u001b[0m\u001b[1;33m,\u001b[0m \u001b[0mparams\u001b[0m\u001b[1;33m)\u001b[0m\u001b[1;33m\u001b[0m\u001b[1;33m\u001b[0m\u001b[0m\n\u001b[0;32m    320\u001b[0m         \u001b[1;32mif\u001b[0m \u001b[0mresponse\u001b[0m\u001b[1;33m:\u001b[0m\u001b[1;33m\u001b[0m\u001b[1;33m\u001b[0m\u001b[0m\n\u001b[1;32m--> 321\u001b[1;33m             \u001b[0mself\u001b[0m\u001b[1;33m.\u001b[0m\u001b[0merror_handler\u001b[0m\u001b[1;33m.\u001b[0m\u001b[0mcheck_response\u001b[0m\u001b[1;33m(\u001b[0m\u001b[0mresponse\u001b[0m\u001b[1;33m)\u001b[0m\u001b[1;33m\u001b[0m\u001b[1;33m\u001b[0m\u001b[0m\n\u001b[0m\u001b[0;32m    322\u001b[0m             response['value'] = self._unwrap_value(\n\u001b[0;32m    323\u001b[0m                 response.get('value', None))\n",
      "\u001b[1;32mC:\\ProgramData\\Anaconda3\\lib\\site-packages\\selenium\\webdriver\\remote\\errorhandler.py\u001b[0m in \u001b[0;36mcheck_response\u001b[1;34m(self, response)\u001b[0m\n\u001b[0;32m    240\u001b[0m                 \u001b[0malert_text\u001b[0m \u001b[1;33m=\u001b[0m \u001b[0mvalue\u001b[0m\u001b[1;33m[\u001b[0m\u001b[1;34m'alert'\u001b[0m\u001b[1;33m]\u001b[0m\u001b[1;33m.\u001b[0m\u001b[0mget\u001b[0m\u001b[1;33m(\u001b[0m\u001b[1;34m'text'\u001b[0m\u001b[1;33m)\u001b[0m\u001b[1;33m\u001b[0m\u001b[1;33m\u001b[0m\u001b[0m\n\u001b[0;32m    241\u001b[0m             \u001b[1;32mraise\u001b[0m \u001b[0mexception_class\u001b[0m\u001b[1;33m(\u001b[0m\u001b[0mmessage\u001b[0m\u001b[1;33m,\u001b[0m \u001b[0mscreen\u001b[0m\u001b[1;33m,\u001b[0m \u001b[0mstacktrace\u001b[0m\u001b[1;33m,\u001b[0m \u001b[0malert_text\u001b[0m\u001b[1;33m)\u001b[0m\u001b[1;33m\u001b[0m\u001b[1;33m\u001b[0m\u001b[0m\n\u001b[1;32m--> 242\u001b[1;33m         \u001b[1;32mraise\u001b[0m \u001b[0mexception_class\u001b[0m\u001b[1;33m(\u001b[0m\u001b[0mmessage\u001b[0m\u001b[1;33m,\u001b[0m \u001b[0mscreen\u001b[0m\u001b[1;33m,\u001b[0m \u001b[0mstacktrace\u001b[0m\u001b[1;33m)\u001b[0m\u001b[1;33m\u001b[0m\u001b[1;33m\u001b[0m\u001b[0m\n\u001b[0m\u001b[0;32m    243\u001b[0m \u001b[1;33m\u001b[0m\u001b[0m\n\u001b[0;32m    244\u001b[0m     \u001b[1;32mdef\u001b[0m \u001b[0m_value_or_default\u001b[0m\u001b[1;33m(\u001b[0m\u001b[0mself\u001b[0m\u001b[1;33m,\u001b[0m \u001b[0mobj\u001b[0m\u001b[1;33m,\u001b[0m \u001b[0mkey\u001b[0m\u001b[1;33m,\u001b[0m \u001b[0mdefault\u001b[0m\u001b[1;33m)\u001b[0m\u001b[1;33m:\u001b[0m\u001b[1;33m\u001b[0m\u001b[1;33m\u001b[0m\u001b[0m\n",
      "\u001b[1;31mWebDriverException\u001b[0m: Message: unknown error: cannot determine loading status\nfrom disconnected: received Inspector.detached event\n  (Session info: chrome=81.0.4044.138)\n"
     ]
    }
   ],
   "source": [
    "all_text=[]\n",
    "\n",
    "for page in range(1,9):\n",
    "\n",
    "    driver = webdriver.Chrome(\"chromedriver\")\n",
    "    url = 'http://www.hani.co.kr/arti/politics/list{}.html'.format(page)\n",
    "    driver.get(url)\n",
    "    soup = BeautifulSoup(driver.page_source,'lxml')\n",
    "    time.sleep(5)\n",
    "    print(\"--\"+ str(page) + \"--\")\n",
    "    \n",
    "    for i in range(0,14):\n",
    "\n",
    "        link01 =soup.find_all(\"h4\", class_=\"article-title\")[i].find('a')['href']\n",
    "        url01 = 'http://www.hani.co.kr' + link01\n",
    "        driver.get(url01)\n",
    "        time.sleep(5)\n",
    "        print(\"@@\"+ str(i)+ \"번째 기사\")\n",
    "        \n",
    "        for i in article_text_01:\n",
    "            \n",
    "            soup01 = BeautifulSoup(driver.page_source, 'lxml')\n",
    "            article_text_01 = soup01.find_all(\"div\", class_=\"text\")\n",
    "            i_text = i.text\n",
    "            all_text.append(i_text)    \n",
    "\n",
    "\n",
    "\n"
   ]
  },
  {
   "cell_type": "code",
   "execution_count": null,
   "metadata": {},
   "outputs": [],
   "source": [
    "import sys\n",
    "sys.stdout = open('output.txt','w')\n",
    " \n",
    "print(all_text)\n",
    "\n",
    "from konlpy.tag import Okt "
   ]
  },
  {
   "cell_type": "code",
   "execution_count": 62,
   "metadata": {},
   "outputs": [],
   "source": [
    "doc_ko = open(\"output.txt\").read()\n",
    "\n",
    "t = Okt()"
   ]
  },
  {
   "cell_type": "code",
   "execution_count": 67,
   "metadata": {},
   "outputs": [
    {
     "ename": "NameError",
     "evalue": "name 'Okt' is not defined",
     "output_type": "error",
     "traceback": [
      "\u001b[1;31m---------------------------------------------------------------------------\u001b[0m",
      "\u001b[1;31mNameError\u001b[0m                                 Traceback (most recent call last)",
      "\u001b[1;32m<ipython-input-67-6b14b27dddd3>\u001b[0m in \u001b[0;36m<module>\u001b[1;34m\u001b[0m\n\u001b[1;32m----> 1\u001b[1;33m \u001b[0mt\u001b[0m \u001b[1;33m=\u001b[0m \u001b[0mOkt\u001b[0m\u001b[1;33m(\u001b[0m\u001b[1;33m)\u001b[0m\u001b[1;33m\u001b[0m\u001b[1;33m\u001b[0m\u001b[0m\n\u001b[0m\u001b[0;32m      2\u001b[0m \u001b[0mdoc_nouns\u001b[0m \u001b[1;33m=\u001b[0m \u001b[0mt\u001b[0m\u001b[1;33m.\u001b[0m\u001b[0mnouns\u001b[0m\u001b[1;33m(\u001b[0m\u001b[0mdoc_ko\u001b[0m\u001b[1;33m)\u001b[0m\u001b[1;33m\u001b[0m\u001b[1;33m\u001b[0m\u001b[0m\n\u001b[0;32m      3\u001b[0m \u001b[1;33m\u001b[0m\u001b[0m\n\u001b[0;32m      4\u001b[0m \u001b[0mko\u001b[0m \u001b[1;33m=\u001b[0m \u001b[0mnltk\u001b[0m\u001b[1;33m.\u001b[0m\u001b[0mText\u001b[0m\u001b[1;33m(\u001b[0m\u001b[0mdoc_nouns\u001b[0m\u001b[1;33m,\u001b[0m \u001b[0mname\u001b[0m \u001b[1;33m=\u001b[0m \u001b[1;34m\"분노의 질주\"\u001b[0m\u001b[1;33m)\u001b[0m\u001b[1;33m\u001b[0m\u001b[1;33m\u001b[0m\u001b[0m\n\u001b[0;32m      5\u001b[0m \u001b[0mprint\u001b[0m\u001b[1;33m(\u001b[0m\u001b[0mlen\u001b[0m\u001b[1;33m(\u001b[0m\u001b[0mko\u001b[0m\u001b[1;33m.\u001b[0m\u001b[0mtokens\u001b[0m\u001b[1;33m)\u001b[0m\u001b[1;33m)\u001b[0m\u001b[1;33m\u001b[0m\u001b[1;33m\u001b[0m\u001b[0m\n",
      "\u001b[1;31mNameError\u001b[0m: name 'Okt' is not defined"
     ]
    }
   ],
   "source": [
    "t = Okt()\n",
    "\n",
    "doc_nouns = t.nouns(doc_ko)\n",
    "ko = nltk.Text(doc_nouns, name = \"분노의 질주\")\n",
    "\n",
    "print(len(ko.tokens))\n",
    "print(type(ko))"
   ]
  },
  {
   "cell_type": "code",
   "execution_count": 66,
   "metadata": {},
   "outputs": [
    {
     "name": "stderr",
     "output_type": "stream",
     "text": [
      "[nltk_data] Downloading package punkt to C:\\Users\\Seoul\n",
      "[nltk_data]     IT\\AppData\\Roaming\\nltk_data...\n",
      "[nltk_data]   Unzipping tokenizers\\punkt.zip.\n"
     ]
    },
    {
     "data": {
      "text/plain": [
       "True"
      ]
     },
     "execution_count": 66,
     "metadata": {},
     "output_type": "execute_result"
    }
   ],
   "source": [
    "\n",
    "\n",
    "\n",
    "import nltk\n",
    "nltk.download('punkt')"
   ]
  },
  {
   "cell_type": "code",
   "execution_count": null,
   "metadata": {},
   "outputs": [],
   "source": [
    "from wordcloud import WordCloud, STOPWORDS\n",
    "from PIL import Image"
   ]
  },
  {
   "cell_type": "code",
   "execution_count": null,
   "metadata": {},
   "outputs": [],
   "source": []
  },
  {
   "cell_type": "code",
   "execution_count": null,
   "metadata": {},
   "outputs": [],
   "source": []
  },
  {
   "cell_type": "code",
   "execution_count": null,
   "metadata": {},
   "outputs": [],
   "source": []
  },
  {
   "cell_type": "code",
   "execution_count": null,
   "metadata": {},
   "outputs": [],
   "source": []
  },
  {
   "cell_type": "code",
   "execution_count": null,
   "metadata": {},
   "outputs": [],
   "source": []
  },
  {
   "cell_type": "code",
   "execution_count": null,
   "metadata": {},
   "outputs": [],
   "source": [
    "driver = webdriver.Chrome(\"chromedriver\")\n",
    "url = \"http://www.hani.co.kr/arti/politics/home01.html\"\n",
    "driver.get(url)"
   ]
  },
  {
   "cell_type": "code",
   "execution_count": null,
   "metadata": {},
   "outputs": [],
   "source": [
    "link02 =soup.find_all(\"h4\", class_=\"article-title\")[i].find('a')['href']\n",
    "url02 = 'http://www.hani.co.kr' + link02\n",
    "driver.get(url02)"
   ]
  },
  {
   "cell_type": "code",
   "execution_count": 100,
   "metadata": {},
   "outputs": [
    {
     "name": "stdout",
     "output_type": "stream",
     "text": [
      "--1--\n",
      "@@0번째 기사\n",
      "@@1번째 기사\n",
      "@@2번째 기사\n",
      "@@3번째 기사\n",
      "@@4번째 기사\n",
      "@@5번째 기사\n",
      "@@6번째 기사\n",
      "@@7번째 기사\n",
      "@@8번째 기사\n",
      "@@9번째 기사\n",
      "@@10번째 기사\n",
      "@@11번째 기사\n",
      "@@12번째 기사\n",
      "@@13번째 기사\n",
      "--2--\n",
      "@@0번째 기사\n",
      "@@1번째 기사\n",
      "@@2번째 기사\n",
      "@@3번째 기사\n",
      "@@4번째 기사\n",
      "@@5번째 기사\n",
      "@@6번째 기사\n"
     ]
    },
    {
     "ename": "NoSuchElementException",
     "evalue": "Message: no such element: Unable to locate element: {\"method\":\"xpath\",\"selector\":\"//*[@id=\"a-left-scroll-in\"]/div[2]/div/div[2]\"}\n  (Session info: chrome=81.0.4044.138)\n",
     "output_type": "error",
     "traceback": [
      "\u001b[1;31m---------------------------------------------------------------------------\u001b[0m",
      "\u001b[1;31mNoSuchElementException\u001b[0m                    Traceback (most recent call last)",
      "\u001b[1;32m<ipython-input-100-192d50d2eaee>\u001b[0m in \u001b[0;36m<module>\u001b[1;34m\u001b[0m\n\u001b[0;32m     23\u001b[0m         \u001b[1;31m#article_text_02 = driver.find_element_by_class_name(\"text\")\u001b[0m\u001b[1;33m\u001b[0m\u001b[1;33m\u001b[0m\u001b[1;33m\u001b[0m\u001b[0m\n\u001b[0;32m     24\u001b[0m         \u001b[1;31m#article_text_02 = soup02.find_all(\"div\", class_=\"text\")[0].text\u001b[0m\u001b[1;33m\u001b[0m\u001b[1;33m\u001b[0m\u001b[1;33m\u001b[0m\u001b[0m\n\u001b[1;32m---> 25\u001b[1;33m         \u001b[0marticle_content\u001b[0m \u001b[1;33m=\u001b[0m \u001b[0mdriver\u001b[0m\u001b[1;33m.\u001b[0m\u001b[0mfind_element_by_xpath\u001b[0m\u001b[1;33m(\u001b[0m\u001b[1;34m'//*[@id=\"a-left-scroll-in\"]/div[2]/div/div[2]'\u001b[0m\u001b[1;33m)\u001b[0m\u001b[1;33m.\u001b[0m\u001b[0mtext\u001b[0m\u001b[1;33m\u001b[0m\u001b[1;33m\u001b[0m\u001b[0m\n\u001b[0m\u001b[0;32m     26\u001b[0m         \u001b[0marticle_all\u001b[0m\u001b[1;33m.\u001b[0m\u001b[0mappend\u001b[0m\u001b[1;33m(\u001b[0m\u001b[0marticle_content\u001b[0m\u001b[1;33m)\u001b[0m\u001b[1;33m\u001b[0m\u001b[1;33m\u001b[0m\u001b[0m\n\u001b[0;32m     27\u001b[0m         \u001b[0mprint\u001b[0m\u001b[1;33m(\u001b[0m\u001b[1;34m\"@@\"\u001b[0m\u001b[1;33m+\u001b[0m \u001b[0mstr\u001b[0m\u001b[1;33m(\u001b[0m\u001b[0mi\u001b[0m\u001b[1;33m)\u001b[0m\u001b[1;33m+\u001b[0m \u001b[1;34m\"번째 기사\"\u001b[0m\u001b[1;33m)\u001b[0m\u001b[1;33m\u001b[0m\u001b[1;33m\u001b[0m\u001b[0m\n",
      "\u001b[1;32mC:\\ProgramData\\Anaconda3\\lib\\site-packages\\selenium\\webdriver\\remote\\webdriver.py\u001b[0m in \u001b[0;36mfind_element_by_xpath\u001b[1;34m(self, xpath)\u001b[0m\n\u001b[0;32m    392\u001b[0m             \u001b[0melement\u001b[0m \u001b[1;33m=\u001b[0m \u001b[0mdriver\u001b[0m\u001b[1;33m.\u001b[0m\u001b[0mfind_element_by_xpath\u001b[0m\u001b[1;33m(\u001b[0m\u001b[1;34m'//div/td[1]'\u001b[0m\u001b[1;33m)\u001b[0m\u001b[1;33m\u001b[0m\u001b[1;33m\u001b[0m\u001b[0m\n\u001b[0;32m    393\u001b[0m         \"\"\"\n\u001b[1;32m--> 394\u001b[1;33m         \u001b[1;32mreturn\u001b[0m \u001b[0mself\u001b[0m\u001b[1;33m.\u001b[0m\u001b[0mfind_element\u001b[0m\u001b[1;33m(\u001b[0m\u001b[0mby\u001b[0m\u001b[1;33m=\u001b[0m\u001b[0mBy\u001b[0m\u001b[1;33m.\u001b[0m\u001b[0mXPATH\u001b[0m\u001b[1;33m,\u001b[0m \u001b[0mvalue\u001b[0m\u001b[1;33m=\u001b[0m\u001b[0mxpath\u001b[0m\u001b[1;33m)\u001b[0m\u001b[1;33m\u001b[0m\u001b[1;33m\u001b[0m\u001b[0m\n\u001b[0m\u001b[0;32m    395\u001b[0m \u001b[1;33m\u001b[0m\u001b[0m\n\u001b[0;32m    396\u001b[0m     \u001b[1;32mdef\u001b[0m \u001b[0mfind_elements_by_xpath\u001b[0m\u001b[1;33m(\u001b[0m\u001b[0mself\u001b[0m\u001b[1;33m,\u001b[0m \u001b[0mxpath\u001b[0m\u001b[1;33m)\u001b[0m\u001b[1;33m:\u001b[0m\u001b[1;33m\u001b[0m\u001b[1;33m\u001b[0m\u001b[0m\n",
      "\u001b[1;32mC:\\ProgramData\\Anaconda3\\lib\\site-packages\\selenium\\webdriver\\remote\\webdriver.py\u001b[0m in \u001b[0;36mfind_element\u001b[1;34m(self, by, value)\u001b[0m\n\u001b[0;32m    976\u001b[0m         return self.execute(Command.FIND_ELEMENT, {\n\u001b[0;32m    977\u001b[0m             \u001b[1;34m'using'\u001b[0m\u001b[1;33m:\u001b[0m \u001b[0mby\u001b[0m\u001b[1;33m,\u001b[0m\u001b[1;33m\u001b[0m\u001b[1;33m\u001b[0m\u001b[0m\n\u001b[1;32m--> 978\u001b[1;33m             'value': value})['value']\n\u001b[0m\u001b[0;32m    979\u001b[0m \u001b[1;33m\u001b[0m\u001b[0m\n\u001b[0;32m    980\u001b[0m     \u001b[1;32mdef\u001b[0m \u001b[0mfind_elements\u001b[0m\u001b[1;33m(\u001b[0m\u001b[0mself\u001b[0m\u001b[1;33m,\u001b[0m \u001b[0mby\u001b[0m\u001b[1;33m=\u001b[0m\u001b[0mBy\u001b[0m\u001b[1;33m.\u001b[0m\u001b[0mID\u001b[0m\u001b[1;33m,\u001b[0m \u001b[0mvalue\u001b[0m\u001b[1;33m=\u001b[0m\u001b[1;32mNone\u001b[0m\u001b[1;33m)\u001b[0m\u001b[1;33m:\u001b[0m\u001b[1;33m\u001b[0m\u001b[1;33m\u001b[0m\u001b[0m\n",
      "\u001b[1;32mC:\\ProgramData\\Anaconda3\\lib\\site-packages\\selenium\\webdriver\\remote\\webdriver.py\u001b[0m in \u001b[0;36mexecute\u001b[1;34m(self, driver_command, params)\u001b[0m\n\u001b[0;32m    319\u001b[0m         \u001b[0mresponse\u001b[0m \u001b[1;33m=\u001b[0m \u001b[0mself\u001b[0m\u001b[1;33m.\u001b[0m\u001b[0mcommand_executor\u001b[0m\u001b[1;33m.\u001b[0m\u001b[0mexecute\u001b[0m\u001b[1;33m(\u001b[0m\u001b[0mdriver_command\u001b[0m\u001b[1;33m,\u001b[0m \u001b[0mparams\u001b[0m\u001b[1;33m)\u001b[0m\u001b[1;33m\u001b[0m\u001b[1;33m\u001b[0m\u001b[0m\n\u001b[0;32m    320\u001b[0m         \u001b[1;32mif\u001b[0m \u001b[0mresponse\u001b[0m\u001b[1;33m:\u001b[0m\u001b[1;33m\u001b[0m\u001b[1;33m\u001b[0m\u001b[0m\n\u001b[1;32m--> 321\u001b[1;33m             \u001b[0mself\u001b[0m\u001b[1;33m.\u001b[0m\u001b[0merror_handler\u001b[0m\u001b[1;33m.\u001b[0m\u001b[0mcheck_response\u001b[0m\u001b[1;33m(\u001b[0m\u001b[0mresponse\u001b[0m\u001b[1;33m)\u001b[0m\u001b[1;33m\u001b[0m\u001b[1;33m\u001b[0m\u001b[0m\n\u001b[0m\u001b[0;32m    322\u001b[0m             response['value'] = self._unwrap_value(\n\u001b[0;32m    323\u001b[0m                 response.get('value', None))\n",
      "\u001b[1;32mC:\\ProgramData\\Anaconda3\\lib\\site-packages\\selenium\\webdriver\\remote\\errorhandler.py\u001b[0m in \u001b[0;36mcheck_response\u001b[1;34m(self, response)\u001b[0m\n\u001b[0;32m    240\u001b[0m                 \u001b[0malert_text\u001b[0m \u001b[1;33m=\u001b[0m \u001b[0mvalue\u001b[0m\u001b[1;33m[\u001b[0m\u001b[1;34m'alert'\u001b[0m\u001b[1;33m]\u001b[0m\u001b[1;33m.\u001b[0m\u001b[0mget\u001b[0m\u001b[1;33m(\u001b[0m\u001b[1;34m'text'\u001b[0m\u001b[1;33m)\u001b[0m\u001b[1;33m\u001b[0m\u001b[1;33m\u001b[0m\u001b[0m\n\u001b[0;32m    241\u001b[0m             \u001b[1;32mraise\u001b[0m \u001b[0mexception_class\u001b[0m\u001b[1;33m(\u001b[0m\u001b[0mmessage\u001b[0m\u001b[1;33m,\u001b[0m \u001b[0mscreen\u001b[0m\u001b[1;33m,\u001b[0m \u001b[0mstacktrace\u001b[0m\u001b[1;33m,\u001b[0m \u001b[0malert_text\u001b[0m\u001b[1;33m)\u001b[0m\u001b[1;33m\u001b[0m\u001b[1;33m\u001b[0m\u001b[0m\n\u001b[1;32m--> 242\u001b[1;33m         \u001b[1;32mraise\u001b[0m \u001b[0mexception_class\u001b[0m\u001b[1;33m(\u001b[0m\u001b[0mmessage\u001b[0m\u001b[1;33m,\u001b[0m \u001b[0mscreen\u001b[0m\u001b[1;33m,\u001b[0m \u001b[0mstacktrace\u001b[0m\u001b[1;33m)\u001b[0m\u001b[1;33m\u001b[0m\u001b[1;33m\u001b[0m\u001b[0m\n\u001b[0m\u001b[0;32m    243\u001b[0m \u001b[1;33m\u001b[0m\u001b[0m\n\u001b[0;32m    244\u001b[0m     \u001b[1;32mdef\u001b[0m \u001b[0m_value_or_default\u001b[0m\u001b[1;33m(\u001b[0m\u001b[0mself\u001b[0m\u001b[1;33m,\u001b[0m \u001b[0mobj\u001b[0m\u001b[1;33m,\u001b[0m \u001b[0mkey\u001b[0m\u001b[1;33m,\u001b[0m \u001b[0mdefault\u001b[0m\u001b[1;33m)\u001b[0m\u001b[1;33m:\u001b[0m\u001b[1;33m\u001b[0m\u001b[1;33m\u001b[0m\u001b[0m\n",
      "\u001b[1;31mNoSuchElementException\u001b[0m: Message: no such element: Unable to locate element: {\"method\":\"xpath\",\"selector\":\"//*[@id=\"a-left-scroll-in\"]/div[2]/div/div[2]\"}\n  (Session info: chrome=81.0.4044.138)\n"
     ]
    }
   ],
   "source": [
    "article_all =[]    \n",
    "\n",
    "for page in range(1,1):\n",
    "    \n",
    "    driver = webdriver.Chrome(\"chromedriver\")\n",
    "    url = 'http://www.hani.co.kr/arti/politics/list{}.html'.format(page)\n",
    "    driver.get(url)\n",
    "    soup = BeautifulSoup(driver.page_source,'lxml')\n",
    "    \n",
    "    time.sleep(1)\n",
    "    print(\"--\"+ str(page) + \"--\")\n",
    "    \n",
    "    \n",
    "    for i in range(0,1):\n",
    "\n",
    "        link02 =soup.find_all(\"h4\", class_=\"article-title\")[i].find('a')['href']\n",
    "        url02 = 'http://www.hani.co.kr' + link02\n",
    "        driver.get(url02)\n",
    "\n",
    "        time.sleep(1)\n",
    "        soup02 = BeautifulSoup(driver.page_source, 'lxml')\n",
    "\n",
    "        #article_text_02 = driver.find_element_by_class_name(\"text\")\n",
    "        #article_text_02 = soup02.find_all(\"div\", class_=\"text\")[0].text\n",
    "        article_content = driver.find_element_by_xpath('//*[@id=\"a-left-scroll-in\"]/div[2]/div/div[2]').text\n",
    "        article_all.append(article_content)\n",
    "        print(\"@@\"+ str(i)+ \"번째 기사\")\n",
    "\n"
   ]
  },
  {
   "cell_type": "code",
   "execution_count": null,
   "metadata": {},
   "outputs": [],
   "source": [
    "    driver = webdriver.Chrome(\"chromedriver\")\n",
    "    url = 'http://www.hani.co.kr/arti/politics/list{}.html'.format(page)\n",
    "    driver.get(url)\n",
    "    soup = BeautifulSoup(driver.page_source,'lxml')\n",
    "    \n",
    "    time.sleep(1)\n",
    "    print(\"--\"+ str(page) + \"--\")\n",
    "    "
   ]
  },
  {
   "cell_type": "code",
   "execution_count": null,
   "metadata": {},
   "outputs": [],
   "source": []
  },
  {
   "cell_type": "code",
   "execution_count": null,
   "metadata": {},
   "outputs": [],
   "source": [
    "# #기사 찾아오기 \n",
    "\n",
    "\n",
    "# new_all_review=[]\n",
    "# for page in range(1,40,1):\n",
    "#     time.sleep(2)\n",
    "#     page_btn = '//*[@id=\"_review_paging\"]/a['+ str(page) +']'\n",
    "#     #print(page_btn)    \n",
    "#     #클릭을 시켜보자 \n",
    "#     next_page = browser.find_element_by_xpath(page_btn)\n",
    "#     next_page.click()\n",
    "    \n",
    "#     # 한페이지의 소스 가져오기 \n",
    "#     soup = BeautifulSoup(browser.page_source, 'lxml')\n",
    "    \n",
    "#     # 해당되는 부분의 소스를 가져오고 \n",
    "#     dat = soup.find(\"ul\", id=\"_review_list\")\n",
    "#     page_review_li = dat.find_all(\"li\")\n",
    "\n",
    "#     -----------------------------------------------------\n",
    "    \n",
    "    \n",
    "\n",
    "# for page in range(1,20): \n",
    "#     time.sleep(4)\n",
    "#     page_btn = //*[@id=\"section-left-scroll-in\"]/div[4]/a[i] \n",
    "#     next_page = driver.find_element_by_xpath(page_btn)\n",
    "#     next_page.click\n",
    " \n",
    "article_all =[]    \n",
    "for page in range(1,3):\n",
    "    \n",
    "    url =\"http://www.hani.co.kr/arti/politics/list{}.html\".format(page)\n",
    "    driver.get(url)\n",
    "    \n",
    "    time.sleep(2)\n",
    "    \n",
    "    for i in range(0,14):\n",
    "\n",
    "        link02 =soup.find_all(\"h4\", class_=\"article-title\")[i].find('a')['href']\n",
    "        url02 = 'http://www.hani.co.kr' + link02\n",
    "        driver.get(url02)\n",
    "\n",
    "        time.sleep(2)\n",
    "        soup02 = BeautifulSoup(driver.page_source, 'lxml')\n",
    "\n",
    "        #article_text_02 = driver.find_element_by_class_name(\"text\")\n",
    "        #article_text_02 = soup02.find_all(\"div\", class_=\"text\")[0].text\n",
    "        article_content = driver.find_element_by_xpath('//*[@id=\"a-left-scroll-in\"]/div[2]/div/div[2]').text\n",
    "        article_all.append(article_content)\n",
    "\n"
   ]
  },
  {
   "cell_type": "code",
   "execution_count": null,
   "metadata": {},
   "outputs": [],
   "source": []
  },
  {
   "cell_type": "code",
   "execution_count": null,
   "metadata": {},
   "outputs": [],
   "source": []
  },
  {
   "cell_type": "code",
   "execution_count": 84,
   "metadata": {},
   "outputs": [],
   "source": [
    "##"
   ]
  },
  {
   "cell_type": "code",
   "execution_count": null,
   "metadata": {},
   "outputs": [],
   "source": []
  },
  {
   "cell_type": "code",
   "execution_count": null,
   "metadata": {},
   "outputs": [],
   "source": []
  },
  {
   "cell_type": "code",
   "execution_count": null,
   "metadata": {},
   "outputs": [],
   "source": []
  },
  {
   "cell_type": "code",
   "execution_count": null,
   "metadata": {},
   "outputs": [],
   "source": []
  },
  {
   "cell_type": "code",
   "execution_count": null,
   "metadata": {},
   "outputs": [],
   "source": []
  },
  {
   "cell_type": "code",
   "execution_count": null,
   "metadata": {},
   "outputs": [],
   "source": []
  },
  {
   "cell_type": "code",
   "execution_count": null,
   "metadata": {},
   "outputs": [],
   "source": []
  },
  {
   "cell_type": "code",
   "execution_count": null,
   "metadata": {},
   "outputs": [],
   "source": []
  },
  {
   "cell_type": "code",
   "execution_count": null,
   "metadata": {},
   "outputs": [],
   "source": []
  },
  {
   "cell_type": "code",
   "execution_count": null,
   "metadata": {},
   "outputs": [],
   "source": []
  },
  {
   "cell_type": "code",
   "execution_count": null,
   "metadata": {},
   "outputs": [],
   "source": [
    "# 페이지 완성 \n",
    "\n",
    "for i in range(0,14):\n",
    "    \n",
    "    link02 =soup.find_all(\"h4\", class_=\"article-title\")[i].find('a')['href']\n",
    "    url02 = 'http://www.hani.co.kr' + link02\n",
    "    driver.get(url02)\n",
    "\n",
    "    time.sleep(4)\n",
    "    soup02 = BeautifulSoup(driver.page_source, 'lxml')\n",
    "\n",
    "    #article_text_02 = driver.find_element_by_class_name(\"text\")\n",
    "    #article_text_02 = soup02.find_all(\"div\", class_=\"text\")[0].text\n",
    "    article_content = driver.find_element_by_xpath('//*[@id=\"a-left-scroll-in\"]/div[2]/div/div[2]').text\n",
    "    article_all.append(article_content)\n"
   ]
  }
 ],
 "metadata": {
  "kernelspec": {
   "display_name": "Python 3",
   "language": "python",
   "name": "python3"
  },
  "language_info": {
   "codemirror_mode": {
    "name": "ipython",
    "version": 3
   },
   "file_extension": ".py",
   "mimetype": "text/x-python",
   "name": "python",
   "nbconvert_exporter": "python",
   "pygments_lexer": "ipython3",
   "version": "3.7.1"
  }
 },
 "nbformat": 4,
 "nbformat_minor": 2
}
