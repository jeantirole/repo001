{
  "nbformat": 4,
  "nbformat_minor": 0,
  "metadata": {
    "colab": {
      "name": "0720_Jeju_append_ver02.ipynb",
      "provenance": [],
      "collapsed_sections": [],
      "authorship_tag": "ABX9TyPGSabeOdETN4ijfzVSNcgF",
      "include_colab_link": true
    },
    "kernelspec": {
      "name": "python3",
      "display_name": "Python 3"
    }
  },
  "cells": [
    {
      "cell_type": "markdown",
      "metadata": {
        "id": "view-in-github",
        "colab_type": "text"
      },
      "source": [
        "<a href=\"https://colab.research.google.com/github/jeantirole/repo001/blob/master/0720_Jeju_append_ver04.ipynb\" target=\"_parent\"><img src=\"https://colab.research.google.com/assets/colab-badge.svg\" alt=\"Open In Colab\"/></a>"
      ]
    },
    {
      "cell_type": "code",
      "metadata": {
        "id": "gfChesnwQTXe",
        "colab_type": "code",
        "colab": {
          "base_uri": "https://localhost:8080/",
          "height": 34
        },
        "outputId": "ddd403fb-f7a0-49d8-d7bc-cfa864c2a461"
      },
      "source": [
        "from google.colab import drive\n",
        "ROOT = '/content/drive'\n",
        "drive.mount(ROOT)\n",
        "\n",
        "import pandas as pd\n",
        "from pandas.io import gbq"
      ],
      "execution_count": 1,
      "outputs": [
        {
          "output_type": "stream",
          "text": [
            "Drive already mounted at /content/drive; to attempt to forcibly remount, call drive.mount(\"/content/drive\", force_remount=True).\n"
          ],
          "name": "stdout"
        }
      ]
    },
    {
      "cell_type": "code",
      "metadata": {
        "id": "PfmQNCS-QYCE",
        "colab_type": "code",
        "colab": {
          "base_uri": "https://localhost:8080/",
          "height": 72
        },
        "outputId": "4b8ee7ca-f1c2-48d9-c01c-674897e55105"
      },
      "source": [
        "import pandas as pd\n",
        "import matplotlib as mpl\n",
        "import matplotlib.pyplot as plt\n",
        "import seaborn as sns\n",
        "\n",
        "import warnings\n",
        "warnings.filterwarnings(action = 'ignore')"
      ],
      "execution_count": 2,
      "outputs": [
        {
          "output_type": "stream",
          "text": [
            "/usr/local/lib/python3.6/dist-packages/statsmodels/tools/_testing.py:19: FutureWarning: pandas.util.testing is deprecated. Use the functions in the public API at pandas.testing instead.\n",
            "  import pandas.util.testing as tm\n"
          ],
          "name": "stderr"
        }
      ]
    },
    {
      "cell_type": "code",
      "metadata": {
        "id": "ZhGUzUTsQZJZ",
        "colab_type": "code",
        "colab": {
          "base_uri": "https://localhost:8080/",
          "height": 34
        },
        "outputId": "94d2fec8-6f6a-4a49-b287-6df1d4c70f51"
      },
      "source": [
        "from os.path import join  \n",
        "\n",
        "MY_GOOGLE_DRIVE_PATH = 'My Drive/Data_Corona'\n",
        "PROJECT_PATH = join(ROOT, MY_GOOGLE_DRIVE_PATH)\n",
        "print(PROJECT_PATH)"
      ],
      "execution_count": 3,
      "outputs": [
        {
          "output_type": "stream",
          "text": [
            "/content/drive/My Drive/Data_Corona\n"
          ],
          "name": "stdout"
        }
      ]
    },
    {
      "cell_type": "code",
      "metadata": {
        "id": "_BbkbviGQfiV",
        "colab_type": "code",
        "colab": {
          "base_uri": "https://localhost:8080/",
          "height": 87
        },
        "outputId": "4b484d35-ae17-481c-9e78-afbf7ab76f97"
      },
      "source": [
        "%cd \"{PROJECT_PATH}\"\n",
        "!ls"
      ],
      "execution_count": 4,
      "outputs": [
        {
          "output_type": "stream",
          "text": [
            "/content/drive/My Drive/Data_Corona\n",
            "Case.csv\t  Policy.csv\t   SeoulFloating.csv  TimeGender.csv\n",
            "PatientInfo.csv   Region.csv\t   TimeAge.csv\t      TimeProvince.csv\n",
            "PatientRoute.csv  SearchTrend.csv  Time.csv\t      Weather.csv\n"
          ],
          "name": "stdout"
        }
      ]
    },
    {
      "cell_type": "code",
      "metadata": {
        "id": "xHskV2ecQg5B",
        "colab_type": "code",
        "colab": {}
      },
      "source": [
        "P001= pd.read_csv('/content/drive/My Drive/Data_Corona/PatientInfo.csv')"
      ],
      "execution_count": 5,
      "outputs": []
    },
    {
      "cell_type": "code",
      "metadata": {
        "id": "csFhfHnwQflG",
        "colab_type": "code",
        "colab": {}
      },
      "source": [
        "import time "
      ],
      "execution_count": 6,
      "outputs": []
    },
    {
      "cell_type": "code",
      "metadata": {
        "id": "FMpnRWXgQZMB",
        "colab_type": "code",
        "colab": {
          "base_uri": "https://localhost:8080/",
          "height": 34
        },
        "outputId": "01361612-c0b1-402d-caa4-d2e4af140566"
      },
      "source": [
        "from google.colab import auth\n",
        "auth.authenticate_user()\n",
        "print('Authenticated')"
      ],
      "execution_count": 7,
      "outputs": [
        {
          "output_type": "stream",
          "text": [
            "Authenticated\n"
          ],
          "name": "stdout"
        }
      ]
    },
    {
      "cell_type": "code",
      "metadata": {
        "id": "vQ8_eqDXQmgi",
        "colab_type": "code",
        "colab": {
          "base_uri": "https://localhost:8080/",
          "height": 52
        },
        "outputId": "a6355b3c-5794-42fe-a5c9-c40bc90c4afe"
      },
      "source": [
        "# train load from v \n",
        "%%time\n",
        "\n",
        "from google.cloud import bigquery\n",
        "from tabulate import tabulate\n",
        "import pandas as pd\n",
        "\n",
        "project_id = 'eric-dacon'\n",
        "client = bigquery.Client(project=project_id)\n",
        "\n",
        "train = client.query('''\n",
        "  SELECT \n",
        "    * \n",
        "  FROM `eric-dacon.jeju_data_ver1.201901_202003_train` \n",
        "  LIMIT 200000\n",
        "  ''').to_dataframe()"
      ],
      "execution_count": 8,
      "outputs": [
        {
          "output_type": "stream",
          "text": [
            "CPU times: user 7.24 s, sys: 1.14 s, total: 8.38 s\n",
            "Wall time: 26.1 s\n"
          ],
          "name": "stdout"
        }
      ]
    },
    {
      "cell_type": "code",
      "metadata": {
        "id": "pXjs_B5JQnqB",
        "colab_type": "code",
        "colab": {
          "base_uri": "https://localhost:8080/",
          "height": 52
        },
        "outputId": "007f9014-159b-4def-dc17-fc6efb63833f"
      },
      "source": [
        "# submission load from v \n",
        "\n",
        "%%time\n",
        "project_id = 'eric-dacon'\n",
        "client = bigquery.Client(project=project_id)\n",
        "\n",
        "submission = client.query('''\n",
        "  SELECT \n",
        "    * \n",
        "  FROM `eric-dacon.jeju_data_ver1.submission` \n",
        "  LIMIT 200000\n",
        "  ''').to_dataframe()"
      ],
      "execution_count": 9,
      "outputs": [
        {
          "output_type": "stream",
          "text": [
            "CPU times: user 53.3 ms, sys: 1 ms, total: 54.3 ms\n",
            "Wall time: 1.83 s\n"
          ],
          "name": "stdout"
        }
      ]
    },
    {
      "cell_type": "code",
      "metadata": {
        "id": "CIYiEcT3QpNA",
        "colab_type": "code",
        "colab": {
          "base_uri": "https://localhost:8080/",
          "height": 404
        },
        "outputId": "679ff9d4-0376-4f0b-b227-be7154f7cefe"
      },
      "source": [
        "whos"
      ],
      "execution_count": 10,
      "outputs": [
        {
          "output_type": "stream",
          "text": [
            "Variable               Type         Data/Info\n",
            "---------------------------------------------\n",
            "MY_GOOGLE_DRIVE_PATH   str          My Drive/Data_Corona\n",
            "P001                   DataFrame          patient_id     sex <...>n[5165 rows x 14 columns]\n",
            "PROJECT_PATH           str          /content/drive/My Drive/Data_Corona\n",
            "ROOT                   str          /content/drive\n",
            "auth                   module       <module 'google.colab.aut<...>es/google/colab/auth.py'>\n",
            "bigquery               module       <module 'google.cloud.big<...>ud/bigquery/__init__.py'>\n",
            "client                 Client       <google.cloud.bigquery.cl<...>object at 0x7f783eac1a20>\n",
            "drive                  module       <module 'google.colab.dri<...>s/google/colab/drive.py'>\n",
            "gbq                    module       <module 'pandas.io.gbq' f<...>ckages/pandas/io/gbq.py'>\n",
            "join                   function     <function join at 0x7f786c13ff28>\n",
            "mpl                    module       <module 'matplotlib' from<...>/matplotlib/__init__.py'>\n",
            "pd                     module       <module 'pandas' from '/u<...>ages/pandas/__init__.py'>\n",
            "plt                    module       <module 'matplotlib.pyplo<...>es/matplotlib/pyplot.py'>\n",
            "project_id             str          eric-dacon\n",
            "sns                    module       <module 'seaborn' from '/<...>ges/seaborn/__init__.py'>\n",
            "submission             DataFrame            id  REG_YYMM CARD<...>\\n[1394 rows x 5 columns]\n",
            "tabulate               function     <function tabulate at 0x7f783eb66378>\n",
            "time                   module       <module 'time' (built-in)>\n",
            "train                  DataFrame            REG_YYMM CARD_SID<...>200000 rows x 12 columns]\n",
            "warnings               module       <module 'warnings' from '<...>b/python3.6/warnings.py'>\n"
          ],
          "name": "stdout"
        }
      ]
    },
    {
      "cell_type": "code",
      "metadata": {
        "id": "tRRgaDN5Qnsj",
        "colab_type": "code",
        "colab": {
          "base_uri": "https://localhost:8080/",
          "height": 489
        },
        "outputId": "9dc376ad-c491-42d4-8f73-53a7c31da7fd"
      },
      "source": [
        "P001"
      ],
      "execution_count": 11,
      "outputs": [
        {
          "output_type": "execute_result",
          "data": {
            "text/html": [
              "<div>\n",
              "<style scoped>\n",
              "    .dataframe tbody tr th:only-of-type {\n",
              "        vertical-align: middle;\n",
              "    }\n",
              "\n",
              "    .dataframe tbody tr th {\n",
              "        vertical-align: top;\n",
              "    }\n",
              "\n",
              "    .dataframe thead th {\n",
              "        text-align: right;\n",
              "    }\n",
              "</style>\n",
              "<table border=\"1\" class=\"dataframe\">\n",
              "  <thead>\n",
              "    <tr style=\"text-align: right;\">\n",
              "      <th></th>\n",
              "      <th>patient_id</th>\n",
              "      <th>sex</th>\n",
              "      <th>age</th>\n",
              "      <th>country</th>\n",
              "      <th>province</th>\n",
              "      <th>city</th>\n",
              "      <th>infection_case</th>\n",
              "      <th>infected_by</th>\n",
              "      <th>contact_number</th>\n",
              "      <th>symptom_onset_date</th>\n",
              "      <th>confirmed_date</th>\n",
              "      <th>released_date</th>\n",
              "      <th>deceased_date</th>\n",
              "      <th>state</th>\n",
              "    </tr>\n",
              "  </thead>\n",
              "  <tbody>\n",
              "    <tr>\n",
              "      <th>0</th>\n",
              "      <td>1000000001</td>\n",
              "      <td>male</td>\n",
              "      <td>50s</td>\n",
              "      <td>Korea</td>\n",
              "      <td>Seoul</td>\n",
              "      <td>Gangseo-gu</td>\n",
              "      <td>overseas inflow</td>\n",
              "      <td>NaN</td>\n",
              "      <td>75</td>\n",
              "      <td>2020-01-22</td>\n",
              "      <td>2020-01-23</td>\n",
              "      <td>2020-02-05</td>\n",
              "      <td>NaN</td>\n",
              "      <td>released</td>\n",
              "    </tr>\n",
              "    <tr>\n",
              "      <th>1</th>\n",
              "      <td>1000000002</td>\n",
              "      <td>male</td>\n",
              "      <td>30s</td>\n",
              "      <td>Korea</td>\n",
              "      <td>Seoul</td>\n",
              "      <td>Jungnang-gu</td>\n",
              "      <td>overseas inflow</td>\n",
              "      <td>NaN</td>\n",
              "      <td>31</td>\n",
              "      <td>NaN</td>\n",
              "      <td>2020-01-30</td>\n",
              "      <td>2020-03-02</td>\n",
              "      <td>NaN</td>\n",
              "      <td>released</td>\n",
              "    </tr>\n",
              "    <tr>\n",
              "      <th>2</th>\n",
              "      <td>1000000003</td>\n",
              "      <td>male</td>\n",
              "      <td>50s</td>\n",
              "      <td>Korea</td>\n",
              "      <td>Seoul</td>\n",
              "      <td>Jongno-gu</td>\n",
              "      <td>contact with patient</td>\n",
              "      <td>2002000001</td>\n",
              "      <td>17</td>\n",
              "      <td>NaN</td>\n",
              "      <td>2020-01-30</td>\n",
              "      <td>2020-02-19</td>\n",
              "      <td>NaN</td>\n",
              "      <td>released</td>\n",
              "    </tr>\n",
              "    <tr>\n",
              "      <th>3</th>\n",
              "      <td>1000000004</td>\n",
              "      <td>male</td>\n",
              "      <td>20s</td>\n",
              "      <td>Korea</td>\n",
              "      <td>Seoul</td>\n",
              "      <td>Mapo-gu</td>\n",
              "      <td>overseas inflow</td>\n",
              "      <td>NaN</td>\n",
              "      <td>9</td>\n",
              "      <td>2020-01-26</td>\n",
              "      <td>2020-01-30</td>\n",
              "      <td>2020-02-15</td>\n",
              "      <td>NaN</td>\n",
              "      <td>released</td>\n",
              "    </tr>\n",
              "    <tr>\n",
              "      <th>4</th>\n",
              "      <td>1000000005</td>\n",
              "      <td>female</td>\n",
              "      <td>20s</td>\n",
              "      <td>Korea</td>\n",
              "      <td>Seoul</td>\n",
              "      <td>Seongbuk-gu</td>\n",
              "      <td>contact with patient</td>\n",
              "      <td>1000000002</td>\n",
              "      <td>2</td>\n",
              "      <td>NaN</td>\n",
              "      <td>2020-01-31</td>\n",
              "      <td>2020-02-24</td>\n",
              "      <td>NaN</td>\n",
              "      <td>released</td>\n",
              "    </tr>\n",
              "    <tr>\n",
              "      <th>...</th>\n",
              "      <td>...</td>\n",
              "      <td>...</td>\n",
              "      <td>...</td>\n",
              "      <td>...</td>\n",
              "      <td>...</td>\n",
              "      <td>...</td>\n",
              "      <td>...</td>\n",
              "      <td>...</td>\n",
              "      <td>...</td>\n",
              "      <td>...</td>\n",
              "      <td>...</td>\n",
              "      <td>...</td>\n",
              "      <td>...</td>\n",
              "      <td>...</td>\n",
              "    </tr>\n",
              "    <tr>\n",
              "      <th>5160</th>\n",
              "      <td>7000000015</td>\n",
              "      <td>female</td>\n",
              "      <td>30s</td>\n",
              "      <td>Korea</td>\n",
              "      <td>Jeju-do</td>\n",
              "      <td>Jeju-do</td>\n",
              "      <td>overseas inflow</td>\n",
              "      <td>NaN</td>\n",
              "      <td>25</td>\n",
              "      <td>NaN</td>\n",
              "      <td>2020-05-30</td>\n",
              "      <td>2020-06-13</td>\n",
              "      <td>NaN</td>\n",
              "      <td>released</td>\n",
              "    </tr>\n",
              "    <tr>\n",
              "      <th>5161</th>\n",
              "      <td>7000000016</td>\n",
              "      <td>NaN</td>\n",
              "      <td>NaN</td>\n",
              "      <td>Korea</td>\n",
              "      <td>Jeju-do</td>\n",
              "      <td>Jeju-do</td>\n",
              "      <td>overseas inflow</td>\n",
              "      <td>NaN</td>\n",
              "      <td>NaN</td>\n",
              "      <td>NaN</td>\n",
              "      <td>2020-06-16</td>\n",
              "      <td>2020-06-24</td>\n",
              "      <td>NaN</td>\n",
              "      <td>released</td>\n",
              "    </tr>\n",
              "    <tr>\n",
              "      <th>5162</th>\n",
              "      <td>7000000017</td>\n",
              "      <td>NaN</td>\n",
              "      <td>NaN</td>\n",
              "      <td>Bangladesh</td>\n",
              "      <td>Jeju-do</td>\n",
              "      <td>Jeju-do</td>\n",
              "      <td>overseas inflow</td>\n",
              "      <td>NaN</td>\n",
              "      <td>72</td>\n",
              "      <td>NaN</td>\n",
              "      <td>2020-06-18</td>\n",
              "      <td>NaN</td>\n",
              "      <td>NaN</td>\n",
              "      <td>isolated</td>\n",
              "    </tr>\n",
              "    <tr>\n",
              "      <th>5163</th>\n",
              "      <td>7000000018</td>\n",
              "      <td>NaN</td>\n",
              "      <td>NaN</td>\n",
              "      <td>Bangladesh</td>\n",
              "      <td>Jeju-do</td>\n",
              "      <td>Jeju-do</td>\n",
              "      <td>overseas inflow</td>\n",
              "      <td>NaN</td>\n",
              "      <td>NaN</td>\n",
              "      <td>NaN</td>\n",
              "      <td>2020-06-18</td>\n",
              "      <td>NaN</td>\n",
              "      <td>NaN</td>\n",
              "      <td>isolated</td>\n",
              "    </tr>\n",
              "    <tr>\n",
              "      <th>5164</th>\n",
              "      <td>7000000019</td>\n",
              "      <td>NaN</td>\n",
              "      <td>NaN</td>\n",
              "      <td>Bangladesh</td>\n",
              "      <td>Jeju-do</td>\n",
              "      <td>Jeju-do</td>\n",
              "      <td>overseas inflow</td>\n",
              "      <td>NaN</td>\n",
              "      <td>NaN</td>\n",
              "      <td>NaN</td>\n",
              "      <td>2020-06-18</td>\n",
              "      <td>NaN</td>\n",
              "      <td>NaN</td>\n",
              "      <td>isolated</td>\n",
              "    </tr>\n",
              "  </tbody>\n",
              "</table>\n",
              "<p>5165 rows × 14 columns</p>\n",
              "</div>"
            ],
            "text/plain": [
              "      patient_id     sex  age  ... released_date deceased_date     state\n",
              "0     1000000001    male  50s  ...    2020-02-05           NaN  released\n",
              "1     1000000002    male  30s  ...    2020-03-02           NaN  released\n",
              "2     1000000003    male  50s  ...    2020-02-19           NaN  released\n",
              "3     1000000004    male  20s  ...    2020-02-15           NaN  released\n",
              "4     1000000005  female  20s  ...    2020-02-24           NaN  released\n",
              "...          ...     ...  ...  ...           ...           ...       ...\n",
              "5160  7000000015  female  30s  ...    2020-06-13           NaN  released\n",
              "5161  7000000016     NaN  NaN  ...    2020-06-24           NaN  released\n",
              "5162  7000000017     NaN  NaN  ...           NaN           NaN  isolated\n",
              "5163  7000000018     NaN  NaN  ...           NaN           NaN  isolated\n",
              "5164  7000000019     NaN  NaN  ...           NaN           NaN  isolated\n",
              "\n",
              "[5165 rows x 14 columns]"
            ]
          },
          "metadata": {
            "tags": []
          },
          "execution_count": 11
        }
      ]
    },
    {
      "cell_type": "code",
      "metadata": {
        "id": "M4oNYr3fXZsF",
        "colab_type": "code",
        "colab": {}
      },
      "source": [
        ""
      ],
      "execution_count": null,
      "outputs": []
    },
    {
      "cell_type": "code",
      "metadata": {
        "id": "nNE51kJpMKVq",
        "colab_type": "code",
        "colab": {}
      },
      "source": [
        "# backup  \n",
        "\n",
        "for i in p001: \n",
        "  A001 = P001[P001['province'] == i]\n",
        "  a002 = A001['confirmed_date'].value_counts()\n",
        "  a002 = pd.DataFrame(a002).reset_index()\n",
        "  a002 = a002.rename({'index':'confirmed_date','confirmed_date':'total_patient'},axis='columns')\n",
        "  #datetime 형태로 전환하기 \n",
        "  a002['confirmed_date'] = pd.to_datetime(a002.confirmed_date, errors='coerce')\n",
        "  a002['month_date'] = a002['confirmed_date'].dt.strftime('%m')\n",
        "  a002['year_date'] = a002['confirmed_date'].dt.strftime('%Y')\n",
        "\n",
        "  r001 = a002.groupby(['year_date','month_date'])['total_patient'].sum()\n",
        "  r001 = pd.DataFrame(r001)\n",
        "  r001 = r001.reset_index()\n",
        "  r001['CARD_SIDO_NM'] = i\n",
        "\n",
        "  result1 = pd.concat([r001])\n",
        "\n",
        "\n",
        "  print(r001)\n",
        "\n",
        "  result1 = pd.concat([df1,df2])\n",
        "print(result1)\n"
      ],
      "execution_count": null,
      "outputs": []
    },
    {
      "cell_type": "code",
      "metadata": {
        "id": "KX7gxv-F_X55",
        "colab_type": "code",
        "colab": {}
      },
      "source": [
        "result = {'year_date':[0], \n",
        "        'month_date':[0],\n",
        "        'total_patient':[0],\n",
        "        'CARD_SIDO_NM':[0]}\n",
        "result = pd.DataFrame(result)\n",
        "\n",
        "p001 = list(P001['province'].unique())\n",
        "\n",
        "for i in p001: \n",
        "  A001 = P001[P001['province'] == i]\n",
        "  a002 = A001['confirmed_date'].value_counts()\n",
        "  a002 = pd.DataFrame(a002).reset_index()\n",
        "  a002 = a002.rename({'index':'confirmed_date','confirmed_date':'total_patient'},axis='columns')\n",
        "  #datetime 형태로 전환하기 \n",
        "  a002['confirmed_date'] = pd.to_datetime(a002.confirmed_date, errors='coerce')\n",
        "  a002['month_date'] = a002['confirmed_date'].dt.strftime('%m')\n",
        "  a002['year_date'] = a002['confirmed_date'].dt.strftime('%Y')\n",
        "\n",
        "  r001 = a002.groupby(['year_date','month_date'])['total_patient'].sum()\n",
        "  r001 = pd.DataFrame(r001)\n",
        "  r001 = r001.reset_index()\n",
        "  r001['CARD_SIDO_NM'] = i\n",
        "  result = result.append(r001)\n",
        "\n"
      ],
      "execution_count": 16,
      "outputs": []
    },
    {
      "cell_type": "code",
      "metadata": {
        "id": "Le3ymkCjYgeR",
        "colab_type": "code",
        "colab": {
          "base_uri": "https://localhost:8080/",
          "height": 225
        },
        "outputId": "395d1281-79d1-436b-bc9c-01d5fd8dda1a"
      },
      "source": [
        "result[result['CARD_SIDO_NM']=='Gyeonggi-do']"
      ],
      "execution_count": 24,
      "outputs": [
        {
          "output_type": "execute_result",
          "data": {
            "text/html": [
              "<div>\n",
              "<style scoped>\n",
              "    .dataframe tbody tr th:only-of-type {\n",
              "        vertical-align: middle;\n",
              "    }\n",
              "\n",
              "    .dataframe tbody tr th {\n",
              "        vertical-align: top;\n",
              "    }\n",
              "\n",
              "    .dataframe thead th {\n",
              "        text-align: right;\n",
              "    }\n",
              "</style>\n",
              "<table border=\"1\" class=\"dataframe\">\n",
              "  <thead>\n",
              "    <tr style=\"text-align: right;\">\n",
              "      <th></th>\n",
              "      <th>year_date</th>\n",
              "      <th>month_date</th>\n",
              "      <th>total_patient</th>\n",
              "      <th>CARD_SIDO_NM</th>\n",
              "    </tr>\n",
              "  </thead>\n",
              "  <tbody>\n",
              "    <tr>\n",
              "      <th>0</th>\n",
              "      <td>2020</td>\n",
              "      <td>01</td>\n",
              "      <td>2</td>\n",
              "      <td>Gyeonggi-do</td>\n",
              "    </tr>\n",
              "    <tr>\n",
              "      <th>1</th>\n",
              "      <td>2020</td>\n",
              "      <td>02</td>\n",
              "      <td>82</td>\n",
              "      <td>Gyeonggi-do</td>\n",
              "    </tr>\n",
              "    <tr>\n",
              "      <th>2</th>\n",
              "      <td>2020</td>\n",
              "      <td>03</td>\n",
              "      <td>417</td>\n",
              "      <td>Gyeonggi-do</td>\n",
              "    </tr>\n",
              "    <tr>\n",
              "      <th>3</th>\n",
              "      <td>2020</td>\n",
              "      <td>04</td>\n",
              "      <td>177</td>\n",
              "      <td>Gyeonggi-do</td>\n",
              "    </tr>\n",
              "    <tr>\n",
              "      <th>4</th>\n",
              "      <td>2020</td>\n",
              "      <td>05</td>\n",
              "      <td>175</td>\n",
              "      <td>Gyeonggi-do</td>\n",
              "    </tr>\n",
              "    <tr>\n",
              "      <th>5</th>\n",
              "      <td>2020</td>\n",
              "      <td>06</td>\n",
              "      <td>355</td>\n",
              "      <td>Gyeonggi-do</td>\n",
              "    </tr>\n",
              "  </tbody>\n",
              "</table>\n",
              "</div>"
            ],
            "text/plain": [
              "  year_date month_date  total_patient CARD_SIDO_NM\n",
              "0      2020         01              2  Gyeonggi-do\n",
              "1      2020         02             82  Gyeonggi-do\n",
              "2      2020         03            417  Gyeonggi-do\n",
              "3      2020         04            177  Gyeonggi-do\n",
              "4      2020         05            175  Gyeonggi-do\n",
              "5      2020         06            355  Gyeonggi-do"
            ]
          },
          "metadata": {
            "tags": []
          },
          "execution_count": 24
        }
      ]
    },
    {
      "cell_type": "code",
      "metadata": {
        "id": "93LDhDkBY-K1",
        "colab_type": "code",
        "colab": {
          "base_uri": "https://localhost:8080/",
          "height": 105
        },
        "outputId": "61cdf28d-cb11-4597-caed-e165e52b94d7"
      },
      "source": [
        "result['CARD_SIDO_NM'].unique()"
      ],
      "execution_count": 22,
      "outputs": [
        {
          "output_type": "execute_result",
          "data": {
            "text/plain": [
              "array([0, 'Seoul', 'Busan', 'Daegu', 'Gwangju', 'Incheon', 'Daejeon',\n",
              "       'Gyeonggi-do', 'Sejong', 'Ulsan', 'Gangwon-do',\n",
              "       'Chungcheongbuk-do', 'Chungcheongnam-do', 'Jeollabuk-do',\n",
              "       'Jeollanam-do', 'Gyeongsangbuk-do', 'Gyeongsangnam-do', 'Jeju-do'],\n",
              "      dtype=object)"
            ]
          },
          "metadata": {
            "tags": []
          },
          "execution_count": 22
        }
      ]
    },
    {
      "cell_type": "code",
      "metadata": {
        "id": "V0rTMWO3Vxt9",
        "colab_type": "code",
        "colab": {
          "base_uri": "https://localhost:8080/",
          "height": 402
        },
        "outputId": "a6cdf37f-5b2c-40bd-b91e-eeb52229d46b"
      },
      "source": [
        "#17개 시군구에 대한, 년,월별 코로나 환자 숫자 합계\n",
        "result\n",
        "#result 데이터 안에 있는, CARD_SIDO_NM 들, 한글로 변환 "
      ],
      "execution_count": 17,
      "outputs": [
        {
          "output_type": "execute_result",
          "data": {
            "text/html": [
              "<div>\n",
              "<style scoped>\n",
              "    .dataframe tbody tr th:only-of-type {\n",
              "        vertical-align: middle;\n",
              "    }\n",
              "\n",
              "    .dataframe tbody tr th {\n",
              "        vertical-align: top;\n",
              "    }\n",
              "\n",
              "    .dataframe thead th {\n",
              "        text-align: right;\n",
              "    }\n",
              "</style>\n",
              "<table border=\"1\" class=\"dataframe\">\n",
              "  <thead>\n",
              "    <tr style=\"text-align: right;\">\n",
              "      <th></th>\n",
              "      <th>year_date</th>\n",
              "      <th>month_date</th>\n",
              "      <th>total_patient</th>\n",
              "      <th>CARD_SIDO_NM</th>\n",
              "    </tr>\n",
              "  </thead>\n",
              "  <tbody>\n",
              "    <tr>\n",
              "      <th>0</th>\n",
              "      <td>0</td>\n",
              "      <td>0</td>\n",
              "      <td>0</td>\n",
              "      <td>0</td>\n",
              "    </tr>\n",
              "    <tr>\n",
              "      <th>0</th>\n",
              "      <td>2020</td>\n",
              "      <td>01</td>\n",
              "      <td>7</td>\n",
              "      <td>Seoul</td>\n",
              "    </tr>\n",
              "    <tr>\n",
              "      <th>1</th>\n",
              "      <td>2020</td>\n",
              "      <td>02</td>\n",
              "      <td>79</td>\n",
              "      <td>Seoul</td>\n",
              "    </tr>\n",
              "    <tr>\n",
              "      <th>2</th>\n",
              "      <td>2020</td>\n",
              "      <td>03</td>\n",
              "      <td>392</td>\n",
              "      <td>Seoul</td>\n",
              "    </tr>\n",
              "    <tr>\n",
              "      <th>3</th>\n",
              "      <td>2020</td>\n",
              "      <td>04</td>\n",
              "      <td>156</td>\n",
              "      <td>Seoul</td>\n",
              "    </tr>\n",
              "    <tr>\n",
              "      <th>...</th>\n",
              "      <td>...</td>\n",
              "      <td>...</td>\n",
              "      <td>...</td>\n",
              "      <td>...</td>\n",
              "    </tr>\n",
              "    <tr>\n",
              "      <th>0</th>\n",
              "      <td>2020</td>\n",
              "      <td>02</td>\n",
              "      <td>2</td>\n",
              "      <td>Jeju-do</td>\n",
              "    </tr>\n",
              "    <tr>\n",
              "      <th>1</th>\n",
              "      <td>2020</td>\n",
              "      <td>03</td>\n",
              "      <td>7</td>\n",
              "      <td>Jeju-do</td>\n",
              "    </tr>\n",
              "    <tr>\n",
              "      <th>2</th>\n",
              "      <td>2020</td>\n",
              "      <td>04</td>\n",
              "      <td>4</td>\n",
              "      <td>Jeju-do</td>\n",
              "    </tr>\n",
              "    <tr>\n",
              "      <th>3</th>\n",
              "      <td>2020</td>\n",
              "      <td>05</td>\n",
              "      <td>2</td>\n",
              "      <td>Jeju-do</td>\n",
              "    </tr>\n",
              "    <tr>\n",
              "      <th>4</th>\n",
              "      <td>2020</td>\n",
              "      <td>06</td>\n",
              "      <td>4</td>\n",
              "      <td>Jeju-do</td>\n",
              "    </tr>\n",
              "  </tbody>\n",
              "</table>\n",
              "<p>90 rows × 4 columns</p>\n",
              "</div>"
            ],
            "text/plain": [
              "   year_date month_date  total_patient CARD_SIDO_NM\n",
              "0          0          0              0            0\n",
              "0       2020         01              7        Seoul\n",
              "1       2020         02             79        Seoul\n",
              "2       2020         03            392        Seoul\n",
              "3       2020         04            156        Seoul\n",
              "..       ...        ...            ...          ...\n",
              "0       2020         02              2      Jeju-do\n",
              "1       2020         03              7      Jeju-do\n",
              "2       2020         04              4      Jeju-do\n",
              "3       2020         05              2      Jeju-do\n",
              "4       2020         06              4      Jeju-do\n",
              "\n",
              "[90 rows x 4 columns]"
            ]
          },
          "metadata": {
            "tags": []
          },
          "execution_count": 17
        }
      ]
    },
    {
      "cell_type": "code",
      "metadata": {
        "id": "EmtdmY_QX0HO",
        "colab_type": "code",
        "colab": {
          "base_uri": "https://localhost:8080/",
          "height": 52
        },
        "outputId": "faec713d-937f-4bb5-afae-cb930bbbeb2c"
      },
      "source": [
        "train.CARD_SIDO_NM.unique()"
      ],
      "execution_count": 16,
      "outputs": [
        {
          "output_type": "execute_result",
          "data": {
            "text/plain": [
              "array(['강원', '서울', '경기', '제주', '전북', '인천', '부산', '경남', '충북', '대전', '충남',\n",
              "       '경북', '광주', '대구', '울산', '전남', '세종'], dtype=object)"
            ]
          },
          "metadata": {
            "tags": []
          },
          "execution_count": 16
        }
      ]
    },
    {
      "cell_type": "code",
      "metadata": {
        "id": "LQWr5iJEX_k_",
        "colab_type": "code",
        "colab": {}
      },
      "source": [
        "result01 = result['CARD_SIDO_NM'].replace({'Seoul':'서울',\n",
        "                        'Busan':'부산',\n",
        "                        'Daegu':'대구',\n",
        "                        'Gwangju':'광주',\n",
        "                        'Incheon':'인천',\n",
        "                        'Daejeon':'대전',\n",
        "                        'Gyeonggi-do':'경기',\n",
        "                        'Sejong':'세종', \n",
        "                        'Ulsan':'울산', \n",
        "                        'Gangwon-do':'강원',\n",
        "                        'Chungcheongbuk-do':'충북',\n",
        "                        'Chungcheongnam-do':'충남', \n",
        "                        'Jeollabuk-do':'전북',\n",
        "                        'Jeollanam-do':'전남',\n",
        "                        'Gyeongsangbuk-do':'경북', \n",
        "                        'Gyeongsangnam-do':'경남', \n",
        "                        'Jeju-do':'제주'}, inplace=True)"
      ],
      "execution_count": 25,
      "outputs": []
    },
    {
      "cell_type": "code",
      "metadata": {
        "id": "xujdvVIUY54R",
        "colab_type": "code",
        "colab": {
          "base_uri": "https://localhost:8080/",
          "height": 225
        },
        "outputId": "852de053-3134-46ab-dd78-4ac5ecf857d8"
      },
      "source": [
        "result[result.CARD_SIDO_NM=='경기']"
      ],
      "execution_count": 30,
      "outputs": [
        {
          "output_type": "execute_result",
          "data": {
            "text/html": [
              "<div>\n",
              "<style scoped>\n",
              "    .dataframe tbody tr th:only-of-type {\n",
              "        vertical-align: middle;\n",
              "    }\n",
              "\n",
              "    .dataframe tbody tr th {\n",
              "        vertical-align: top;\n",
              "    }\n",
              "\n",
              "    .dataframe thead th {\n",
              "        text-align: right;\n",
              "    }\n",
              "</style>\n",
              "<table border=\"1\" class=\"dataframe\">\n",
              "  <thead>\n",
              "    <tr style=\"text-align: right;\">\n",
              "      <th></th>\n",
              "      <th>year_date</th>\n",
              "      <th>month_date</th>\n",
              "      <th>total_patient</th>\n",
              "      <th>CARD_SIDO_NM</th>\n",
              "    </tr>\n",
              "  </thead>\n",
              "  <tbody>\n",
              "    <tr>\n",
              "      <th>0</th>\n",
              "      <td>2020</td>\n",
              "      <td>01</td>\n",
              "      <td>2</td>\n",
              "      <td>경기</td>\n",
              "    </tr>\n",
              "    <tr>\n",
              "      <th>1</th>\n",
              "      <td>2020</td>\n",
              "      <td>02</td>\n",
              "      <td>82</td>\n",
              "      <td>경기</td>\n",
              "    </tr>\n",
              "    <tr>\n",
              "      <th>2</th>\n",
              "      <td>2020</td>\n",
              "      <td>03</td>\n",
              "      <td>417</td>\n",
              "      <td>경기</td>\n",
              "    </tr>\n",
              "    <tr>\n",
              "      <th>3</th>\n",
              "      <td>2020</td>\n",
              "      <td>04</td>\n",
              "      <td>177</td>\n",
              "      <td>경기</td>\n",
              "    </tr>\n",
              "    <tr>\n",
              "      <th>4</th>\n",
              "      <td>2020</td>\n",
              "      <td>05</td>\n",
              "      <td>175</td>\n",
              "      <td>경기</td>\n",
              "    </tr>\n",
              "    <tr>\n",
              "      <th>5</th>\n",
              "      <td>2020</td>\n",
              "      <td>06</td>\n",
              "      <td>355</td>\n",
              "      <td>경기</td>\n",
              "    </tr>\n",
              "  </tbody>\n",
              "</table>\n",
              "</div>"
            ],
            "text/plain": [
              "  year_date month_date  total_patient CARD_SIDO_NM\n",
              "0      2020         01              2           경기\n",
              "1      2020         02             82           경기\n",
              "2      2020         03            417           경기\n",
              "3      2020         04            177           경기\n",
              "4      2020         05            175           경기\n",
              "5      2020         06            355           경기"
            ]
          },
          "metadata": {
            "tags": []
          },
          "execution_count": 30
        }
      ]
    },
    {
      "cell_type": "code",
      "metadata": {
        "id": "tv1dyNUDZ4_N",
        "colab_type": "code",
        "colab": {
          "base_uri": "https://localhost:8080/",
          "height": 402
        },
        "outputId": "b60d876f-9991-4b84-8005-6815be615b41"
      },
      "source": [
        "result"
      ],
      "execution_count": 31,
      "outputs": [
        {
          "output_type": "execute_result",
          "data": {
            "text/html": [
              "<div>\n",
              "<style scoped>\n",
              "    .dataframe tbody tr th:only-of-type {\n",
              "        vertical-align: middle;\n",
              "    }\n",
              "\n",
              "    .dataframe tbody tr th {\n",
              "        vertical-align: top;\n",
              "    }\n",
              "\n",
              "    .dataframe thead th {\n",
              "        text-align: right;\n",
              "    }\n",
              "</style>\n",
              "<table border=\"1\" class=\"dataframe\">\n",
              "  <thead>\n",
              "    <tr style=\"text-align: right;\">\n",
              "      <th></th>\n",
              "      <th>year_date</th>\n",
              "      <th>month_date</th>\n",
              "      <th>total_patient</th>\n",
              "      <th>CARD_SIDO_NM</th>\n",
              "    </tr>\n",
              "  </thead>\n",
              "  <tbody>\n",
              "    <tr>\n",
              "      <th>0</th>\n",
              "      <td>0</td>\n",
              "      <td>0</td>\n",
              "      <td>0</td>\n",
              "      <td>0</td>\n",
              "    </tr>\n",
              "    <tr>\n",
              "      <th>0</th>\n",
              "      <td>2020</td>\n",
              "      <td>01</td>\n",
              "      <td>7</td>\n",
              "      <td>서울</td>\n",
              "    </tr>\n",
              "    <tr>\n",
              "      <th>1</th>\n",
              "      <td>2020</td>\n",
              "      <td>02</td>\n",
              "      <td>79</td>\n",
              "      <td>서울</td>\n",
              "    </tr>\n",
              "    <tr>\n",
              "      <th>2</th>\n",
              "      <td>2020</td>\n",
              "      <td>03</td>\n",
              "      <td>392</td>\n",
              "      <td>서울</td>\n",
              "    </tr>\n",
              "    <tr>\n",
              "      <th>3</th>\n",
              "      <td>2020</td>\n",
              "      <td>04</td>\n",
              "      <td>156</td>\n",
              "      <td>서울</td>\n",
              "    </tr>\n",
              "    <tr>\n",
              "      <th>...</th>\n",
              "      <td>...</td>\n",
              "      <td>...</td>\n",
              "      <td>...</td>\n",
              "      <td>...</td>\n",
              "    </tr>\n",
              "    <tr>\n",
              "      <th>0</th>\n",
              "      <td>2020</td>\n",
              "      <td>02</td>\n",
              "      <td>2</td>\n",
              "      <td>제주</td>\n",
              "    </tr>\n",
              "    <tr>\n",
              "      <th>1</th>\n",
              "      <td>2020</td>\n",
              "      <td>03</td>\n",
              "      <td>7</td>\n",
              "      <td>제주</td>\n",
              "    </tr>\n",
              "    <tr>\n",
              "      <th>2</th>\n",
              "      <td>2020</td>\n",
              "      <td>04</td>\n",
              "      <td>4</td>\n",
              "      <td>제주</td>\n",
              "    </tr>\n",
              "    <tr>\n",
              "      <th>3</th>\n",
              "      <td>2020</td>\n",
              "      <td>05</td>\n",
              "      <td>2</td>\n",
              "      <td>제주</td>\n",
              "    </tr>\n",
              "    <tr>\n",
              "      <th>4</th>\n",
              "      <td>2020</td>\n",
              "      <td>06</td>\n",
              "      <td>4</td>\n",
              "      <td>제주</td>\n",
              "    </tr>\n",
              "  </tbody>\n",
              "</table>\n",
              "<p>90 rows × 4 columns</p>\n",
              "</div>"
            ],
            "text/plain": [
              "   year_date month_date  total_patient CARD_SIDO_NM\n",
              "0          0          0              0            0\n",
              "0       2020         01              7           서울\n",
              "1       2020         02             79           서울\n",
              "2       2020         03            392           서울\n",
              "3       2020         04            156           서울\n",
              "..       ...        ...            ...          ...\n",
              "0       2020         02              2           제주\n",
              "1       2020         03              7           제주\n",
              "2       2020         04              4           제주\n",
              "3       2020         05              2           제주\n",
              "4       2020         06              4           제주\n",
              "\n",
              "[90 rows x 4 columns]"
            ]
          },
          "metadata": {
            "tags": []
          },
          "execution_count": 31
        }
      ]
    },
    {
      "cell_type": "code",
      "metadata": {
        "id": "XPVMpym4aCrV",
        "colab_type": "code",
        "colab": {
          "base_uri": "https://localhost:8080/",
          "height": 402
        },
        "outputId": "e826999f-928c-4455-f4c2-616501bf3efc"
      },
      "source": [
        "result01 = result[result['CARD_SIDO_NM'] != 0]\n",
        "result01"
      ],
      "execution_count": 32,
      "outputs": [
        {
          "output_type": "execute_result",
          "data": {
            "text/html": [
              "<div>\n",
              "<style scoped>\n",
              "    .dataframe tbody tr th:only-of-type {\n",
              "        vertical-align: middle;\n",
              "    }\n",
              "\n",
              "    .dataframe tbody tr th {\n",
              "        vertical-align: top;\n",
              "    }\n",
              "\n",
              "    .dataframe thead th {\n",
              "        text-align: right;\n",
              "    }\n",
              "</style>\n",
              "<table border=\"1\" class=\"dataframe\">\n",
              "  <thead>\n",
              "    <tr style=\"text-align: right;\">\n",
              "      <th></th>\n",
              "      <th>year_date</th>\n",
              "      <th>month_date</th>\n",
              "      <th>total_patient</th>\n",
              "      <th>CARD_SIDO_NM</th>\n",
              "    </tr>\n",
              "  </thead>\n",
              "  <tbody>\n",
              "    <tr>\n",
              "      <th>0</th>\n",
              "      <td>2020</td>\n",
              "      <td>01</td>\n",
              "      <td>7</td>\n",
              "      <td>서울</td>\n",
              "    </tr>\n",
              "    <tr>\n",
              "      <th>1</th>\n",
              "      <td>2020</td>\n",
              "      <td>02</td>\n",
              "      <td>79</td>\n",
              "      <td>서울</td>\n",
              "    </tr>\n",
              "    <tr>\n",
              "      <th>2</th>\n",
              "      <td>2020</td>\n",
              "      <td>03</td>\n",
              "      <td>392</td>\n",
              "      <td>서울</td>\n",
              "    </tr>\n",
              "    <tr>\n",
              "      <th>3</th>\n",
              "      <td>2020</td>\n",
              "      <td>04</td>\n",
              "      <td>156</td>\n",
              "      <td>서울</td>\n",
              "    </tr>\n",
              "    <tr>\n",
              "      <th>4</th>\n",
              "      <td>2020</td>\n",
              "      <td>05</td>\n",
              "      <td>228</td>\n",
              "      <td>서울</td>\n",
              "    </tr>\n",
              "    <tr>\n",
              "      <th>...</th>\n",
              "      <td>...</td>\n",
              "      <td>...</td>\n",
              "      <td>...</td>\n",
              "      <td>...</td>\n",
              "    </tr>\n",
              "    <tr>\n",
              "      <th>0</th>\n",
              "      <td>2020</td>\n",
              "      <td>02</td>\n",
              "      <td>2</td>\n",
              "      <td>제주</td>\n",
              "    </tr>\n",
              "    <tr>\n",
              "      <th>1</th>\n",
              "      <td>2020</td>\n",
              "      <td>03</td>\n",
              "      <td>7</td>\n",
              "      <td>제주</td>\n",
              "    </tr>\n",
              "    <tr>\n",
              "      <th>2</th>\n",
              "      <td>2020</td>\n",
              "      <td>04</td>\n",
              "      <td>4</td>\n",
              "      <td>제주</td>\n",
              "    </tr>\n",
              "    <tr>\n",
              "      <th>3</th>\n",
              "      <td>2020</td>\n",
              "      <td>05</td>\n",
              "      <td>2</td>\n",
              "      <td>제주</td>\n",
              "    </tr>\n",
              "    <tr>\n",
              "      <th>4</th>\n",
              "      <td>2020</td>\n",
              "      <td>06</td>\n",
              "      <td>4</td>\n",
              "      <td>제주</td>\n",
              "    </tr>\n",
              "  </tbody>\n",
              "</table>\n",
              "<p>89 rows × 4 columns</p>\n",
              "</div>"
            ],
            "text/plain": [
              "   year_date month_date  total_patient CARD_SIDO_NM\n",
              "0       2020         01              7           서울\n",
              "1       2020         02             79           서울\n",
              "2       2020         03            392           서울\n",
              "3       2020         04            156           서울\n",
              "4       2020         05            228           서울\n",
              "..       ...        ...            ...          ...\n",
              "0       2020         02              2           제주\n",
              "1       2020         03              7           제주\n",
              "2       2020         04              4           제주\n",
              "3       2020         05              2           제주\n",
              "4       2020         06              4           제주\n",
              "\n",
              "[89 rows x 4 columns]"
            ]
          },
          "metadata": {
            "tags": []
          },
          "execution_count": 32
        }
      ]
    },
    {
      "cell_type": "code",
      "metadata": {
        "id": "GEIlGJ293bFv",
        "colab_type": "code",
        "colab": {}
      },
      "source": [
        "# 02) Train 데이터 수정하기 \n",
        "# datetime 형태로 전환하기 "
      ],
      "execution_count": 21,
      "outputs": []
    },
    {
      "cell_type": "code",
      "metadata": {
        "id": "hLJ6HaXVYlxS",
        "colab_type": "code",
        "colab": {}
      },
      "source": [
        "train01 = train.copy()"
      ],
      "execution_count": 40,
      "outputs": []
    },
    {
      "cell_type": "code",
      "metadata": {
        "id": "l1A3Z9TV4AdU",
        "colab_type": "code",
        "colab": {}
      },
      "source": [
        "train01['REG_YYMM'] = pd.to_datetime(train01.REG_YYMM, format = '%Y%m', errors = 'coerce')\n",
        "train01['month_date'] = train01['REG_YYMM'].dt.strftime('%m')\n",
        "train01['year_date'] = train01['REG_YYMM'].dt.strftime('%Y')"
      ],
      "execution_count": 41,
      "outputs": []
    },
    {
      "cell_type": "code",
      "metadata": {
        "id": "4q_jICul5LHo",
        "colab_type": "code",
        "colab": {
          "base_uri": "https://localhost:8080/",
          "height": 570
        },
        "outputId": "e992fd55-7446-41b5-e360-ec5db56ca48b"
      },
      "source": [
        "# 새로 만들어진 month_date 와 year_date 형태 컬럼 확인하기 \n",
        "train01"
      ],
      "execution_count": 42,
      "outputs": [
        {
          "output_type": "execute_result",
          "data": {
            "text/html": [
              "<div>\n",
              "<style scoped>\n",
              "    .dataframe tbody tr th:only-of-type {\n",
              "        vertical-align: middle;\n",
              "    }\n",
              "\n",
              "    .dataframe tbody tr th {\n",
              "        vertical-align: top;\n",
              "    }\n",
              "\n",
              "    .dataframe thead th {\n",
              "        text-align: right;\n",
              "    }\n",
              "</style>\n",
              "<table border=\"1\" class=\"dataframe\">\n",
              "  <thead>\n",
              "    <tr style=\"text-align: right;\">\n",
              "      <th></th>\n",
              "      <th>REG_YYMM</th>\n",
              "      <th>CARD_SIDO_NM</th>\n",
              "      <th>CARD_CCG_NM</th>\n",
              "      <th>STD_CLSS_NM</th>\n",
              "      <th>HOM_SIDO_NM</th>\n",
              "      <th>HOM_CCG_NM</th>\n",
              "      <th>AGE</th>\n",
              "      <th>SEX_CTGO_CD</th>\n",
              "      <th>FLC</th>\n",
              "      <th>CSTMR_CNT</th>\n",
              "      <th>AMT</th>\n",
              "      <th>CNT</th>\n",
              "      <th>month_date</th>\n",
              "      <th>year_date</th>\n",
              "    </tr>\n",
              "  </thead>\n",
              "  <tbody>\n",
              "    <tr>\n",
              "      <th>0</th>\n",
              "      <td>2019-01-01</td>\n",
              "      <td>강원</td>\n",
              "      <td>화천군</td>\n",
              "      <td>화장품 및 방향제 소매업</td>\n",
              "      <td>강원</td>\n",
              "      <td>화천군</td>\n",
              "      <td>10s</td>\n",
              "      <td>2</td>\n",
              "      <td>1</td>\n",
              "      <td>4</td>\n",
              "      <td>30150</td>\n",
              "      <td>5</td>\n",
              "      <td>01</td>\n",
              "      <td>2019</td>\n",
              "    </tr>\n",
              "    <tr>\n",
              "      <th>1</th>\n",
              "      <td>2019-05-01</td>\n",
              "      <td>강원</td>\n",
              "      <td>평창군</td>\n",
              "      <td>기타음식료품위주종합소매업</td>\n",
              "      <td>강원</td>\n",
              "      <td>평창군</td>\n",
              "      <td>10s</td>\n",
              "      <td>2</td>\n",
              "      <td>1</td>\n",
              "      <td>7</td>\n",
              "      <td>94310</td>\n",
              "      <td>26</td>\n",
              "      <td>05</td>\n",
              "      <td>2019</td>\n",
              "    </tr>\n",
              "    <tr>\n",
              "      <th>2</th>\n",
              "      <td>2019-07-01</td>\n",
              "      <td>강원</td>\n",
              "      <td>양양군</td>\n",
              "      <td>체인화 편의점</td>\n",
              "      <td>강원</td>\n",
              "      <td>양양군</td>\n",
              "      <td>10s</td>\n",
              "      <td>2</td>\n",
              "      <td>1</td>\n",
              "      <td>51</td>\n",
              "      <td>342300</td>\n",
              "      <td>120</td>\n",
              "      <td>07</td>\n",
              "      <td>2019</td>\n",
              "    </tr>\n",
              "    <tr>\n",
              "      <th>3</th>\n",
              "      <td>2019-07-01</td>\n",
              "      <td>서울</td>\n",
              "      <td>동작구</td>\n",
              "      <td>택시 운송업</td>\n",
              "      <td>강원</td>\n",
              "      <td>정선군</td>\n",
              "      <td>10s</td>\n",
              "      <td>1</td>\n",
              "      <td>1</td>\n",
              "      <td>8</td>\n",
              "      <td>111500</td>\n",
              "      <td>19</td>\n",
              "      <td>07</td>\n",
              "      <td>2019</td>\n",
              "    </tr>\n",
              "    <tr>\n",
              "      <th>4</th>\n",
              "      <td>2019-02-01</td>\n",
              "      <td>서울</td>\n",
              "      <td>중구</td>\n",
              "      <td>택시 운송업</td>\n",
              "      <td>강원</td>\n",
              "      <td>속초시</td>\n",
              "      <td>10s</td>\n",
              "      <td>1</td>\n",
              "      <td>1</td>\n",
              "      <td>45</td>\n",
              "      <td>558670</td>\n",
              "      <td>153</td>\n",
              "      <td>02</td>\n",
              "      <td>2019</td>\n",
              "    </tr>\n",
              "    <tr>\n",
              "      <th>...</th>\n",
              "      <td>...</td>\n",
              "      <td>...</td>\n",
              "      <td>...</td>\n",
              "      <td>...</td>\n",
              "      <td>...</td>\n",
              "      <td>...</td>\n",
              "      <td>...</td>\n",
              "      <td>...</td>\n",
              "      <td>...</td>\n",
              "      <td>...</td>\n",
              "      <td>...</td>\n",
              "      <td>...</td>\n",
              "      <td>...</td>\n",
              "      <td>...</td>\n",
              "    </tr>\n",
              "    <tr>\n",
              "      <th>199995</th>\n",
              "      <td>2020-01-01</td>\n",
              "      <td>경기</td>\n",
              "      <td>가평군</td>\n",
              "      <td>기타 외국식 음식점업</td>\n",
              "      <td>경기</td>\n",
              "      <td>가평군</td>\n",
              "      <td>20s</td>\n",
              "      <td>1</td>\n",
              "      <td>2</td>\n",
              "      <td>4</td>\n",
              "      <td>124500</td>\n",
              "      <td>4</td>\n",
              "      <td>01</td>\n",
              "      <td>2020</td>\n",
              "    </tr>\n",
              "    <tr>\n",
              "      <th>199996</th>\n",
              "      <td>2020-01-01</td>\n",
              "      <td>경기</td>\n",
              "      <td>가평군</td>\n",
              "      <td>차량용 주유소 운영업</td>\n",
              "      <td>경기</td>\n",
              "      <td>용인시 수지구</td>\n",
              "      <td>20s</td>\n",
              "      <td>2</td>\n",
              "      <td>1</td>\n",
              "      <td>3</td>\n",
              "      <td>192000</td>\n",
              "      <td>3</td>\n",
              "      <td>01</td>\n",
              "      <td>2020</td>\n",
              "    </tr>\n",
              "    <tr>\n",
              "      <th>199997</th>\n",
              "      <td>2020-01-01</td>\n",
              "      <td>경기</td>\n",
              "      <td>고양시 덕양구</td>\n",
              "      <td>비알콜 음료점업</td>\n",
              "      <td>경기</td>\n",
              "      <td>이천시</td>\n",
              "      <td>20s</td>\n",
              "      <td>2</td>\n",
              "      <td>1</td>\n",
              "      <td>4</td>\n",
              "      <td>26200</td>\n",
              "      <td>6</td>\n",
              "      <td>01</td>\n",
              "      <td>2020</td>\n",
              "    </tr>\n",
              "    <tr>\n",
              "      <th>199998</th>\n",
              "      <td>2020-01-01</td>\n",
              "      <td>경기</td>\n",
              "      <td>고양시 덕양구</td>\n",
              "      <td>중식 음식점업</td>\n",
              "      <td>경기</td>\n",
              "      <td>고양시 일산동구</td>\n",
              "      <td>20s</td>\n",
              "      <td>2</td>\n",
              "      <td>2</td>\n",
              "      <td>6</td>\n",
              "      <td>301500</td>\n",
              "      <td>7</td>\n",
              "      <td>01</td>\n",
              "      <td>2020</td>\n",
              "    </tr>\n",
              "    <tr>\n",
              "      <th>199999</th>\n",
              "      <td>2020-01-01</td>\n",
              "      <td>경기</td>\n",
              "      <td>고양시 일산동구</td>\n",
              "      <td>비알콜 음료점업</td>\n",
              "      <td>경기</td>\n",
              "      <td>가평군</td>\n",
              "      <td>20s</td>\n",
              "      <td>1</td>\n",
              "      <td>1</td>\n",
              "      <td>3</td>\n",
              "      <td>43000</td>\n",
              "      <td>5</td>\n",
              "      <td>01</td>\n",
              "      <td>2020</td>\n",
              "    </tr>\n",
              "  </tbody>\n",
              "</table>\n",
              "<p>200000 rows × 14 columns</p>\n",
              "</div>"
            ],
            "text/plain": [
              "         REG_YYMM CARD_SIDO_NM CARD_CCG_NM  ...  CNT month_date year_date\n",
              "0      2019-01-01           강원         화천군  ...    5         01      2019\n",
              "1      2019-05-01           강원         평창군  ...   26         05      2019\n",
              "2      2019-07-01           강원         양양군  ...  120         07      2019\n",
              "3      2019-07-01           서울         동작구  ...   19         07      2019\n",
              "4      2019-02-01           서울          중구  ...  153         02      2019\n",
              "...           ...          ...         ...  ...  ...        ...       ...\n",
              "199995 2020-01-01           경기         가평군  ...    4         01      2020\n",
              "199996 2020-01-01           경기         가평군  ...    3         01      2020\n",
              "199997 2020-01-01           경기     고양시 덕양구  ...    6         01      2020\n",
              "199998 2020-01-01           경기     고양시 덕양구  ...    7         01      2020\n",
              "199999 2020-01-01           경기    고양시 일산동구  ...    5         01      2020\n",
              "\n",
              "[200000 rows x 14 columns]"
            ]
          },
          "metadata": {
            "tags": []
          },
          "execution_count": 42
        }
      ]
    },
    {
      "cell_type": "code",
      "metadata": {
        "id": "vcANIsMH8m_b",
        "colab_type": "code",
        "colab": {
          "base_uri": "https://localhost:8080/",
          "height": 34
        },
        "outputId": "11835eb0-e94c-4b14-bbb2-28c3d98f53a5"
      },
      "source": [
        "len(train01.CARD_SIDO_NM.unique())"
      ],
      "execution_count": 43,
      "outputs": [
        {
          "output_type": "execute_result",
          "data": {
            "text/plain": [
              "17"
            ]
          },
          "metadata": {
            "tags": []
          },
          "execution_count": 43
        }
      ]
    },
    {
      "cell_type": "code",
      "metadata": {
        "id": "Jqm9Zg6S8uVJ",
        "colab_type": "code",
        "colab": {
          "base_uri": "https://localhost:8080/",
          "height": 34
        },
        "outputId": "ed55b244-149a-4cd0-fd62-d62f6f2c0ed6"
      },
      "source": [
        "train01.year_date.unique()"
      ],
      "execution_count": 44,
      "outputs": [
        {
          "output_type": "execute_result",
          "data": {
            "text/plain": [
              "array(['2019', '2020'], dtype=object)"
            ]
          },
          "metadata": {
            "tags": []
          },
          "execution_count": 44
        }
      ]
    },
    {
      "cell_type": "code",
      "metadata": {
        "id": "sC_Hv0I9an1W",
        "colab_type": "code",
        "colab": {
          "base_uri": "https://localhost:8080/",
          "height": 34
        },
        "outputId": "d95c4433-2f0d-4bfc-f1f1-8c59c0b47a8d"
      },
      "source": [
        "result01.year_date.unique()"
      ],
      "execution_count": 45,
      "outputs": [
        {
          "output_type": "execute_result",
          "data": {
            "text/plain": [
              "array(['2020'], dtype=object)"
            ]
          },
          "metadata": {
            "tags": []
          },
          "execution_count": 45
        }
      ]
    },
    {
      "cell_type": "code",
      "metadata": {
        "id": "yZO92q28WkdE",
        "colab_type": "code",
        "colab": {
          "base_uri": "https://localhost:8080/",
          "height": 386
        },
        "outputId": "70210785-8933-49b9-a09d-f851f70ff8f5"
      },
      "source": [
        "train01.info()"
      ],
      "execution_count": 48,
      "outputs": [
        {
          "output_type": "stream",
          "text": [
            "<class 'pandas.core.frame.DataFrame'>\n",
            "RangeIndex: 200000 entries, 0 to 199999\n",
            "Data columns (total 14 columns):\n",
            " #   Column        Non-Null Count   Dtype         \n",
            "---  ------        --------------   -----         \n",
            " 0   REG_YYMM      200000 non-null  datetime64[ns]\n",
            " 1   CARD_SIDO_NM  200000 non-null  object        \n",
            " 2   CARD_CCG_NM   199579 non-null  object        \n",
            " 3   STD_CLSS_NM   200000 non-null  object        \n",
            " 4   HOM_SIDO_NM   200000 non-null  object        \n",
            " 5   HOM_CCG_NM    200000 non-null  object        \n",
            " 6   AGE           200000 non-null  object        \n",
            " 7   SEX_CTGO_CD   200000 non-null  int64         \n",
            " 8   FLC           200000 non-null  int64         \n",
            " 9   CSTMR_CNT     200000 non-null  int64         \n",
            " 10  AMT           200000 non-null  int64         \n",
            " 11  CNT           200000 non-null  int64         \n",
            " 12  month_date    200000 non-null  object        \n",
            " 13  year_date     200000 non-null  object        \n",
            "dtypes: datetime64[ns](1), int64(5), object(8)\n",
            "memory usage: 21.4+ MB\n"
          ],
          "name": "stdout"
        }
      ]
    },
    {
      "cell_type": "code",
      "metadata": {
        "id": "D4n_uRfUWovz",
        "colab_type": "code",
        "colab": {
          "base_uri": "https://localhost:8080/",
          "height": 210
        },
        "outputId": "9d1ac5fd-be96-458a-8d45-23a34a93ea26"
      },
      "source": [
        "result01.info()"
      ],
      "execution_count": 49,
      "outputs": [
        {
          "output_type": "stream",
          "text": [
            "<class 'pandas.core.frame.DataFrame'>\n",
            "Int64Index: 89 entries, 0 to 4\n",
            "Data columns (total 4 columns):\n",
            " #   Column         Non-Null Count  Dtype \n",
            "---  ------         --------------  ----- \n",
            " 0   year_date      89 non-null     object\n",
            " 1   month_date     89 non-null     object\n",
            " 2   total_patient  89 non-null     int64 \n",
            " 3   CARD_SIDO_NM   89 non-null     object\n",
            "dtypes: int64(1), object(3)\n",
            "memory usage: 3.5+ KB\n"
          ],
          "name": "stdout"
        }
      ]
    },
    {
      "cell_type": "code",
      "metadata": {
        "id": "y46QQhVnWvoN",
        "colab_type": "code",
        "colab": {
          "base_uri": "https://localhost:8080/",
          "height": 225
        },
        "outputId": "58027446-15ad-481b-949e-27dd05974f02"
      },
      "source": [
        "result01[result01['CARD_SIDO_NM']=='경기']"
      ],
      "execution_count": 50,
      "outputs": [
        {
          "output_type": "execute_result",
          "data": {
            "text/html": [
              "<div>\n",
              "<style scoped>\n",
              "    .dataframe tbody tr th:only-of-type {\n",
              "        vertical-align: middle;\n",
              "    }\n",
              "\n",
              "    .dataframe tbody tr th {\n",
              "        vertical-align: top;\n",
              "    }\n",
              "\n",
              "    .dataframe thead th {\n",
              "        text-align: right;\n",
              "    }\n",
              "</style>\n",
              "<table border=\"1\" class=\"dataframe\">\n",
              "  <thead>\n",
              "    <tr style=\"text-align: right;\">\n",
              "      <th></th>\n",
              "      <th>year_date</th>\n",
              "      <th>month_date</th>\n",
              "      <th>total_patient</th>\n",
              "      <th>CARD_SIDO_NM</th>\n",
              "    </tr>\n",
              "  </thead>\n",
              "  <tbody>\n",
              "    <tr>\n",
              "      <th>0</th>\n",
              "      <td>2020</td>\n",
              "      <td>01</td>\n",
              "      <td>2</td>\n",
              "      <td>경기</td>\n",
              "    </tr>\n",
              "    <tr>\n",
              "      <th>1</th>\n",
              "      <td>2020</td>\n",
              "      <td>02</td>\n",
              "      <td>82</td>\n",
              "      <td>경기</td>\n",
              "    </tr>\n",
              "    <tr>\n",
              "      <th>2</th>\n",
              "      <td>2020</td>\n",
              "      <td>03</td>\n",
              "      <td>417</td>\n",
              "      <td>경기</td>\n",
              "    </tr>\n",
              "    <tr>\n",
              "      <th>3</th>\n",
              "      <td>2020</td>\n",
              "      <td>04</td>\n",
              "      <td>177</td>\n",
              "      <td>경기</td>\n",
              "    </tr>\n",
              "    <tr>\n",
              "      <th>4</th>\n",
              "      <td>2020</td>\n",
              "      <td>05</td>\n",
              "      <td>175</td>\n",
              "      <td>경기</td>\n",
              "    </tr>\n",
              "    <tr>\n",
              "      <th>5</th>\n",
              "      <td>2020</td>\n",
              "      <td>06</td>\n",
              "      <td>355</td>\n",
              "      <td>경기</td>\n",
              "    </tr>\n",
              "  </tbody>\n",
              "</table>\n",
              "</div>"
            ],
            "text/plain": [
              "  year_date month_date  total_patient CARD_SIDO_NM\n",
              "0      2020         01              2           경기\n",
              "1      2020         02             82           경기\n",
              "2      2020         03            417           경기\n",
              "3      2020         04            177           경기\n",
              "4      2020         05            175           경기\n",
              "5      2020         06            355           경기"
            ]
          },
          "metadata": {
            "tags": []
          },
          "execution_count": 50
        }
      ]
    },
    {
      "cell_type": "code",
      "metadata": {
        "id": "7yJJdOYoQKbV",
        "colab_type": "code",
        "colab": {
          "base_uri": "https://localhost:8080/",
          "height": 606
        },
        "outputId": "b854cdd2-daa2-40d4-880a-7623d4083445"
      },
      "source": [
        "C001 = pd.merge(train01, result01, how='left')\n",
        "C001\n",
        "\n",
        "# 겹치는게 나오는 이유 ,, 1) index 문제다. 2) data type 문제다 "
      ],
      "execution_count": 51,
      "outputs": [
        {
          "output_type": "execute_result",
          "data": {
            "text/html": [
              "<div>\n",
              "<style scoped>\n",
              "    .dataframe tbody tr th:only-of-type {\n",
              "        vertical-align: middle;\n",
              "    }\n",
              "\n",
              "    .dataframe tbody tr th {\n",
              "        vertical-align: top;\n",
              "    }\n",
              "\n",
              "    .dataframe thead th {\n",
              "        text-align: right;\n",
              "    }\n",
              "</style>\n",
              "<table border=\"1\" class=\"dataframe\">\n",
              "  <thead>\n",
              "    <tr style=\"text-align: right;\">\n",
              "      <th></th>\n",
              "      <th>REG_YYMM</th>\n",
              "      <th>CARD_SIDO_NM</th>\n",
              "      <th>CARD_CCG_NM</th>\n",
              "      <th>STD_CLSS_NM</th>\n",
              "      <th>HOM_SIDO_NM</th>\n",
              "      <th>HOM_CCG_NM</th>\n",
              "      <th>AGE</th>\n",
              "      <th>SEX_CTGO_CD</th>\n",
              "      <th>FLC</th>\n",
              "      <th>CSTMR_CNT</th>\n",
              "      <th>AMT</th>\n",
              "      <th>CNT</th>\n",
              "      <th>month_date</th>\n",
              "      <th>year_date</th>\n",
              "      <th>total_patient</th>\n",
              "    </tr>\n",
              "  </thead>\n",
              "  <tbody>\n",
              "    <tr>\n",
              "      <th>0</th>\n",
              "      <td>2019-01-01</td>\n",
              "      <td>강원</td>\n",
              "      <td>화천군</td>\n",
              "      <td>화장품 및 방향제 소매업</td>\n",
              "      <td>강원</td>\n",
              "      <td>화천군</td>\n",
              "      <td>10s</td>\n",
              "      <td>2</td>\n",
              "      <td>1</td>\n",
              "      <td>4</td>\n",
              "      <td>30150</td>\n",
              "      <td>5</td>\n",
              "      <td>01</td>\n",
              "      <td>2019</td>\n",
              "      <td>NaN</td>\n",
              "    </tr>\n",
              "    <tr>\n",
              "      <th>1</th>\n",
              "      <td>2019-05-01</td>\n",
              "      <td>강원</td>\n",
              "      <td>평창군</td>\n",
              "      <td>기타음식료품위주종합소매업</td>\n",
              "      <td>강원</td>\n",
              "      <td>평창군</td>\n",
              "      <td>10s</td>\n",
              "      <td>2</td>\n",
              "      <td>1</td>\n",
              "      <td>7</td>\n",
              "      <td>94310</td>\n",
              "      <td>26</td>\n",
              "      <td>05</td>\n",
              "      <td>2019</td>\n",
              "      <td>NaN</td>\n",
              "    </tr>\n",
              "    <tr>\n",
              "      <th>2</th>\n",
              "      <td>2019-07-01</td>\n",
              "      <td>강원</td>\n",
              "      <td>양양군</td>\n",
              "      <td>체인화 편의점</td>\n",
              "      <td>강원</td>\n",
              "      <td>양양군</td>\n",
              "      <td>10s</td>\n",
              "      <td>2</td>\n",
              "      <td>1</td>\n",
              "      <td>51</td>\n",
              "      <td>342300</td>\n",
              "      <td>120</td>\n",
              "      <td>07</td>\n",
              "      <td>2019</td>\n",
              "      <td>NaN</td>\n",
              "    </tr>\n",
              "    <tr>\n",
              "      <th>3</th>\n",
              "      <td>2019-07-01</td>\n",
              "      <td>서울</td>\n",
              "      <td>동작구</td>\n",
              "      <td>택시 운송업</td>\n",
              "      <td>강원</td>\n",
              "      <td>정선군</td>\n",
              "      <td>10s</td>\n",
              "      <td>1</td>\n",
              "      <td>1</td>\n",
              "      <td>8</td>\n",
              "      <td>111500</td>\n",
              "      <td>19</td>\n",
              "      <td>07</td>\n",
              "      <td>2019</td>\n",
              "      <td>NaN</td>\n",
              "    </tr>\n",
              "    <tr>\n",
              "      <th>4</th>\n",
              "      <td>2019-02-01</td>\n",
              "      <td>서울</td>\n",
              "      <td>중구</td>\n",
              "      <td>택시 운송업</td>\n",
              "      <td>강원</td>\n",
              "      <td>속초시</td>\n",
              "      <td>10s</td>\n",
              "      <td>1</td>\n",
              "      <td>1</td>\n",
              "      <td>45</td>\n",
              "      <td>558670</td>\n",
              "      <td>153</td>\n",
              "      <td>02</td>\n",
              "      <td>2019</td>\n",
              "      <td>NaN</td>\n",
              "    </tr>\n",
              "    <tr>\n",
              "      <th>...</th>\n",
              "      <td>...</td>\n",
              "      <td>...</td>\n",
              "      <td>...</td>\n",
              "      <td>...</td>\n",
              "      <td>...</td>\n",
              "      <td>...</td>\n",
              "      <td>...</td>\n",
              "      <td>...</td>\n",
              "      <td>...</td>\n",
              "      <td>...</td>\n",
              "      <td>...</td>\n",
              "      <td>...</td>\n",
              "      <td>...</td>\n",
              "      <td>...</td>\n",
              "      <td>...</td>\n",
              "    </tr>\n",
              "    <tr>\n",
              "      <th>199995</th>\n",
              "      <td>2020-01-01</td>\n",
              "      <td>경기</td>\n",
              "      <td>가평군</td>\n",
              "      <td>기타 외국식 음식점업</td>\n",
              "      <td>경기</td>\n",
              "      <td>가평군</td>\n",
              "      <td>20s</td>\n",
              "      <td>1</td>\n",
              "      <td>2</td>\n",
              "      <td>4</td>\n",
              "      <td>124500</td>\n",
              "      <td>4</td>\n",
              "      <td>01</td>\n",
              "      <td>2020</td>\n",
              "      <td>2.0</td>\n",
              "    </tr>\n",
              "    <tr>\n",
              "      <th>199996</th>\n",
              "      <td>2020-01-01</td>\n",
              "      <td>경기</td>\n",
              "      <td>가평군</td>\n",
              "      <td>차량용 주유소 운영업</td>\n",
              "      <td>경기</td>\n",
              "      <td>용인시 수지구</td>\n",
              "      <td>20s</td>\n",
              "      <td>2</td>\n",
              "      <td>1</td>\n",
              "      <td>3</td>\n",
              "      <td>192000</td>\n",
              "      <td>3</td>\n",
              "      <td>01</td>\n",
              "      <td>2020</td>\n",
              "      <td>2.0</td>\n",
              "    </tr>\n",
              "    <tr>\n",
              "      <th>199997</th>\n",
              "      <td>2020-01-01</td>\n",
              "      <td>경기</td>\n",
              "      <td>고양시 덕양구</td>\n",
              "      <td>비알콜 음료점업</td>\n",
              "      <td>경기</td>\n",
              "      <td>이천시</td>\n",
              "      <td>20s</td>\n",
              "      <td>2</td>\n",
              "      <td>1</td>\n",
              "      <td>4</td>\n",
              "      <td>26200</td>\n",
              "      <td>6</td>\n",
              "      <td>01</td>\n",
              "      <td>2020</td>\n",
              "      <td>2.0</td>\n",
              "    </tr>\n",
              "    <tr>\n",
              "      <th>199998</th>\n",
              "      <td>2020-01-01</td>\n",
              "      <td>경기</td>\n",
              "      <td>고양시 덕양구</td>\n",
              "      <td>중식 음식점업</td>\n",
              "      <td>경기</td>\n",
              "      <td>고양시 일산동구</td>\n",
              "      <td>20s</td>\n",
              "      <td>2</td>\n",
              "      <td>2</td>\n",
              "      <td>6</td>\n",
              "      <td>301500</td>\n",
              "      <td>7</td>\n",
              "      <td>01</td>\n",
              "      <td>2020</td>\n",
              "      <td>2.0</td>\n",
              "    </tr>\n",
              "    <tr>\n",
              "      <th>199999</th>\n",
              "      <td>2020-01-01</td>\n",
              "      <td>경기</td>\n",
              "      <td>고양시 일산동구</td>\n",
              "      <td>비알콜 음료점업</td>\n",
              "      <td>경기</td>\n",
              "      <td>가평군</td>\n",
              "      <td>20s</td>\n",
              "      <td>1</td>\n",
              "      <td>1</td>\n",
              "      <td>3</td>\n",
              "      <td>43000</td>\n",
              "      <td>5</td>\n",
              "      <td>01</td>\n",
              "      <td>2020</td>\n",
              "      <td>2.0</td>\n",
              "    </tr>\n",
              "  </tbody>\n",
              "</table>\n",
              "<p>200000 rows × 15 columns</p>\n",
              "</div>"
            ],
            "text/plain": [
              "         REG_YYMM CARD_SIDO_NM CARD_CCG_NM  ... month_date year_date total_patient\n",
              "0      2019-01-01           강원         화천군  ...         01      2019           NaN\n",
              "1      2019-05-01           강원         평창군  ...         05      2019           NaN\n",
              "2      2019-07-01           강원         양양군  ...         07      2019           NaN\n",
              "3      2019-07-01           서울         동작구  ...         07      2019           NaN\n",
              "4      2019-02-01           서울          중구  ...         02      2019           NaN\n",
              "...           ...          ...         ...  ...        ...       ...           ...\n",
              "199995 2020-01-01           경기         가평군  ...         01      2020           2.0\n",
              "199996 2020-01-01           경기         가평군  ...         01      2020           2.0\n",
              "199997 2020-01-01           경기     고양시 덕양구  ...         01      2020           2.0\n",
              "199998 2020-01-01           경기     고양시 덕양구  ...         01      2020           2.0\n",
              "199999 2020-01-01           경기    고양시 일산동구  ...         01      2020           2.0\n",
              "\n",
              "[200000 rows x 15 columns]"
            ]
          },
          "metadata": {
            "tags": []
          },
          "execution_count": 51
        }
      ]
    },
    {
      "cell_type": "code",
      "metadata": {
        "id": "tUijkpulVmvs",
        "colab_type": "code",
        "colab": {}
      },
      "source": [
        ""
      ],
      "execution_count": null,
      "outputs": []
    }
  ]
}