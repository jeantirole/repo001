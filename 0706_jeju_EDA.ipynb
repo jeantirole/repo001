{
  "nbformat": 4,
  "nbformat_minor": 0,
  "metadata": {
    "colab": {
      "name": "Untitled11.ipynb",
      "provenance": []
    },
    "kernelspec": {
      "name": "python3",
      "display_name": "Python 3"
    }
  },
  "cells": [
    {
      "cell_type": "code",
      "metadata": {
        "id": "8OlLWde-yY3v",
        "colab_type": "code",
        "colab": {
          "base_uri": "https://localhost:8080/",
          "height": 55
        },
        "outputId": "cbecd7ca-6b98-4d87-99bb-707817ea6fff"
      },
      "source": [
        "from google.colab import drive\n",
        "ROOT = '/content/drive'\n",
        "drive.mount(ROOT)\n",
        "\n",
        "import pandas as pd\n",
        "from pandas.io import gbq"
      ],
      "execution_count": 3,
      "outputs": [
        {
          "output_type": "stream",
          "text": [
            "Drive already mounted at /content/drive; to attempt to forcibly remount, call drive.mount(\"/content/drive\", force_remount=True).\n"
          ],
          "name": "stdout"
        }
      ]
    },
    {
      "cell_type": "code",
      "metadata": {
        "id": "N2OSENvOyoLF",
        "colab_type": "code",
        "colab": {
          "base_uri": "https://localhost:8080/",
          "height": 35
        },
        "outputId": "a2244f64-3865-4521-df83-608633ab83ca"
      },
      "source": [
        "from os.path import join  \n",
        "\n",
        "MY_GOOGLE_DRIVE_PATH = 'My Drive'\n",
        "PROJECT_PATH = join(ROOT, MY_GOOGLE_DRIVE_PATH)\n",
        "print(PROJECT_PATH)"
      ],
      "execution_count": 2,
      "outputs": [
        {
          "output_type": "stream",
          "text": [
            "/content/drive/My Drive\n"
          ],
          "name": "stdout"
        }
      ]
    },
    {
      "cell_type": "code",
      "metadata": {
        "id": "HqM9aMTLybsM",
        "colab_type": "code",
        "colab": {
          "base_uri": "https://localhost:8080/",
          "height": 71
        },
        "outputId": "2db56d4e-e41a-4a1e-d94a-e41f4f5c938f"
      },
      "source": [
        "%cd \"{PROJECT_PATH}\"\n",
        "!ls"
      ],
      "execution_count": 4,
      "outputs": [
        {
          "output_type": "stream",
          "text": [
            "/content/drive/My Drive\n",
            " 201901-202003.csv   data   Eric_Github.zip    submission.csv\n",
            "'Colab Notebooks'    eric   submission01.csv\n"
          ],
          "name": "stdout"
        }
      ]
    },
    {
      "cell_type": "code",
      "metadata": {
        "id": "umsxk1AByb1D",
        "colab_type": "code",
        "colab": {}
      },
      "source": [
        "import pandas as pd\n",
        "from pandas.io import gbq\n",
        "\n",
        "# import submission file in Google Drive\n",
        "submission = pd.read_csv('/content/drive/My Drive/submission.csv')"
      ],
      "execution_count": 5,
      "outputs": []
    },
    {
      "cell_type": "code",
      "metadata": {
        "id": "xZlzYkxxyb3t",
        "colab_type": "code",
        "colab": {
          "base_uri": "https://localhost:8080/",
          "height": 91
        },
        "outputId": "9d37a758-d596-4257-c468-04ffa05e2b02"
      },
      "source": [
        "submission.to_gbq(destination_table='jeju_data_ver1.submission', \n",
        "                  project_id='eric-dacon', \n",
        "                  if_exists='replace')"
      ],
      "execution_count": 6,
      "outputs": [
        {
          "output_type": "stream",
          "text": [
            "Please visit this URL to authorize this application: https://accounts.google.com/o/oauth2/auth?response_type=code&client_id=725825577420-unm2gnkiprugilg743tkbig250f4sfsj.apps.googleusercontent.com&redirect_uri=urn%3Aietf%3Awg%3Aoauth%3A2.0%3Aoob&scope=https%3A%2F%2Fwww.googleapis.com%2Fauth%2Fbigquery&state=J3q7vyZZaNmJaP279zv9eSNEuyaQW2&prompt=consent&access_type=offline\n",
            "Enter the authorization code: 4/1gHV0qAwsW1NmV011muPzj3ifWVLuEoHzu7I12Q3vaUTbL9Tnbb_PZM\n"
          ],
          "name": "stdout"
        },
        {
          "output_type": "stream",
          "text": [
            "1it [00:02,  2.52s/it]\n"
          ],
          "name": "stderr"
        }
      ]
    },
    {
      "cell_type": "code",
      "metadata": {
        "id": "pvaYU1xZyb5y",
        "colab_type": "code",
        "colab": {
          "base_uri": "https://localhost:8080/",
          "height": 35
        },
        "outputId": "12bb1146-939f-4e14-a7c2-c7f9e0b432cb"
      },
      "source": [
        "# import submission file in Google Drive\n",
        "train = pd.read_csv('/content/drive/My Drive/201901-202003.csv')\n",
        "\n",
        "# Connect to Google Cloud API and Upload DataFrame\n",
        "train.to_gbq(destination_table='jeju_data_ver1.201901_202003_train', \n",
        "                  project_id='eric-dacon', \n",
        "                  if_exists='replace')"
      ],
      "execution_count": 7,
      "outputs": [
        {
          "output_type": "stream",
          "text": [
            "1it [08:03, 483.34s/it]\n"
          ],
          "name": "stderr"
        }
      ]
    },
    {
      "cell_type": "code",
      "metadata": {
        "id": "3zkUk3zbyb8L",
        "colab_type": "code",
        "colab": {
          "base_uri": "https://localhost:8080/",
          "height": 35
        },
        "outputId": "04583e41-f827-449b-e48a-236340398454"
      },
      "source": [
        "from google.colab import auth\n",
        "auth.authenticate_user()\n",
        "print('Authenticated')"
      ],
      "execution_count": 4,
      "outputs": [
        {
          "output_type": "stream",
          "text": [
            "Authenticated\n"
          ],
          "name": "stdout"
        }
      ]
    },
    {
      "cell_type": "code",
      "metadata": {
        "id": "TcwpF2rKyb-a",
        "colab_type": "code",
        "colab": {}
      },
      "source": [
        "from google.cloud import bigquery\n",
        "from tabulate import tabulate\n",
        "import pandas as pd\n",
        "\n",
        "project_id = 'eric-dacon'\n",
        "client = bigquery.Client(project=project_id)\n",
        "\n",
        "train = client.query('''\n",
        "  SELECT \n",
        "    * \n",
        "  FROM `eric-dacon.jeju_data_ver1.201901_202003_train` \n",
        "  LIMIT 1000\n",
        "  ''').to_dataframe()"
      ],
      "execution_count": 5,
      "outputs": []
    },
    {
      "cell_type": "code",
      "metadata": {
        "id": "TAWWngZN1OqB",
        "colab_type": "code",
        "colab": {}
      },
      "source": [
        "\n",
        "project_id = 'eric-dacon'\n",
        "client = bigquery.Client(project=project_id)\n",
        "\n",
        "submission = client.query('''\n",
        "  SELECT \n",
        "    * \n",
        "  FROM `eric-dacon.jeju_data_ver1.submission` \n",
        "  LIMIT 1000\n",
        "  ''').to_dataframe()"
      ],
      "execution_count": 6,
      "outputs": []
    },
    {
      "cell_type": "code",
      "metadata": {
        "id": "2tUtBlTM1OsL",
        "colab_type": "code",
        "colab": {
          "base_uri": "https://localhost:8080/",
          "height": 258
        },
        "outputId": "48ae38c3-3d58-4a73-b39c-8f58a26b67ab"
      },
      "source": [
        "train.head()"
      ],
      "execution_count": 7,
      "outputs": [
        {
          "output_type": "execute_result",
          "data": {
            "text/html": [
              "<div>\n",
              "<style scoped>\n",
              "    .dataframe tbody tr th:only-of-type {\n",
              "        vertical-align: middle;\n",
              "    }\n",
              "\n",
              "    .dataframe tbody tr th {\n",
              "        vertical-align: top;\n",
              "    }\n",
              "\n",
              "    .dataframe thead th {\n",
              "        text-align: right;\n",
              "    }\n",
              "</style>\n",
              "<table border=\"1\" class=\"dataframe\">\n",
              "  <thead>\n",
              "    <tr style=\"text-align: right;\">\n",
              "      <th></th>\n",
              "      <th>REG_YYMM</th>\n",
              "      <th>CARD_SIDO_NM</th>\n",
              "      <th>CARD_CCG_NM</th>\n",
              "      <th>STD_CLSS_NM</th>\n",
              "      <th>HOM_SIDO_NM</th>\n",
              "      <th>HOM_CCG_NM</th>\n",
              "      <th>AGE</th>\n",
              "      <th>SEX_CTGO_CD</th>\n",
              "      <th>FLC</th>\n",
              "      <th>CSTMR_CNT</th>\n",
              "      <th>AMT</th>\n",
              "      <th>CNT</th>\n",
              "    </tr>\n",
              "  </thead>\n",
              "  <tbody>\n",
              "    <tr>\n",
              "      <th>0</th>\n",
              "      <td>201903</td>\n",
              "      <td>서울</td>\n",
              "      <td>동작구</td>\n",
              "      <td>택시 운송업</td>\n",
              "      <td>강원</td>\n",
              "      <td>인제군</td>\n",
              "      <td>10s</td>\n",
              "      <td>1</td>\n",
              "      <td>1</td>\n",
              "      <td>4</td>\n",
              "      <td>32800</td>\n",
              "      <td>9</td>\n",
              "    </tr>\n",
              "    <tr>\n",
              "      <th>1</th>\n",
              "      <td>201904</td>\n",
              "      <td>강원</td>\n",
              "      <td>동해시</td>\n",
              "      <td>서양식 음식점업</td>\n",
              "      <td>강원</td>\n",
              "      <td>삼척시</td>\n",
              "      <td>10s</td>\n",
              "      <td>2</td>\n",
              "      <td>1</td>\n",
              "      <td>3</td>\n",
              "      <td>27800</td>\n",
              "      <td>3</td>\n",
              "    </tr>\n",
              "    <tr>\n",
              "      <th>2</th>\n",
              "      <td>201904</td>\n",
              "      <td>서울</td>\n",
              "      <td>서초구</td>\n",
              "      <td>버스 운송업</td>\n",
              "      <td>강원</td>\n",
              "      <td>동해시</td>\n",
              "      <td>10s</td>\n",
              "      <td>2</td>\n",
              "      <td>1</td>\n",
              "      <td>7</td>\n",
              "      <td>37600</td>\n",
              "      <td>6</td>\n",
              "    </tr>\n",
              "    <tr>\n",
              "      <th>3</th>\n",
              "      <td>201904</td>\n",
              "      <td>서울</td>\n",
              "      <td>중구</td>\n",
              "      <td>택시 운송업</td>\n",
              "      <td>강원</td>\n",
              "      <td>태백시</td>\n",
              "      <td>10s</td>\n",
              "      <td>1</td>\n",
              "      <td>1</td>\n",
              "      <td>3</td>\n",
              "      <td>66700</td>\n",
              "      <td>9</td>\n",
              "    </tr>\n",
              "    <tr>\n",
              "      <th>4</th>\n",
              "      <td>201905</td>\n",
              "      <td>강원</td>\n",
              "      <td>태백시</td>\n",
              "      <td>체인화 편의점</td>\n",
              "      <td>강원</td>\n",
              "      <td>태백시</td>\n",
              "      <td>10s</td>\n",
              "      <td>1</td>\n",
              "      <td>1</td>\n",
              "      <td>20</td>\n",
              "      <td>601750</td>\n",
              "      <td>160</td>\n",
              "    </tr>\n",
              "  </tbody>\n",
              "</table>\n",
              "</div>"
            ],
            "text/plain": [
              "   REG_YYMM CARD_SIDO_NM CARD_CCG_NM STD_CLSS_NM  ... FLC CSTMR_CNT     AMT  CNT\n",
              "0    201903           서울         동작구      택시 운송업  ...   1         4   32800    9\n",
              "1    201904           강원         동해시    서양식 음식점업  ...   1         3   27800    3\n",
              "2    201904           서울         서초구      버스 운송업  ...   1         7   37600    6\n",
              "3    201904           서울          중구      택시 운송업  ...   1         3   66700    9\n",
              "4    201905           강원         태백시     체인화 편의점  ...   1        20  601750  160\n",
              "\n",
              "[5 rows x 12 columns]"
            ]
          },
          "metadata": {
            "tags": []
          },
          "execution_count": 7
        }
      ]
    },
    {
      "cell_type": "code",
      "metadata": {
        "id": "sr16NDz31Oui",
        "colab_type": "code",
        "colab": {
          "base_uri": "https://localhost:8080/",
          "height": 204
        },
        "outputId": "a4bad739-0408-4228-c940-7d1821ea6104"
      },
      "source": [
        "submission.head()"
      ],
      "execution_count": 8,
      "outputs": [
        {
          "output_type": "execute_result",
          "data": {
            "text/html": [
              "<div>\n",
              "<style scoped>\n",
              "    .dataframe tbody tr th:only-of-type {\n",
              "        vertical-align: middle;\n",
              "    }\n",
              "\n",
              "    .dataframe tbody tr th {\n",
              "        vertical-align: top;\n",
              "    }\n",
              "\n",
              "    .dataframe thead th {\n",
              "        text-align: right;\n",
              "    }\n",
              "</style>\n",
              "<table border=\"1\" class=\"dataframe\">\n",
              "  <thead>\n",
              "    <tr style=\"text-align: right;\">\n",
              "      <th></th>\n",
              "      <th>id</th>\n",
              "      <th>REG_YYMM</th>\n",
              "      <th>CARD_SIDO_NM</th>\n",
              "      <th>STD_CLSS_NM</th>\n",
              "      <th>AMT</th>\n",
              "    </tr>\n",
              "  </thead>\n",
              "  <tbody>\n",
              "    <tr>\n",
              "      <th>0</th>\n",
              "      <td>1</td>\n",
              "      <td>202004</td>\n",
              "      <td>강원</td>\n",
              "      <td>골프장 운영업</td>\n",
              "      <td>9.562233e+08</td>\n",
              "    </tr>\n",
              "    <tr>\n",
              "      <th>1</th>\n",
              "      <td>2</td>\n",
              "      <td>202004</td>\n",
              "      <td>강원</td>\n",
              "      <td>과실 및 채소 소매업</td>\n",
              "      <td>4.253982e+08</td>\n",
              "    </tr>\n",
              "    <tr>\n",
              "      <th>2</th>\n",
              "      <td>3</td>\n",
              "      <td>202004</td>\n",
              "      <td>강원</td>\n",
              "      <td>관광 민예품 및 선물용품 소매업</td>\n",
              "      <td>2.275100e+08</td>\n",
              "    </tr>\n",
              "    <tr>\n",
              "      <th>3</th>\n",
              "      <td>6</td>\n",
              "      <td>202004</td>\n",
              "      <td>강원</td>\n",
              "      <td>그외 기타 종합 소매업</td>\n",
              "      <td>1.036177e+08</td>\n",
              "    </tr>\n",
              "    <tr>\n",
              "      <th>4</th>\n",
              "      <td>7</td>\n",
              "      <td>202004</td>\n",
              "      <td>강원</td>\n",
              "      <td>기타 대형 종합 소매업</td>\n",
              "      <td>1.815591e+09</td>\n",
              "    </tr>\n",
              "  </tbody>\n",
              "</table>\n",
              "</div>"
            ],
            "text/plain": [
              "   id  REG_YYMM CARD_SIDO_NM        STD_CLSS_NM           AMT\n",
              "0   1    202004           강원            골프장 운영업  9.562233e+08\n",
              "1   2    202004           강원        과실 및 채소 소매업  4.253982e+08\n",
              "2   3    202004           강원  관광 민예품 및 선물용품 소매업  2.275100e+08\n",
              "3   6    202004           강원       그외 기타 종합 소매업  1.036177e+08\n",
              "4   7    202004           강원       기타 대형 종합 소매업  1.815591e+09"
            ]
          },
          "metadata": {
            "tags": []
          },
          "execution_count": 8
        }
      ]
    },
    {
      "cell_type": "code",
      "metadata": {
        "id": "Z5-PyhuF1OxG",
        "colab_type": "code",
        "colab": {
          "base_uri": "https://localhost:8080/",
          "height": 359
        },
        "outputId": "46572694-782f-4c98-92aa-bf2a89e5a014"
      },
      "source": [
        "submission.groupby('CARD_SIDO_NM')['STD_CLSS_NM'].unique()"
      ],
      "execution_count": 9,
      "outputs": [
        {
          "output_type": "execute_result",
          "data": {
            "text/plain": [
              "CARD_SIDO_NM\n",
              "강원    [골프장 운영업, 과실 및 채소 소매업, 관광 민예품 및 선물용품 소매업, 그외 기...\n",
              "경기    [골프장 운영업, 과실 및 채소 소매업, 관광 민예품 및 선물용품 소매업, 그외 기...\n",
              "경남    [골프장 운영업, 과실 및 채소 소매업, 관광 민예품 및 선물용품 소매업, 그외 기...\n",
              "경북    [골프장 운영업, 과실 및 채소 소매업, 관광 민예품 및 선물용품 소매업, 그외 기...\n",
              "광주    [골프장 운영업, 과실 및 채소 소매업, 관광 민예품 및 선물용품 소매업, 그외 기...\n",
              "대구    [골프장 운영업, 과실 및 채소 소매업, 관광 민예품 및 선물용품 소매업, 그외 기...\n",
              "대전    [골프장 운영업, 과실 및 채소 소매업, 관광 민예품 및 선물용품 소매업, 그외 기...\n",
              "부산    [골프장 운영업, 과실 및 채소 소매업, 관광 민예품 및 선물용품 소매업, 그외 기...\n",
              "서울    [골프장 운영업, 과실 및 채소 소매업, 관광 민예품 및 선물용품 소매업, 그외 기...\n",
              "세종    [골프장 운영업, 과실 및 채소 소매업, 관광 민예품 및 선물용품 소매업, 그외 기...\n",
              "울산    [골프장 운영업, 과실 및 채소 소매업, 관광 민예품 및 선물용품 소매업, 그외 기...\n",
              "인천    [골프장 운영업, 과실 및 채소 소매업, 관광 민예품 및 선물용품 소매업, 그외 기...\n",
              "전남    [골프장 운영업, 과실 및 채소 소매업, 관광 민예품 및 선물용품 소매업, 그외 기...\n",
              "전북    [골프장 운영업, 과실 및 채소 소매업, 관광 민예품 및 선물용품 소매업, 그외 기...\n",
              "제주    [골프장 운영업, 과실 및 채소 소매업, 관광 민예품 및 선물용품 소매업, 그외 기...\n",
              "충남    [골프장 운영업, 과실 및 채소 소매업, 관광 민예품 및 선물용품 소매업, 그외 기...\n",
              "충북    [골프장 운영업, 과실 및 채소 소매업, 관광 민예품 및 선물용품 소매업, 그외 기...\n",
              "Name: STD_CLSS_NM, dtype: object"
            ]
          },
          "metadata": {
            "tags": []
          },
          "execution_count": 9
        }
      ]
    },
    {
      "cell_type": "code",
      "metadata": {
        "id": "0fakDNi31O1M",
        "colab_type": "code",
        "colab": {
          "base_uri": "https://localhost:8080/",
          "height": 71
        },
        "outputId": "d7c33865-ca6c-4177-9b7e-2ca37686157b"
      },
      "source": [
        "train.columns"
      ],
      "execution_count": 21,
      "outputs": [
        {
          "output_type": "execute_result",
          "data": {
            "text/plain": [
              "Index(['REG_YYMM', 'CARD_SIDO_NM', 'CARD_CCG_NM', 'STD_CLSS_NM', 'HOM_SIDO_NM',\n",
              "       'HOM_CCG_NM', 'AGE', 'SEX_CTGO_CD', 'FLC', 'CSTMR_CNT', 'AMT', 'CNT'],\n",
              "      dtype='object')"
            ]
          },
          "metadata": {
            "tags": []
          },
          "execution_count": 21
        }
      ]
    },
    {
      "cell_type": "code",
      "metadata": {
        "id": "c0BjvqR11O5y",
        "colab_type": "code",
        "colab": {}
      },
      "source": [
        "t = pd.DataFrame(train)"
      ],
      "execution_count": 12,
      "outputs": []
    },
    {
      "cell_type": "code",
      "metadata": {
        "id": "w8X0d_jq3o9F",
        "colab_type": "code",
        "colab": {
          "base_uri": "https://localhost:8080/",
          "height": 71
        },
        "outputId": "d445a1c2-8dd7-42bc-8982-73fc289a0e77"
      },
      "source": [
        "t['CARD_SIDO_NM']"
      ],
      "execution_count": 30,
      "outputs": [
        {
          "output_type": "execute_result",
          "data": {
            "text/plain": [
              "Index(['REG_YYMM', 'CARD_SIDO_NM', 'CARD_CCG_NM', 'STD_CLSS_NM', 'HOM_SIDO_NM',\n",
              "       'HOM_CCG_NM', 'AGE', 'SEX_CTGO_CD', 'FLC', 'CSTMR_CNT', 'AMT', 'CNT'],\n",
              "      dtype='object')"
            ]
          },
          "metadata": {
            "tags": []
          },
          "execution_count": 30
        }
      ]
    },
    {
      "cell_type": "code",
      "metadata": {
        "id": "fc4hjrLI1O8B",
        "colab_type": "code",
        "colab": {
          "base_uri": "https://localhost:8080/",
          "height": 53
        },
        "outputId": "fb66fc7b-9b0d-4911-c93c-16b1ded04e3d"
      },
      "source": [
        "t['CARD_SIDO_NM'].unique()"
      ],
      "execution_count": 13,
      "outputs": [
        {
          "output_type": "execute_result",
          "data": {
            "text/plain": [
              "array(['서울', '강원', '경기', '인천', '경북', '부산', '제주', '전북', '충북', '전남', '대구'],\n",
              "      dtype=object)"
            ]
          },
          "metadata": {
            "tags": []
          },
          "execution_count": 13
        }
      ]
    },
    {
      "cell_type": "code",
      "metadata": {
        "id": "Qa9_f6qc3U2Z",
        "colab_type": "code",
        "colab": {
          "base_uri": "https://localhost:8080/",
          "height": 163
        },
        "outputId": "05220660-7182-4bd5-92f2-b0932a45748f"
      },
      "source": [
        "t['CARD_CCG_NM'].unique()"
      ],
      "execution_count": 14,
      "outputs": [
        {
          "output_type": "execute_result",
          "data": {
            "text/plain": [
              "array(['동작구', '동해시', '서초구', '중구', '태백시', '평창군', '춘천시', '강릉시', '인제군',\n",
              "       '과천시', '용인시 처인구', '원주시', '삼척시', '철원군', '구로구', '양구군', '양양군', '광명시',\n",
              "       '용산구', '속초시', '홍천군', '정선군', '화천군', '여주시', '고성군', '횡성군', '영월군',\n",
              "       '강서구', '용인시 기흥구', '시흥시', '광진구', '양천구', '가평군', '광주시', '부평구', '송파구',\n",
              "       '성남시 분당구', '강남구', '칠곡군', '안양시 만안구', '해운대구', '영등포구', '제주시', '서귀포시',\n",
              "       '이천시', '군산시', '음성군', '종로구', '의정부시', '보성군', '안양시 동안구', '양평군', '마포구',\n",
              "       '부천시', '제천시', '수성구'], dtype=object)"
            ]
          },
          "metadata": {
            "tags": []
          },
          "execution_count": 14
        }
      ]
    },
    {
      "cell_type": "code",
      "metadata": {
        "id": "KjbpSxaz3U4x",
        "colab_type": "code",
        "colab": {
          "base_uri": "https://localhost:8080/",
          "height": 145
        },
        "outputId": "bcd10830-c77f-4eb4-ec69-d99b81a7b103"
      },
      "source": [
        "t['STD_CLSS_NM'].unique()"
      ],
      "execution_count": 15,
      "outputs": [
        {
          "output_type": "execute_result",
          "data": {
            "text/plain": [
              "array(['택시 운송업', '서양식 음식점업', '버스 운송업', '체인화 편의점', '슈퍼마켓', '기타음식료품위주종합소매업',\n",
              "       '비알콜 음료점업', '한식 음식점업', '전시 및 행사 대행업', '차량용 주유소 운영업',\n",
              "       '화장품 및 방향제 소매업', '피자 햄버거 샌드위치 및 유사 음식점업', '빵 및 과자류 소매업', '중식 음식점업',\n",
              "       '기타 대형 종합 소매업', '기타 외국식 음식점업', '스포츠 및 레크레이션 용품 임대업', '일식 음식점업',\n",
              "       '골프장 운영업', '호텔업', '그외 기타 종합 소매업', '과실 및 채소 소매업', '육류 소매업', '여관업',\n",
              "       '욕탕업', '휴양콘도 운영업'], dtype=object)"
            ]
          },
          "metadata": {
            "tags": []
          },
          "execution_count": 15
        }
      ]
    },
    {
      "cell_type": "code",
      "metadata": {
        "id": "MJljXj7T4fq1",
        "colab_type": "code",
        "colab": {
          "base_uri": "https://localhost:8080/",
          "height": 73
        },
        "outputId": "c44e79d1-d56f-4955-899c-68b9e1c1c8fc"
      },
      "source": [
        "# Visualization Library Importing \n",
        "import pandas as pd\n",
        "import matplotlib as mpl\n",
        "import matplotlib.pyplot as plt\n",
        "import seaborn as sns\n",
        "\n",
        "import warnings\n",
        "warnings.filterwarnings(action = 'ignore')"
      ],
      "execution_count": 16,
      "outputs": [
        {
          "output_type": "stream",
          "text": [
            "/usr/local/lib/python3.6/dist-packages/statsmodels/tools/_testing.py:19: FutureWarning: pandas.util.testing is deprecated. Use the functions in the public API at pandas.testing instead.\n",
            "  import pandas.util.testing as tm\n"
          ],
          "name": "stderr"
        }
      ]
    },
    {
      "cell_type": "code",
      "metadata": {
        "id": "85HYZ7lQ4xcL",
        "colab_type": "code",
        "colab": {
          "base_uri": "https://localhost:8080/",
          "height": 269
        },
        "outputId": "1ac8b5e7-dd2f-4072-8e9b-cd6e4d0bd581"
      },
      "source": [
        "%config InlineBackend.figure_format = 'retina'\n",
        " \n",
        "!apt -qq -y install fonts-nanum\n",
        " \n",
        "import matplotlib.font_manager as fm\n",
        "fontpath = '/usr/share/fonts/truetype/nanum/NanumBarunGothic.ttf'\n",
        "font = fm.FontProperties(fname=fontpath, size=9)\n",
        "plt.rc('font', family='NanumBarunGothic') \n",
        "mpl.font_manager._rebuild()"
      ],
      "execution_count": 41,
      "outputs": [
        {
          "output_type": "stream",
          "text": [
            "The following package was automatically installed and is no longer required:\n",
            "  libnvidia-common-440\n",
            "Use 'apt autoremove' to remove it.\n",
            "The following NEW packages will be installed:\n",
            "  fonts-nanum\n",
            "0 upgraded, 1 newly installed, 0 to remove and 33 not upgraded.\n",
            "Need to get 9,604 kB of archives.\n",
            "After this operation, 29.5 MB of additional disk space will be used.\n",
            "Selecting previously unselected package fonts-nanum.\n",
            "(Reading database ... 144379 files and directories currently installed.)\n",
            "Preparing to unpack .../fonts-nanum_20170925-1_all.deb ...\n",
            "Unpacking fonts-nanum (20170925-1) ...\n",
            "Setting up fonts-nanum (20170925-1) ...\n",
            "Processing triggers for fontconfig (2.12.6-0ubuntu2) ...\n"
          ],
          "name": "stdout"
        }
      ]
    },
    {
      "cell_type": "code",
      "metadata": {
        "id": "NBhCdBV75Hl7",
        "colab_type": "code",
        "colab": {}
      },
      "source": [
        "plt.rc('font', family='NanumBarunGothic') "
      ],
      "execution_count": 19,
      "outputs": []
    },
    {
      "cell_type": "code",
      "metadata": {
        "id": "GcgJzI145QFk",
        "colab_type": "code",
        "colab": {
          "base_uri": "https://localhost:8080/",
          "height": 320
        },
        "outputId": "20476a43-9013-4827-d992-b43fe26e09ac"
      },
      "source": [
        "plt.figure(figsize=(5,5))\n",
        "plt.plot([0,1], [0,1], label='한글테스트용')\n",
        "plt.legend()\n",
        "plt.show()"
      ],
      "execution_count": 20,
      "outputs": [
        {
          "output_type": "display_data",
          "data": {
            "image/png": "[encoded data removed]",
            "text/plain": [
              "<Figure size 360x360 with 1 Axes>"
            ]
          },
          "metadata": {
            "tags": [],
            "needs_background": "light"
          }
        }
      ]
    },
    {
      "cell_type": "markdown",
      "metadata": {
        "id": "12wpIDLj4wdR",
        "colab_type": "text"
      },
      "source": [
        ""
      ]
    },
    {
      "cell_type": "code",
      "metadata": {
        "id": "ASX4dhx13U7R",
        "colab_type": "code",
        "colab": {
          "base_uri": "https://localhost:8080/",
          "height": 498
        },
        "outputId": "dfe22835-9d33-4508-ffc4-a73e758fa906"
      },
      "source": [
        "# 업종별 등장 빈도수 \n",
        "\n",
        "fig = plt.figure(figsize=(20,15))\n",
        "fig.patch.set_facecolor('xkcd:mint green')\n",
        "sns.barplot(y=t['STD_CLSS_NM'].value_counts().index, x=t['STD_CLSS_NM'].value_counts())"
      ],
      "execution_count": 21,
      "outputs": [
        {
          "output_type": "execute_result",
          "data": {
            "text/plain": [
              "<matplotlib.axes._subplots.AxesSubplot at 0x7f05fa517b70>"
            ]
          },
          "metadata": {
            "tags": []
          },
          "execution_count": 21
        },
        {
          "output_type": "display_data",
          "data": {
            "image/png": "[encoded data removed]",
            "text/plain": [
              "<Figure size 1440x1080 with 1 Axes>"
            ]
          },
          "metadata": {
            "tags": []
          }
        }
      ]
    },
    {
      "cell_type": "code",
      "metadata": {
        "id": "NFsvr55e3U9i",
        "colab_type": "code",
        "colab": {
          "base_uri": "https://localhost:8080/",
          "height": 204
        },
        "outputId": "cb995319-7449-485e-dc95-a7e673809ced"
      },
      "source": [
        "city_count= train.groupby(['CARD_SIDO_NM','CARD_CCG_NM'])['STD_CLSS_NM'].value_counts().reset_index(name='count')\n",
        "city_count.head()"
      ],
      "execution_count": 22,
      "outputs": [
        {
          "output_type": "execute_result",
          "data": {
            "text/html": [
              "<div>\n",
              "<style scoped>\n",
              "    .dataframe tbody tr th:only-of-type {\n",
              "        vertical-align: middle;\n",
              "    }\n",
              "\n",
              "    .dataframe tbody tr th {\n",
              "        vertical-align: top;\n",
              "    }\n",
              "\n",
              "    .dataframe thead th {\n",
              "        text-align: right;\n",
              "    }\n",
              "</style>\n",
              "<table border=\"1\" class=\"dataframe\">\n",
              "  <thead>\n",
              "    <tr style=\"text-align: right;\">\n",
              "      <th></th>\n",
              "      <th>CARD_SIDO_NM</th>\n",
              "      <th>CARD_CCG_NM</th>\n",
              "      <th>STD_CLSS_NM</th>\n",
              "      <th>count</th>\n",
              "    </tr>\n",
              "  </thead>\n",
              "  <tbody>\n",
              "    <tr>\n",
              "      <th>0</th>\n",
              "      <td>강원</td>\n",
              "      <td>강릉시</td>\n",
              "      <td>체인화 편의점</td>\n",
              "      <td>11</td>\n",
              "    </tr>\n",
              "    <tr>\n",
              "      <th>1</th>\n",
              "      <td>강원</td>\n",
              "      <td>강릉시</td>\n",
              "      <td>슈퍼마켓</td>\n",
              "      <td>8</td>\n",
              "    </tr>\n",
              "    <tr>\n",
              "      <th>2</th>\n",
              "      <td>강원</td>\n",
              "      <td>강릉시</td>\n",
              "      <td>한식 음식점업</td>\n",
              "      <td>7</td>\n",
              "    </tr>\n",
              "    <tr>\n",
              "      <th>3</th>\n",
              "      <td>강원</td>\n",
              "      <td>강릉시</td>\n",
              "      <td>기타 대형 종합 소매업</td>\n",
              "      <td>5</td>\n",
              "    </tr>\n",
              "    <tr>\n",
              "      <th>4</th>\n",
              "      <td>강원</td>\n",
              "      <td>강릉시</td>\n",
              "      <td>기타음식료품위주종합소매업</td>\n",
              "      <td>5</td>\n",
              "    </tr>\n",
              "  </tbody>\n",
              "</table>\n",
              "</div>"
            ],
            "text/plain": [
              "  CARD_SIDO_NM CARD_CCG_NM    STD_CLSS_NM  count\n",
              "0           강원         강릉시        체인화 편의점     11\n",
              "1           강원         강릉시           슈퍼마켓      8\n",
              "2           강원         강릉시        한식 음식점업      7\n",
              "3           강원         강릉시   기타 대형 종합 소매업      5\n",
              "4           강원         강릉시  기타음식료품위주종합소매업      5"
            ]
          },
          "metadata": {
            "tags": []
          },
          "execution_count": 22
        }
      ]
    },
    {
      "cell_type": "code",
      "metadata": {
        "id": "7dzcEVVc3U_5",
        "colab_type": "code",
        "colab": {
          "base_uri": "https://localhost:8080/",
          "height": 204
        },
        "outputId": "5f944856-c940-416e-c228-a2cfd728fec5"
      },
      "source": [
        "city_sum = city_count.groupby(['CARD_SIDO_NM', 'STD_CLSS_NM'])['count'].sum().reset_index(name='sum')\n",
        "city_sum.head()"
      ],
      "execution_count": 23,
      "outputs": [
        {
          "output_type": "execute_result",
          "data": {
            "text/html": [
              "<div>\n",
              "<style scoped>\n",
              "    .dataframe tbody tr th:only-of-type {\n",
              "        vertical-align: middle;\n",
              "    }\n",
              "\n",
              "    .dataframe tbody tr th {\n",
              "        vertical-align: top;\n",
              "    }\n",
              "\n",
              "    .dataframe thead th {\n",
              "        text-align: right;\n",
              "    }\n",
              "</style>\n",
              "<table border=\"1\" class=\"dataframe\">\n",
              "  <thead>\n",
              "    <tr style=\"text-align: right;\">\n",
              "      <th></th>\n",
              "      <th>CARD_SIDO_NM</th>\n",
              "      <th>STD_CLSS_NM</th>\n",
              "      <th>sum</th>\n",
              "    </tr>\n",
              "  </thead>\n",
              "  <tbody>\n",
              "    <tr>\n",
              "      <th>0</th>\n",
              "      <td>강원</td>\n",
              "      <td>골프장 운영업</td>\n",
              "      <td>1</td>\n",
              "    </tr>\n",
              "    <tr>\n",
              "      <th>1</th>\n",
              "      <td>강원</td>\n",
              "      <td>과실 및 채소 소매업</td>\n",
              "      <td>1</td>\n",
              "    </tr>\n",
              "    <tr>\n",
              "      <th>2</th>\n",
              "      <td>강원</td>\n",
              "      <td>그외 기타 종합 소매업</td>\n",
              "      <td>2</td>\n",
              "    </tr>\n",
              "    <tr>\n",
              "      <th>3</th>\n",
              "      <td>강원</td>\n",
              "      <td>기타 대형 종합 소매업</td>\n",
              "      <td>28</td>\n",
              "    </tr>\n",
              "    <tr>\n",
              "      <th>4</th>\n",
              "      <td>강원</td>\n",
              "      <td>기타 외국식 음식점업</td>\n",
              "      <td>22</td>\n",
              "    </tr>\n",
              "  </tbody>\n",
              "</table>\n",
              "</div>"
            ],
            "text/plain": [
              "  CARD_SIDO_NM   STD_CLSS_NM  sum\n",
              "0           강원       골프장 운영업    1\n",
              "1           강원   과실 및 채소 소매업    1\n",
              "2           강원  그외 기타 종합 소매업    2\n",
              "3           강원  기타 대형 종합 소매업   28\n",
              "4           강원   기타 외국식 음식점업   22"
            ]
          },
          "metadata": {
            "tags": []
          },
          "execution_count": 23
        }
      ]
    },
    {
      "cell_type": "code",
      "metadata": {
        "id": "g1H73Co5ycC1",
        "colab_type": "code",
        "colab": {}
      },
      "source": [
        ""
      ],
      "execution_count": 1,
      "outputs": []
    },
    {
      "cell_type": "code",
      "metadata": {
        "id": "puYkgWZBycFE",
        "colab_type": "code",
        "colab": {}
      },
      "source": [
        ""
      ],
      "execution_count": null,
      "outputs": []
    }
  ]
}