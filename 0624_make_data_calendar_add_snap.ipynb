{
 "cells": [
  {
   "cell_type": "code",
   "execution_count": 1,
   "metadata": {},
   "outputs": [],
   "source": [
    "import pandas as pd \n",
    "import numpy as np\n",
    "\n",
    "from  datetime import datetime, timedelta\n",
    "import gc\n",
    "import numpy as np, pandas as pd\n",
    "import lightgbm as lgb"
   ]
  },
  {
   "cell_type": "code",
   "execution_count": 4,
   "metadata": {},
   "outputs": [
    {
     "name": "stdout",
     "output_type": "stream",
     "text": [
      "C:\\Eric\\M5_Data\\calendar.csv\n",
      "C:\\Eric\\M5_Data\\disaster_minji.csv\n",
      "C:\\Eric\\M5_Data\\sales_train_evaluation.csv\n",
      "C:\\Eric\\M5_Data\\sales_train_validation.csv\n",
      "C:\\Eric\\M5_Data\\sample_submission.csv\n",
      "C:\\Eric\\M5_Data\\sell_prices.csv\n",
      "C:\\Eric\\M5_Data\\SNAP_CA.csv\n",
      "C:\\Eric\\M5_Data\\SNAP_TX.csv\n",
      "C:\\Eric\\M5_Data\\SNAP_WI.csv\n"
     ]
    }
   ],
   "source": [
    "import os\n",
    "for dirname, _, filenames in os.walk('C:\\Eric\\M5_Data'):\n",
    "    for filename in filenames:\n",
    "        print(os.path.join(dirname, filename))"
   ]
  },
  {
   "cell_type": "code",
   "execution_count": 6,
   "metadata": {},
   "outputs": [],
   "source": [
    "SNAP_pl_ca = pd.read_csv(\"C:\\Eric\\M5_Data\\SNAP_CA.csv\")\n",
    "SNAP_pl_tx = pd.read_csv(\"C:\\Eric\\M5_Data\\SNAP_TX.csv\")\n",
    "SNAP_pl_wi = pd.read_csv(\"C:\\Eric\\M5_Data\\SNAP_WI.csv\")"
   ]
  },
  {
   "cell_type": "code",
   "execution_count": 7,
   "metadata": {},
   "outputs": [],
   "source": [
    "def reduce_mem_usage(df, verbose=True):\n",
    "    numerics = ['int16', 'int32', 'int64', 'float16', 'float32', 'float64']\n",
    "    start_mem = df.memory_usage().sum() / 1024**2\n",
    "    for col in df.columns:\n",
    "        col_type = df[col].dtypes\n",
    "        if col_type in numerics:\n",
    "            c_min = df[col].min()\n",
    "            c_max = df[col].max()\n",
    "            if str(col_type)[:3] == 'int':\n",
    "                if c_min > np.iinfo(np.int8).min and c_max < np.iinfo(np.int8).max:\n",
    "                    df[col] = df[col].astype(np.int8)\n",
    "                elif c_min > np.iinfo(np.int16).min and c_max < np.iinfo(np.int16).max:\n",
    "                    df[col] = df[col].astype(np.int16)\n",
    "                elif c_min > np.iinfo(np.int32).min and c_max < np.iinfo(np.int32).max:\n",
    "                    df[col] = df[col].astype(np.int32)\n",
    "                elif c_min > np.iinfo(np.int64).min and c_max < np.iinfo(np.int64).max:\n",
    "                    df[col] = df[col].astype(np.int64)\n",
    "            else:\n",
    "                if c_min > np.finfo(np.float16).min and c_max < np.finfo(np.float16).max:\n",
    "                    df[col] = df[col].astype(np.float16)\n",
    "                elif c_min > np.finfo(np.float32).min and c_max < np.finfo(np.float32).max:\n",
    "                    df[col] = df[col].astype(np.float32)\n",
    "                else:\n",
    "                    df[col] = df[col].astype(np.float64)\n",
    "\n",
    "    end_mem = df.memory_usage().sum() / 1024**2\n",
    "    print('Memory usage after optimization is: {:.2f} MB'.format(end_mem))\n",
    "    print('Decreased by {:.1f}%'.format(100 * (start_mem - end_mem) / start_mem))\n",
    "\n",
    "    return df\n",
    "\n",
    "#\n",
    "# reduce_mem_usage(SNAP_pl_ca)\n",
    "# reduce_mem_usage(SNAP_pl_tx)\n",
    "# reduce_mem_usage(SNAP_pl_wi)\n"
   ]
  },
  {
   "cell_type": "code",
   "execution_count": 11,
   "metadata": {},
   "outputs": [],
   "source": [
    "SNAP_pl_ca.columns = ['date', 'recipient']\n",
    "SNAP_pl_wi.columns = ['date', 'recipient']\n",
    "SNAP_pl_tx.columns = ['date', 'recipient']"
   ]
  },
  {
   "cell_type": "code",
   "execution_count": 12,
   "metadata": {},
   "outputs": [],
   "source": [
    "SNAP_pl_ca['date'] = pd.to_datetime(SNAP_pl_ca.date, errors='coerce')\n",
    "SNAP_pl_wi['date'] = pd.to_datetime(SNAP_pl_wi.date, errors='coerce')\n",
    "SNAP_pl_tx['date'] = pd.to_datetime(SNAP_pl_tx.date, errors='coerce')\n"
   ]
  },
  {
   "cell_type": "code",
   "execution_count": 13,
   "metadata": {},
   "outputs": [],
   "source": [
    "SNAP_pl_ca['date_month'] = SNAP_pl_ca['date'].dt.strftime('%m')\n",
    "SNAP_pl_wi['date_month'] = SNAP_pl_wi['date'].dt.strftime('%m')\n",
    "SNAP_pl_tx['date_month'] = SNAP_pl_tx['date'].dt.strftime('%m')"
   ]
  },
  {
   "cell_type": "code",
   "execution_count": 14,
   "metadata": {},
   "outputs": [],
   "source": [
    "SNAP_pl_ca['date_year'] = SNAP_pl_ca['date'].dt.strftime('%Y')\n",
    "SNAP_pl_wi['date_year'] = SNAP_pl_wi['date'].dt.strftime('%Y')\n",
    "SNAP_pl_tx['date_year'] = SNAP_pl_tx['date'].dt.strftime('%Y')"
   ]
  },
  {
   "cell_type": "code",
   "execution_count": 15,
   "metadata": {},
   "outputs": [],
   "source": [
    "\n",
    "# CA type change \n",
    "SNAP_pl_ca.date_month = pd.to_numeric(SNAP_pl_ca.date_month)\n",
    "SNAP_pl_ca.date_year = pd.to_numeric(SNAP_pl_ca.date_year)\n",
    "# WI type change \n",
    "SNAP_pl_ca.date_month = pd.to_numeric(SNAP_pl_wi.date_month)\n",
    "SNAP_pl_ca.date_year = pd.to_numeric(SNAP_pl_wi.date_year)\n",
    "# TX type change \n",
    "SNAP_pl_ca.date_month = pd.to_numeric(SNAP_pl_tx.date_month)\n",
    "SNAP_pl_ca.date_year = pd.to_numeric(SNAP_pl_tx.date_year)"
   ]
  },
  {
   "cell_type": "code",
   "execution_count": 16,
   "metadata": {},
   "outputs": [],
   "source": [
    "SNAP_pl_ca = SNAP_pl_ca.rename(columns = {'date_month':'month'} )\n",
    "SNAP_pl_wi = SNAP_pl_wi.rename(columns = {'date_month':'month'} )\n",
    "SNAP_pl_tx = SNAP_pl_tx.rename(columns = {'date_month':'month'} )\n",
    "\n",
    "SNAP_pl_ca = SNAP_pl_ca.rename(columns = {'date_year':'year'} )\n",
    "SNAP_pl_wi = SNAP_pl_wi.rename(columns = {'date_year':'year'} )\n",
    "SNAP_pl_tx = SNAP_pl_tx.rename(columns = {'date_year':'year'} )"
   ]
  },
  {
   "cell_type": "code",
   "execution_count": 20,
   "metadata": {},
   "outputs": [],
   "source": [
    "SNAP_pl_wi.month = pd.to_numeric(SNAP_pl_wi.month)\n",
    "SNAP_pl_wi.year = pd.to_numeric(SNAP_pl_wi.year)\n",
    "SNAP_pl_tx.month = pd.to_numeric(SNAP_pl_tx.month)\n",
    "SNAP_pl_tx.year = pd.to_numeric(SNAP_pl_tx.year)"
   ]
  },
  {
   "cell_type": "code",
   "execution_count": 21,
   "metadata": {},
   "outputs": [],
   "source": [
    "calendar         = pd.read_csv(\"C:\\Eric\\M5_Data\\calendar.csv\")\n",
    "train_validation = pd.read_csv(\"C:\\Eric\\M5_Data\\sales_train_validation.csv\")\n",
    "sell_prices = pd.read_csv(\"C:\\Eric\\M5_Data\\sell_prices.csv\")"
   ]
  },
  {
   "cell_type": "code",
   "execution_count": 45,
   "metadata": {},
   "outputs": [
    {
     "data": {
      "text/plain": [
       "(1969, 14)"
      ]
     },
     "execution_count": 45,
     "metadata": {},
     "output_type": "execute_result"
    }
   ],
   "source": [
    "cal01 = calendar.copy()\n",
    "cal01.shape"
   ]
  },
  {
   "cell_type": "code",
   "execution_count": 46,
   "metadata": {},
   "outputs": [
    {
     "data": {
      "text/plain": [
       "(1969, 14)"
      ]
     },
     "execution_count": 46,
     "metadata": {},
     "output_type": "execute_result"
    }
   ],
   "source": [
    "cal02 = calendar.copy()\n",
    "cal02.shape"
   ]
  },
  {
   "cell_type": "code",
   "execution_count": 43,
   "metadata": {},
   "outputs": [
    {
     "data": {
      "text/plain": [
       "Index(['recipient', 'month', 'year'], dtype='object')"
      ]
     },
     "execution_count": 43,
     "metadata": {},
     "output_type": "execute_result"
    }
   ],
   "source": [
    "SNAP_pl_ca = SNAP_pl_ca.drop(['date'],axis=1)\n",
    "SNAP_pl_ca.columns"
   ]
  },
  {
   "cell_type": "code",
   "execution_count": 44,
   "metadata": {},
   "outputs": [
    {
     "data": {
      "text/plain": [
       "Index(['recipient', 'month', 'year'], dtype='object')"
      ]
     },
     "execution_count": 44,
     "metadata": {},
     "output_type": "execute_result"
    }
   ],
   "source": [
    "SNAP_pl_tx = SNAP_pl_tx.drop(['date'],axis=1)\n",
    "SNAP_pl_tx.columns\n",
    "SNAP_pl_wi = SNAP_pl_wi.drop(['date'],axis=1)\n",
    "SNAP_pl_wi.columns"
   ]
  },
  {
   "cell_type": "code",
   "execution_count": null,
   "metadata": {},
   "outputs": [],
   "source": [
    "cal02"
   ]
  },
  {
   "cell_type": "code",
   "execution_count": 47,
   "metadata": {},
   "outputs": [],
   "source": [
    "# SNAP_pl_ca 에 있는 recipient 숫자를 \"year\" & \"month\" 기준으로 cal01 데이터에 merge. \n",
    "mergex001 = pd.merge(cal02, SNAP_pl_ca, on =[\"month\",\"year\"], how=\"left\"  )"
   ]
  },
  {
   "cell_type": "code",
   "execution_count": 48,
   "metadata": {},
   "outputs": [
    {
     "data": {
      "text/plain": [
       "(1969, 15)"
      ]
     },
     "execution_count": 48,
     "metadata": {},
     "output_type": "execute_result"
    }
   ],
   "source": [
    "mergex001.shape"
   ]
  },
  {
   "cell_type": "code",
   "execution_count": 49,
   "metadata": {},
   "outputs": [],
   "source": [
    "mergex001 = mergex001.rename(columns = {'recipient':'ca_recipient'} )"
   ]
  },
  {
   "cell_type": "code",
   "execution_count": 50,
   "metadata": {},
   "outputs": [],
   "source": [
    "mergex001 = pd.merge(mergex001,SNAP_pl_wi, on =[\"month\",\"year\"], how=\"left\"  )"
   ]
  },
  {
   "cell_type": "code",
   "execution_count": 52,
   "metadata": {},
   "outputs": [],
   "source": [
    "mergex001 = mergex001.rename(columns = {'recipient':'wi_recipient'} )"
   ]
  },
  {
   "cell_type": "code",
   "execution_count": 53,
   "metadata": {},
   "outputs": [],
   "source": [
    "mergex001 = pd.merge(mergex001,SNAP_pl_tx,on =[\"month\",\"year\"], how=\"left\" )"
   ]
  },
  {
   "cell_type": "code",
   "execution_count": 54,
   "metadata": {},
   "outputs": [],
   "source": [
    "mergex001 = mergex001.rename(columns = {'recipient':'wx_recipient'} )"
   ]
  },
  {
   "cell_type": "code",
   "execution_count": 57,
   "metadata": {},
   "outputs": [
    {
     "data": {
      "text/plain": [
       "Index(['date', 'wm_yr_wk', 'weekday', 'wday', 'month', 'year', 'd',\n",
       "       'event_name_1', 'event_type_1', 'event_name_2', 'event_type_2',\n",
       "       'snap_CA', 'snap_TX', 'snap_WI', 'ca_recipient', 'wi_recipient',\n",
       "       'wx_recipient'],\n",
       "      dtype='object')"
      ]
     },
     "execution_count": 57,
     "metadata": {},
     "output_type": "execute_result"
    }
   ],
   "source": [
    "mergex001.columns"
   ]
  },
  {
   "cell_type": "code",
   "execution_count": 58,
   "metadata": {},
   "outputs": [],
   "source": [
    "mergex001.to_csv(\"calendar_add_snap.csv\",index=False)"
   ]
  },
  {
   "cell_type": "code",
   "execution_count": null,
   "metadata": {},
   "outputs": [],
   "source": []
  }
 ],
 "metadata": {
  "kernelspec": {
   "display_name": "Python 3",
   "language": "python",
   "name": "python3"
  },
  "language_info": {
   "codemirror_mode": {
    "name": "ipython",
    "version": 3
   },
   "file_extension": ".py",
   "mimetype": "text/x-python",
   "name": "python",
   "nbconvert_exporter": "python",
   "pygments_lexer": "ipython3",
   "version": "3.7.1"
  }
 },
 "nbformat": 4,
 "nbformat_minor": 2
}
