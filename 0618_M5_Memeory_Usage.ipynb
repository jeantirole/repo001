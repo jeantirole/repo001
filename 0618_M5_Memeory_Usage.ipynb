{
 "cells": [
  {
   "cell_type": "markdown",
   "metadata": {},
   "source": [
    "# Unrecognized Code \n",
    "\n",
    "np.nan : Not a number 누락값 생성 \n",
    "    \n",
    "float() : 무한값 infinity 생성 \n",
    "\n",
    "math.isfinite(값): 객체의 각 원소 단위로 NaN 또는 Infinity가 아닐 경우 True를 반환한다. \n",
    "    \n",
    "np.isfinite(array객체):  객체 또는 원소에 위의 math.isfinite와 같은 결과를 반환\n",
    "\n",
    "np.where(condition): \n",
    "\n",
    "Ex) \n",
    "np.where(x1==False)\n",
    "np.where(np.array(x1)==True) # x1 이 np array 가 아닌, list 형태일 때, array 형태로 바꿔주기 \n",
    "\n",
    "np.isposinf(array객체 또는 원소): 양의 무한값이면 True\n",
    "np.isneginf(array객체 또는 원소): 음의 무한값이면 True\n",
    "\n",
    "\n",
    "\n",
    "\n"
   ]
  },
  {
   "cell_type": "code",
   "execution_count": null,
   "metadata": {},
   "outputs": [],
   "source": []
  },
  {
   "cell_type": "code",
   "execution_count": null,
   "metadata": {},
   "outputs": [],
   "source": [
    "# Data Usage Study \n",
    "\n",
    "\n",
    "def reduce_mem_usage(props): \n",
    "\n",
    "\tstart_mem_usg = props.memory_usage().sum() / 1024**2 \n",
    "\t# 1024는 왜 나누는 거지? \n",
    "\n",
    "\tprint(\"Memory usage of properties dataframe is : \", start_mem_usg, \"MB\" ) \n",
    "\n",
    "\tNAlist = [] # Missing value 저장용 \n",
    "\n",
    "\tfor col in props.columns: \n",
    "\t\tif props[col].dtype != object: # Exclude strings \n",
    "\n",
    "\t\t#print current column type \n",
    "\t\tprint(\"***\")\n",
    "\t\tprint(\"Column: \", col) \n",
    "\t\tprint(\"dtype before: \", props[col].dtype) \n",
    "\n",
    "\t# make variables for Int, max and min \n",
    "\tIsInt = False \n",
    "\n",
    "\tmx = props[col].max()\n",
    "\tmn = props[col].min()\n",
    "    \n",
    "    \n",
    "    # Integer does not support NA, therefore, Na needs to be filled. \n",
    "    if not np.isfinite(props[col]).all(): \n",
    "        NAlist.append(col)\n",
    "        props[col].fillna(mn-1, inplace=True)\n",
    "        \n",
    "        \n",
    "        \n",
    "\n",
    "\n",
    "\n",
    "\n"
   ]
  },
  {
   "cell_type": "markdown",
   "metadata": {},
   "source": [
    "# 평가 기준 Metrics "
   ]
  },
  {
   "cell_type": "code",
   "execution_count": null,
   "metadata": {},
   "outputs": [],
   "source": [
    "MSE : Mean Squared Error \n",
    "\n",
    "RMSE : Root Mean Squared Error \n",
    "\n",
    "RMLSE : L = \"log\" # +1 을 해주는 것은, log 가 0에 가까워지면은 무한대로 커지기 떄문에. \n",
    "    \n",
    "MAPE : Mean Absolute Percentage Error\n",
    "    \n",
    "MAE: Mean Absolute Error "
   ]
  },
  {
   "cell_type": "markdown",
   "metadata": {},
   "source": [
    "# Confustion Metrix "
   ]
  },
  {
   "cell_type": "code",
   "execution_count": null,
   "metadata": {},
   "outputs": [],
   "source": [
    "True Positive False Positive\n",
    "\n",
    "False Negative False Negative \n",
    "\n",
    "\n",
    "Tips :   \n",
    "\n",
    "[True, False] : 맞췄나 못맞췄나 \n",
    "[Positive, Negative] : 예측을 무엇으로 하였나 \n",
    "    \n",
    "\n",
    "Accuracy : TP + TF / ALL\n",
    "    \n",
    "\n",
    "Ex) 데이터가 편중되어 있는 경우에, Accuracy 를 신뢰할 수 없음 \n",
    "    오렌지만 예측하는 모델에 샘플을 오렌지 95개와 사과 5개를 준 경우를 가정 \n",
    "    \n",
    "\n",
    "=========================================       \n",
    "1) Precision(정밀도) : TP / (TP+FP)\n",
    "    \n",
    "Desc) Positive 로 예측 한 것 중에, True 인 비율 \n",
    "\n",
    "\n",
    "==========================================\n",
    "2) Sensitiviy(민감도) : TP / (TP+FN) = TP rate \n",
    "    \n",
    "Desc) 실제 Postivie 일 때, True 인 비율 \n",
    "Ex ) ROC Curve 의 좌상향 기울기, AUC 면적 = 곡선 아래의 크기 \n",
    "\n",
    "\n",
    "3) Specificity(특이도) : TN / (FP+TN)\n",
    "    \n",
    "Desc) 실제 Negative 일 때, True 인 비율 \n",
    "==========================================\n",
    "\n",
    "4) FPrate \n",
    "\n",
    "Desc) 실제 Negative 일 때, False 인 비율 \n",
    "Ex) 1- Specificity = FPrate \n",
    "\n",
    "\n",
    "민감도 & 특이도 는,, 자료 자체의 Positive 값에 관심이 많다. \n",
    "\n",
    "정확도 는,, 내가 예측을 했을 때 맞췄을 비율이다. 결국 주체의 판단 행동에 더 기준을 둔다. \n",
    "\n",
    "==========================================\n",
    "\n",
    "FPS 게임에 비유를 하자면은, \n",
    "\n",
    "\n",
    "내가 총을 쏘았을 때, 몇 발을 맞추었는가? = 정확도 \n",
    "\n",
    "내가 총을 쏘아서 맞추었는데, 그걸 맞췄다고 예측한 경우 = 민감도\n",
    "\n",
    "내가 총을 쏘아서 못 맞추었는데, 그걸 못맞췄다고 예측한 경우 = 특이도 \n",
    "\n",
    "\n",
    "\n",
    "F1 Score = 정밀도와 민감도의 평균 \n",
    "\n",
    "\n",
    "\n"
   ]
  },
  {
   "cell_type": "code",
   "execution_count": null,
   "metadata": {},
   "outputs": [],
   "source": []
  },
  {
   "cell_type": "code",
   "execution_count": null,
   "metadata": {},
   "outputs": [],
   "source": []
  },
  {
   "cell_type": "code",
   "execution_count": null,
   "metadata": {},
   "outputs": [],
   "source": []
  },
  {
   "cell_type": "code",
   "execution_count": null,
   "metadata": {},
   "outputs": [],
   "source": []
  },
  {
   "cell_type": "code",
   "execution_count": null,
   "metadata": {},
   "outputs": [],
   "source": []
  },
  {
   "cell_type": "code",
   "execution_count": null,
   "metadata": {},
   "outputs": [],
   "source": []
  },
  {
   "cell_type": "code",
   "execution_count": null,
   "metadata": {},
   "outputs": [],
   "source": []
  },
  {
   "cell_type": "code",
   "execution_count": null,
   "metadata": {},
   "outputs": [],
   "source": []
  },
  {
   "cell_type": "code",
   "execution_count": null,
   "metadata": {},
   "outputs": [],
   "source": []
  },
  {
   "cell_type": "code",
   "execution_count": null,
   "metadata": {},
   "outputs": [],
   "source": []
  },
  {
   "cell_type": "code",
   "execution_count": null,
   "metadata": {},
   "outputs": [],
   "source": []
  },
  {
   "cell_type": "code",
   "execution_count": null,
   "metadata": {},
   "outputs": [],
   "source": []
  },
  {
   "cell_type": "code",
   "execution_count": null,
   "metadata": {},
   "outputs": [],
   "source": []
  },
  {
   "cell_type": "code",
   "execution_count": null,
   "metadata": {},
   "outputs": [],
   "source": []
  },
  {
   "cell_type": "code",
   "execution_count": null,
   "metadata": {},
   "outputs": [],
   "source": []
  },
  {
   "cell_type": "code",
   "execution_count": null,
   "metadata": {},
   "outputs": [],
   "source": []
  },
  {
   "cell_type": "code",
   "execution_count": null,
   "metadata": {},
   "outputs": [],
   "source": []
  },
  {
   "cell_type": "code",
   "execution_count": null,
   "metadata": {},
   "outputs": [],
   "source": []
  },
  {
   "cell_type": "code",
   "execution_count": null,
   "metadata": {},
   "outputs": [],
   "source": []
  },
  {
   "cell_type": "code",
   "execution_count": null,
   "metadata": {},
   "outputs": [],
   "source": []
  },
  {
   "cell_type": "code",
   "execution_count": null,
   "metadata": {},
   "outputs": [],
   "source": []
  },
  {
   "cell_type": "code",
   "execution_count": null,
   "metadata": {},
   "outputs": [],
   "source": []
  },
  {
   "cell_type": "code",
   "execution_count": null,
   "metadata": {},
   "outputs": [],
   "source": []
  },
  {
   "cell_type": "code",
   "execution_count": null,
   "metadata": {},
   "outputs": [],
   "source": []
  },
  {
   "cell_type": "code",
   "execution_count": null,
   "metadata": {},
   "outputs": [],
   "source": []
  }
 ],
 "metadata": {
  "kernelspec": {
   "display_name": "Python 3",
   "language": "python",
   "name": "python3"
  },
  "language_info": {
   "codemirror_mode": {
    "name": "ipython",
    "version": 3
   },
   "file_extension": ".py",
   "mimetype": "text/x-python",
   "name": "python",
   "nbconvert_exporter": "python",
   "pygments_lexer": "ipython3",
   "version": "3.7.1"
  }
 },
 "nbformat": 4,
 "nbformat_minor": 2
}
